{
 "cells": [
  {
   "cell_type": "code",
   "execution_count": 336,
   "metadata": {},
   "outputs": [],
   "source": [
    "import magpylib as magpy\n",
    "import numpy as np\n",
    "import matplotlib.pyplot as plt\n",
    "\n",
    "from scipy.spatial.transform import Rotation as R"
   ]
  },
  {
   "cell_type": "code",
   "execution_count": 337,
   "metadata": {},
   "outputs": [
    {
     "data": {
      "text/plain": [
       "2"
      ]
     },
     "execution_count": 337,
     "metadata": {},
     "output_type": "execute_result"
    }
   ],
   "source": [
    "\n",
    " len(angles)\n",
    " "
   ]
  },
  {
   "cell_type": "code",
   "execution_count": 338,
   "metadata": {},
   "outputs": [
    {
     "data": {
      "application/vnd.plotly.v1+json": {
       "config": {
        "plotlyServerURL": "https://plot.ly"
       },
       "data": [
        {
         "color": "#2e91e5",
         "colorscale": [
          [
           0,
           "#00b050"
          ],
          [
           0.16,
           "#00b050"
          ],
          [
           0.26,
           "#dddddd"
          ],
          [
           0.74,
           "#dddddd"
          ],
          [
           0.8400000000000001,
           "#e71111"
          ],
          [
           1,
           "#e71111"
          ]
         ],
         "i": [
          7,
          0,
          0,
          0,
          4,
          4,
          2,
          6,
          4,
          0,
          3,
          7,
          15,
          8,
          8,
          8,
          12,
          12,
          10,
          14,
          12,
          8,
          11,
          15,
          23,
          16,
          16,
          16,
          20,
          20,
          18,
          22,
          20,
          16,
          19,
          23,
          31,
          24,
          24,
          24,
          28,
          28,
          26,
          30,
          28,
          24,
          27,
          31,
          39,
          32,
          32,
          32,
          36,
          36,
          34,
          38,
          36,
          32,
          35,
          39,
          47,
          40,
          40,
          40,
          44,
          44,
          42,
          46,
          44,
          40,
          43,
          47,
          55,
          48,
          48,
          48,
          52,
          52,
          50,
          54,
          52,
          48,
          51,
          55,
          63,
          56,
          56,
          56,
          60,
          60,
          58,
          62,
          60,
          56,
          59,
          63,
          71,
          64,
          64,
          64,
          68,
          68,
          66,
          70,
          68,
          64,
          67,
          71,
          79,
          72,
          72,
          72,
          76,
          76,
          74,
          78,
          76,
          72,
          75,
          79
         ],
         "intensity": [
          0,
          0,
          1,
          1,
          0,
          0,
          1,
          1,
          0,
          0,
          1,
          1,
          0,
          0,
          1,
          1,
          0,
          0,
          1,
          1,
          0,
          0,
          1,
          1,
          0,
          0,
          1,
          1,
          0,
          0,
          1,
          1,
          0,
          0,
          1,
          1,
          0,
          0,
          1,
          1,
          0,
          0,
          1,
          1,
          0,
          0,
          1,
          1,
          0,
          0,
          1,
          1,
          0,
          0,
          1,
          1,
          0,
          0,
          1,
          1,
          0,
          0,
          1,
          1,
          0,
          0,
          1,
          1,
          0,
          0,
          1,
          1,
          0,
          0,
          1,
          1,
          0,
          0,
          1,
          1
         ],
         "j": [
          0,
          7,
          1,
          2,
          6,
          7,
          1,
          2,
          5,
          5,
          2,
          2,
          8,
          15,
          9,
          10,
          14,
          15,
          9,
          10,
          13,
          13,
          10,
          10,
          16,
          23,
          17,
          18,
          22,
          23,
          17,
          18,
          21,
          21,
          18,
          18,
          24,
          31,
          25,
          26,
          30,
          31,
          25,
          26,
          29,
          29,
          26,
          26,
          32,
          39,
          33,
          34,
          38,
          39,
          33,
          34,
          37,
          37,
          34,
          34,
          40,
          47,
          41,
          42,
          46,
          47,
          41,
          42,
          45,
          45,
          42,
          42,
          48,
          55,
          49,
          50,
          54,
          55,
          49,
          50,
          53,
          53,
          50,
          50,
          56,
          63,
          57,
          58,
          62,
          63,
          57,
          58,
          61,
          61,
          58,
          58,
          64,
          71,
          65,
          66,
          70,
          71,
          65,
          66,
          69,
          69,
          66,
          66,
          72,
          79,
          73,
          74,
          78,
          79,
          73,
          74,
          77,
          77,
          74,
          74
         ],
         "k": [
          3,
          4,
          2,
          3,
          5,
          6,
          5,
          5,
          0,
          1,
          7,
          6,
          11,
          12,
          10,
          11,
          13,
          14,
          13,
          13,
          8,
          9,
          15,
          14,
          19,
          20,
          18,
          19,
          21,
          22,
          21,
          21,
          16,
          17,
          23,
          22,
          27,
          28,
          26,
          27,
          29,
          30,
          29,
          29,
          24,
          25,
          31,
          30,
          35,
          36,
          34,
          35,
          37,
          38,
          37,
          37,
          32,
          33,
          39,
          38,
          43,
          44,
          42,
          43,
          45,
          46,
          45,
          45,
          40,
          41,
          47,
          46,
          51,
          52,
          50,
          51,
          53,
          54,
          53,
          53,
          48,
          49,
          55,
          54,
          59,
          60,
          58,
          59,
          61,
          62,
          61,
          61,
          56,
          57,
          63,
          62,
          67,
          68,
          66,
          67,
          69,
          70,
          69,
          69,
          64,
          65,
          71,
          70,
          75,
          76,
          74,
          75,
          77,
          78,
          77,
          77,
          72,
          73,
          79,
          78
         ],
         "legendgroup": "Collection(id=1588655138592)",
         "name": "Collection (10 sources)",
         "opacity": 1,
         "showlegend": true,
         "showscale": false,
         "type": "mesh3d",
         "x": [
          -64,
          -64,
          64,
          64,
          -64,
          -64,
          64,
          64,
          -64,
          -64,
          64,
          64,
          -64,
          -64,
          64,
          64,
          -64.00000000000001,
          -64.00000000000001,
          64.00000000000001,
          64.00000000000001,
          -64.00000000000001,
          -64.00000000000001,
          64.00000000000001,
          64.00000000000001,
          -64.00000000000001,
          -64.00000000000001,
          64.00000000000001,
          64.00000000000001,
          -64.00000000000001,
          -64.00000000000001,
          64.00000000000001,
          64.00000000000001,
          -64.00000000000001,
          -64.00000000000001,
          64.00000000000001,
          64.00000000000001,
          -64.00000000000001,
          -64.00000000000001,
          64.00000000000001,
          64.00000000000001,
          -64,
          -64,
          64,
          64,
          -64,
          -64,
          64,
          64,
          -64,
          -64,
          64,
          64,
          -64,
          -64,
          64,
          64,
          -64.00000000000001,
          -64.00000000000001,
          64.00000000000001,
          64.00000000000001,
          -64.00000000000001,
          -64.00000000000001,
          64.00000000000001,
          64.00000000000001,
          -64,
          -64,
          64,
          64,
          -64,
          -64,
          64,
          64,
          -64.00000000000001,
          -64.00000000000001,
          64.00000000000001,
          64.00000000000001,
          -64.00000000000001,
          -64.00000000000001,
          64.00000000000001,
          64.00000000000001
         ],
         "y": [
          17,
          23,
          23,
          17,
          17,
          23,
          23,
          17,
          18.106458453259563,
          19.96056041950925,
          19.96056041950925,
          18.106458453259563,
          12.400119355488641,
          14.254221321738328,
          14.254221321738328,
          12.400119355488641,
          10.370746627501212,
          5.516644661251526,
          5.516644661251526,
          10.370746627501212,
          6.844035113746372,
          1.9899331474966866,
          1.9899331474966866,
          6.844035113746372,
          -5.516644661251526,
          -10.370746627501212,
          -10.370746627501212,
          -5.516644661251526,
          -1.9899331474966866,
          -6.844035113746372,
          -6.844035113746372,
          -1.9899331474966866,
          -19.960560419509257,
          -18.10645845325957,
          -18.10645845325957,
          -19.960560419509257,
          -14.254221321738333,
          -12.400119355488648,
          -12.400119355488648,
          -14.254221321738333,
          -23,
          -17,
          -17,
          -23,
          -23,
          -17,
          -17,
          -23,
          -14.254221321738335,
          -12.400119355488648,
          -12.400119355488648,
          -14.254221321738335,
          -19.960560419509257,
          -18.10645845325957,
          -18.10645845325957,
          -19.960560419509257,
          -1.9899331474966875,
          -6.844035113746372,
          -6.844035113746372,
          -1.9899331474966875,
          -5.516644661251529,
          -10.370746627501214,
          -10.370746627501214,
          -5.516644661251529,
          6.844035113746369,
          1.9899331474966822,
          1.9899331474966822,
          6.844035113746369,
          10.370746627501205,
          5.516644661251519,
          5.516644661251519,
          10.370746627501205,
          12.400119355488641,
          14.254221321738324,
          14.254221321738324,
          12.400119355488641,
          18.106458453259567,
          19.96056041950925,
          19.96056041950925,
          18.106458453259567
         ],
         "z": [
          -3,
          -3,
          -3,
          -3,
          3,
          3,
          3,
          3,
          7.975484513839157,
          13.681823611610078,
          13.681823611610078,
          7.975484513839157,
          9.829586480088842,
          15.535925577859764,
          15.535925577859764,
          9.829586480088842,
          19.684825552150496,
          23.211537065905336,
          23.211537065905336,
          19.684825552150496,
          14.83072358590081,
          18.35743509965565,
          18.35743509965565,
          14.83072358590081,
          23.211537065905336,
          19.684825552150496,
          19.684825552150496,
          23.211537065905336,
          18.35743509965565,
          14.83072358590081,
          14.83072358590081,
          18.35743509965565,
          13.681823611610085,
          7.975484513839162,
          7.975484513839162,
          13.681823611610085,
          15.535925577859768,
          9.829586480088846,
          9.829586480088846,
          15.535925577859768,
          -2.9999999999999964,
          -2.9999999999999982,
          -2.9999999999999982,
          -2.9999999999999964,
          3.0000000000000036,
          3.0000000000000018,
          3.0000000000000018,
          3.0000000000000036,
          -15.535925577859764,
          -9.829586480088842,
          -9.829586480088842,
          -15.535925577859764,
          -13.681823611610078,
          -7.975484513839156,
          -7.975484513839156,
          -13.681823611610078,
          -18.357435099655646,
          -14.830723585900806,
          -14.830723585900806,
          -18.357435099655646,
          -23.211537065905333,
          -19.684825552150492,
          -19.684825552150492,
          -23.211537065905333,
          -14.830723585900811,
          -18.357435099655646,
          -18.357435099655646,
          -14.830723585900811,
          -19.6848255521505,
          -23.211537065905333,
          -23.211537065905333,
          -19.6848255521505,
          -9.829586480088844,
          -15.535925577859768,
          -15.535925577859768,
          -9.829586480088844,
          -7.975484513839162,
          -13.681823611610087,
          -13.681823611610087,
          -7.975484513839162
         ]
        }
       ],
       "layout": {
        "legend": {
         "itemsizing": "constant"
        },
        "scene": {
         "aspectmode": "manual",
         "aspectratio": {
          "x": 1,
          "y": 1,
          "z": 1
         },
         "camera": {
          "eye": {
           "x": 1,
           "y": -1.5,
           "z": 1.4
          }
         },
         "xaxis": {
          "autorange": false,
          "range": [
           -64.00000000000001,
           64.00000000000001
          ],
          "title": {
           "text": "x (m)"
          }
         },
         "yaxis": {
          "autorange": false,
          "range": [
           -64.00000000000001,
           64.00000000000001
          ],
          "title": {
           "text": "y (m)"
          }
         },
         "zaxis": {
          "autorange": false,
          "range": [
           -64.00000000000001,
           64.00000000000001
          ],
          "title": {
           "text": "z (m)"
          }
         }
        },
        "template": {
         "data": {
          "bar": [
           {
            "error_x": {
             "color": "#2a3f5f"
            },
            "error_y": {
             "color": "#2a3f5f"
            },
            "marker": {
             "line": {
              "color": "#E5ECF6",
              "width": 0.5
             },
             "pattern": {
              "fillmode": "overlay",
              "size": 10,
              "solidity": 0.2
             }
            },
            "type": "bar"
           }
          ],
          "barpolar": [
           {
            "marker": {
             "line": {
              "color": "#E5ECF6",
              "width": 0.5
             },
             "pattern": {
              "fillmode": "overlay",
              "size": 10,
              "solidity": 0.2
             }
            },
            "type": "barpolar"
           }
          ],
          "carpet": [
           {
            "aaxis": {
             "endlinecolor": "#2a3f5f",
             "gridcolor": "white",
             "linecolor": "white",
             "minorgridcolor": "white",
             "startlinecolor": "#2a3f5f"
            },
            "baxis": {
             "endlinecolor": "#2a3f5f",
             "gridcolor": "white",
             "linecolor": "white",
             "minorgridcolor": "white",
             "startlinecolor": "#2a3f5f"
            },
            "type": "carpet"
           }
          ],
          "choropleth": [
           {
            "colorbar": {
             "outlinewidth": 0,
             "ticks": ""
            },
            "type": "choropleth"
           }
          ],
          "contour": [
           {
            "colorbar": {
             "outlinewidth": 0,
             "ticks": ""
            },
            "colorscale": [
             [
              0,
              "#0d0887"
             ],
             [
              0.1111111111111111,
              "#46039f"
             ],
             [
              0.2222222222222222,
              "#7201a8"
             ],
             [
              0.3333333333333333,
              "#9c179e"
             ],
             [
              0.4444444444444444,
              "#bd3786"
             ],
             [
              0.5555555555555556,
              "#d8576b"
             ],
             [
              0.6666666666666666,
              "#ed7953"
             ],
             [
              0.7777777777777778,
              "#fb9f3a"
             ],
             [
              0.8888888888888888,
              "#fdca26"
             ],
             [
              1,
              "#f0f921"
             ]
            ],
            "type": "contour"
           }
          ],
          "contourcarpet": [
           {
            "colorbar": {
             "outlinewidth": 0,
             "ticks": ""
            },
            "type": "contourcarpet"
           }
          ],
          "heatmap": [
           {
            "colorbar": {
             "outlinewidth": 0,
             "ticks": ""
            },
            "colorscale": [
             [
              0,
              "#0d0887"
             ],
             [
              0.1111111111111111,
              "#46039f"
             ],
             [
              0.2222222222222222,
              "#7201a8"
             ],
             [
              0.3333333333333333,
              "#9c179e"
             ],
             [
              0.4444444444444444,
              "#bd3786"
             ],
             [
              0.5555555555555556,
              "#d8576b"
             ],
             [
              0.6666666666666666,
              "#ed7953"
             ],
             [
              0.7777777777777778,
              "#fb9f3a"
             ],
             [
              0.8888888888888888,
              "#fdca26"
             ],
             [
              1,
              "#f0f921"
             ]
            ],
            "type": "heatmap"
           }
          ],
          "heatmapgl": [
           {
            "colorbar": {
             "outlinewidth": 0,
             "ticks": ""
            },
            "colorscale": [
             [
              0,
              "#0d0887"
             ],
             [
              0.1111111111111111,
              "#46039f"
             ],
             [
              0.2222222222222222,
              "#7201a8"
             ],
             [
              0.3333333333333333,
              "#9c179e"
             ],
             [
              0.4444444444444444,
              "#bd3786"
             ],
             [
              0.5555555555555556,
              "#d8576b"
             ],
             [
              0.6666666666666666,
              "#ed7953"
             ],
             [
              0.7777777777777778,
              "#fb9f3a"
             ],
             [
              0.8888888888888888,
              "#fdca26"
             ],
             [
              1,
              "#f0f921"
             ]
            ],
            "type": "heatmapgl"
           }
          ],
          "histogram": [
           {
            "marker": {
             "pattern": {
              "fillmode": "overlay",
              "size": 10,
              "solidity": 0.2
             }
            },
            "type": "histogram"
           }
          ],
          "histogram2d": [
           {
            "colorbar": {
             "outlinewidth": 0,
             "ticks": ""
            },
            "colorscale": [
             [
              0,
              "#0d0887"
             ],
             [
              0.1111111111111111,
              "#46039f"
             ],
             [
              0.2222222222222222,
              "#7201a8"
             ],
             [
              0.3333333333333333,
              "#9c179e"
             ],
             [
              0.4444444444444444,
              "#bd3786"
             ],
             [
              0.5555555555555556,
              "#d8576b"
             ],
             [
              0.6666666666666666,
              "#ed7953"
             ],
             [
              0.7777777777777778,
              "#fb9f3a"
             ],
             [
              0.8888888888888888,
              "#fdca26"
             ],
             [
              1,
              "#f0f921"
             ]
            ],
            "type": "histogram2d"
           }
          ],
          "histogram2dcontour": [
           {
            "colorbar": {
             "outlinewidth": 0,
             "ticks": ""
            },
            "colorscale": [
             [
              0,
              "#0d0887"
             ],
             [
              0.1111111111111111,
              "#46039f"
             ],
             [
              0.2222222222222222,
              "#7201a8"
             ],
             [
              0.3333333333333333,
              "#9c179e"
             ],
             [
              0.4444444444444444,
              "#bd3786"
             ],
             [
              0.5555555555555556,
              "#d8576b"
             ],
             [
              0.6666666666666666,
              "#ed7953"
             ],
             [
              0.7777777777777778,
              "#fb9f3a"
             ],
             [
              0.8888888888888888,
              "#fdca26"
             ],
             [
              1,
              "#f0f921"
             ]
            ],
            "type": "histogram2dcontour"
           }
          ],
          "mesh3d": [
           {
            "colorbar": {
             "outlinewidth": 0,
             "ticks": ""
            },
            "type": "mesh3d"
           }
          ],
          "parcoords": [
           {
            "line": {
             "colorbar": {
              "outlinewidth": 0,
              "ticks": ""
             }
            },
            "type": "parcoords"
           }
          ],
          "pie": [
           {
            "automargin": true,
            "type": "pie"
           }
          ],
          "scatter": [
           {
            "fillpattern": {
             "fillmode": "overlay",
             "size": 10,
             "solidity": 0.2
            },
            "type": "scatter"
           }
          ],
          "scatter3d": [
           {
            "line": {
             "colorbar": {
              "outlinewidth": 0,
              "ticks": ""
             }
            },
            "marker": {
             "colorbar": {
              "outlinewidth": 0,
              "ticks": ""
             }
            },
            "type": "scatter3d"
           }
          ],
          "scattercarpet": [
           {
            "marker": {
             "colorbar": {
              "outlinewidth": 0,
              "ticks": ""
             }
            },
            "type": "scattercarpet"
           }
          ],
          "scattergeo": [
           {
            "marker": {
             "colorbar": {
              "outlinewidth": 0,
              "ticks": ""
             }
            },
            "type": "scattergeo"
           }
          ],
          "scattergl": [
           {
            "marker": {
             "colorbar": {
              "outlinewidth": 0,
              "ticks": ""
             }
            },
            "type": "scattergl"
           }
          ],
          "scattermapbox": [
           {
            "marker": {
             "colorbar": {
              "outlinewidth": 0,
              "ticks": ""
             }
            },
            "type": "scattermapbox"
           }
          ],
          "scatterpolar": [
           {
            "marker": {
             "colorbar": {
              "outlinewidth": 0,
              "ticks": ""
             }
            },
            "type": "scatterpolar"
           }
          ],
          "scatterpolargl": [
           {
            "marker": {
             "colorbar": {
              "outlinewidth": 0,
              "ticks": ""
             }
            },
            "type": "scatterpolargl"
           }
          ],
          "scatterternary": [
           {
            "marker": {
             "colorbar": {
              "outlinewidth": 0,
              "ticks": ""
             }
            },
            "type": "scatterternary"
           }
          ],
          "surface": [
           {
            "colorbar": {
             "outlinewidth": 0,
             "ticks": ""
            },
            "colorscale": [
             [
              0,
              "#0d0887"
             ],
             [
              0.1111111111111111,
              "#46039f"
             ],
             [
              0.2222222222222222,
              "#7201a8"
             ],
             [
              0.3333333333333333,
              "#9c179e"
             ],
             [
              0.4444444444444444,
              "#bd3786"
             ],
             [
              0.5555555555555556,
              "#d8576b"
             ],
             [
              0.6666666666666666,
              "#ed7953"
             ],
             [
              0.7777777777777778,
              "#fb9f3a"
             ],
             [
              0.8888888888888888,
              "#fdca26"
             ],
             [
              1,
              "#f0f921"
             ]
            ],
            "type": "surface"
           }
          ],
          "table": [
           {
            "cells": {
             "fill": {
              "color": "#EBF0F8"
             },
             "line": {
              "color": "white"
             }
            },
            "header": {
             "fill": {
              "color": "#C8D4E3"
             },
             "line": {
              "color": "white"
             }
            },
            "type": "table"
           }
          ]
         },
         "layout": {
          "annotationdefaults": {
           "arrowcolor": "#2a3f5f",
           "arrowhead": 0,
           "arrowwidth": 1
          },
          "autotypenumbers": "strict",
          "coloraxis": {
           "colorbar": {
            "outlinewidth": 0,
            "ticks": ""
           }
          },
          "colorscale": {
           "diverging": [
            [
             0,
             "#8e0152"
            ],
            [
             0.1,
             "#c51b7d"
            ],
            [
             0.2,
             "#de77ae"
            ],
            [
             0.3,
             "#f1b6da"
            ],
            [
             0.4,
             "#fde0ef"
            ],
            [
             0.5,
             "#f7f7f7"
            ],
            [
             0.6,
             "#e6f5d0"
            ],
            [
             0.7,
             "#b8e186"
            ],
            [
             0.8,
             "#7fbc41"
            ],
            [
             0.9,
             "#4d9221"
            ],
            [
             1,
             "#276419"
            ]
           ],
           "sequential": [
            [
             0,
             "#0d0887"
            ],
            [
             0.1111111111111111,
             "#46039f"
            ],
            [
             0.2222222222222222,
             "#7201a8"
            ],
            [
             0.3333333333333333,
             "#9c179e"
            ],
            [
             0.4444444444444444,
             "#bd3786"
            ],
            [
             0.5555555555555556,
             "#d8576b"
            ],
            [
             0.6666666666666666,
             "#ed7953"
            ],
            [
             0.7777777777777778,
             "#fb9f3a"
            ],
            [
             0.8888888888888888,
             "#fdca26"
            ],
            [
             1,
             "#f0f921"
            ]
           ],
           "sequentialminus": [
            [
             0,
             "#0d0887"
            ],
            [
             0.1111111111111111,
             "#46039f"
            ],
            [
             0.2222222222222222,
             "#7201a8"
            ],
            [
             0.3333333333333333,
             "#9c179e"
            ],
            [
             0.4444444444444444,
             "#bd3786"
            ],
            [
             0.5555555555555556,
             "#d8576b"
            ],
            [
             0.6666666666666666,
             "#ed7953"
            ],
            [
             0.7777777777777778,
             "#fb9f3a"
            ],
            [
             0.8888888888888888,
             "#fdca26"
            ],
            [
             1,
             "#f0f921"
            ]
           ]
          },
          "colorway": [
           "#636efa",
           "#EF553B",
           "#00cc96",
           "#ab63fa",
           "#FFA15A",
           "#19d3f3",
           "#FF6692",
           "#B6E880",
           "#FF97FF",
           "#FECB52"
          ],
          "font": {
           "color": "#2a3f5f"
          },
          "geo": {
           "bgcolor": "white",
           "lakecolor": "white",
           "landcolor": "#E5ECF6",
           "showlakes": true,
           "showland": true,
           "subunitcolor": "white"
          },
          "hoverlabel": {
           "align": "left"
          },
          "hovermode": "closest",
          "mapbox": {
           "style": "light"
          },
          "paper_bgcolor": "white",
          "plot_bgcolor": "#E5ECF6",
          "polar": {
           "angularaxis": {
            "gridcolor": "white",
            "linecolor": "white",
            "ticks": ""
           },
           "bgcolor": "#E5ECF6",
           "radialaxis": {
            "gridcolor": "white",
            "linecolor": "white",
            "ticks": ""
           }
          },
          "scene": {
           "xaxis": {
            "backgroundcolor": "#E5ECF6",
            "gridcolor": "white",
            "gridwidth": 2,
            "linecolor": "white",
            "showbackground": true,
            "ticks": "",
            "zerolinecolor": "white"
           },
           "yaxis": {
            "backgroundcolor": "#E5ECF6",
            "gridcolor": "white",
            "gridwidth": 2,
            "linecolor": "white",
            "showbackground": true,
            "ticks": "",
            "zerolinecolor": "white"
           },
           "zaxis": {
            "backgroundcolor": "#E5ECF6",
            "gridcolor": "white",
            "gridwidth": 2,
            "linecolor": "white",
            "showbackground": true,
            "ticks": "",
            "zerolinecolor": "white"
           }
          },
          "shapedefaults": {
           "line": {
            "color": "#2a3f5f"
           }
          },
          "ternary": {
           "aaxis": {
            "gridcolor": "white",
            "linecolor": "white",
            "ticks": ""
           },
           "baxis": {
            "gridcolor": "white",
            "linecolor": "white",
            "ticks": ""
           },
           "bgcolor": "#E5ECF6",
           "caxis": {
            "gridcolor": "white",
            "linecolor": "white",
            "ticks": ""
           }
          },
          "title": {
           "x": 0.05
          },
          "xaxis": {
           "automargin": true,
           "gridcolor": "white",
           "linecolor": "white",
           "ticks": "",
           "title": {
            "standoff": 15
           },
           "zerolinecolor": "white",
           "zerolinewidth": 2
          },
          "yaxis": {
           "automargin": true,
           "gridcolor": "white",
           "linecolor": "white",
           "ticks": "",
           "title": {
            "standoff": 15
           },
           "zerolinecolor": "white",
           "zerolinewidth": 2
          }
         }
        }
       }
      }
     },
     "metadata": {},
     "output_type": "display_data"
    }
   ],
   "source": [
    "import numpy as np\n",
    "import magpylib as magpy\n",
    "\n",
    "N = 10\n",
    "angles = np.linspace(0, 360, N, endpoint=False)\n",
    "\n",
    "halbach = magpy.Collection()\n",
    "\n",
    "for a in angles:\n",
    "    cube = magpy.magnet.Cuboid(\n",
    "        dimension=(128,6,6),\n",
    "        polarization=(1,0,0),\n",
    "        position=(0,20,0)\n",
    "    )\n",
    "    cube.rotate_from_angax(a, 'x', anchor=0)\n",
    "    cube.rotate_from_angax(a, 'x')\n",
    "    halbach.add(cube)\n",
    "\n",
    "halbach.show(backend='plotly')\n",
    "\n",
    "\n",
    "\n",
    "\n",
    "\n"
   ]
  },
  {
   "cell_type": "code",
   "execution_count": 339,
   "metadata": {},
   "outputs": [
    {
     "data": {
      "image/png": "[encoded data removed]",
      "text/plain": [
       "<Figure size 640x480 with 2 Axes>"
      ]
     },
     "metadata": {},
     "output_type": "display_data"
    }
   ],
   "source": [
    "\n",
    "import matplotlib.pyplot as plt\n",
    "fig, ax = plt.subplots()\n",
    "\n",
    "# Compute and plot field on x-y grid\n",
    "grid = np.mgrid[-35:35:100j, -35:35:100j, 0:0:1j].T[0]\n",
    "X, Y, _ = np.moveaxis(grid, 2, 0)\n",
    "\n",
    "B = halbach.getB(grid)\n",
    "Bx, By, _ = np.moveaxis(B, 2, 0)\n",
    "Bamp = np.linalg.norm(B, axis=2)\n",
    "\n",
    "pc = ax.contourf(X, Y, Bamp, levels=50, cmap=\"coolwarm\")\n",
    "ax.streamplot(X, Y, Bx, By, color=\"k\", density=1.5, linewidth=1)\n",
    "\n",
    "# Add colorbar\n",
    "fig.colorbar(pc, ax=ax, label=\"|B|\")\n",
    "\n",
    "# Figure styling\n",
    "ax.set(\n",
    "    xlabel=\"x-position\",\n",
    "    ylabel=\"z-position\",\n",
    "    aspect=1,\n",
    ")\n",
    "\n",
    "plt.show()\n",
    "\n"
   ]
  },
  {
   "cell_type": "code",
   "execution_count": 340,
   "metadata": {},
   "outputs": [
    {
     "data": {
      "text/plain": [
       "array([-0.01183528,  0.        ,  0.        ])"
      ]
     },
     "execution_count": 340,
     "metadata": {},
     "output_type": "execute_result"
    }
   ],
   "source": [
    "halbach.getB([0,0,10])"
   ]
  },
  {
   "cell_type": "code",
   "execution_count": 341,
   "metadata": {},
   "outputs": [
    {
     "data": {
      "image/png": "[encoded data removed]",
      "text/plain": [
       "<Figure size 1500x500 with 3 Axes>"
      ]
     },
     "metadata": {},
     "output_type": "display_data"
    }
   ],
   "source": [
    "x = np.linspace(0,200,100)\n",
    "hal_fieldx = []\n",
    "hal_fieldy = []\n",
    "hal_fieldz = []\n",
    "x_p = []\n",
    "for i in x:\n",
    "    h = halbach.getB([0,0,i])\n",
    "    #if h[0]  > 0:\n",
    "    x_p.append(i)\n",
    "    hal_fieldx.append(h[0])\n",
    "    hal_fieldy.append(h[1])\n",
    "    hal_fieldz.append(h[2])\n",
    "fig, ax = plt.subplots(1,3,figsize=(15,5))\n",
    "ax[0].plot(x_p,np.array(hal_fieldx)*1e3)\n",
    "ax[0].set_title('Bx')\n",
    "ax[0].set_xlabel('z(mm)')\n",
    "ax[0].set_ylabel('Bx(mT)')\n",
    "ax[1].plot(x_p,np.array(hal_fieldy)*1e3)\n",
    "ax[1].set_title('By')\n",
    "ax[1].set_xlabel('z(mm)')\n",
    "ax[1].set_ylabel('By(mT)')\n",
    "ax[2].plot(x_p,np.array(hal_fieldz)*1e3)\n",
    "ax[2].set_title('Bz')\n",
    "ax[2].set_xlabel('z(mm)')\n",
    "ax[2].set_ylabel('$B_z$(mT)')\n",
    "plt.tight_layout()\n",
    "plt.show()"
   ]
  },
  {
   "cell_type": "code",
   "execution_count": 362,
   "metadata": {},
   "outputs": [
    {
     "data": {
      "application/vnd.plotly.v1+json": {
       "config": {
        "plotlyServerURL": "https://plot.ly"
       },
       "data": [
        {
         "color": "#2e91e5",
         "colorscale": [
          [
           0,
           "#00b050"
          ],
          [
           0.16,
           "#00b050"
          ],
          [
           0.26,
           "#dddddd"
          ],
          [
           0.74,
           "#dddddd"
          ],
          [
           0.8400000000000001,
           "#e71111"
          ],
          [
           1,
           "#e71111"
          ]
         ],
         "i": [
          7,
          0,
          0,
          0,
          4,
          4,
          2,
          6,
          4,
          0,
          3,
          7,
          15,
          8,
          8,
          8,
          12,
          12,
          10,
          14,
          12,
          8,
          11,
          15,
          23,
          16,
          16,
          16,
          20,
          20,
          18,
          22,
          20,
          16,
          19,
          23,
          31,
          24,
          24,
          24,
          28,
          28,
          26,
          30,
          28,
          24,
          27,
          31,
          39,
          32,
          32,
          32,
          36,
          36,
          34,
          38,
          36,
          32,
          35,
          39,
          47,
          40,
          40,
          40,
          44,
          44,
          42,
          46,
          44,
          40,
          43,
          47,
          55,
          48,
          48,
          48,
          52,
          52,
          50,
          54,
          52,
          48,
          51,
          55,
          63,
          56,
          56,
          56,
          60,
          60,
          58,
          62,
          60,
          56,
          59,
          63,
          71,
          64,
          64,
          64,
          68,
          68,
          66,
          70,
          68,
          64,
          67,
          71,
          79,
          72,
          72,
          72,
          76,
          76,
          74,
          78,
          76,
          72,
          75,
          79,
          87,
          80,
          80,
          80,
          84,
          84,
          82,
          86,
          84,
          80,
          83,
          87,
          95,
          88,
          88,
          88,
          92,
          92,
          90,
          94,
          92,
          88,
          91,
          95,
          103,
          96,
          96,
          96,
          100,
          100,
          98,
          102,
          100,
          96,
          99,
          103,
          111,
          104,
          104,
          104,
          108,
          108,
          106,
          110,
          108,
          104,
          107,
          111,
          119,
          112,
          112,
          112,
          116,
          116,
          114,
          118,
          116,
          112,
          115,
          119,
          127,
          120,
          120,
          120,
          124,
          124,
          122,
          126,
          124,
          120,
          123,
          127,
          135,
          128,
          128,
          128,
          132,
          132,
          130,
          134,
          132,
          128,
          131,
          135,
          143,
          136,
          136,
          136,
          140,
          140,
          138,
          142,
          140,
          136,
          139,
          143
         ],
         "intensity": [
          1,
          0,
          0,
          1,
          1,
          0,
          0,
          1,
          1,
          0,
          0,
          1,
          1,
          0,
          0,
          1,
          0,
          1,
          1,
          0,
          0,
          1,
          1,
          0,
          0,
          1,
          1,
          0,
          0,
          1,
          1,
          0,
          0,
          1,
          1,
          0,
          0,
          1,
          1,
          0,
          0,
          1,
          1,
          0,
          0,
          1,
          1,
          0,
          1,
          0,
          0,
          1,
          1,
          0,
          0,
          1,
          1,
          0,
          0,
          1,
          1,
          0,
          0,
          1,
          0,
          1,
          1,
          0,
          0,
          1,
          1,
          0,
          0,
          1,
          1,
          0,
          0,
          1,
          1,
          0,
          0,
          1,
          1,
          0,
          0,
          1,
          1,
          0,
          0,
          1,
          1,
          0,
          0,
          1,
          1,
          0,
          1,
          0,
          0,
          1,
          1,
          0,
          0,
          1,
          1,
          0,
          0,
          1,
          1,
          0,
          0,
          1,
          0,
          1,
          1,
          0,
          0,
          1,
          1,
          0,
          0,
          1,
          1,
          0,
          0,
          1,
          1,
          0,
          0,
          1,
          1,
          0,
          0,
          1,
          1,
          0,
          0,
          1,
          1,
          0,
          0,
          1,
          1,
          0
         ],
         "j": [
          0,
          7,
          1,
          2,
          6,
          7,
          1,
          2,
          5,
          5,
          2,
          2,
          8,
          15,
          9,
          10,
          14,
          15,
          9,
          10,
          13,
          13,
          10,
          10,
          16,
          23,
          17,
          18,
          22,
          23,
          17,
          18,
          21,
          21,
          18,
          18,
          24,
          31,
          25,
          26,
          30,
          31,
          25,
          26,
          29,
          29,
          26,
          26,
          32,
          39,
          33,
          34,
          38,
          39,
          33,
          34,
          37,
          37,
          34,
          34,
          40,
          47,
          41,
          42,
          46,
          47,
          41,
          42,
          45,
          45,
          42,
          42,
          48,
          55,
          49,
          50,
          54,
          55,
          49,
          50,
          53,
          53,
          50,
          50,
          56,
          63,
          57,
          58,
          62,
          63,
          57,
          58,
          61,
          61,
          58,
          58,
          64,
          71,
          65,
          66,
          70,
          71,
          65,
          66,
          69,
          69,
          66,
          66,
          72,
          79,
          73,
          74,
          78,
          79,
          73,
          74,
          77,
          77,
          74,
          74,
          80,
          87,
          81,
          82,
          86,
          87,
          81,
          82,
          85,
          85,
          82,
          82,
          88,
          95,
          89,
          90,
          94,
          95,
          89,
          90,
          93,
          93,
          90,
          90,
          96,
          103,
          97,
          98,
          102,
          103,
          97,
          98,
          101,
          101,
          98,
          98,
          104,
          111,
          105,
          106,
          110,
          111,
          105,
          106,
          109,
          109,
          106,
          106,
          112,
          119,
          113,
          114,
          118,
          119,
          113,
          114,
          117,
          117,
          114,
          114,
          120,
          127,
          121,
          122,
          126,
          127,
          121,
          122,
          125,
          125,
          122,
          122,
          128,
          135,
          129,
          130,
          134,
          135,
          129,
          130,
          133,
          133,
          130,
          130,
          136,
          143,
          137,
          138,
          142,
          143,
          137,
          138,
          141,
          141,
          138,
          138
         ],
         "k": [
          3,
          4,
          2,
          3,
          5,
          6,
          5,
          5,
          0,
          1,
          7,
          6,
          11,
          12,
          10,
          11,
          13,
          14,
          13,
          13,
          8,
          9,
          15,
          14,
          19,
          20,
          18,
          19,
          21,
          22,
          21,
          21,
          16,
          17,
          23,
          22,
          27,
          28,
          26,
          27,
          29,
          30,
          29,
          29,
          24,
          25,
          31,
          30,
          35,
          36,
          34,
          35,
          37,
          38,
          37,
          37,
          32,
          33,
          39,
          38,
          43,
          44,
          42,
          43,
          45,
          46,
          45,
          45,
          40,
          41,
          47,
          46,
          51,
          52,
          50,
          51,
          53,
          54,
          53,
          53,
          48,
          49,
          55,
          54,
          59,
          60,
          58,
          59,
          61,
          62,
          61,
          61,
          56,
          57,
          63,
          62,
          67,
          68,
          66,
          67,
          69,
          70,
          69,
          69,
          64,
          65,
          71,
          70,
          75,
          76,
          74,
          75,
          77,
          78,
          77,
          77,
          72,
          73,
          79,
          78,
          83,
          84,
          82,
          83,
          85,
          86,
          85,
          85,
          80,
          81,
          87,
          86,
          91,
          92,
          90,
          91,
          93,
          94,
          93,
          93,
          88,
          89,
          95,
          94,
          99,
          100,
          98,
          99,
          101,
          102,
          101,
          101,
          96,
          97,
          103,
          102,
          107,
          108,
          106,
          107,
          109,
          110,
          109,
          109,
          104,
          105,
          111,
          110,
          115,
          116,
          114,
          115,
          117,
          118,
          117,
          117,
          112,
          113,
          119,
          118,
          123,
          124,
          122,
          123,
          125,
          126,
          125,
          125,
          120,
          121,
          127,
          126,
          131,
          132,
          130,
          131,
          133,
          134,
          133,
          133,
          128,
          129,
          135,
          134,
          139,
          140,
          138,
          139,
          141,
          142,
          141,
          141,
          136,
          137,
          143,
          142
         ],
         "legendgroup": "Collection(id=1588661474256)",
         "name": "Collection (18 sources)",
         "opacity": 1,
         "showlegend": true,
         "showscale": false,
         "type": "mesh3d",
         "x": [
          97,
          97,
          103,
          103,
          97,
          97,
          103,
          103,
          98,
          98,
          102,
          102,
          98,
          98,
          102,
          102,
          97,
          97,
          103,
          103,
          97,
          97,
          103,
          103,
          98,
          98,
          102,
          102,
          98,
          98,
          102,
          102,
          98,
          98,
          102,
          102,
          98,
          98,
          102,
          102,
          98,
          98,
          102,
          102,
          98,
          98,
          102,
          102,
          -11.07811650992327,
          -16.20150220672631,
          -19.20150220672631,
          -14.07811650992327,
          -29.56464082524321,
          -34.68802652204625,
          -37.68802652204625,
          -32.56464082524321,
          -36.009618943233406,
          -39.47372055837116,
          -41.47372055837116,
          -38.009618943233406,
          -36.00961894323341,
          -39.47372055837117,
          -41.47372055837117,
          -38.00961894323341,
          -74.03759767716686,
          -78.7845191201491,
          -81.7845191201491,
          -77.03759767716686,
          -28.950331686300075,
          -33.697253129282316,
          -36.697253129282316,
          -31.95033168630008,
          -47.267949192431075,
          -50.73205080756883,
          -52.73205080756883,
          -49.267949192431075,
          -47.26794919243108,
          -50.73205080756884,
          -52.73205080756884,
          -49.26794919243108,
          -64.58845726811983,
          -68.05255888325757,
          -70.05255888325759,
          -66.58845726811983,
          -64.58845726811983,
          -68.05255888325759,
          -70.05255888325759,
          -66.58845726811984,
          -57.660254037844325,
          -61.12435565298208,
          -63.12435565298208,
          -59.660254037844325,
          -57.66025403784433,
          -61.12435565298209,
          -63.12435565298209,
          -59.66025403784433,
          -85.92188349007674,
          -80.7984977932737,
          -83.7984977932737,
          -88.92188349007674,
          -67.43535917475677,
          -62.31197347795373,
          -65.31197347795373,
          -70.43535917475677,
          -61.99038105676661,
          -58.52627944162885,
          -60.52627944162885,
          -63.99038105676661,
          -61.9903810567666,
          -58.526279441628844,
          -60.526279441628844,
          -63.9903810567666,
          -22.962402322833135,
          -18.21548087985089,
          -21.215480879850887,
          -25.96240232283313,
          -68.04966831369997,
          -63.302746870717726,
          -66.30274687071773,
          -71.04966831369997,
          -50.73205080756894,
          -47.26794919243118,
          -49.26794919243118,
          -52.73205080756894,
          -50.73205080756893,
          -47.267949192431175,
          -49.267949192431175,
          -52.73205080756893,
          -33.41154273188019,
          -29.947441116742432,
          -31.94744111674243,
          -35.41154273188019,
          -33.41154273188018,
          -29.94744111674243,
          -31.947441116742425,
          -35.41154273188018,
          -40.339745962155696,
          -36.87564434701794,
          -38.87564434701794,
          -42.339745962155696,
          -40.33974596215569,
          -36.87564434701793,
          -38.87564434701793,
          -42.33974596215569
         ],
         "y": [
          67.60650253384708,
          68.60711501414369,
          68.60711501414369,
          67.60650253384708,
          -58.60099021117756,
          -57.60037773088095,
          -57.60037773088095,
          -58.60099021117756,
          65.5,
          65.5,
          65.5,
          65.5,
          40.5,
          40.5,
          40.5,
          40.5,
          -101.74889801258428,
          -104.1893178710391,
          -104.1893178710391,
          -101.74889801258428,
          -218.6827165908372,
          -221.12313644929202,
          -221.12313644929202,
          -218.6827165908372,
          -97.5,
          -97.5,
          -97.5,
          -97.5,
          -122.5,
          -122.5,
          -122.5,
          -122.5,
          -207.5,
          -207.5,
          -207.5,
          -207.5,
          -232.5,
          -232.5,
          -232.5,
          -232.5,
          -192.5,
          -192.5,
          -192.5,
          -192.5,
          -217.5,
          -217.5,
          -217.5,
          -217.5,
          67.60650253384706,
          68.60711501414367,
          68.60711501414367,
          67.60650253384706,
          -58.60099021117755,
          -57.60037773088094,
          -57.60037773088094,
          -58.60099021117755,
          65.5,
          65.5,
          65.5,
          65.5,
          40.5,
          40.5,
          40.5,
          40.5,
          -101.74889801258428,
          -104.18931787103907,
          -104.18931787103907,
          -101.74889801258428,
          -218.68271659083723,
          -221.12313644929202,
          -221.12313644929202,
          -218.68271659083723,
          -97.5,
          -97.5,
          -97.5,
          -97.5,
          -122.5,
          -122.5,
          -122.5,
          -122.5,
          -207.5,
          -207.5,
          -207.5,
          -207.5,
          -232.5,
          -232.5,
          -232.5,
          -232.5,
          -192.5,
          -192.5,
          -192.5,
          -192.5,
          -217.5,
          -217.5,
          -217.5,
          -217.5,
          67.60650253384708,
          68.60711501414369,
          68.60711501414369,
          67.60650253384708,
          -58.60099021117756,
          -57.60037773088095,
          -57.60037773088095,
          -58.60099021117756,
          65.5,
          65.5,
          65.5,
          65.5,
          40.49999999999999,
          40.49999999999999,
          40.49999999999999,
          40.49999999999999,
          -101.74889801258425,
          -104.18931787103904,
          -104.18931787103904,
          -101.74889801258425,
          -218.6827165908372,
          -221.123136449292,
          -221.123136449292,
          -218.6827165908372,
          -97.49999999999999,
          -97.49999999999999,
          -97.49999999999999,
          -97.49999999999999,
          -122.49999999999999,
          -122.49999999999999,
          -122.49999999999999,
          -122.49999999999999,
          -207.49999999999997,
          -207.49999999999997,
          -207.49999999999997,
          -207.49999999999997,
          -232.49999999999997,
          -232.49999999999997,
          -232.49999999999997,
          -232.49999999999997,
          -192.49999999999997,
          -192.49999999999997,
          -192.49999999999997,
          -192.49999999999997,
          -217.49999999999997,
          -217.49999999999997,
          -217.49999999999997,
          -217.49999999999997
         ],
         "z": [
          15.9486932110731,
          21.864669433496132,
          21.864669433496132,
          15.9486932110731,
          37.29509279073417,
          43.2110690131572,
          43.2110690131572,
          37.29509279073417,
          10.999999999999986,
          14.999999999999986,
          14.999999999999986,
          10.999999999999986,
          10.99999999999999,
          14.99999999999999,
          14.99999999999999,
          10.99999999999999,
          17.092739781109465,
          22.57401252696507,
          22.57401252696507,
          17.092739781109465,
          -34.969550532592926,
          -29.48827778673732,
          -29.48827778673732,
          -34.969550532592926,
          -1.9999999999999782,
          2.0000000000000218,
          2.0000000000000218,
          -1.9999999999999782,
          -1.999999999999973,
          2.000000000000027,
          2.000000000000027,
          -1.999999999999973,
          -21.999999999999954,
          -17.999999999999954,
          -17.999999999999954,
          -21.999999999999954,
          -21.999999999999947,
          -17.999999999999947,
          -17.999999999999947,
          -21.999999999999947,
          -13.999999999999957,
          -9.999999999999957,
          -9.999999999999957,
          -13.999999999999957,
          -13.99999999999995,
          -9.99999999999995,
          -9.99999999999995,
          -13.99999999999995,
          -97.17496319533373,
          -100.13295130654525,
          -94.93679888383862,
          -91.9788107726271,
          -107.84816298516428,
          -110.8061510963758,
          -105.60999867366917,
          -102.65201056245765,
          -93.83459118601273,
          -95.83459118601274,
          -92.37048957087498,
          -90.37048957087498,
          -93.83459118601274,
          -95.83459118601274,
          -92.370489570875,
          -90.37048957087498,
          -97.74698648035195,
          -100.48762285327976,
          -95.29147043057313,
          -92.55083405764532,
          -71.71584132350071,
          -74.45647769642852,
          -69.26032527372189,
          -66.51968890079408,
          -87.33459118601276,
          -89.33459118601277,
          -85.87048957087501,
          -83.87048957087501,
          -87.33459118601277,
          -89.33459118601277,
          -85.87048957087502,
          -83.87048957087501,
          -77.33459118601277,
          -79.33459118601279,
          -75.87048957087502,
          -73.87048957087502,
          -77.33459118601279,
          -79.33459118601279,
          -75.87048957087504,
          -73.87048957087502,
          -81.33459118601277,
          -83.33459118601279,
          -79.87048957087502,
          -77.87048957087502,
          -81.33459118601279,
          -83.33459118601279,
          -79.87048957087504,
          -77.87048957087502,
          81.22626998426058,
          78.26828187304908,
          73.07212945034243,
          76.03011756155395,
          70.55307019443006,
          67.59508208321854,
          62.39892966051191,
          65.35691777172342,
          82.83459118601272,
          80.83459118601272,
          77.37048957087495,
          79.37048957087495,
          82.83459118601272,
          80.83459118601272,
          77.37048957087495,
          79.37048957087495,
          80.65424669924245,
          77.91361032631465,
          72.71745790360802,
          75.45809427653582,
          106.68539185609359,
          103.94475548316579,
          98.74860306045916,
          101.48923943338696,
          89.3345911860127,
          87.3345911860127,
          83.87048957087494,
          85.87048957087494,
          89.3345911860127,
          87.3345911860127,
          83.87048957087494,
          85.87048957087494,
          99.3345911860127,
          97.3345911860127,
          93.87048957087494,
          95.87048957087494,
          99.3345911860127,
          97.3345911860127,
          93.87048957087494,
          95.87048957087494,
          95.3345911860127,
          93.3345911860127,
          89.87048957087494,
          91.87048957087494,
          95.3345911860127,
          93.3345911860127,
          89.87048957087494,
          91.87048957087494
         ]
        }
       ],
       "layout": {
        "legend": {
         "itemsizing": "constant"
        },
        "scene": {
         "aspectmode": "manual",
         "aspectratio": {
          "x": 1,
          "y": 1,
          "z": 1
         },
         "camera": {
          "eye": {
           "x": 1,
           "y": -1.5,
           "z": 1.4
          }
         },
         "xaxis": {
          "autorange": false,
          "range": [
           -143.51449925211023,
           157.59261576203346
          ],
          "title": {
           "text": "x (m)"
          }
         },
         "yaxis": {
          "autorange": false,
          "range": [
           -232.5,
           68.60711501414369
          ],
          "title": {
           "text": "y (m)"
          }
         },
         "zaxis": {
          "autorange": false,
          "range": [
           -152.61393712721295,
           148.49317788693074
          ],
          "title": {
           "text": "z (m)"
          }
         }
        },
        "template": {
         "data": {
          "bar": [
           {
            "error_x": {
             "color": "#2a3f5f"
            },
            "error_y": {
             "color": "#2a3f5f"
            },
            "marker": {
             "line": {
              "color": "#E5ECF6",
              "width": 0.5
             },
             "pattern": {
              "fillmode": "overlay",
              "size": 10,
              "solidity": 0.2
             }
            },
            "type": "bar"
           }
          ],
          "barpolar": [
           {
            "marker": {
             "line": {
              "color": "#E5ECF6",
              "width": 0.5
             },
             "pattern": {
              "fillmode": "overlay",
              "size": 10,
              "solidity": 0.2
             }
            },
            "type": "barpolar"
           }
          ],
          "carpet": [
           {
            "aaxis": {
             "endlinecolor": "#2a3f5f",
             "gridcolor": "white",
             "linecolor": "white",
             "minorgridcolor": "white",
             "startlinecolor": "#2a3f5f"
            },
            "baxis": {
             "endlinecolor": "#2a3f5f",
             "gridcolor": "white",
             "linecolor": "white",
             "minorgridcolor": "white",
             "startlinecolor": "#2a3f5f"
            },
            "type": "carpet"
           }
          ],
          "choropleth": [
           {
            "colorbar": {
             "outlinewidth": 0,
             "ticks": ""
            },
            "type": "choropleth"
           }
          ],
          "contour": [
           {
            "colorbar": {
             "outlinewidth": 0,
             "ticks": ""
            },
            "colorscale": [
             [
              0,
              "#0d0887"
             ],
             [
              0.1111111111111111,
              "#46039f"
             ],
             [
              0.2222222222222222,
              "#7201a8"
             ],
             [
              0.3333333333333333,
              "#9c179e"
             ],
             [
              0.4444444444444444,
              "#bd3786"
             ],
             [
              0.5555555555555556,
              "#d8576b"
             ],
             [
              0.6666666666666666,
              "#ed7953"
             ],
             [
              0.7777777777777778,
              "#fb9f3a"
             ],
             [
              0.8888888888888888,
              "#fdca26"
             ],
             [
              1,
              "#f0f921"
             ]
            ],
            "type": "contour"
           }
          ],
          "contourcarpet": [
           {
            "colorbar": {
             "outlinewidth": 0,
             "ticks": ""
            },
            "type": "contourcarpet"
           }
          ],
          "heatmap": [
           {
            "colorbar": {
             "outlinewidth": 0,
             "ticks": ""
            },
            "colorscale": [
             [
              0,
              "#0d0887"
             ],
             [
              0.1111111111111111,
              "#46039f"
             ],
             [
              0.2222222222222222,
              "#7201a8"
             ],
             [
              0.3333333333333333,
              "#9c179e"
             ],
             [
              0.4444444444444444,
              "#bd3786"
             ],
             [
              0.5555555555555556,
              "#d8576b"
             ],
             [
              0.6666666666666666,
              "#ed7953"
             ],
             [
              0.7777777777777778,
              "#fb9f3a"
             ],
             [
              0.8888888888888888,
              "#fdca26"
             ],
             [
              1,
              "#f0f921"
             ]
            ],
            "type": "heatmap"
           }
          ],
          "heatmapgl": [
           {
            "colorbar": {
             "outlinewidth": 0,
             "ticks": ""
            },
            "colorscale": [
             [
              0,
              "#0d0887"
             ],
             [
              0.1111111111111111,
              "#46039f"
             ],
             [
              0.2222222222222222,
              "#7201a8"
             ],
             [
              0.3333333333333333,
              "#9c179e"
             ],
             [
              0.4444444444444444,
              "#bd3786"
             ],
             [
              0.5555555555555556,
              "#d8576b"
             ],
             [
              0.6666666666666666,
              "#ed7953"
             ],
             [
              0.7777777777777778,
              "#fb9f3a"
             ],
             [
              0.8888888888888888,
              "#fdca26"
             ],
             [
              1,
              "#f0f921"
             ]
            ],
            "type": "heatmapgl"
           }
          ],
          "histogram": [
           {
            "marker": {
             "pattern": {
              "fillmode": "overlay",
              "size": 10,
              "solidity": 0.2
             }
            },
            "type": "histogram"
           }
          ],
          "histogram2d": [
           {
            "colorbar": {
             "outlinewidth": 0,
             "ticks": ""
            },
            "colorscale": [
             [
              0,
              "#0d0887"
             ],
             [
              0.1111111111111111,
              "#46039f"
             ],
             [
              0.2222222222222222,
              "#7201a8"
             ],
             [
              0.3333333333333333,
              "#9c179e"
             ],
             [
              0.4444444444444444,
              "#bd3786"
             ],
             [
              0.5555555555555556,
              "#d8576b"
             ],
             [
              0.6666666666666666,
              "#ed7953"
             ],
             [
              0.7777777777777778,
              "#fb9f3a"
             ],
             [
              0.8888888888888888,
              "#fdca26"
             ],
             [
              1,
              "#f0f921"
             ]
            ],
            "type": "histogram2d"
           }
          ],
          "histogram2dcontour": [
           {
            "colorbar": {
             "outlinewidth": 0,
             "ticks": ""
            },
            "colorscale": [
             [
              0,
              "#0d0887"
             ],
             [
              0.1111111111111111,
              "#46039f"
             ],
             [
              0.2222222222222222,
              "#7201a8"
             ],
             [
              0.3333333333333333,
              "#9c179e"
             ],
             [
              0.4444444444444444,
              "#bd3786"
             ],
             [
              0.5555555555555556,
              "#d8576b"
             ],
             [
              0.6666666666666666,
              "#ed7953"
             ],
             [
              0.7777777777777778,
              "#fb9f3a"
             ],
             [
              0.8888888888888888,
              "#fdca26"
             ],
             [
              1,
              "#f0f921"
             ]
            ],
            "type": "histogram2dcontour"
           }
          ],
          "mesh3d": [
           {
            "colorbar": {
             "outlinewidth": 0,
             "ticks": ""
            },
            "type": "mesh3d"
           }
          ],
          "parcoords": [
           {
            "line": {
             "colorbar": {
              "outlinewidth": 0,
              "ticks": ""
             }
            },
            "type": "parcoords"
           }
          ],
          "pie": [
           {
            "automargin": true,
            "type": "pie"
           }
          ],
          "scatter": [
           {
            "fillpattern": {
             "fillmode": "overlay",
             "size": 10,
             "solidity": 0.2
            },
            "type": "scatter"
           }
          ],
          "scatter3d": [
           {
            "line": {
             "colorbar": {
              "outlinewidth": 0,
              "ticks": ""
             }
            },
            "marker": {
             "colorbar": {
              "outlinewidth": 0,
              "ticks": ""
             }
            },
            "type": "scatter3d"
           }
          ],
          "scattercarpet": [
           {
            "marker": {
             "colorbar": {
              "outlinewidth": 0,
              "ticks": ""
             }
            },
            "type": "scattercarpet"
           }
          ],
          "scattergeo": [
           {
            "marker": {
             "colorbar": {
              "outlinewidth": 0,
              "ticks": ""
             }
            },
            "type": "scattergeo"
           }
          ],
          "scattergl": [
           {
            "marker": {
             "colorbar": {
              "outlinewidth": 0,
              "ticks": ""
             }
            },
            "type": "scattergl"
           }
          ],
          "scattermapbox": [
           {
            "marker": {
             "colorbar": {
              "outlinewidth": 0,
              "ticks": ""
             }
            },
            "type": "scattermapbox"
           }
          ],
          "scatterpolar": [
           {
            "marker": {
             "colorbar": {
              "outlinewidth": 0,
              "ticks": ""
             }
            },
            "type": "scatterpolar"
           }
          ],
          "scatterpolargl": [
           {
            "marker": {
             "colorbar": {
              "outlinewidth": 0,
              "ticks": ""
             }
            },
            "type": "scatterpolargl"
           }
          ],
          "scatterternary": [
           {
            "marker": {
             "colorbar": {
              "outlinewidth": 0,
              "ticks": ""
             }
            },
            "type": "scatterternary"
           }
          ],
          "surface": [
           {
            "colorbar": {
             "outlinewidth": 0,
             "ticks": ""
            },
            "colorscale": [
             [
              0,
              "#0d0887"
             ],
             [
              0.1111111111111111,
              "#46039f"
             ],
             [
              0.2222222222222222,
              "#7201a8"
             ],
             [
              0.3333333333333333,
              "#9c179e"
             ],
             [
              0.4444444444444444,
              "#bd3786"
             ],
             [
              0.5555555555555556,
              "#d8576b"
             ],
             [
              0.6666666666666666,
              "#ed7953"
             ],
             [
              0.7777777777777778,
              "#fb9f3a"
             ],
             [
              0.8888888888888888,
              "#fdca26"
             ],
             [
              1,
              "#f0f921"
             ]
            ],
            "type": "surface"
           }
          ],
          "table": [
           {
            "cells": {
             "fill": {
              "color": "#EBF0F8"
             },
             "line": {
              "color": "white"
             }
            },
            "header": {
             "fill": {
              "color": "#C8D4E3"
             },
             "line": {
              "color": "white"
             }
            },
            "type": "table"
           }
          ]
         },
         "layout": {
          "annotationdefaults": {
           "arrowcolor": "#2a3f5f",
           "arrowhead": 0,
           "arrowwidth": 1
          },
          "autotypenumbers": "strict",
          "coloraxis": {
           "colorbar": {
            "outlinewidth": 0,
            "ticks": ""
           }
          },
          "colorscale": {
           "diverging": [
            [
             0,
             "#8e0152"
            ],
            [
             0.1,
             "#c51b7d"
            ],
            [
             0.2,
             "#de77ae"
            ],
            [
             0.3,
             "#f1b6da"
            ],
            [
             0.4,
             "#fde0ef"
            ],
            [
             0.5,
             "#f7f7f7"
            ],
            [
             0.6,
             "#e6f5d0"
            ],
            [
             0.7,
             "#b8e186"
            ],
            [
             0.8,
             "#7fbc41"
            ],
            [
             0.9,
             "#4d9221"
            ],
            [
             1,
             "#276419"
            ]
           ],
           "sequential": [
            [
             0,
             "#0d0887"
            ],
            [
             0.1111111111111111,
             "#46039f"
            ],
            [
             0.2222222222222222,
             "#7201a8"
            ],
            [
             0.3333333333333333,
             "#9c179e"
            ],
            [
             0.4444444444444444,
             "#bd3786"
            ],
            [
             0.5555555555555556,
             "#d8576b"
            ],
            [
             0.6666666666666666,
             "#ed7953"
            ],
            [
             0.7777777777777778,
             "#fb9f3a"
            ],
            [
             0.8888888888888888,
             "#fdca26"
            ],
            [
             1,
             "#f0f921"
            ]
           ],
           "sequentialminus": [
            [
             0,
             "#0d0887"
            ],
            [
             0.1111111111111111,
             "#46039f"
            ],
            [
             0.2222222222222222,
             "#7201a8"
            ],
            [
             0.3333333333333333,
             "#9c179e"
            ],
            [
             0.4444444444444444,
             "#bd3786"
            ],
            [
             0.5555555555555556,
             "#d8576b"
            ],
            [
             0.6666666666666666,
             "#ed7953"
            ],
            [
             0.7777777777777778,
             "#fb9f3a"
            ],
            [
             0.8888888888888888,
             "#fdca26"
            ],
            [
             1,
             "#f0f921"
            ]
           ]
          },
          "colorway": [
           "#636efa",
           "#EF553B",
           "#00cc96",
           "#ab63fa",
           "#FFA15A",
           "#19d3f3",
           "#FF6692",
           "#B6E880",
           "#FF97FF",
           "#FECB52"
          ],
          "font": {
           "color": "#2a3f5f"
          },
          "geo": {
           "bgcolor": "white",
           "lakecolor": "white",
           "landcolor": "#E5ECF6",
           "showlakes": true,
           "showland": true,
           "subunitcolor": "white"
          },
          "hoverlabel": {
           "align": "left"
          },
          "hovermode": "closest",
          "mapbox": {
           "style": "light"
          },
          "paper_bgcolor": "white",
          "plot_bgcolor": "#E5ECF6",
          "polar": {
           "angularaxis": {
            "gridcolor": "white",
            "linecolor": "white",
            "ticks": ""
           },
           "bgcolor": "#E5ECF6",
           "radialaxis": {
            "gridcolor": "white",
            "linecolor": "white",
            "ticks": ""
           }
          },
          "scene": {
           "xaxis": {
            "backgroundcolor": "#E5ECF6",
            "gridcolor": "white",
            "gridwidth": 2,
            "linecolor": "white",
            "showbackground": true,
            "ticks": "",
            "zerolinecolor": "white"
           },
           "yaxis": {
            "backgroundcolor": "#E5ECF6",
            "gridcolor": "white",
            "gridwidth": 2,
            "linecolor": "white",
            "showbackground": true,
            "ticks": "",
            "zerolinecolor": "white"
           },
           "zaxis": {
            "backgroundcolor": "#E5ECF6",
            "gridcolor": "white",
            "gridwidth": 2,
            "linecolor": "white",
            "showbackground": true,
            "ticks": "",
            "zerolinecolor": "white"
           }
          },
          "shapedefaults": {
           "line": {
            "color": "#2a3f5f"
           }
          },
          "ternary": {
           "aaxis": {
            "gridcolor": "white",
            "linecolor": "white",
            "ticks": ""
           },
           "baxis": {
            "gridcolor": "white",
            "linecolor": "white",
            "ticks": ""
           },
           "bgcolor": "#E5ECF6",
           "caxis": {
            "gridcolor": "white",
            "linecolor": "white",
            "ticks": ""
           }
          },
          "title": {
           "x": 0.05
          },
          "xaxis": {
           "automargin": true,
           "gridcolor": "white",
           "linecolor": "white",
           "ticks": "",
           "title": {
            "standoff": 15
           },
           "zerolinecolor": "white",
           "zerolinewidth": 2
          },
          "yaxis": {
           "automargin": true,
           "gridcolor": "white",
           "linecolor": "white",
           "ticks": "",
           "title": {
            "standoff": 15
           },
           "zerolinecolor": "white",
           "zerolinewidth": 2
          }
         }
        }
       }
      }
     },
     "metadata": {},
     "output_type": "display_data"
    }
   ],
   "source": [
    "\n",
    "zeeman_prof = magpy.Collection()\n",
    "n =3\n",
    "k= 45\n",
    "angles = np.linspace(0, 360, n, endpoint=False)\n",
    "for a in angles:\n",
    "        cube1= magpy.magnet.Cuboid(\n",
    "        dimension=(6,6,128),\n",
    "        polarization=(0,-1.08,0),\n",
    "        position=(100,A,0))\n",
    "        cube2 = magpy.magnet.Cuboid(dimension= (4,4,25),\n",
    "                        polarization=(0,-1.17,0),\n",
    "                        position=(100,-17+A,-53))\n",
    "        cube3= magpy.magnet.Cuboid(\n",
    "        dimension=(6,6,128),\n",
    "        polarization=(0,1.08,0),\n",
    "        position=(100,60,150))\n",
    "        cube4 = magpy.magnet.Cuboid(dimension= (4,4,25),\n",
    "                        polarization=(0,1.08,0),\n",
    "                        position=(100,0,110))\n",
    "        cube5 = magpy.magnet.Cuboid(dimension= (4,4,25),\n",
    "                        polarization=(0,1.08,0),\n",
    "                        position=(100,-20,220))\n",
    "\n",
    "        cube6 = magpy.magnet.Cuboid(dimension= (4,4,25),\n",
    "                        polarization=(0,1.17,0),\n",
    "                        position=(100,-12,205))\n",
    "\n",
    "        cube1.rotate_from_angax(80.4, 'x', anchor=0)\n",
    "        cube2.rotate_from_angax(90, 'x', anchor=0)\n",
    "        cube3.rotate_from_angax(114, 'x', anchor=0)\n",
    "        cube4.rotate_from_angax(90, 'x', anchor=0)\n",
    "        cube5.rotate_from_angax(90, 'x', anchor=0)\n",
    "        cube6.rotate_from_angax(90, 'x', anchor=0)\n",
    "     \n",
    "\n",
    "        cube1.rotate_from_angax(a, 'y', anchor=0)\n",
    "        cube1.rotate_from_angax(a, 'y')\n",
    "        cube2.rotate_from_angax(a, 'y', anchor=0)\n",
    "        cube2.rotate_from_angax(a, 'y')\n",
    "        cube3.rotate_from_angax(a, 'y', anchor=0)\n",
    "        cube3.rotate_from_angax(a, 'y')\n",
    "        cube4.rotate_from_angax(a, 'y', anchor=0)\n",
    "        cube4.rotate_from_angax(a, 'y')\n",
    "        cube5.rotate_from_angax(a, 'y', anchor=0)\n",
    "        cube5.rotate_from_angax(a, 'y')\n",
    "        cube6.rotate_from_angax(a, 'y', anchor=0)\n",
    "        cube6.rotate_from_angax(a, 'y')\n",
    "\n",
    "\n",
    "        zeeman_prof.add(cube1)\n",
    "        zeeman_prof.add(cube2)\n",
    "        zeeman_prof.add(cube3)\n",
    "        zeeman_prof.add(cube4)\n",
    "        zeeman_prof.add(cube5)\n",
    "        zeeman_prof.add(cube6)\n",
    "\n",
    "magpy.show(zeeman_prof)"
   ]
  },
  {
   "cell_type": "code",
   "execution_count": 360,
   "metadata": {},
   "outputs": [
    {
     "data": {
      "application/vnd.plotly.v1+json": {
       "config": {
        "plotlyServerURL": "https://plot.ly"
       },
       "data": [
        {
         "color": "#2e91e5",
         "colorscale": [
          [
           0,
           "#00b050"
          ],
          [
           0.16,
           "#00b050"
          ],
          [
           0.26,
           "#dddddd"
          ],
          [
           0.74,
           "#dddddd"
          ],
          [
           0.8400000000000001,
           "#e71111"
          ],
          [
           1,
           "#e71111"
          ]
         ],
         "i": [
          7,
          0,
          0,
          0,
          4,
          4,
          2,
          6,
          4,
          0,
          3,
          7,
          15,
          8,
          8,
          8,
          12,
          12,
          10,
          14,
          12,
          8,
          11,
          15,
          23,
          16,
          16,
          16,
          20,
          20,
          18,
          22,
          20,
          16,
          19,
          23,
          31,
          24,
          24,
          24,
          28,
          28,
          26,
          30,
          28,
          24,
          27,
          31,
          39,
          32,
          32,
          32,
          36,
          36,
          34,
          38,
          36,
          32,
          35,
          39,
          47,
          40,
          40,
          40,
          44,
          44,
          42,
          46,
          44,
          40,
          43,
          47
         ],
         "intensity": [
          1,
          0,
          0,
          1,
          1,
          0,
          0,
          1,
          1,
          0,
          0,
          1,
          1,
          0,
          0,
          1,
          0,
          1,
          1,
          0,
          0,
          1,
          1,
          0,
          0,
          1,
          1,
          0,
          0,
          1,
          1,
          0,
          0,
          1,
          1,
          0,
          0,
          1,
          1,
          0,
          0,
          1,
          1,
          0,
          0,
          1,
          1,
          0
         ],
         "j": [
          0,
          7,
          1,
          2,
          6,
          7,
          1,
          2,
          5,
          5,
          2,
          2,
          8,
          15,
          9,
          10,
          14,
          15,
          9,
          10,
          13,
          13,
          10,
          10,
          16,
          23,
          17,
          18,
          22,
          23,
          17,
          18,
          21,
          21,
          18,
          18,
          24,
          31,
          25,
          26,
          30,
          31,
          25,
          26,
          29,
          29,
          26,
          26,
          32,
          39,
          33,
          34,
          38,
          39,
          33,
          34,
          37,
          37,
          34,
          34,
          40,
          47,
          41,
          42,
          46,
          47,
          41,
          42,
          45,
          45,
          42,
          42
         ],
         "k": [
          3,
          4,
          2,
          3,
          5,
          6,
          5,
          5,
          0,
          1,
          7,
          6,
          11,
          12,
          10,
          11,
          13,
          14,
          13,
          13,
          8,
          9,
          15,
          14,
          19,
          20,
          18,
          19,
          21,
          22,
          21,
          21,
          16,
          17,
          23,
          22,
          27,
          28,
          26,
          27,
          29,
          30,
          29,
          29,
          24,
          25,
          31,
          30,
          35,
          36,
          34,
          35,
          37,
          38,
          37,
          37,
          32,
          33,
          39,
          38,
          43,
          44,
          42,
          43,
          45,
          46,
          45,
          45,
          40,
          41,
          47,
          46
         ],
         "legendgroup": "Collection(id=1588696287808)",
         "name": "Collection (6 sources)",
         "opacity": 1,
         "showlegend": true,
         "showscale": false,
         "type": "mesh3d",
         "x": [
          -103,
          -103,
          -97,
          -97,
          -103,
          -103,
          -97,
          -97,
          -102,
          -102,
          -98,
          -98,
          -102,
          -102,
          -98,
          -98,
          -103,
          -103,
          -97,
          -97,
          -103,
          -103,
          -97,
          -97,
          -102,
          -102,
          -98,
          -98,
          -102,
          -102,
          -98,
          -98,
          -102,
          -102,
          -98,
          -98,
          -102,
          -102,
          -98,
          -98,
          -102,
          -102,
          -98,
          -98,
          -102,
          -102,
          -98,
          -98
         ],
         "y": [
          62.603440132364014,
          63.604052612660624,
          63.604052612660624,
          62.603440132364014,
          -63.604052612660624,
          -62.603440132364014,
          -62.603440132364014,
          -63.604052612660624,
          65.5,
          65.5,
          65.5,
          65.5,
          40.49999999999999,
          40.49999999999999,
          40.49999999999999,
          40.49999999999999,
          -101.74889801258428,
          -104.1893178710391,
          -104.1893178710391,
          -101.74889801258428,
          -218.6827165908372,
          -221.12313644929202,
          -221.12313644929202,
          -218.6827165908372,
          -97.5,
          -97.5,
          -97.5,
          -97.5,
          -122.5,
          -122.5,
          -122.5,
          -122.5,
          -207.5,
          -207.5,
          -207.5,
          -207.5,
          -232.5,
          -232.5,
          -232.5,
          -232.5,
          -192.5,
          -192.5,
          -192.5,
          -192.5,
          -217.5,
          -217.5,
          -217.5,
          -217.5
         ],
         "z": [
          -13.631187901042063,
          -7.715211678619032,
          -7.71521167861903,
          -13.63118790104206,
          7.7152116786190055,
          13.631187901042034,
          13.631187901042038,
          7.715211678619007,
          14.999999999999996,
          18.999999999999996,
          18.999999999999996,
          14.999999999999998,
          15.000000000000002,
          19.000000000000004,
          19.000000000000004,
          15.000000000000004,
          29.488277786737306,
          34.96955053259291,
          34.96955053259291,
          29.488277786737306,
          -22.574012526965085,
          -17.09273978110948,
          -17.09273978110948,
          -22.574012526965085,
          -2.00000000000004,
          1.9999999999999603,
          1.9999999999999611,
          -2.000000000000039,
          -2.0000000000000346,
          1.9999999999999656,
          1.9999999999999665,
          -2.0000000000000338,
          17.999999999999936,
          21.999999999999936,
          21.999999999999936,
          17.999999999999936,
          17.999999999999943,
          21.999999999999943,
          21.999999999999943,
          17.999999999999943,
          9.999999999999938,
          13.999999999999938,
          13.99999999999994,
          9.99999999999994,
          9.999999999999943,
          13.999999999999943,
          13.999999999999945,
          9.999999999999945
         ]
        }
       ],
       "layout": {
        "legend": {
         "itemsizing": "constant"
        },
        "scene": {
         "aspectmode": "manual",
         "aspectratio": {
          "x": 1,
          "y": 1,
          "z": 1
         },
         "camera": {
          "eye": {
           "x": 1,
           "y": -1.5,
           "z": 1.4
          }
         },
         "xaxis": {
          "autorange": false,
          "range": [
           -249,
           49
          ],
          "title": {
           "text": "x (m)"
          }
         },
         "yaxis": {
          "autorange": false,
          "range": [
           -232.5,
           65.5
          ],
          "title": {
           "text": "y (m)"
          }
         },
         "zaxis": {
          "autorange": false,
          "range": [
           -142.8022309971861,
           155.1977690028139
          ],
          "title": {
           "text": "z (m)"
          }
         }
        },
        "template": {
         "data": {
          "bar": [
           {
            "error_x": {
             "color": "#2a3f5f"
            },
            "error_y": {
             "color": "#2a3f5f"
            },
            "marker": {
             "line": {
              "color": "#E5ECF6",
              "width": 0.5
             },
             "pattern": {
              "fillmode": "overlay",
              "size": 10,
              "solidity": 0.2
             }
            },
            "type": "bar"
           }
          ],
          "barpolar": [
           {
            "marker": {
             "line": {
              "color": "#E5ECF6",
              "width": 0.5
             },
             "pattern": {
              "fillmode": "overlay",
              "size": 10,
              "solidity": 0.2
             }
            },
            "type": "barpolar"
           }
          ],
          "carpet": [
           {
            "aaxis": {
             "endlinecolor": "#2a3f5f",
             "gridcolor": "white",
             "linecolor": "white",
             "minorgridcolor": "white",
             "startlinecolor": "#2a3f5f"
            },
            "baxis": {
             "endlinecolor": "#2a3f5f",
             "gridcolor": "white",
             "linecolor": "white",
             "minorgridcolor": "white",
             "startlinecolor": "#2a3f5f"
            },
            "type": "carpet"
           }
          ],
          "choropleth": [
           {
            "colorbar": {
             "outlinewidth": 0,
             "ticks": ""
            },
            "type": "choropleth"
           }
          ],
          "contour": [
           {
            "colorbar": {
             "outlinewidth": 0,
             "ticks": ""
            },
            "colorscale": [
             [
              0,
              "#0d0887"
             ],
             [
              0.1111111111111111,
              "#46039f"
             ],
             [
              0.2222222222222222,
              "#7201a8"
             ],
             [
              0.3333333333333333,
              "#9c179e"
             ],
             [
              0.4444444444444444,
              "#bd3786"
             ],
             [
              0.5555555555555556,
              "#d8576b"
             ],
             [
              0.6666666666666666,
              "#ed7953"
             ],
             [
              0.7777777777777778,
              "#fb9f3a"
             ],
             [
              0.8888888888888888,
              "#fdca26"
             ],
             [
              1,
              "#f0f921"
             ]
            ],
            "type": "contour"
           }
          ],
          "contourcarpet": [
           {
            "colorbar": {
             "outlinewidth": 0,
             "ticks": ""
            },
            "type": "contourcarpet"
           }
          ],
          "heatmap": [
           {
            "colorbar": {
             "outlinewidth": 0,
             "ticks": ""
            },
            "colorscale": [
             [
              0,
              "#0d0887"
             ],
             [
              0.1111111111111111,
              "#46039f"
             ],
             [
              0.2222222222222222,
              "#7201a8"
             ],
             [
              0.3333333333333333,
              "#9c179e"
             ],
             [
              0.4444444444444444,
              "#bd3786"
             ],
             [
              0.5555555555555556,
              "#d8576b"
             ],
             [
              0.6666666666666666,
              "#ed7953"
             ],
             [
              0.7777777777777778,
              "#fb9f3a"
             ],
             [
              0.8888888888888888,
              "#fdca26"
             ],
             [
              1,
              "#f0f921"
             ]
            ],
            "type": "heatmap"
           }
          ],
          "heatmapgl": [
           {
            "colorbar": {
             "outlinewidth": 0,
             "ticks": ""
            },
            "colorscale": [
             [
              0,
              "#0d0887"
             ],
             [
              0.1111111111111111,
              "#46039f"
             ],
             [
              0.2222222222222222,
              "#7201a8"
             ],
             [
              0.3333333333333333,
              "#9c179e"
             ],
             [
              0.4444444444444444,
              "#bd3786"
             ],
             [
              0.5555555555555556,
              "#d8576b"
             ],
             [
              0.6666666666666666,
              "#ed7953"
             ],
             [
              0.7777777777777778,
              "#fb9f3a"
             ],
             [
              0.8888888888888888,
              "#fdca26"
             ],
             [
              1,
              "#f0f921"
             ]
            ],
            "type": "heatmapgl"
           }
          ],
          "histogram": [
           {
            "marker": {
             "pattern": {
              "fillmode": "overlay",
              "size": 10,
              "solidity": 0.2
             }
            },
            "type": "histogram"
           }
          ],
          "histogram2d": [
           {
            "colorbar": {
             "outlinewidth": 0,
             "ticks": ""
            },
            "colorscale": [
             [
              0,
              "#0d0887"
             ],
             [
              0.1111111111111111,
              "#46039f"
             ],
             [
              0.2222222222222222,
              "#7201a8"
             ],
             [
              0.3333333333333333,
              "#9c179e"
             ],
             [
              0.4444444444444444,
              "#bd3786"
             ],
             [
              0.5555555555555556,
              "#d8576b"
             ],
             [
              0.6666666666666666,
              "#ed7953"
             ],
             [
              0.7777777777777778,
              "#fb9f3a"
             ],
             [
              0.8888888888888888,
              "#fdca26"
             ],
             [
              1,
              "#f0f921"
             ]
            ],
            "type": "histogram2d"
           }
          ],
          "histogram2dcontour": [
           {
            "colorbar": {
             "outlinewidth": 0,
             "ticks": ""
            },
            "colorscale": [
             [
              0,
              "#0d0887"
             ],
             [
              0.1111111111111111,
              "#46039f"
             ],
             [
              0.2222222222222222,
              "#7201a8"
             ],
             [
              0.3333333333333333,
              "#9c179e"
             ],
             [
              0.4444444444444444,
              "#bd3786"
             ],
             [
              0.5555555555555556,
              "#d8576b"
             ],
             [
              0.6666666666666666,
              "#ed7953"
             ],
             [
              0.7777777777777778,
              "#fb9f3a"
             ],
             [
              0.8888888888888888,
              "#fdca26"
             ],
             [
              1,
              "#f0f921"
             ]
            ],
            "type": "histogram2dcontour"
           }
          ],
          "mesh3d": [
           {
            "colorbar": {
             "outlinewidth": 0,
             "ticks": ""
            },
            "type": "mesh3d"
           }
          ],
          "parcoords": [
           {
            "line": {
             "colorbar": {
              "outlinewidth": 0,
              "ticks": ""
             }
            },
            "type": "parcoords"
           }
          ],
          "pie": [
           {
            "automargin": true,
            "type": "pie"
           }
          ],
          "scatter": [
           {
            "fillpattern": {
             "fillmode": "overlay",
             "size": 10,
             "solidity": 0.2
            },
            "type": "scatter"
           }
          ],
          "scatter3d": [
           {
            "line": {
             "colorbar": {
              "outlinewidth": 0,
              "ticks": ""
             }
            },
            "marker": {
             "colorbar": {
              "outlinewidth": 0,
              "ticks": ""
             }
            },
            "type": "scatter3d"
           }
          ],
          "scattercarpet": [
           {
            "marker": {
             "colorbar": {
              "outlinewidth": 0,
              "ticks": ""
             }
            },
            "type": "scattercarpet"
           }
          ],
          "scattergeo": [
           {
            "marker": {
             "colorbar": {
              "outlinewidth": 0,
              "ticks": ""
             }
            },
            "type": "scattergeo"
           }
          ],
          "scattergl": [
           {
            "marker": {
             "colorbar": {
              "outlinewidth": 0,
              "ticks": ""
             }
            },
            "type": "scattergl"
           }
          ],
          "scattermapbox": [
           {
            "marker": {
             "colorbar": {
              "outlinewidth": 0,
              "ticks": ""
             }
            },
            "type": "scattermapbox"
           }
          ],
          "scatterpolar": [
           {
            "marker": {
             "colorbar": {
              "outlinewidth": 0,
              "ticks": ""
             }
            },
            "type": "scatterpolar"
           }
          ],
          "scatterpolargl": [
           {
            "marker": {
             "colorbar": {
              "outlinewidth": 0,
              "ticks": ""
             }
            },
            "type": "scatterpolargl"
           }
          ],
          "scatterternary": [
           {
            "marker": {
             "colorbar": {
              "outlinewidth": 0,
              "ticks": ""
             }
            },
            "type": "scatterternary"
           }
          ],
          "surface": [
           {
            "colorbar": {
             "outlinewidth": 0,
             "ticks": ""
            },
            "colorscale": [
             [
              0,
              "#0d0887"
             ],
             [
              0.1111111111111111,
              "#46039f"
             ],
             [
              0.2222222222222222,
              "#7201a8"
             ],
             [
              0.3333333333333333,
              "#9c179e"
             ],
             [
              0.4444444444444444,
              "#bd3786"
             ],
             [
              0.5555555555555556,
              "#d8576b"
             ],
             [
              0.6666666666666666,
              "#ed7953"
             ],
             [
              0.7777777777777778,
              "#fb9f3a"
             ],
             [
              0.8888888888888888,
              "#fdca26"
             ],
             [
              1,
              "#f0f921"
             ]
            ],
            "type": "surface"
           }
          ],
          "table": [
           {
            "cells": {
             "fill": {
              "color": "#EBF0F8"
             },
             "line": {
              "color": "white"
             }
            },
            "header": {
             "fill": {
              "color": "#C8D4E3"
             },
             "line": {
              "color": "white"
             }
            },
            "type": "table"
           }
          ]
         },
         "layout": {
          "annotationdefaults": {
           "arrowcolor": "#2a3f5f",
           "arrowhead": 0,
           "arrowwidth": 1
          },
          "autotypenumbers": "strict",
          "coloraxis": {
           "colorbar": {
            "outlinewidth": 0,
            "ticks": ""
           }
          },
          "colorscale": {
           "diverging": [
            [
             0,
             "#8e0152"
            ],
            [
             0.1,
             "#c51b7d"
            ],
            [
             0.2,
             "#de77ae"
            ],
            [
             0.3,
             "#f1b6da"
            ],
            [
             0.4,
             "#fde0ef"
            ],
            [
             0.5,
             "#f7f7f7"
            ],
            [
             0.6,
             "#e6f5d0"
            ],
            [
             0.7,
             "#b8e186"
            ],
            [
             0.8,
             "#7fbc41"
            ],
            [
             0.9,
             "#4d9221"
            ],
            [
             1,
             "#276419"
            ]
           ],
           "sequential": [
            [
             0,
             "#0d0887"
            ],
            [
             0.1111111111111111,
             "#46039f"
            ],
            [
             0.2222222222222222,
             "#7201a8"
            ],
            [
             0.3333333333333333,
             "#9c179e"
            ],
            [
             0.4444444444444444,
             "#bd3786"
            ],
            [
             0.5555555555555556,
             "#d8576b"
            ],
            [
             0.6666666666666666,
             "#ed7953"
            ],
            [
             0.7777777777777778,
             "#fb9f3a"
            ],
            [
             0.8888888888888888,
             "#fdca26"
            ],
            [
             1,
             "#f0f921"
            ]
           ],
           "sequentialminus": [
            [
             0,
             "#0d0887"
            ],
            [
             0.1111111111111111,
             "#46039f"
            ],
            [
             0.2222222222222222,
             "#7201a8"
            ],
            [
             0.3333333333333333,
             "#9c179e"
            ],
            [
             0.4444444444444444,
             "#bd3786"
            ],
            [
             0.5555555555555556,
             "#d8576b"
            ],
            [
             0.6666666666666666,
             "#ed7953"
            ],
            [
             0.7777777777777778,
             "#fb9f3a"
            ],
            [
             0.8888888888888888,
             "#fdca26"
            ],
            [
             1,
             "#f0f921"
            ]
           ]
          },
          "colorway": [
           "#636efa",
           "#EF553B",
           "#00cc96",
           "#ab63fa",
           "#FFA15A",
           "#19d3f3",
           "#FF6692",
           "#B6E880",
           "#FF97FF",
           "#FECB52"
          ],
          "font": {
           "color": "#2a3f5f"
          },
          "geo": {
           "bgcolor": "white",
           "lakecolor": "white",
           "landcolor": "#E5ECF6",
           "showlakes": true,
           "showland": true,
           "subunitcolor": "white"
          },
          "hoverlabel": {
           "align": "left"
          },
          "hovermode": "closest",
          "mapbox": {
           "style": "light"
          },
          "paper_bgcolor": "white",
          "plot_bgcolor": "#E5ECF6",
          "polar": {
           "angularaxis": {
            "gridcolor": "white",
            "linecolor": "white",
            "ticks": ""
           },
           "bgcolor": "#E5ECF6",
           "radialaxis": {
            "gridcolor": "white",
            "linecolor": "white",
            "ticks": ""
           }
          },
          "scene": {
           "xaxis": {
            "backgroundcolor": "#E5ECF6",
            "gridcolor": "white",
            "gridwidth": 2,
            "linecolor": "white",
            "showbackground": true,
            "ticks": "",
            "zerolinecolor": "white"
           },
           "yaxis": {
            "backgroundcolor": "#E5ECF6",
            "gridcolor": "white",
            "gridwidth": 2,
            "linecolor": "white",
            "showbackground": true,
            "ticks": "",
            "zerolinecolor": "white"
           },
           "zaxis": {
            "backgroundcolor": "#E5ECF6",
            "gridcolor": "white",
            "gridwidth": 2,
            "linecolor": "white",
            "showbackground": true,
            "ticks": "",
            "zerolinecolor": "white"
           }
          },
          "shapedefaults": {
           "line": {
            "color": "#2a3f5f"
           }
          },
          "ternary": {
           "aaxis": {
            "gridcolor": "white",
            "linecolor": "white",
            "ticks": ""
           },
           "baxis": {
            "gridcolor": "white",
            "linecolor": "white",
            "ticks": ""
           },
           "bgcolor": "#E5ECF6",
           "caxis": {
            "gridcolor": "white",
            "linecolor": "white",
            "ticks": ""
           }
          },
          "title": {
           "x": 0.05
          },
          "xaxis": {
           "automargin": true,
           "gridcolor": "white",
           "linecolor": "white",
           "ticks": "",
           "title": {
            "standoff": 15
           },
           "zerolinecolor": "white",
           "zerolinewidth": 2
          },
          "yaxis": {
           "automargin": true,
           "gridcolor": "white",
           "linecolor": "white",
           "ticks": "",
           "title": {
            "standoff": 15
           },
           "zerolinecolor": "white",
           "zerolinewidth": 2
          }
         }
        }
       }
      }
     },
     "metadata": {},
     "output_type": "display_data"
    }
   ],
   "source": [
    "zeeman_prof = magpy.Collection()\n",
    "cube1= magpy.magnet.Cuboid(\n",
    "dimension=(6,6,128),\n",
    "polarization=(0,-1.08,0),\n",
    "position=(100,0,0))\n",
    "A = 30\n",
    "k = 180\n",
    "cube1= magpy.magnet.Cuboid(\n",
    "        dimension=(6,6,128),\n",
    "        polarization=(0,-1.08,0),\n",
    "        position=(100,0,0))\n",
    "cube2 = magpy.magnet.Cuboid(dimension= (4,4,25),\n",
    "                polarization=(0,-1.17,0),\n",
    "                position=(100,-17,-53))\n",
    "cube3= magpy.magnet.Cuboid(\n",
    "dimension=(6,6,128),\n",
    "polarization=(0,1.08,0),\n",
    "position=(100,60,150))\n",
    "cube4 = magpy.magnet.Cuboid(dimension= (4,4,25),\n",
    "                polarization=(0,1.08,0),\n",
    "                position=(100,0,110))\n",
    "cube5 = magpy.magnet.Cuboid(dimension= (4,4,25),\n",
    "                polarization=(0,1.08,0),\n",
    "                position=(100,-20 ,220))\n",
    "\n",
    "cube6 = magpy.magnet.Cuboid(dimension= (4,4,25),\n",
    "                polarization=(0,1.17,0),\n",
    "                position=(100,-12,205))\n",
    "\n",
    "cube1.rotate_from_angax(80.4, 'x', anchor=0)\n",
    "cube2.rotate_from_angax(90, 'x', anchor=0)\n",
    "cube3.rotate_from_angax(114, 'x', anchor=0)\n",
    "cube4.rotate_from_angax(90, 'x', anchor=0)\n",
    "cube5.rotate_from_angax(90, 'x', anchor=0)\n",
    "cube6.rotate_from_angax(90, 'x', anchor=0)\n",
    "\n",
    "cube1.rotate_from_angax(k, 'y', anchor=0)\n",
    "cube1.rotate_from_angax(k, 'y')\n",
    "cube2.rotate_from_angax(k, 'y', anchor=0)\n",
    "cube2.rotate_from_angax(k, 'y')\n",
    "cube3.rotate_from_angax(k, 'y', anchor=0)\n",
    "cube3.rotate_from_angax(k, 'y')\n",
    "cube4.rotate_from_angax(k, 'y', anchor=0)\n",
    "cube4.rotate_from_angax(k, 'y')\n",
    "cube5.rotate_from_angax(k, 'y', anchor=0)\n",
    "cube5.rotate_from_angax(k, 'y')\n",
    "cube6.rotate_from_angax(k, 'y', anchor=0)\n",
    "cube6.rotate_from_angax(k, 'y')\n",
    "\n",
    "zeeman_prof.add(cube1)\n",
    "zeeman_prof.add(cube2)\n",
    "zeeman_prof.add(cube3)\n",
    "zeeman_prof.add(cube4)\n",
    "zeeman_prof.add(cube5)\n",
    "zeeman_prof.add(cube6)\n",
    "\n",
    "magpy.show(zeeman_prof)\n"
   ]
  },
  {
   "cell_type": "code",
   "execution_count": 359,
   "metadata": {},
   "outputs": [
    {
     "data": {
      "application/vnd.plotly.v1+json": {
       "config": {
        "plotlyServerURL": "https://plot.ly"
       },
       "data": [
        {
         "color": "#2e91e5",
         "colorscale": [
          [
           0,
           "#00b050"
          ],
          [
           0.16,
           "#00b050"
          ],
          [
           0.26,
           "#dddddd"
          ],
          [
           0.74,
           "#dddddd"
          ],
          [
           0.8400000000000001,
           "#e71111"
          ],
          [
           1,
           "#e71111"
          ]
         ],
         "i": [
          7,
          0,
          0,
          0,
          4,
          4,
          2,
          6,
          4,
          0,
          3,
          7,
          15,
          8,
          8,
          8,
          12,
          12,
          10,
          14,
          12,
          8,
          11,
          15,
          23,
          16,
          16,
          16,
          20,
          20,
          18,
          22,
          20,
          16,
          19,
          23,
          31,
          24,
          24,
          24,
          28,
          28,
          26,
          30,
          28,
          24,
          27,
          31,
          39,
          32,
          32,
          32,
          36,
          36,
          34,
          38,
          36,
          32,
          35,
          39,
          47,
          40,
          40,
          40,
          44,
          44,
          42,
          46,
          44,
          40,
          43,
          47,
          55,
          48,
          48,
          48,
          52,
          52,
          50,
          54,
          52,
          48,
          51,
          55,
          63,
          56,
          56,
          56,
          60,
          60,
          58,
          62,
          60,
          56,
          59,
          63,
          71,
          64,
          64,
          64,
          68,
          68,
          66,
          70,
          68,
          64,
          67,
          71,
          79,
          72,
          72,
          72,
          76,
          76,
          74,
          78,
          76,
          72,
          75,
          79,
          87,
          80,
          80,
          80,
          84,
          84,
          82,
          86,
          84,
          80,
          83,
          87,
          95,
          88,
          88,
          88,
          92,
          92,
          90,
          94,
          92,
          88,
          91,
          95,
          103,
          96,
          96,
          96,
          100,
          100,
          98,
          102,
          100,
          96,
          99,
          103,
          111,
          104,
          104,
          104,
          108,
          108,
          106,
          110,
          108,
          104,
          107,
          111,
          119,
          112,
          112,
          112,
          116,
          116,
          114,
          118,
          116,
          112,
          115,
          119,
          127,
          120,
          120,
          120,
          124,
          124,
          122,
          126,
          124,
          120,
          123,
          127,
          135,
          128,
          128,
          128,
          132,
          132,
          130,
          134,
          132,
          128,
          131,
          135,
          143,
          136,
          136,
          136,
          140,
          140,
          138,
          142,
          140,
          136,
          139,
          143,
          151,
          144,
          144,
          144,
          148,
          148,
          146,
          150,
          148,
          144,
          147,
          151,
          159,
          152,
          152,
          152,
          156,
          156,
          154,
          158,
          156,
          152,
          155,
          159,
          167,
          160,
          160,
          160,
          164,
          164,
          162,
          166,
          164,
          160,
          163,
          167,
          175,
          168,
          168,
          168,
          172,
          172,
          170,
          174,
          172,
          168,
          171,
          175,
          183,
          176,
          176,
          176,
          180,
          180,
          178,
          182,
          180,
          176,
          179,
          183,
          191,
          184,
          184,
          184,
          188,
          188,
          186,
          190,
          188,
          184,
          187,
          191,
          199,
          192,
          192,
          192,
          196,
          196,
          194,
          198,
          196,
          192,
          195,
          199,
          207,
          200,
          200,
          200,
          204,
          204,
          202,
          206,
          204,
          200,
          203,
          207,
          215,
          208,
          208,
          208,
          212,
          212,
          210,
          214,
          212,
          208,
          211,
          215,
          223,
          216,
          216,
          216,
          220,
          220,
          218,
          222,
          220,
          216,
          219,
          223,
          231,
          224,
          224,
          224,
          228,
          228,
          226,
          230,
          228,
          224,
          227,
          231,
          239,
          232,
          232,
          232,
          236,
          236,
          234,
          238,
          236,
          232,
          235,
          239,
          247,
          240,
          240,
          240,
          244,
          244,
          242,
          246,
          244,
          240,
          243,
          247,
          255,
          248,
          248,
          248,
          252,
          252,
          250,
          254,
          252,
          248,
          251,
          255,
          263,
          256,
          256,
          256,
          260,
          260,
          258,
          262,
          260,
          256,
          259,
          263,
          271,
          264,
          264,
          264,
          268,
          268,
          266,
          270,
          268,
          264,
          267,
          271,
          279,
          272,
          272,
          272,
          276,
          276,
          274,
          278,
          276,
          272,
          275,
          279,
          287,
          280,
          280,
          280,
          284,
          284,
          282,
          286,
          284,
          280,
          283,
          287
         ],
         "intensity": [
          1,
          0,
          0,
          1,
          1,
          0,
          0,
          1,
          1,
          0,
          0,
          1,
          1,
          0,
          0,
          1,
          0,
          1,
          1,
          0,
          0,
          1,
          1,
          0,
          0,
          1,
          1,
          0,
          0,
          1,
          1,
          0,
          0,
          1,
          1,
          0,
          0,
          1,
          1,
          0,
          0,
          1,
          1,
          0,
          0,
          1,
          1,
          0,
          1,
          0,
          0,
          1,
          1,
          0,
          0,
          1,
          1,
          0,
          0,
          1,
          1,
          0,
          0,
          1,
          0,
          1,
          1,
          0,
          0,
          1,
          1,
          0,
          0,
          1,
          1,
          0,
          0,
          1,
          1,
          0,
          0,
          1,
          1,
          0,
          0,
          1,
          1,
          0,
          0,
          1,
          1,
          0,
          0,
          1,
          1,
          0,
          1,
          0,
          0,
          1,
          1,
          0,
          0,
          1,
          1,
          0,
          0,
          1,
          1,
          0,
          0,
          1,
          0,
          1,
          1,
          0,
          0,
          1,
          1,
          0,
          0,
          1,
          1,
          0,
          0,
          1,
          1,
          0,
          0,
          1,
          1,
          0,
          0,
          1,
          1,
          0,
          0,
          1,
          1,
          0,
          0,
          1,
          1,
          0,
          1,
          0,
          0,
          1,
          1,
          0,
          0,
          1,
          1,
          0,
          0,
          1,
          1,
          0,
          0,
          1,
          0,
          1,
          1,
          0,
          0,
          1,
          1,
          0,
          0,
          1,
          1,
          0,
          0,
          1,
          1,
          0,
          0,
          1,
          1,
          0,
          0,
          1,
          1,
          0,
          0,
          1,
          1,
          0,
          0,
          1,
          1,
          0,
          1,
          0,
          0,
          1,
          1,
          0,
          0,
          1,
          1,
          0,
          0,
          1,
          1,
          0,
          0,
          1,
          0,
          1,
          1,
          0,
          0,
          1,
          1,
          0,
          0,
          1,
          1,
          0,
          0,
          1,
          1,
          0,
          0,
          1,
          1,
          0,
          0,
          1,
          1,
          0,
          0,
          1,
          1,
          0,
          0,
          1,
          1,
          0,
          1,
          0,
          0,
          1,
          1,
          0,
          0,
          1,
          1,
          0,
          0,
          1,
          1,
          0,
          0,
          1,
          0,
          1,
          1,
          0,
          0,
          1,
          1,
          0,
          0,
          1,
          1,
          0,
          0,
          1,
          1,
          0,
          0,
          1,
          1,
          0,
          0,
          1,
          1,
          0,
          0,
          1,
          1,
          0,
          0,
          1,
          1,
          0
         ],
         "j": [
          0,
          7,
          1,
          2,
          6,
          7,
          1,
          2,
          5,
          5,
          2,
          2,
          8,
          15,
          9,
          10,
          14,
          15,
          9,
          10,
          13,
          13,
          10,
          10,
          16,
          23,
          17,
          18,
          22,
          23,
          17,
          18,
          21,
          21,
          18,
          18,
          24,
          31,
          25,
          26,
          30,
          31,
          25,
          26,
          29,
          29,
          26,
          26,
          32,
          39,
          33,
          34,
          38,
          39,
          33,
          34,
          37,
          37,
          34,
          34,
          40,
          47,
          41,
          42,
          46,
          47,
          41,
          42,
          45,
          45,
          42,
          42,
          48,
          55,
          49,
          50,
          54,
          55,
          49,
          50,
          53,
          53,
          50,
          50,
          56,
          63,
          57,
          58,
          62,
          63,
          57,
          58,
          61,
          61,
          58,
          58,
          64,
          71,
          65,
          66,
          70,
          71,
          65,
          66,
          69,
          69,
          66,
          66,
          72,
          79,
          73,
          74,
          78,
          79,
          73,
          74,
          77,
          77,
          74,
          74,
          80,
          87,
          81,
          82,
          86,
          87,
          81,
          82,
          85,
          85,
          82,
          82,
          88,
          95,
          89,
          90,
          94,
          95,
          89,
          90,
          93,
          93,
          90,
          90,
          96,
          103,
          97,
          98,
          102,
          103,
          97,
          98,
          101,
          101,
          98,
          98,
          104,
          111,
          105,
          106,
          110,
          111,
          105,
          106,
          109,
          109,
          106,
          106,
          112,
          119,
          113,
          114,
          118,
          119,
          113,
          114,
          117,
          117,
          114,
          114,
          120,
          127,
          121,
          122,
          126,
          127,
          121,
          122,
          125,
          125,
          122,
          122,
          128,
          135,
          129,
          130,
          134,
          135,
          129,
          130,
          133,
          133,
          130,
          130,
          136,
          143,
          137,
          138,
          142,
          143,
          137,
          138,
          141,
          141,
          138,
          138,
          144,
          151,
          145,
          146,
          150,
          151,
          145,
          146,
          149,
          149,
          146,
          146,
          152,
          159,
          153,
          154,
          158,
          159,
          153,
          154,
          157,
          157,
          154,
          154,
          160,
          167,
          161,
          162,
          166,
          167,
          161,
          162,
          165,
          165,
          162,
          162,
          168,
          175,
          169,
          170,
          174,
          175,
          169,
          170,
          173,
          173,
          170,
          170,
          176,
          183,
          177,
          178,
          182,
          183,
          177,
          178,
          181,
          181,
          178,
          178,
          184,
          191,
          185,
          186,
          190,
          191,
          185,
          186,
          189,
          189,
          186,
          186,
          192,
          199,
          193,
          194,
          198,
          199,
          193,
          194,
          197,
          197,
          194,
          194,
          200,
          207,
          201,
          202,
          206,
          207,
          201,
          202,
          205,
          205,
          202,
          202,
          208,
          215,
          209,
          210,
          214,
          215,
          209,
          210,
          213,
          213,
          210,
          210,
          216,
          223,
          217,
          218,
          222,
          223,
          217,
          218,
          221,
          221,
          218,
          218,
          224,
          231,
          225,
          226,
          230,
          231,
          225,
          226,
          229,
          229,
          226,
          226,
          232,
          239,
          233,
          234,
          238,
          239,
          233,
          234,
          237,
          237,
          234,
          234,
          240,
          247,
          241,
          242,
          246,
          247,
          241,
          242,
          245,
          245,
          242,
          242,
          248,
          255,
          249,
          250,
          254,
          255,
          249,
          250,
          253,
          253,
          250,
          250,
          256,
          263,
          257,
          258,
          262,
          263,
          257,
          258,
          261,
          261,
          258,
          258,
          264,
          271,
          265,
          266,
          270,
          271,
          265,
          266,
          269,
          269,
          266,
          266,
          272,
          279,
          273,
          274,
          278,
          279,
          273,
          274,
          277,
          277,
          274,
          274,
          280,
          287,
          281,
          282,
          286,
          287,
          281,
          282,
          285,
          285,
          282,
          282
         ],
         "k": [
          3,
          4,
          2,
          3,
          5,
          6,
          5,
          5,
          0,
          1,
          7,
          6,
          11,
          12,
          10,
          11,
          13,
          14,
          13,
          13,
          8,
          9,
          15,
          14,
          19,
          20,
          18,
          19,
          21,
          22,
          21,
          21,
          16,
          17,
          23,
          22,
          27,
          28,
          26,
          27,
          29,
          30,
          29,
          29,
          24,
          25,
          31,
          30,
          35,
          36,
          34,
          35,
          37,
          38,
          37,
          37,
          32,
          33,
          39,
          38,
          43,
          44,
          42,
          43,
          45,
          46,
          45,
          45,
          40,
          41,
          47,
          46,
          51,
          52,
          50,
          51,
          53,
          54,
          53,
          53,
          48,
          49,
          55,
          54,
          59,
          60,
          58,
          59,
          61,
          62,
          61,
          61,
          56,
          57,
          63,
          62,
          67,
          68,
          66,
          67,
          69,
          70,
          69,
          69,
          64,
          65,
          71,
          70,
          75,
          76,
          74,
          75,
          77,
          78,
          77,
          77,
          72,
          73,
          79,
          78,
          83,
          84,
          82,
          83,
          85,
          86,
          85,
          85,
          80,
          81,
          87,
          86,
          91,
          92,
          90,
          91,
          93,
          94,
          93,
          93,
          88,
          89,
          95,
          94,
          99,
          100,
          98,
          99,
          101,
          102,
          101,
          101,
          96,
          97,
          103,
          102,
          107,
          108,
          106,
          107,
          109,
          110,
          109,
          109,
          104,
          105,
          111,
          110,
          115,
          116,
          114,
          115,
          117,
          118,
          117,
          117,
          112,
          113,
          119,
          118,
          123,
          124,
          122,
          123,
          125,
          126,
          125,
          125,
          120,
          121,
          127,
          126,
          131,
          132,
          130,
          131,
          133,
          134,
          133,
          133,
          128,
          129,
          135,
          134,
          139,
          140,
          138,
          139,
          141,
          142,
          141,
          141,
          136,
          137,
          143,
          142,
          147,
          148,
          146,
          147,
          149,
          150,
          149,
          149,
          144,
          145,
          151,
          150,
          155,
          156,
          154,
          155,
          157,
          158,
          157,
          157,
          152,
          153,
          159,
          158,
          163,
          164,
          162,
          163,
          165,
          166,
          165,
          165,
          160,
          161,
          167,
          166,
          171,
          172,
          170,
          171,
          173,
          174,
          173,
          173,
          168,
          169,
          175,
          174,
          179,
          180,
          178,
          179,
          181,
          182,
          181,
          181,
          176,
          177,
          183,
          182,
          187,
          188,
          186,
          187,
          189,
          190,
          189,
          189,
          184,
          185,
          191,
          190,
          195,
          196,
          194,
          195,
          197,
          198,
          197,
          197,
          192,
          193,
          199,
          198,
          203,
          204,
          202,
          203,
          205,
          206,
          205,
          205,
          200,
          201,
          207,
          206,
          211,
          212,
          210,
          211,
          213,
          214,
          213,
          213,
          208,
          209,
          215,
          214,
          219,
          220,
          218,
          219,
          221,
          222,
          221,
          221,
          216,
          217,
          223,
          222,
          227,
          228,
          226,
          227,
          229,
          230,
          229,
          229,
          224,
          225,
          231,
          230,
          235,
          236,
          234,
          235,
          237,
          238,
          237,
          237,
          232,
          233,
          239,
          238,
          243,
          244,
          242,
          243,
          245,
          246,
          245,
          245,
          240,
          241,
          247,
          246,
          251,
          252,
          250,
          251,
          253,
          254,
          253,
          253,
          248,
          249,
          255,
          254,
          259,
          260,
          258,
          259,
          261,
          262,
          261,
          261,
          256,
          257,
          263,
          262,
          267,
          268,
          266,
          267,
          269,
          270,
          269,
          269,
          264,
          265,
          271,
          270,
          275,
          276,
          274,
          275,
          277,
          278,
          277,
          277,
          272,
          273,
          279,
          278,
          283,
          284,
          282,
          283,
          285,
          286,
          285,
          285,
          280,
          281,
          287,
          286
         ],
         "legendgroup": "Collection(id=1588614964688)",
         "name": "Collection (36 sources)",
         "opacity": 1,
         "showlegend": true,
         "showscale": false,
         "type": "mesh3d",
         "x": [
          -103,
          -103,
          -97,
          -97,
          -103,
          -103,
          -97,
          -97,
          -102,
          -102,
          -98,
          -98,
          -102,
          -102,
          -98,
          -98,
          -103,
          -103,
          -97,
          -97,
          -103,
          -103,
          -97,
          -97,
          -102,
          -102,
          -98,
          -98,
          -102,
          -102,
          -98,
          -98,
          -102,
          -102,
          -98,
          -98,
          -102,
          -102,
          -98,
          -98,
          -102,
          -102,
          -98,
          -98,
          -102,
          -102,
          -98,
          -98,
          97,
          97,
          103,
          103,
          97,
          97,
          103,
          103,
          98,
          98,
          102,
          102,
          98,
          98,
          102,
          102,
          97,
          97,
          103,
          103,
          97,
          97,
          103,
          103,
          98,
          98,
          102,
          102,
          98,
          98,
          102,
          102,
          98,
          98,
          102,
          102,
          98,
          98,
          102,
          102,
          98,
          98,
          102,
          102,
          98,
          98,
          102,
          102,
          97,
          97,
          103,
          103,
          97,
          97,
          103,
          103,
          98,
          98,
          102,
          102,
          98,
          98,
          102,
          102,
          97,
          97,
          103,
          103,
          97,
          97,
          103,
          103,
          98,
          98,
          102,
          102,
          98,
          98,
          102,
          102,
          98,
          98,
          102,
          102,
          98,
          98,
          102,
          102,
          98,
          98,
          102,
          102,
          98,
          98,
          102,
          102,
          97,
          97,
          103,
          103,
          97,
          97,
          103,
          103,
          98,
          98,
          102,
          102,
          98,
          98,
          102,
          102,
          97,
          97,
          103,
          103,
          97,
          97,
          103,
          103,
          98,
          98,
          102,
          102,
          98,
          98,
          102,
          102,
          98,
          98,
          102,
          102,
          98,
          98,
          102,
          102,
          98,
          98,
          102,
          102,
          98,
          98,
          102,
          102,
          97,
          97,
          103,
          103,
          97,
          97,
          103,
          103,
          98,
          98,
          102,
          102,
          98,
          98,
          102,
          102,
          97,
          97,
          103,
          103,
          97,
          97,
          103,
          103,
          98,
          98,
          102,
          102,
          98,
          98,
          102,
          102,
          98,
          98,
          102,
          102,
          98,
          98,
          102,
          102,
          98,
          98,
          102,
          102,
          98,
          98,
          102,
          102,
          97,
          97,
          103,
          103,
          97,
          97,
          103,
          103,
          98,
          98,
          102,
          102,
          98,
          98,
          102,
          102,
          97,
          97,
          103,
          103,
          97,
          97,
          103,
          103,
          98,
          98,
          102,
          102,
          98,
          98,
          102,
          102,
          98,
          98,
          102,
          102,
          98,
          98,
          102,
          102,
          98,
          98,
          102,
          102,
          98,
          98,
          102,
          102
         ],
         "y": [
          62.603440132364014,
          63.604052612660624,
          63.604052612660624,
          62.603440132364014,
          -63.604052612660624,
          -62.603440132364014,
          -62.603440132364014,
          -63.604052612660624,
          65.5,
          65.5,
          65.5,
          65.5,
          40.49999999999999,
          40.49999999999999,
          40.49999999999999,
          40.49999999999999,
          -101.74889801258428,
          -104.1893178710391,
          -104.1893178710391,
          -101.74889801258428,
          -218.6827165908372,
          -221.12313644929202,
          -221.12313644929202,
          -218.6827165908372,
          -97.5,
          -97.5,
          -97.5,
          -97.5,
          -122.5,
          -122.5,
          -122.5,
          -122.5,
          -207.5,
          -207.5,
          -207.5,
          -207.5,
          -232.5,
          -232.5,
          -232.5,
          -232.5,
          -192.5,
          -192.5,
          -192.5,
          -192.5,
          -217.5,
          -217.5,
          -217.5,
          -217.5,
          62.603440132364014,
          63.604052612660624,
          63.604052612660624,
          62.603440132364014,
          -63.604052612660624,
          -62.603440132364014,
          -62.603440132364014,
          -63.604052612660624,
          65.5,
          65.5,
          65.5,
          65.5,
          40.49999999999999,
          40.49999999999999,
          40.49999999999999,
          40.49999999999999,
          -101.74889801258428,
          -104.1893178710391,
          -104.1893178710391,
          -101.74889801258428,
          -218.6827165908372,
          -221.12313644929202,
          -221.12313644929202,
          -218.6827165908372,
          -97.5,
          -97.5,
          -97.5,
          -97.5,
          -122.5,
          -122.5,
          -122.5,
          -122.5,
          -207.5,
          -207.5,
          -207.5,
          -207.5,
          -232.5,
          -232.5,
          -232.5,
          -232.5,
          -192.5,
          -192.5,
          -192.5,
          -192.5,
          -217.5,
          -217.5,
          -217.5,
          -217.5,
          62.603440132364014,
          63.604052612660624,
          63.604052612660624,
          62.603440132364014,
          -63.604052612660624,
          -62.603440132364014,
          -62.603440132364014,
          -63.604052612660624,
          65.5,
          65.5,
          65.5,
          65.5,
          40.49999999999999,
          40.49999999999999,
          40.49999999999999,
          40.49999999999999,
          -101.74889801258428,
          -104.1893178710391,
          -104.1893178710391,
          -101.74889801258428,
          -218.6827165908372,
          -221.12313644929202,
          -221.12313644929202,
          -218.6827165908372,
          -97.5,
          -97.5,
          -97.5,
          -97.5,
          -122.5,
          -122.5,
          -122.5,
          -122.5,
          -207.5,
          -207.5,
          -207.5,
          -207.5,
          -232.5,
          -232.5,
          -232.5,
          -232.5,
          -192.5,
          -192.5,
          -192.5,
          -192.5,
          -217.5,
          -217.5,
          -217.5,
          -217.5,
          62.603440132364014,
          63.604052612660624,
          63.604052612660624,
          62.603440132364014,
          -63.604052612660624,
          -62.603440132364014,
          -62.603440132364014,
          -63.604052612660624,
          65.5,
          65.5,
          65.5,
          65.5,
          40.49999999999999,
          40.49999999999999,
          40.49999999999999,
          40.49999999999999,
          -101.74889801258428,
          -104.1893178710391,
          -104.1893178710391,
          -101.74889801258428,
          -218.6827165908372,
          -221.12313644929202,
          -221.12313644929202,
          -218.6827165908372,
          -97.5,
          -97.5,
          -97.5,
          -97.5,
          -122.5,
          -122.5,
          -122.5,
          -122.5,
          -207.5,
          -207.5,
          -207.5,
          -207.5,
          -232.5,
          -232.5,
          -232.5,
          -232.5,
          -192.5,
          -192.5,
          -192.5,
          -192.5,
          -217.5,
          -217.5,
          -217.5,
          -217.5,
          62.603440132364014,
          63.604052612660624,
          63.604052612660624,
          62.603440132364014,
          -63.604052612660624,
          -62.603440132364014,
          -62.603440132364014,
          -63.604052612660624,
          65.5,
          65.5,
          65.5,
          65.5,
          40.49999999999999,
          40.49999999999999,
          40.49999999999999,
          40.49999999999999,
          -101.74889801258428,
          -104.1893178710391,
          -104.1893178710391,
          -101.74889801258428,
          -218.6827165908372,
          -221.12313644929202,
          -221.12313644929202,
          -218.6827165908372,
          -97.5,
          -97.5,
          -97.5,
          -97.5,
          -122.5,
          -122.5,
          -122.5,
          -122.5,
          -207.5,
          -207.5,
          -207.5,
          -207.5,
          -232.5,
          -232.5,
          -232.5,
          -232.5,
          -192.5,
          -192.5,
          -192.5,
          -192.5,
          -217.5,
          -217.5,
          -217.5,
          -217.5,
          62.603440132364014,
          63.604052612660624,
          63.604052612660624,
          62.603440132364014,
          -63.604052612660624,
          -62.603440132364014,
          -62.603440132364014,
          -63.604052612660624,
          65.5,
          65.5,
          65.5,
          65.5,
          40.49999999999999,
          40.49999999999999,
          40.49999999999999,
          40.49999999999999,
          -101.74889801258428,
          -104.1893178710391,
          -104.1893178710391,
          -101.74889801258428,
          -218.6827165908372,
          -221.12313644929202,
          -221.12313644929202,
          -218.6827165908372,
          -97.5,
          -97.5,
          -97.5,
          -97.5,
          -122.5,
          -122.5,
          -122.5,
          -122.5,
          -207.5,
          -207.5,
          -207.5,
          -207.5,
          -232.5,
          -232.5,
          -232.5,
          -232.5,
          -192.5,
          -192.5,
          -192.5,
          -192.5,
          -217.5,
          -217.5,
          -217.5,
          -217.5
         ],
         "z": [
          -13.631187901042063,
          -7.715211678619032,
          -7.71521167861903,
          -13.63118790104206,
          7.7152116786190055,
          13.631187901042034,
          13.631187901042038,
          7.715211678619007,
          14.999999999999996,
          18.999999999999996,
          18.999999999999996,
          14.999999999999998,
          15.000000000000002,
          19.000000000000004,
          19.000000000000004,
          15.000000000000004,
          29.488277786737306,
          34.96955053259291,
          34.96955053259291,
          29.488277786737306,
          -22.574012526965085,
          -17.09273978110948,
          -17.09273978110948,
          -22.574012526965085,
          -2.00000000000004,
          1.9999999999999603,
          1.9999999999999611,
          -2.000000000000039,
          -2.0000000000000346,
          1.9999999999999656,
          1.9999999999999665,
          -2.0000000000000338,
          17.999999999999936,
          21.999999999999936,
          21.999999999999936,
          17.999999999999936,
          17.999999999999943,
          21.999999999999943,
          21.999999999999943,
          17.999999999999943,
          9.999999999999938,
          13.999999999999938,
          13.99999999999994,
          9.99999999999994,
          9.999999999999943,
          13.999999999999943,
          13.999999999999945,
          9.999999999999945,
          -13.631187901042049,
          -7.715211678619019,
          -7.715211678619019,
          -13.631187901042049,
          7.715211678619019,
          13.631187901042049,
          13.631187901042049,
          7.715211678619019,
          -19.000000000000014,
          -15.000000000000014,
          -15.000000000000014,
          -19.000000000000014,
          -19.000000000000007,
          -15.000000000000007,
          -15.000000000000007,
          -19.000000000000007,
          17.092739781109465,
          22.57401252696507,
          22.57401252696507,
          17.092739781109465,
          -34.969550532592926,
          -29.48827778673732,
          -29.48827778673732,
          -34.969550532592926,
          -1.9999999999999782,
          2.0000000000000218,
          2.0000000000000218,
          -1.9999999999999782,
          -1.999999999999973,
          2.000000000000027,
          2.000000000000027,
          -1.999999999999973,
          -21.999999999999954,
          -17.999999999999954,
          -17.999999999999954,
          -21.999999999999954,
          -21.999999999999947,
          -17.999999999999947,
          -17.999999999999947,
          -21.999999999999947,
          -13.999999999999957,
          -9.999999999999957,
          -9.999999999999957,
          -13.999999999999957,
          -13.99999999999995,
          -9.99999999999995,
          -9.99999999999995,
          -13.99999999999995,
          -13.631187901042049,
          -7.715211678619019,
          -7.715211678619019,
          -13.631187901042049,
          7.715211678619019,
          13.631187901042049,
          13.631187901042049,
          7.715211678619019,
          -19.000000000000014,
          -15.000000000000014,
          -15.000000000000014,
          -19.000000000000014,
          -19.000000000000007,
          -15.000000000000007,
          -15.000000000000007,
          -19.000000000000007,
          17.092739781109465,
          22.57401252696507,
          22.57401252696507,
          17.092739781109465,
          -34.969550532592926,
          -29.48827778673732,
          -29.48827778673732,
          -34.969550532592926,
          -1.9999999999999782,
          2.0000000000000218,
          2.0000000000000218,
          -1.9999999999999782,
          -1.999999999999973,
          2.000000000000027,
          2.000000000000027,
          -1.999999999999973,
          -21.999999999999954,
          -17.999999999999954,
          -17.999999999999954,
          -21.999999999999954,
          -21.999999999999947,
          -17.999999999999947,
          -17.999999999999947,
          -21.999999999999947,
          -13.999999999999957,
          -9.999999999999957,
          -9.999999999999957,
          -13.999999999999957,
          -13.99999999999995,
          -9.99999999999995,
          -9.99999999999995,
          -13.99999999999995,
          -13.631187901042049,
          -7.715211678619019,
          -7.715211678619019,
          -13.631187901042049,
          7.715211678619019,
          13.631187901042049,
          13.631187901042049,
          7.715211678619019,
          -19.000000000000014,
          -15.000000000000014,
          -15.000000000000014,
          -19.000000000000014,
          -19.000000000000007,
          -15.000000000000007,
          -15.000000000000007,
          -19.000000000000007,
          17.092739781109465,
          22.57401252696507,
          22.57401252696507,
          17.092739781109465,
          -34.969550532592926,
          -29.48827778673732,
          -29.48827778673732,
          -34.969550532592926,
          -1.9999999999999782,
          2.0000000000000218,
          2.0000000000000218,
          -1.9999999999999782,
          -1.999999999999973,
          2.000000000000027,
          2.000000000000027,
          -1.999999999999973,
          -21.999999999999954,
          -17.999999999999954,
          -17.999999999999954,
          -21.999999999999954,
          -21.999999999999947,
          -17.999999999999947,
          -17.999999999999947,
          -21.999999999999947,
          -13.999999999999957,
          -9.999999999999957,
          -9.999999999999957,
          -13.999999999999957,
          -13.99999999999995,
          -9.99999999999995,
          -9.99999999999995,
          -13.99999999999995,
          -13.631187901042049,
          -7.715211678619019,
          -7.715211678619019,
          -13.631187901042049,
          7.715211678619019,
          13.631187901042049,
          13.631187901042049,
          7.715211678619019,
          -19.000000000000014,
          -15.000000000000014,
          -15.000000000000014,
          -19.000000000000014,
          -19.000000000000007,
          -15.000000000000007,
          -15.000000000000007,
          -19.000000000000007,
          17.092739781109465,
          22.57401252696507,
          22.57401252696507,
          17.092739781109465,
          -34.969550532592926,
          -29.48827778673732,
          -29.48827778673732,
          -34.969550532592926,
          -1.9999999999999782,
          2.0000000000000218,
          2.0000000000000218,
          -1.9999999999999782,
          -1.999999999999973,
          2.000000000000027,
          2.000000000000027,
          -1.999999999999973,
          -21.999999999999954,
          -17.999999999999954,
          -17.999999999999954,
          -21.999999999999954,
          -21.999999999999947,
          -17.999999999999947,
          -17.999999999999947,
          -21.999999999999947,
          -13.999999999999957,
          -9.999999999999957,
          -9.999999999999957,
          -13.999999999999957,
          -13.99999999999995,
          -9.99999999999995,
          -9.99999999999995,
          -13.99999999999995,
          -13.631187901042049,
          -7.715211678619019,
          -7.715211678619019,
          -13.631187901042049,
          7.715211678619019,
          13.631187901042049,
          13.631187901042049,
          7.715211678619019,
          -19.000000000000014,
          -15.000000000000014,
          -15.000000000000014,
          -19.000000000000014,
          -19.000000000000007,
          -15.000000000000007,
          -15.000000000000007,
          -19.000000000000007,
          17.092739781109465,
          22.57401252696507,
          22.57401252696507,
          17.092739781109465,
          -34.969550532592926,
          -29.48827778673732,
          -29.48827778673732,
          -34.969550532592926,
          -1.9999999999999782,
          2.0000000000000218,
          2.0000000000000218,
          -1.9999999999999782,
          -1.999999999999973,
          2.000000000000027,
          2.000000000000027,
          -1.999999999999973,
          -21.999999999999954,
          -17.999999999999954,
          -17.999999999999954,
          -21.999999999999954,
          -21.999999999999947,
          -17.999999999999947,
          -17.999999999999947,
          -21.999999999999947,
          -13.999999999999957,
          -9.999999999999957,
          -9.999999999999957,
          -13.999999999999957,
          -13.99999999999995,
          -9.99999999999995,
          -9.99999999999995,
          -13.99999999999995
         ]
        }
       ],
       "layout": {
        "legend": {
         "itemsizing": "constant"
        },
        "scene": {
         "aspectmode": "manual",
         "aspectratio": {
          "x": 1,
          "y": 1,
          "z": 1
         },
         "camera": {
          "eye": {
           "x": 1,
           "y": -1.5,
           "z": 1.4
          }
         },
         "xaxis": {
          "autorange": false,
          "range": [
           -149,
           149
          ],
          "title": {
           "text": "x (m)"
          }
         },
         "yaxis": {
          "autorange": false,
          "range": [
           -232.5,
           65.5
          ],
          "title": {
           "text": "y (m)"
          }
         },
         "zaxis": {
          "autorange": false,
          "range": [
           -149,
           149
          ],
          "title": {
           "text": "z (m)"
          }
         }
        },
        "template": {
         "data": {
          "bar": [
           {
            "error_x": {
             "color": "#2a3f5f"
            },
            "error_y": {
             "color": "#2a3f5f"
            },
            "marker": {
             "line": {
              "color": "#E5ECF6",
              "width": 0.5
             },
             "pattern": {
              "fillmode": "overlay",
              "size": 10,
              "solidity": 0.2
             }
            },
            "type": "bar"
           }
          ],
          "barpolar": [
           {
            "marker": {
             "line": {
              "color": "#E5ECF6",
              "width": 0.5
             },
             "pattern": {
              "fillmode": "overlay",
              "size": 10,
              "solidity": 0.2
             }
            },
            "type": "barpolar"
           }
          ],
          "carpet": [
           {
            "aaxis": {
             "endlinecolor": "#2a3f5f",
             "gridcolor": "white",
             "linecolor": "white",
             "minorgridcolor": "white",
             "startlinecolor": "#2a3f5f"
            },
            "baxis": {
             "endlinecolor": "#2a3f5f",
             "gridcolor": "white",
             "linecolor": "white",
             "minorgridcolor": "white",
             "startlinecolor": "#2a3f5f"
            },
            "type": "carpet"
           }
          ],
          "choropleth": [
           {
            "colorbar": {
             "outlinewidth": 0,
             "ticks": ""
            },
            "type": "choropleth"
           }
          ],
          "contour": [
           {
            "colorbar": {
             "outlinewidth": 0,
             "ticks": ""
            },
            "colorscale": [
             [
              0,
              "#0d0887"
             ],
             [
              0.1111111111111111,
              "#46039f"
             ],
             [
              0.2222222222222222,
              "#7201a8"
             ],
             [
              0.3333333333333333,
              "#9c179e"
             ],
             [
              0.4444444444444444,
              "#bd3786"
             ],
             [
              0.5555555555555556,
              "#d8576b"
             ],
             [
              0.6666666666666666,
              "#ed7953"
             ],
             [
              0.7777777777777778,
              "#fb9f3a"
             ],
             [
              0.8888888888888888,
              "#fdca26"
             ],
             [
              1,
              "#f0f921"
             ]
            ],
            "type": "contour"
           }
          ],
          "contourcarpet": [
           {
            "colorbar": {
             "outlinewidth": 0,
             "ticks": ""
            },
            "type": "contourcarpet"
           }
          ],
          "heatmap": [
           {
            "colorbar": {
             "outlinewidth": 0,
             "ticks": ""
            },
            "colorscale": [
             [
              0,
              "#0d0887"
             ],
             [
              0.1111111111111111,
              "#46039f"
             ],
             [
              0.2222222222222222,
              "#7201a8"
             ],
             [
              0.3333333333333333,
              "#9c179e"
             ],
             [
              0.4444444444444444,
              "#bd3786"
             ],
             [
              0.5555555555555556,
              "#d8576b"
             ],
             [
              0.6666666666666666,
              "#ed7953"
             ],
             [
              0.7777777777777778,
              "#fb9f3a"
             ],
             [
              0.8888888888888888,
              "#fdca26"
             ],
             [
              1,
              "#f0f921"
             ]
            ],
            "type": "heatmap"
           }
          ],
          "heatmapgl": [
           {
            "colorbar": {
             "outlinewidth": 0,
             "ticks": ""
            },
            "colorscale": [
             [
              0,
              "#0d0887"
             ],
             [
              0.1111111111111111,
              "#46039f"
             ],
             [
              0.2222222222222222,
              "#7201a8"
             ],
             [
              0.3333333333333333,
              "#9c179e"
             ],
             [
              0.4444444444444444,
              "#bd3786"
             ],
             [
              0.5555555555555556,
              "#d8576b"
             ],
             [
              0.6666666666666666,
              "#ed7953"
             ],
             [
              0.7777777777777778,
              "#fb9f3a"
             ],
             [
              0.8888888888888888,
              "#fdca26"
             ],
             [
              1,
              "#f0f921"
             ]
            ],
            "type": "heatmapgl"
           }
          ],
          "histogram": [
           {
            "marker": {
             "pattern": {
              "fillmode": "overlay",
              "size": 10,
              "solidity": 0.2
             }
            },
            "type": "histogram"
           }
          ],
          "histogram2d": [
           {
            "colorbar": {
             "outlinewidth": 0,
             "ticks": ""
            },
            "colorscale": [
             [
              0,
              "#0d0887"
             ],
             [
              0.1111111111111111,
              "#46039f"
             ],
             [
              0.2222222222222222,
              "#7201a8"
             ],
             [
              0.3333333333333333,
              "#9c179e"
             ],
             [
              0.4444444444444444,
              "#bd3786"
             ],
             [
              0.5555555555555556,
              "#d8576b"
             ],
             [
              0.6666666666666666,
              "#ed7953"
             ],
             [
              0.7777777777777778,
              "#fb9f3a"
             ],
             [
              0.8888888888888888,
              "#fdca26"
             ],
             [
              1,
              "#f0f921"
             ]
            ],
            "type": "histogram2d"
           }
          ],
          "histogram2dcontour": [
           {
            "colorbar": {
             "outlinewidth": 0,
             "ticks": ""
            },
            "colorscale": [
             [
              0,
              "#0d0887"
             ],
             [
              0.1111111111111111,
              "#46039f"
             ],
             [
              0.2222222222222222,
              "#7201a8"
             ],
             [
              0.3333333333333333,
              "#9c179e"
             ],
             [
              0.4444444444444444,
              "#bd3786"
             ],
             [
              0.5555555555555556,
              "#d8576b"
             ],
             [
              0.6666666666666666,
              "#ed7953"
             ],
             [
              0.7777777777777778,
              "#fb9f3a"
             ],
             [
              0.8888888888888888,
              "#fdca26"
             ],
             [
              1,
              "#f0f921"
             ]
            ],
            "type": "histogram2dcontour"
           }
          ],
          "mesh3d": [
           {
            "colorbar": {
             "outlinewidth": 0,
             "ticks": ""
            },
            "type": "mesh3d"
           }
          ],
          "parcoords": [
           {
            "line": {
             "colorbar": {
              "outlinewidth": 0,
              "ticks": ""
             }
            },
            "type": "parcoords"
           }
          ],
          "pie": [
           {
            "automargin": true,
            "type": "pie"
           }
          ],
          "scatter": [
           {
            "fillpattern": {
             "fillmode": "overlay",
             "size": 10,
             "solidity": 0.2
            },
            "type": "scatter"
           }
          ],
          "scatter3d": [
           {
            "line": {
             "colorbar": {
              "outlinewidth": 0,
              "ticks": ""
             }
            },
            "marker": {
             "colorbar": {
              "outlinewidth": 0,
              "ticks": ""
             }
            },
            "type": "scatter3d"
           }
          ],
          "scattercarpet": [
           {
            "marker": {
             "colorbar": {
              "outlinewidth": 0,
              "ticks": ""
             }
            },
            "type": "scattercarpet"
           }
          ],
          "scattergeo": [
           {
            "marker": {
             "colorbar": {
              "outlinewidth": 0,
              "ticks": ""
             }
            },
            "type": "scattergeo"
           }
          ],
          "scattergl": [
           {
            "marker": {
             "colorbar": {
              "outlinewidth": 0,
              "ticks": ""
             }
            },
            "type": "scattergl"
           }
          ],
          "scattermapbox": [
           {
            "marker": {
             "colorbar": {
              "outlinewidth": 0,
              "ticks": ""
             }
            },
            "type": "scattermapbox"
           }
          ],
          "scatterpolar": [
           {
            "marker": {
             "colorbar": {
              "outlinewidth": 0,
              "ticks": ""
             }
            },
            "type": "scatterpolar"
           }
          ],
          "scatterpolargl": [
           {
            "marker": {
             "colorbar": {
              "outlinewidth": 0,
              "ticks": ""
             }
            },
            "type": "scatterpolargl"
           }
          ],
          "scatterternary": [
           {
            "marker": {
             "colorbar": {
              "outlinewidth": 0,
              "ticks": ""
             }
            },
            "type": "scatterternary"
           }
          ],
          "surface": [
           {
            "colorbar": {
             "outlinewidth": 0,
             "ticks": ""
            },
            "colorscale": [
             [
              0,
              "#0d0887"
             ],
             [
              0.1111111111111111,
              "#46039f"
             ],
             [
              0.2222222222222222,
              "#7201a8"
             ],
             [
              0.3333333333333333,
              "#9c179e"
             ],
             [
              0.4444444444444444,
              "#bd3786"
             ],
             [
              0.5555555555555556,
              "#d8576b"
             ],
             [
              0.6666666666666666,
              "#ed7953"
             ],
             [
              0.7777777777777778,
              "#fb9f3a"
             ],
             [
              0.8888888888888888,
              "#fdca26"
             ],
             [
              1,
              "#f0f921"
             ]
            ],
            "type": "surface"
           }
          ],
          "table": [
           {
            "cells": {
             "fill": {
              "color": "#EBF0F8"
             },
             "line": {
              "color": "white"
             }
            },
            "header": {
             "fill": {
              "color": "#C8D4E3"
             },
             "line": {
              "color": "white"
             }
            },
            "type": "table"
           }
          ]
         },
         "layout": {
          "annotationdefaults": {
           "arrowcolor": "#2a3f5f",
           "arrowhead": 0,
           "arrowwidth": 1
          },
          "autotypenumbers": "strict",
          "coloraxis": {
           "colorbar": {
            "outlinewidth": 0,
            "ticks": ""
           }
          },
          "colorscale": {
           "diverging": [
            [
             0,
             "#8e0152"
            ],
            [
             0.1,
             "#c51b7d"
            ],
            [
             0.2,
             "#de77ae"
            ],
            [
             0.3,
             "#f1b6da"
            ],
            [
             0.4,
             "#fde0ef"
            ],
            [
             0.5,
             "#f7f7f7"
            ],
            [
             0.6,
             "#e6f5d0"
            ],
            [
             0.7,
             "#b8e186"
            ],
            [
             0.8,
             "#7fbc41"
            ],
            [
             0.9,
             "#4d9221"
            ],
            [
             1,
             "#276419"
            ]
           ],
           "sequential": [
            [
             0,
             "#0d0887"
            ],
            [
             0.1111111111111111,
             "#46039f"
            ],
            [
             0.2222222222222222,
             "#7201a8"
            ],
            [
             0.3333333333333333,
             "#9c179e"
            ],
            [
             0.4444444444444444,
             "#bd3786"
            ],
            [
             0.5555555555555556,
             "#d8576b"
            ],
            [
             0.6666666666666666,
             "#ed7953"
            ],
            [
             0.7777777777777778,
             "#fb9f3a"
            ],
            [
             0.8888888888888888,
             "#fdca26"
            ],
            [
             1,
             "#f0f921"
            ]
           ],
           "sequentialminus": [
            [
             0,
             "#0d0887"
            ],
            [
             0.1111111111111111,
             "#46039f"
            ],
            [
             0.2222222222222222,
             "#7201a8"
            ],
            [
             0.3333333333333333,
             "#9c179e"
            ],
            [
             0.4444444444444444,
             "#bd3786"
            ],
            [
             0.5555555555555556,
             "#d8576b"
            ],
            [
             0.6666666666666666,
             "#ed7953"
            ],
            [
             0.7777777777777778,
             "#fb9f3a"
            ],
            [
             0.8888888888888888,
             "#fdca26"
            ],
            [
             1,
             "#f0f921"
            ]
           ]
          },
          "colorway": [
           "#636efa",
           "#EF553B",
           "#00cc96",
           "#ab63fa",
           "#FFA15A",
           "#19d3f3",
           "#FF6692",
           "#B6E880",
           "#FF97FF",
           "#FECB52"
          ],
          "font": {
           "color": "#2a3f5f"
          },
          "geo": {
           "bgcolor": "white",
           "lakecolor": "white",
           "landcolor": "#E5ECF6",
           "showlakes": true,
           "showland": true,
           "subunitcolor": "white"
          },
          "hoverlabel": {
           "align": "left"
          },
          "hovermode": "closest",
          "mapbox": {
           "style": "light"
          },
          "paper_bgcolor": "white",
          "plot_bgcolor": "#E5ECF6",
          "polar": {
           "angularaxis": {
            "gridcolor": "white",
            "linecolor": "white",
            "ticks": ""
           },
           "bgcolor": "#E5ECF6",
           "radialaxis": {
            "gridcolor": "white",
            "linecolor": "white",
            "ticks": ""
           }
          },
          "scene": {
           "xaxis": {
            "backgroundcolor": "#E5ECF6",
            "gridcolor": "white",
            "gridwidth": 2,
            "linecolor": "white",
            "showbackground": true,
            "ticks": "",
            "zerolinecolor": "white"
           },
           "yaxis": {
            "backgroundcolor": "#E5ECF6",
            "gridcolor": "white",
            "gridwidth": 2,
            "linecolor": "white",
            "showbackground": true,
            "ticks": "",
            "zerolinecolor": "white"
           },
           "zaxis": {
            "backgroundcolor": "#E5ECF6",
            "gridcolor": "white",
            "gridwidth": 2,
            "linecolor": "white",
            "showbackground": true,
            "ticks": "",
            "zerolinecolor": "white"
           }
          },
          "shapedefaults": {
           "line": {
            "color": "#2a3f5f"
           }
          },
          "ternary": {
           "aaxis": {
            "gridcolor": "white",
            "linecolor": "white",
            "ticks": ""
           },
           "baxis": {
            "gridcolor": "white",
            "linecolor": "white",
            "ticks": ""
           },
           "bgcolor": "#E5ECF6",
           "caxis": {
            "gridcolor": "white",
            "linecolor": "white",
            "ticks": ""
           }
          },
          "title": {
           "x": 0.05
          },
          "xaxis": {
           "automargin": true,
           "gridcolor": "white",
           "linecolor": "white",
           "ticks": "",
           "title": {
            "standoff": 15
           },
           "zerolinecolor": "white",
           "zerolinewidth": 2
          },
          "yaxis": {
           "automargin": true,
           "gridcolor": "white",
           "linecolor": "white",
           "ticks": "",
           "title": {
            "standoff": 15
           },
           "zerolinecolor": "white",
           "zerolinewidth": 2
          }
         }
        }
       }
      }
     },
     "metadata": {},
     "output_type": "display_data"
    }
   ],
   "source": [
    "k = 45\n",
    "A = 0\n",
    "cube1= magpy.magnet.Cuboid(\n",
    "        dimension=(6,6,128),\n",
    "        polarization=(0,-1.08,0),\n",
    "        position=(100,0,A))\n",
    "cube2 = magpy.magnet.Cuboid(dimension= (4,4,25),\n",
    "                polarization=(0,-1.17,0),\n",
    "                position=(100,-17,-53+A))\n",
    "cube3= magpy.magnet.Cuboid(\n",
    "dimension=(6,6,128),\n",
    "polarization=(0,1.08,0),\n",
    "position=(100,60,150+A))\n",
    "cube4 = magpy.magnet.Cuboid(dimension= (4,4,25),\n",
    "                polarization=(0,1.08,0),\n",
    "                position=(100,0,110+A))\n",
    "cube5 = magpy.magnet.Cuboid(dimension= (4,4,25),\n",
    "                polarization=(0,1.08,0),\n",
    "                position=(100,-20 ,220+A))\n",
    "\n",
    "cube6 = magpy.magnet.Cuboid(dimension= (4,4,25),\n",
    "                polarization=(0,1.17,0),\n",
    "                position=(100,-12,205+A))\n",
    "\n",
    "cube1.rotate_from_angax(80.4, 'x', anchor=0)\n",
    "cube2.rotate_from_angax(90, 'x', anchor=0)\n",
    "cube3.rotate_from_angax(114, 'x', anchor=0)\n",
    "cube4.rotate_from_angax(90, 'x', anchor=0)\n",
    "cube5.rotate_from_angax(90, 'x', anchor=0)\n",
    "cube6.rotate_from_angax(90, 'x', anchor=0)\n",
    "\n",
    "\n",
    "\n",
    "zeeman_prof.add(cube1)\n",
    "zeeman_prof.add(cube2)\n",
    "zeeman_prof.add(cube3)\n",
    "zeeman_prof.add(cube4)\n",
    "zeeman_prof.add(cube5)\n",
    "zeeman_prof.add(cube6)\n",
    "\n",
    "magpy.show(zeeman_prof)"
   ]
  },
  {
   "cell_type": "code",
   "execution_count": 345,
   "metadata": {},
   "outputs": [
    {
     "data": {
      "image/png": "[encoded data removed]",
      "text/plain": [
       "<Figure size 1500x500 with 3 Axes>"
      ]
     },
     "metadata": {},
     "output_type": "display_data"
    }
   ],
   "source": [
    "\n",
    "x = np.linspace(0,300,100)\n",
    "zee_fieldx = []\n",
    "zee_fieldy = []\n",
    "zee_fieldz = []\n",
    "x_p = []\n",
    "for i in x:\n",
    "    h = zeeman_prof.getB([0,0,i])\n",
    "    #if h[0]  > 0:\n",
    "    x_p.append(i)\n",
    "    zee_fieldx.append(h[0])\n",
    "    zee_fieldy.append(h[1])\n",
    "    zee_fieldz.append(h[2])\n",
    "fig, ax = plt.subplots(1,3,figsize=(15,5))\n",
    "ax[0].plot(x_p,np.array(zee_fieldx)*1e3)\n",
    "ax[0].set_title('Bx')\n",
    "ax[0].set_xlabel('z(mm)')\n",
    "ax[0].set_ylabel('Bx(mT)')\n",
    "ax[1].plot(x_p,np.array(zee_fieldy)*1e3)\n",
    "ax[1].set_title('By')\n",
    "ax[1].set_xlabel('z(mm)')\n",
    "ax[1].set_ylabel('By(mT)')\n",
    "ax[2].plot(x_p,np.array(zee_fieldz)*1e3)\n",
    "ax[2].set_title('Bz')\n",
    "ax[2].set_xlabel('z(mm)')\n",
    "ax[2].set_ylabel('$B_z$(mT)')\n",
    "plt.tight_layout()\n",
    "plt.show()"
   ]
  },
  {
   "cell_type": "code",
   "execution_count": 346,
   "metadata": {},
   "outputs": [
    {
     "data": {
      "application/vnd.plotly.v1+json": {
       "config": {
        "plotlyServerURL": "https://plot.ly"
       },
       "data": [
        {
         "color": "#2e91e5",
         "colorscale": [
          [
           0,
           "#00b050"
          ],
          [
           0.16,
           "#00b050"
          ],
          [
           0.26,
           "#dddddd"
          ],
          [
           0.74,
           "#dddddd"
          ],
          [
           0.8400000000000001,
           "#e71111"
          ],
          [
           1,
           "#e71111"
          ]
         ],
         "i": [
          7,
          0,
          0,
          0,
          4,
          4,
          2,
          6,
          4,
          0,
          3,
          7,
          15,
          8,
          8,
          8,
          12,
          12,
          10,
          14,
          12,
          8,
          11,
          15,
          23,
          16,
          16,
          16,
          20,
          20,
          18,
          22,
          20,
          16,
          19,
          23,
          31,
          24,
          24,
          24,
          28,
          28,
          26,
          30,
          28,
          24,
          27,
          31,
          39,
          32,
          32,
          32,
          36,
          36,
          34,
          38,
          36,
          32,
          35,
          39,
          47,
          40,
          40,
          40,
          44,
          44,
          42,
          46,
          44,
          40,
          43,
          47,
          55,
          48,
          48,
          48,
          52,
          52,
          50,
          54,
          52,
          48,
          51,
          55,
          63,
          56,
          56,
          56,
          60,
          60,
          58,
          62,
          60,
          56,
          59,
          63,
          71,
          64,
          64,
          64,
          68,
          68,
          66,
          70,
          68,
          64,
          67,
          71,
          79,
          72,
          72,
          72,
          76,
          76,
          74,
          78,
          76,
          72,
          75,
          79,
          87,
          80,
          80,
          80,
          84,
          84,
          82,
          86,
          84,
          80,
          83,
          87,
          95,
          88,
          88,
          88,
          92,
          92,
          90,
          94,
          92,
          88,
          91,
          95
         ],
         "intensity": [
          1,
          0,
          0,
          1,
          1,
          0,
          0,
          1,
          1,
          0,
          0,
          1,
          1,
          0,
          0,
          1,
          0,
          1,
          1,
          0,
          0,
          1,
          1,
          0,
          0,
          1,
          1,
          0,
          0,
          1,
          1,
          0,
          0,
          1,
          1,
          0,
          0,
          1,
          1,
          0,
          0,
          1,
          1,
          0,
          0,
          1,
          1,
          0,
          1,
          0,
          0,
          1,
          1,
          0,
          0,
          1,
          1,
          0,
          0,
          1,
          1,
          0,
          0,
          1,
          0,
          1,
          1,
          0,
          0,
          1,
          1,
          0,
          0,
          1,
          1,
          0,
          0,
          1,
          1,
          0,
          0,
          1,
          1,
          0,
          0,
          1,
          1,
          0,
          0,
          1,
          1,
          0,
          0,
          1,
          1,
          0
         ],
         "j": [
          0,
          7,
          1,
          2,
          6,
          7,
          1,
          2,
          5,
          5,
          2,
          2,
          8,
          15,
          9,
          10,
          14,
          15,
          9,
          10,
          13,
          13,
          10,
          10,
          16,
          23,
          17,
          18,
          22,
          23,
          17,
          18,
          21,
          21,
          18,
          18,
          24,
          31,
          25,
          26,
          30,
          31,
          25,
          26,
          29,
          29,
          26,
          26,
          32,
          39,
          33,
          34,
          38,
          39,
          33,
          34,
          37,
          37,
          34,
          34,
          40,
          47,
          41,
          42,
          46,
          47,
          41,
          42,
          45,
          45,
          42,
          42,
          48,
          55,
          49,
          50,
          54,
          55,
          49,
          50,
          53,
          53,
          50,
          50,
          56,
          63,
          57,
          58,
          62,
          63,
          57,
          58,
          61,
          61,
          58,
          58,
          64,
          71,
          65,
          66,
          70,
          71,
          65,
          66,
          69,
          69,
          66,
          66,
          72,
          79,
          73,
          74,
          78,
          79,
          73,
          74,
          77,
          77,
          74,
          74,
          80,
          87,
          81,
          82,
          86,
          87,
          81,
          82,
          85,
          85,
          82,
          82,
          88,
          95,
          89,
          90,
          94,
          95,
          89,
          90,
          93,
          93,
          90,
          90
         ],
         "k": [
          3,
          4,
          2,
          3,
          5,
          6,
          5,
          5,
          0,
          1,
          7,
          6,
          11,
          12,
          10,
          11,
          13,
          14,
          13,
          13,
          8,
          9,
          15,
          14,
          19,
          20,
          18,
          19,
          21,
          22,
          21,
          21,
          16,
          17,
          23,
          22,
          27,
          28,
          26,
          27,
          29,
          30,
          29,
          29,
          24,
          25,
          31,
          30,
          35,
          36,
          34,
          35,
          37,
          38,
          37,
          37,
          32,
          33,
          39,
          38,
          43,
          44,
          42,
          43,
          45,
          46,
          45,
          45,
          40,
          41,
          47,
          46,
          51,
          52,
          50,
          51,
          53,
          54,
          53,
          53,
          48,
          49,
          55,
          54,
          59,
          60,
          58,
          59,
          61,
          62,
          61,
          61,
          56,
          57,
          63,
          62,
          67,
          68,
          66,
          67,
          69,
          70,
          69,
          69,
          64,
          65,
          71,
          70,
          75,
          76,
          74,
          75,
          77,
          78,
          77,
          77,
          72,
          73,
          79,
          78,
          83,
          84,
          82,
          83,
          85,
          86,
          85,
          85,
          80,
          81,
          87,
          86,
          91,
          92,
          90,
          91,
          93,
          94,
          93,
          93,
          88,
          89,
          95,
          94
         ],
         "legendgroup": "Collection(id=1588675006000)",
         "name": "Collection (12 sources)",
         "opacity": 1,
         "showlegend": true,
         "showscale": false,
         "type": "mesh3d",
         "x": [
          67.71067811865474,
          67.71067811865474,
          73.71067811865474,
          73.71067811865474,
          67.71067811865474,
          67.71067811865474,
          73.71067811865474,
          73.71067811865474,
          80.73149339882606,
          80.73149339882606,
          84.73149339882606,
          84.73149339882606,
          80.73149339882606,
          80.73149339882606,
          84.73149339882606,
          84.73149339882606,
          72.09316260877225,
          72.09316260877225,
          78.09316260877225,
          78.09316260877225,
          72.09316260877227,
          72.09316260877227,
          78.09316260877227,
          78.09316260877227,
          68.71067811865473,
          68.71067811865473,
          72.71067811865473,
          72.71067811865473,
          68.71067811865473,
          68.71067811865473,
          72.71067811865473,
          72.71067811865473,
          82.85281374238565,
          82.85281374238565,
          86.85281374238565,
          86.85281374238565,
          82.85281374238565,
          82.85281374238565,
          86.85281374238565,
          86.85281374238565,
          77.19595949289328,
          77.19595949289328,
          81.19595949289328,
          81.19595949289328,
          77.19595949289328,
          77.19595949289328,
          81.19595949289328,
          81.19595949289328,
          13.631187901042036,
          7.715211678619005,
          7.715211678619003,
          13.631187901042033,
          -7.715211678619047,
          -13.631187901042075,
          -13.631187901042079,
          -7.715211678619049,
          18.999999999999993,
          14.999999999999993,
          14.999999999999991,
          18.999999999999993,
          18.999999999999986,
          14.999999999999988,
          14.999999999999986,
          18.999999999999986,
          -17.09273978110949,
          -22.574012526965095,
          -22.574012526965095,
          -17.09273978110949,
          34.969550532592905,
          29.488277786737303,
          29.488277786737303,
          34.969550532592905,
          1.9999999999999565,
          -2.0000000000000435,
          -2.0000000000000444,
          1.9999999999999556,
          1.9999999999999512,
          -2.000000000000049,
          -2.0000000000000497,
          1.9999999999999503,
          21.999999999999932,
          17.999999999999932,
          17.999999999999932,
          21.999999999999932,
          21.999999999999925,
          17.999999999999925,
          17.999999999999925,
          21.999999999999925,
          13.999999999999936,
          9.999999999999936,
          9.999999999999934,
          13.999999999999934,
          13.99999999999993,
          9.99999999999993,
          9.999999999999929,
          13.999999999999929
         ],
         "y": [
          62.603440132364014,
          63.604052612660624,
          63.604052612660624,
          62.603440132364014,
          -63.604052612660624,
          -62.603440132364014,
          -62.603440132364014,
          -63.604052612660624,
          65.5,
          65.5,
          65.5,
          65.5,
          40.49999999999999,
          40.49999999999999,
          40.49999999999999,
          40.49999999999999,
          -101.74889801258428,
          -104.1893178710391,
          -104.1893178710391,
          -101.74889801258428,
          -218.6827165908372,
          -221.12313644929202,
          -221.12313644929202,
          -218.6827165908372,
          -97.5,
          -97.5,
          -97.5,
          -97.5,
          -122.5,
          -122.5,
          -122.5,
          -122.5,
          -207.5,
          -207.5,
          -207.5,
          -207.5,
          -232.5,
          -232.5,
          -232.5,
          -232.5,
          -192.5,
          -192.5,
          -192.5,
          -192.5,
          -217.5,
          -217.5,
          -217.5,
          -217.5,
          62.603440132364014,
          63.604052612660624,
          63.604052612660624,
          62.603440132364014,
          -63.604052612660624,
          -62.603440132364014,
          -62.603440132364014,
          -63.604052612660624,
          65.5,
          65.5,
          65.5,
          65.5,
          40.49999999999999,
          40.49999999999999,
          40.49999999999999,
          40.49999999999999,
          -101.74889801258428,
          -104.18931787103907,
          -104.18931787103907,
          -101.74889801258428,
          -218.68271659083723,
          -221.12313644929202,
          -221.12313644929202,
          -218.68271659083723,
          -97.5,
          -97.5,
          -97.5,
          -97.5,
          -122.5,
          -122.5,
          -122.5,
          -122.5,
          -207.5,
          -207.5,
          -207.5,
          -207.5,
          -232.5,
          -232.5,
          -232.5,
          -232.5,
          -192.5,
          -192.5,
          -192.5,
          -192.5,
          -217.5,
          -217.5,
          -217.5,
          -217.5
         ],
         "z": [
          57.07949021761271,
          62.995466440035734,
          62.995466440035734,
          57.07949021761271,
          78.42588979727377,
          84.34186601969681,
          84.34186601969681,
          78.42588979727377,
          56.68986283848344,
          60.68986283848344,
          60.68986283848344,
          56.68986283848344,
          56.68986283848344,
          60.68986283848344,
          60.68986283848344,
          56.68986283848344,
          89.61870241246064,
          95.09997515831623,
          95.09997515831623,
          89.61870241246064,
          37.55641209875824,
          43.03768484461384,
          43.03768484461384,
          37.55641209875824,
          68.71067811865477,
          72.71067811865477,
          72.71067811865477,
          68.71067811865477,
          68.71067811865477,
          72.71067811865477,
          72.71067811865477,
          68.71067811865477,
          54.56854249492385,
          58.56854249492385,
          58.56854249492385,
          54.56854249492385,
          54.56854249492385,
          58.56854249492385,
          58.56854249492385,
          54.56854249492385,
          60.225396744416216,
          64.22539674441622,
          64.22539674441622,
          60.225396744416216,
          60.225396744416216,
          64.22539674441622,
          64.22539674441622,
          60.225396744416216,
          97,
          97,
          103,
          103,
          97,
          97,
          103,
          103,
          98,
          98,
          102,
          102,
          98,
          98,
          102,
          102,
          96.99999999999999,
          96.99999999999999,
          103,
          103,
          97,
          97,
          103.00000000000001,
          103.00000000000001,
          98,
          98,
          102,
          102,
          98,
          98,
          102,
          102,
          98,
          98,
          102,
          102,
          98,
          98,
          102,
          102,
          98,
          98,
          102,
          102,
          98,
          98,
          102,
          102
         ]
        }
       ],
       "layout": {
        "legend": {
         "itemsizing": "constant"
        },
        "scene": {
         "aspectmode": "manual",
         "aspectratio": {
          "x": 1,
          "y": 1,
          "z": 1
         },
         "camera": {
          "eye": {
           "x": 1,
           "y": -1.5,
           "z": 1.4
          }
         },
         "xaxis": {
          "autorange": false,
          "range": [
           -116.86059939228971,
           181.1394006077103
          ],
          "title": {
           "text": "x (m)"
          }
         },
         "yaxis": {
          "autorange": false,
          "range": [
           -232.5,
           65.5
          ],
          "title": {
           "text": "y (m)"
          }
         },
         "zaxis": {
          "autorange": false,
          "range": [
           -78.72179395062088,
           219.27820604937912
          ],
          "title": {
           "text": "z (m)"
          }
         }
        },
        "template": {
         "data": {
          "bar": [
           {
            "error_x": {
             "color": "#2a3f5f"
            },
            "error_y": {
             "color": "#2a3f5f"
            },
            "marker": {
             "line": {
              "color": "#E5ECF6",
              "width": 0.5
             },
             "pattern": {
              "fillmode": "overlay",
              "size": 10,
              "solidity": 0.2
             }
            },
            "type": "bar"
           }
          ],
          "barpolar": [
           {
            "marker": {
             "line": {
              "color": "#E5ECF6",
              "width": 0.5
             },
             "pattern": {
              "fillmode": "overlay",
              "size": 10,
              "solidity": 0.2
             }
            },
            "type": "barpolar"
           }
          ],
          "carpet": [
           {
            "aaxis": {
             "endlinecolor": "#2a3f5f",
             "gridcolor": "white",
             "linecolor": "white",
             "minorgridcolor": "white",
             "startlinecolor": "#2a3f5f"
            },
            "baxis": {
             "endlinecolor": "#2a3f5f",
             "gridcolor": "white",
             "linecolor": "white",
             "minorgridcolor": "white",
             "startlinecolor": "#2a3f5f"
            },
            "type": "carpet"
           }
          ],
          "choropleth": [
           {
            "colorbar": {
             "outlinewidth": 0,
             "ticks": ""
            },
            "type": "choropleth"
           }
          ],
          "contour": [
           {
            "colorbar": {
             "outlinewidth": 0,
             "ticks": ""
            },
            "colorscale": [
             [
              0,
              "#0d0887"
             ],
             [
              0.1111111111111111,
              "#46039f"
             ],
             [
              0.2222222222222222,
              "#7201a8"
             ],
             [
              0.3333333333333333,
              "#9c179e"
             ],
             [
              0.4444444444444444,
              "#bd3786"
             ],
             [
              0.5555555555555556,
              "#d8576b"
             ],
             [
              0.6666666666666666,
              "#ed7953"
             ],
             [
              0.7777777777777778,
              "#fb9f3a"
             ],
             [
              0.8888888888888888,
              "#fdca26"
             ],
             [
              1,
              "#f0f921"
             ]
            ],
            "type": "contour"
           }
          ],
          "contourcarpet": [
           {
            "colorbar": {
             "outlinewidth": 0,
             "ticks": ""
            },
            "type": "contourcarpet"
           }
          ],
          "heatmap": [
           {
            "colorbar": {
             "outlinewidth": 0,
             "ticks": ""
            },
            "colorscale": [
             [
              0,
              "#0d0887"
             ],
             [
              0.1111111111111111,
              "#46039f"
             ],
             [
              0.2222222222222222,
              "#7201a8"
             ],
             [
              0.3333333333333333,
              "#9c179e"
             ],
             [
              0.4444444444444444,
              "#bd3786"
             ],
             [
              0.5555555555555556,
              "#d8576b"
             ],
             [
              0.6666666666666666,
              "#ed7953"
             ],
             [
              0.7777777777777778,
              "#fb9f3a"
             ],
             [
              0.8888888888888888,
              "#fdca26"
             ],
             [
              1,
              "#f0f921"
             ]
            ],
            "type": "heatmap"
           }
          ],
          "heatmapgl": [
           {
            "colorbar": {
             "outlinewidth": 0,
             "ticks": ""
            },
            "colorscale": [
             [
              0,
              "#0d0887"
             ],
             [
              0.1111111111111111,
              "#46039f"
             ],
             [
              0.2222222222222222,
              "#7201a8"
             ],
             [
              0.3333333333333333,
              "#9c179e"
             ],
             [
              0.4444444444444444,
              "#bd3786"
             ],
             [
              0.5555555555555556,
              "#d8576b"
             ],
             [
              0.6666666666666666,
              "#ed7953"
             ],
             [
              0.7777777777777778,
              "#fb9f3a"
             ],
             [
              0.8888888888888888,
              "#fdca26"
             ],
             [
              1,
              "#f0f921"
             ]
            ],
            "type": "heatmapgl"
           }
          ],
          "histogram": [
           {
            "marker": {
             "pattern": {
              "fillmode": "overlay",
              "size": 10,
              "solidity": 0.2
             }
            },
            "type": "histogram"
           }
          ],
          "histogram2d": [
           {
            "colorbar": {
             "outlinewidth": 0,
             "ticks": ""
            },
            "colorscale": [
             [
              0,
              "#0d0887"
             ],
             [
              0.1111111111111111,
              "#46039f"
             ],
             [
              0.2222222222222222,
              "#7201a8"
             ],
             [
              0.3333333333333333,
              "#9c179e"
             ],
             [
              0.4444444444444444,
              "#bd3786"
             ],
             [
              0.5555555555555556,
              "#d8576b"
             ],
             [
              0.6666666666666666,
              "#ed7953"
             ],
             [
              0.7777777777777778,
              "#fb9f3a"
             ],
             [
              0.8888888888888888,
              "#fdca26"
             ],
             [
              1,
              "#f0f921"
             ]
            ],
            "type": "histogram2d"
           }
          ],
          "histogram2dcontour": [
           {
            "colorbar": {
             "outlinewidth": 0,
             "ticks": ""
            },
            "colorscale": [
             [
              0,
              "#0d0887"
             ],
             [
              0.1111111111111111,
              "#46039f"
             ],
             [
              0.2222222222222222,
              "#7201a8"
             ],
             [
              0.3333333333333333,
              "#9c179e"
             ],
             [
              0.4444444444444444,
              "#bd3786"
             ],
             [
              0.5555555555555556,
              "#d8576b"
             ],
             [
              0.6666666666666666,
              "#ed7953"
             ],
             [
              0.7777777777777778,
              "#fb9f3a"
             ],
             [
              0.8888888888888888,
              "#fdca26"
             ],
             [
              1,
              "#f0f921"
             ]
            ],
            "type": "histogram2dcontour"
           }
          ],
          "mesh3d": [
           {
            "colorbar": {
             "outlinewidth": 0,
             "ticks": ""
            },
            "type": "mesh3d"
           }
          ],
          "parcoords": [
           {
            "line": {
             "colorbar": {
              "outlinewidth": 0,
              "ticks": ""
             }
            },
            "type": "parcoords"
           }
          ],
          "pie": [
           {
            "automargin": true,
            "type": "pie"
           }
          ],
          "scatter": [
           {
            "fillpattern": {
             "fillmode": "overlay",
             "size": 10,
             "solidity": 0.2
            },
            "type": "scatter"
           }
          ],
          "scatter3d": [
           {
            "line": {
             "colorbar": {
              "outlinewidth": 0,
              "ticks": ""
             }
            },
            "marker": {
             "colorbar": {
              "outlinewidth": 0,
              "ticks": ""
             }
            },
            "type": "scatter3d"
           }
          ],
          "scattercarpet": [
           {
            "marker": {
             "colorbar": {
              "outlinewidth": 0,
              "ticks": ""
             }
            },
            "type": "scattercarpet"
           }
          ],
          "scattergeo": [
           {
            "marker": {
             "colorbar": {
              "outlinewidth": 0,
              "ticks": ""
             }
            },
            "type": "scattergeo"
           }
          ],
          "scattergl": [
           {
            "marker": {
             "colorbar": {
              "outlinewidth": 0,
              "ticks": ""
             }
            },
            "type": "scattergl"
           }
          ],
          "scattermapbox": [
           {
            "marker": {
             "colorbar": {
              "outlinewidth": 0,
              "ticks": ""
             }
            },
            "type": "scattermapbox"
           }
          ],
          "scatterpolar": [
           {
            "marker": {
             "colorbar": {
              "outlinewidth": 0,
              "ticks": ""
             }
            },
            "type": "scatterpolar"
           }
          ],
          "scatterpolargl": [
           {
            "marker": {
             "colorbar": {
              "outlinewidth": 0,
              "ticks": ""
             }
            },
            "type": "scatterpolargl"
           }
          ],
          "scatterternary": [
           {
            "marker": {
             "colorbar": {
              "outlinewidth": 0,
              "ticks": ""
             }
            },
            "type": "scatterternary"
           }
          ],
          "surface": [
           {
            "colorbar": {
             "outlinewidth": 0,
             "ticks": ""
            },
            "colorscale": [
             [
              0,
              "#0d0887"
             ],
             [
              0.1111111111111111,
              "#46039f"
             ],
             [
              0.2222222222222222,
              "#7201a8"
             ],
             [
              0.3333333333333333,
              "#9c179e"
             ],
             [
              0.4444444444444444,
              "#bd3786"
             ],
             [
              0.5555555555555556,
              "#d8576b"
             ],
             [
              0.6666666666666666,
              "#ed7953"
             ],
             [
              0.7777777777777778,
              "#fb9f3a"
             ],
             [
              0.8888888888888888,
              "#fdca26"
             ],
             [
              1,
              "#f0f921"
             ]
            ],
            "type": "surface"
           }
          ],
          "table": [
           {
            "cells": {
             "fill": {
              "color": "#EBF0F8"
             },
             "line": {
              "color": "white"
             }
            },
            "header": {
             "fill": {
              "color": "#C8D4E3"
             },
             "line": {
              "color": "white"
             }
            },
            "type": "table"
           }
          ]
         },
         "layout": {
          "annotationdefaults": {
           "arrowcolor": "#2a3f5f",
           "arrowhead": 0,
           "arrowwidth": 1
          },
          "autotypenumbers": "strict",
          "coloraxis": {
           "colorbar": {
            "outlinewidth": 0,
            "ticks": ""
           }
          },
          "colorscale": {
           "diverging": [
            [
             0,
             "#8e0152"
            ],
            [
             0.1,
             "#c51b7d"
            ],
            [
             0.2,
             "#de77ae"
            ],
            [
             0.3,
             "#f1b6da"
            ],
            [
             0.4,
             "#fde0ef"
            ],
            [
             0.5,
             "#f7f7f7"
            ],
            [
             0.6,
             "#e6f5d0"
            ],
            [
             0.7,
             "#b8e186"
            ],
            [
             0.8,
             "#7fbc41"
            ],
            [
             0.9,
             "#4d9221"
            ],
            [
             1,
             "#276419"
            ]
           ],
           "sequential": [
            [
             0,
             "#0d0887"
            ],
            [
             0.1111111111111111,
             "#46039f"
            ],
            [
             0.2222222222222222,
             "#7201a8"
            ],
            [
             0.3333333333333333,
             "#9c179e"
            ],
            [
             0.4444444444444444,
             "#bd3786"
            ],
            [
             0.5555555555555556,
             "#d8576b"
            ],
            [
             0.6666666666666666,
             "#ed7953"
            ],
            [
             0.7777777777777778,
             "#fb9f3a"
            ],
            [
             0.8888888888888888,
             "#fdca26"
            ],
            [
             1,
             "#f0f921"
            ]
           ],
           "sequentialminus": [
            [
             0,
             "#0d0887"
            ],
            [
             0.1111111111111111,
             "#46039f"
            ],
            [
             0.2222222222222222,
             "#7201a8"
            ],
            [
             0.3333333333333333,
             "#9c179e"
            ],
            [
             0.4444444444444444,
             "#bd3786"
            ],
            [
             0.5555555555555556,
             "#d8576b"
            ],
            [
             0.6666666666666666,
             "#ed7953"
            ],
            [
             0.7777777777777778,
             "#fb9f3a"
            ],
            [
             0.8888888888888888,
             "#fdca26"
            ],
            [
             1,
             "#f0f921"
            ]
           ]
          },
          "colorway": [
           "#636efa",
           "#EF553B",
           "#00cc96",
           "#ab63fa",
           "#FFA15A",
           "#19d3f3",
           "#FF6692",
           "#B6E880",
           "#FF97FF",
           "#FECB52"
          ],
          "font": {
           "color": "#2a3f5f"
          },
          "geo": {
           "bgcolor": "white",
           "lakecolor": "white",
           "landcolor": "#E5ECF6",
           "showlakes": true,
           "showland": true,
           "subunitcolor": "white"
          },
          "hoverlabel": {
           "align": "left"
          },
          "hovermode": "closest",
          "mapbox": {
           "style": "light"
          },
          "paper_bgcolor": "white",
          "plot_bgcolor": "#E5ECF6",
          "polar": {
           "angularaxis": {
            "gridcolor": "white",
            "linecolor": "white",
            "ticks": ""
           },
           "bgcolor": "#E5ECF6",
           "radialaxis": {
            "gridcolor": "white",
            "linecolor": "white",
            "ticks": ""
           }
          },
          "scene": {
           "xaxis": {
            "backgroundcolor": "#E5ECF6",
            "gridcolor": "white",
            "gridwidth": 2,
            "linecolor": "white",
            "showbackground": true,
            "ticks": "",
            "zerolinecolor": "white"
           },
           "yaxis": {
            "backgroundcolor": "#E5ECF6",
            "gridcolor": "white",
            "gridwidth": 2,
            "linecolor": "white",
            "showbackground": true,
            "ticks": "",
            "zerolinecolor": "white"
           },
           "zaxis": {
            "backgroundcolor": "#E5ECF6",
            "gridcolor": "white",
            "gridwidth": 2,
            "linecolor": "white",
            "showbackground": true,
            "ticks": "",
            "zerolinecolor": "white"
           }
          },
          "shapedefaults": {
           "line": {
            "color": "#2a3f5f"
           }
          },
          "ternary": {
           "aaxis": {
            "gridcolor": "white",
            "linecolor": "white",
            "ticks": ""
           },
           "baxis": {
            "gridcolor": "white",
            "linecolor": "white",
            "ticks": ""
           },
           "bgcolor": "#E5ECF6",
           "caxis": {
            "gridcolor": "white",
            "linecolor": "white",
            "ticks": ""
           }
          },
          "title": {
           "x": 0.05
          },
          "xaxis": {
           "automargin": true,
           "gridcolor": "white",
           "linecolor": "white",
           "ticks": "",
           "title": {
            "standoff": 15
           },
           "zerolinecolor": "white",
           "zerolinewidth": 2
          },
          "yaxis": {
           "automargin": true,
           "gridcolor": "white",
           "linecolor": "white",
           "ticks": "",
           "title": {
            "standoff": 15
           },
           "zerolinecolor": "white",
           "zerolinewidth": 2
          }
         }
        }
       }
      }
     },
     "metadata": {},
     "output_type": "display_data"
    }
   ],
   "source": [
    "magpy.show(zeeman_prof,zeeman_prof.rotate_from_angax(k, 'y'))"
   ]
  },
  {
   "cell_type": "code",
   "execution_count": null,
   "metadata": {},
   "outputs": [],
   "source": []
  }
 ],
 "metadata": {
  "kernelspec": {
   "display_name": "Python 3",
   "language": "python",
   "name": "python3"
  },
  "language_info": {
   "codemirror_mode": {
    "name": "ipython",
    "version": 3
   },
   "file_extension": ".py",
   "mimetype": "text/x-python",
   "name": "python",
   "nbconvert_exporter": "python",
   "pygments_lexer": "ipython3",
   "version": "3.12.3"
  }
 },
 "nbformat": 4,
 "nbformat_minor": 2
}
