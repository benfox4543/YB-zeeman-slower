{
 "cells": [
  {
   "cell_type": "code",
   "execution_count": 2,
   "metadata": {},
   "outputs": [],
   "source": [
    "import numpy as np\n",
    "import matplotlib.pyplot as plt\n",
    "import pylcp\n",
    "from pylcp.atom import atom\n",
    "import scipy.constants as cts\n",
    "from numpy import random as rnd\n",
    "from pylcp.common import progressBar\n",
    "import pandas as pd\n",
    "import magpylib as mg\n",
    "import numpy.random \n",
    "import magpylib as magpy\n",
    "from scipy.interpolate import RegularGridInterpolator\n",
    "from scipy.stats import rv_continuous\n",
    "import concurrent.futures as cf"
   ]
  },
  {
   "cell_type": "markdown",
   "metadata": {},
   "source": [
    "# Setting up constants"
   ]
  },
  {
   "cell_type": "code",
   "execution_count": null,
   "metadata": {},
   "outputs": [],
   "source": [
    "import numpy as np\n",
    "\n",
    "# Constants\n",
    "k_B = 1.380649e-23  # Boltzmann constant in J/K\n",
    "T = 723.15  # Temperature in Kelvin\n",
    "m = 173 * 1.66054e-27  # Mass of Yb-173 atom in kg\n",
    "\n",
    "# Mean velocity\n",
    "mean_velocity = np.sqrt((8 * k_B * T) / (np.pi * m))\n",
    "\n",
    "# Standard deviation of velocity\n",
    "std_dev_velocity = np.sqrt(k_B * T / m)\n",
    "\n",
    "print(\"Mean Velocity:\", mean_velocity, \"m/s\")\n",
    "print(\"Standard Deviation of Velocity:\", std_dev_velocity, \"m/s\")"
   ]
  },
  {
   "cell_type": "code",
   "execution_count": null,
   "metadata": {},
   "outputs": [],
   "source": [
    "mass_lab = 173*cts.value('atomic mass constant') # YB-173 mass in kg\n",
    "v_a = mean_velocity\n",
    "sd_yb = std_dev_velocity\n",
    "\n",
    "\n",
    "klab = 2*np.pi*25068.2222\n",
    "# Lab wavevector (without 2pi) in cm^{-1}   # Lifetime of 6P_{3/2} state (in seconds)\n",
    "gammalab = (1.93*1e8)\n",
    "Blab = -67*1e-3#(v0*cts.hbar*(klab*100))/cts.value('Bohr magneton')\n",
    "b_0L =  48*1e-3\n",
    "# (v0*cts.hbar*(klab*100))/cts.value('Bohr magneton')/2\n",
    "# T # About 15 G/cm is a typical gradient for Rb\n",
    "L = 30\n",
    "x0 = 1/klab  # cm\n",
    "t0 = 1/gammalab  # s\n",
    "#100*(mass_lab*(v0**2))/(0.5*cts.hbar*(klab*100)*gammalab) +5\n",
    "print(Blab, L,b_0L)"
   ]
  },
  {
   "cell_type": "code",
   "execution_count": null,
   "metadata": {},
   "outputs": [],
   "source": [
    "# Now, here are our `natural' length and time scales:\n",
    "x0 = 1/klab  # distance in cm\n",
    "t0 = 1/gammalab # time in s\n",
    "vc = x0/t0*(1/100) # velcoity in cm/s for conversion back to s.i units\n",
    "Fc = cts.hbar*klab*100*gammalab # force in newtond for conversion back to s.i units\n",
    "\n",
    "mass = mass_lab*(x0*1e-2)**2/cts.hbar/t0\n",
    "\n",
    "# And now our wavevector, decay rate, and magnetic field gradient in these units:\n",
    "k = klab*x0\n",
    "gamma = gammalab*t0\n",
    "alpha = cts.value('Bohr magneton')*Blab*t0/cts.hbar\n",
    "b_0 = cts.value('Bohr magneton')*b_0L*t0/cts.hbar \n",
    "l = L/x0 \n",
    "\n",
    "print(x0, t0, mass, k, gamma, alpha,b_0)"
   ]
  },
  {
   "cell_type": "markdown",
   "metadata": {},
   "source": [
    "# Magnetic field profile"
   ]
  },
  {
   "cell_type": "code",
   "execution_count": 6,
   "metadata": {},
   "outputs": [],
   "source": [
    "def mag(R,B_0,alpha,l):\n",
    "    if R[2] > l :\n",
    "       return  np.array([0,0,0])\n",
    "    else:\n",
    "        return np.array([B_0 + alpha*np.sqrt(1 -R[2]/l),0,0])"
   ]
  },
  {
   "cell_type": "code",
   "execution_count": null,
   "metadata": {},
   "outputs": [],
   "source": [
    "zeeman_prof = magpy.Collection()\n",
    "j = 30\n",
    "n = 8\n",
    "a = 0# distance it circles aroundthe center \n",
    "c = 30 #angle of first bar\n",
    "d =  24#angle of second bar\n",
    "b = -190# distnace the two section of the array are apart from each other\n",
    "k = -100 #the first and second magnent are apart\n",
    "e = 40\n",
    "l = -5\n",
    "p= -20# distance the thrid and 4th magnet are apart from each other\n",
    "m  = -42\n",
    "mystyle = mstyle = dict(\n",
    "    mode=\"color+arrow\",\n",
    "    color=dict(north=\"magenta\", middle=\"white\", south=\"turquoise\"),\n",
    "    arrow=dict(width=2, color=\"k\")\n",
    ")\n",
    "angles = np.linspace(0, 360, n, endpoint=False)\n",
    "for i in angles:\n",
    "    cube1= magpy.magnet.Cuboid(\n",
    "    dimension=(6,6,125),\n",
    "    polarization=(-(1.080),0,0),\n",
    "    position=(70+a+l,0,140+k))\n",
    "    cube2 = magpy.magnet.Cuboid(dimension= (4,4,25),\n",
    "    polarization=(-1.17,0,0),\n",
    "    position=(60+a+l,0,50+e),style_magnetization = mystyle)\n",
    "    cube3= magpy.magnet.Cuboid(\n",
    "    dimension=(6,6,125),\n",
    "    polarization=(1.08,0,0),\n",
    "    position=(91.5+m,0,320+b))\n",
    " \n",
    "#     cube5 = magpy.magnet.Cuboid(dimension= (4,4,25),\n",
    "#     polarization=(-1.17,0,0),\n",
    "#     position=(90+a+p+m,0,190))\n",
    "\n",
    "#     cube6 = magpy.magnet.Cuboid(dimension= (4,4,25),\n",
    "#     polarization=(-1.17,0,0),\n",
    "#     position=(80+a+p+m,0,200),\n",
    "# )\n",
    "   \n",
    "\n",
    "\n",
    "    cube1.rotate_from_angax(i, 'z')\n",
    "    cube1.rotate_from_angax(c, 'y',)\n",
    "    cube1.rotate_from_angax(i, 'z', anchor=0)\n",
    " \n",
    " \n",
    "    cube2.rotate_from_angax(i, 'z',anchor = 0)\n",
    "    cube2.rotate_from_angax(i, 'z')\n",
    "    cube3.rotate_from_angax(i, 'z', anchor=0)\n",
    "    cube3.rotate_from_angax(-d, 'y')\n",
    "    cube3.rotate_from_angax(i, 'z')\n",
    "  \n",
    "    #cube4.rotate_from_angax(i, 'z', anchor=0)\n",
    "    #cube4.rotate_from_angax(-d, 'y')\n",
    "    #cube4.rotate_from_angax(i, 'z')\n",
    "    \n",
    "\n",
    "    zeeman_prof.add(cube1)\n",
    "    zeeman_prof.add(cube2)\n",
    "    zeeman_prof.add(cube3)\n",
    "    #zeeman_prof.add(cube4)\n",
    "    # zeeman_prof.add(cube5)\n",
    "    # zeeman_prof.add(cube6)\n",
    "    j = j+1\n",
    "\n",
    "\n",
    "# tfmot = magpy.Collection()\n",
    "# N = 4\n",
    "# angles = np.linspace(0,360,N,endpoint=False)\n",
    "# pol = [0,180,0,180]\n",
    "# l = 35\n",
    "# halbach = magpy.Collection()\n",
    "# mystyle = mstyle = dict(\n",
    "#     mode=\"color+arrow\",\n",
    "#     color=dict(north=\"magenta\", middle=\"white\", south=\"turquoise\"),\n",
    "#     arrow=dict(width=2, color=\"k\"),\n",
    "# )\n",
    "# for a in range(len(angles)):\n",
    "#     cube= magpy.magnet.Cuboid(\n",
    "#     dimension=(8,6,80),\n",
    "#     polarization=(1.17,0,0),\n",
    "#     position=(30+l,0,230),\n",
    "#     style_magnetization = mystyle)\n",
    "#     print(a)\n",
    "#     cube.rotate_from_angax(angles[a], 'z',anchor = 0)\n",
    "#     cube.rotate_from_angax(pol[a], 'z')\n",
    "\n",
    "#     tfmot.add(cube)\n",
    "\n",
    "b_tot = magpy.Collection()\n",
    "b_tot.add(zeeman_prof,override_parent=True)\n",
    "b_tot.show()"
   ]
  },
  {
   "cell_type": "code",
   "execution_count": 8,
   "metadata": {},
   "outputs": [],
   "source": [
    "l = 30/x0\n",
    "y= np.linspace(0,2*30,1000)\n",
    "r = []\n",
    "for i in y:\n",
    "    r.append(np.array([0,0,i]))\n",
    "magg = []\n",
    "for i in r:\n",
    "    magg.append(mag(i,b_0L,Blab,30)[0]*1e3)"
   ]
  },
  {
   "cell_type": "code",
   "execution_count": null,
   "metadata": {},
   "outputs": [],
   "source": [
    "z = np.linspace(0,2*L,1000)\n",
    "b_y = []\n",
    "b_z = []\n",
    "b_x = []\n",
    "for i in z:\n",
    "    b_x.append(cts.value('Bohr magneton')*zeeman_prof.getB([0,0,i*10])[0])\n",
    "    b_y.append(cts.value('Bohr magneton')*zeeman_prof.getB([0,0,i*10])[1])\n",
    "    b_z.append(cts.value('Bohr magneton')*zeeman_prof.getB([0,0,i*10])[2])\n",
    "    \n",
    "\n",
    "fig,ax = plt.subplots(1,1,figsize=(10,5))    \n",
    "plt.plot(z,np.array(b_x))\n",
    "plt.plot(z,np.array(b_y))\n",
    "plt.plot(z,np.array(b_z))\n",
    "\n",
    "\n",
    "plt.xlabel('z (cm)')\n",
    "plt.plot(z,np.array(magg), '--')\n",
    "\n",
    "plt.ylabel('$B$ (mT)')\n",
    "plt.legend(['$B_x$','$B_y$','$B_z$','Analytical'])  \n",
    "plt.ylabel('$B_x$ (mT)')\n",
    "plt.grid()\n",
    "bf = lambda R: cts.value('Bohr magneton')*b_tot.getB(R*10*x0)*t0/cts.hbar\n"
   ]
  },
  {
   "cell_type": "markdown",
   "metadata": {},
   "source": [
    "# Setting YB 173 system"
   ]
  },
  {
   "cell_type": "code",
   "execution_count": 10,
   "metadata": {},
   "outputs": [],
   "source": [
    "# Define the atomic Hamiltonian:\n",
    "H_g_D2, mu_q_g_D2 = pylcp.hamiltonians.hyperfine_coupled(\n",
    "0, 5/2, 0,  \t-0.2592,\n",
    "    Ahfs = 0, Bhfs=0, Chfs=0,\n",
    "    muB=1)# ground state 1s0\n",
    "H_e_D2, mu_q_e_D2 = pylcp.hamiltonians.hyperfine_coupled(\n",
    "1, 5/2, 1.035,\t-0.2592,\n",
    "    Ahfs=59.52*1e6,Bhfs = 601.87*1e6 , Chfs= 0,\n",
    "    muB=1) #excited state 1p1\n",
    "\n",
    "dijq_D2 = pylcp.hamiltonians.dqij_two_hyperfine_manifolds(0, 1, 5/2)\n",
    "\n",
    "E_e_D2 = np.unique(np.diagonal(H_e_D2))\n",
    "E_g_D2 = np.unique(np.diagonal(H_g_D2))\n",
    "hamiltonian_D2 = pylcp.hamiltonian(mass = mass)\n",
    "hamiltonian_D2.add_H_0_block('g', H_g_D2)\n",
    "hamiltonian_D2.add_H_0_block('e', H_e_D2)\n",
    "hamiltonian_D2.add_d_q_block('g', 'e', dijq_D2, gamma = gamma, k = k)\n",
    "hamiltonian_D2.add_mu_q_block('g', mu_q_g_D2)\n",
    "hamiltonian_D2.add_mu_q_block('e', mu_q_e_D2)\n",
    "\n",
    "\n",
    "\n",
    "#ham = pylcp.hamiltonian(Hg, He, mugq, mueq, dijq, mass=mass, gamma=gamma, k=k)\n",
    "det_1 = np.linspace(0,-20,100)\n",
    "vc = x0/(t0*100)\n",
    "# Define the atomic Hamiltonian:\n",
    "H_g_D2, mu_q_g_D2 = pylcp.hamiltonians.hyperfine_coupled(\n",
    "0, 5/2, 0,  \t-0.2592,\n",
    "    Ahfs = 0, Bhfs=0, Chfs=0,\n",
    "    muB=1)# ground state 1s0\n",
    "H_e_D2, mu_q_e_D2 = pylcp.hamiltonians.hyperfine_coupled(\n",
    "1, 5/2, 1.035,\t-0.2592,\n",
    "    Ahfs=59.52*1e6*t0,Bhfs = 601.87*1e6*t0 , Chfs= 0,\n",
    "    muB=1) #excited state 1p1\n",
    "\n",
    "dijq_D2 = pylcp.hamiltonians.dqij_two_hyperfine_manifolds(0, 1, 5/2)\n",
    "\n",
    "E_e_D2 = np.unique(np.diagonal(H_e_D2))\n",
    "E_g_D2 = np.unique(np.diagonal(H_g_D2))\n",
    "hamiltonian_D2 = pylcp.hamiltonian(mass = mass)\n",
    "hamiltonian_D2.add_H_0_block('g', H_g_D2)\n",
    "hamiltonian_D2.add_H_0_block('e', H_e_D2)\n",
    "hamiltonian_D2.add_d_q_block('g', 'e', dijq_D2, gamma = gamma, k = k)\n",
    "hamiltonian_D2.add_mu_q_block('g', mu_q_g_D2)\n",
    "hamiltonian_D2.add_mu_q_block('e', mu_q_e_D2)\n",
    "\n",
    "\n",
    "\n",
    "#ham = pylcp.hamiltonian(Hg, He, mugq, mueq, dijq, mass=mass, gamma=gamma, k=k)\n",
    "\n",
    "bf = lambda R: cts.value('Bohr magneton')*b_tot.getB(R*10*x0)*t0/cts.hbar\n",
    "#l = 16/x0\n",
    "#l = 30/x0\n",
    "a\n",
    "bf2 = lambda R: mag(R,b_0,alpha,16/x0)\n",
    "linGrad = pylcp.magField(lambda R: bf(R))"
   ]
  },
  {
   "cell_type": "code",
   "execution_count": null,
   "metadata": {},
   "outputs": [],
   "source": [
    "y = np.linspace(0,2*30,100)/x0\n",
    "magg= []\n",
    "magg2 = []\n",
    "for i in y:\n",
    "    magg.append(bf(np.array([0,0,i]))[0])\n",
    "    magg2.append(bf2(np.array([0,0,i]))[0])\n",
    "plt.plot(y*x0,np.array(magg)*1e3)\n",
    "plt.plot(y*x0,np.array(magg2)*1e3)"
   ]
  },
  {
   "cell_type": "code",
   "execution_count": null,
   "metadata": {},
   "outputs": [],
   "source": [
    "32/0.05*400"
   ]
  },
  {
   "cell_type": "markdown",
   "metadata": {},
   "source": [
    "# calculating and ploting force proifle"
   ]
  },
  {
   "cell_type": "code",
   "execution_count": null,
   "metadata": {},
   "outputs": [],
   "source": [
    "#when using ideal magfield it has to be off due\n",
    "det = np.linspace(-30,0,100)\n",
    "\n",
    "force_profiles = {}\n",
    "det = np.linspace(0,30,50)\n",
    "j  = 0 \n",
    "b = 0\n",
    "\n",
    "laserBeams = pylcp.laserBeams([\n",
    "{'kvec':np.array([0, 0, -1]), 's': 5,'pol_coord':'spherical', 'pol':np.array([1,0,1]), 'delta': (E_e_D2[2]-E_g_D2[0]) - det[24]*gamma},],\n",
    "beam_type=pylcp.infinitePlaneWaveBeam) \n",
    "rateeq = pylcp.rateeq(laserBeams, linGrad, hamiltonian_D2, include_mag_forces=False)\n",
    "x = np.arange(0, 2*L, 0.05)/(x0)\n",
    "v = np.arange(-100, 410,1)/vc\n",
    "\n",
    "\n",
    "X, V = np.meshgrid(x, v)\n",
    "\n",
    "Rvec = np.array([np.zeros(X.shape), np.zeros(X.shape), X])\n",
    "Vvec = np.array([np.zeros(V.shape), np.zeros(V.shape), V])\n",
    "\n",
    "rateeq.generate_force_profile(Rvec, Vvec, name='Fz', progress_bar=True)\n",
    "\n",
    "force_profiles[f'{j}'] = rateeq.profile['Fz'].F[2]\n",
    "\n",
    "b = b +1\n",
    "print(b)"
   ]
  },
  {
   "cell_type": "code",
   "execution_count": null,
   "metadata": {},
   "outputs": [],
   "source": [
    "5*1e-3*100"
   ]
  },
  {
   "cell_type": "code",
   "execution_count": null,
   "metadata": {},
   "outputs": [],
   "source": [
    "\n",
    "fig,ax = plt.subplots(1, 1, figsize=(8, 4)) \n",
    "cmap_reversed = plt.cm.get_cmap('viridis_r')\n",
    "Fc = gammalab*cts.hbar*klab*100\n",
    "im1 = ax.contourf(np.array(x)*x0, np.array(v)*vc, rateeq.profile['Fz'].F[2]*Fc,vmin = -1.1e-19,vmax = 0)\n",
    "fig.subplots_adjust(left=0.08, wspace=0.2)\n",
    "range_l = np.linspace(-1.1e-19,0,10)\n",
    "cb1 = plt.colorbar(im1,ticks = range_l)\n",
    "cb1.set_label('$F(N)$')\n",
    "ax.set_xlabel('$x$ (cm)')\n",
    "ax.set_ylabel('$v (ms^{-1})$')\n",
    "plt.ylim([0,400])\n",
    "plt.title('Contour plot of position vs velocity and force')"
   ]
  },
  {
   "cell_type": "code",
   "execution_count": null,
   "metadata": {},
   "outputs": [],
   "source": [
    "(150*1.4e6)/(klab*100)"
   ]
  },
  {
   "cell_type": "code",
   "execution_count": null,
   "metadata": {},
   "outputs": [],
   "source": [
    "# check of ithe inportlation of force profile\n",
    "# Create the interpolator\n",
    "\n",
    "f_interp = RegularGridInterpolator((np.array(v)*vc,np.array(x)*x0/100),rateeq.profile['Fz'].F[2]*Fc, method='linear')\n",
    "\n",
    "L = 16\n",
    "# Generate a fine grid for plotting\n",
    "x_fine = np.arange(0, 60, 0.05)/100# Fine grid for x-axis\n",
    "\n",
    "v_fine =  np.arange(0,400 ,0.5) # Fine grid for v-axis\n",
    "V,X  = np.meshgrid(v_fine, x_fine)  # Create a 2D grid\n",
    "\n",
    "# Interpolate on the fine grid\n",
    "points = np.array([V.flatten(), X.flatten()]).T  # Flatten grid into (n, 2) points\n",
    "Z = f_interp(points).reshape(X.shape)  # Interpolated values reshaped to grid\n",
    "\n",
    "# Create the contour plot\n",
    "plt.figure(figsize=(8, 6))\n",
    "contour = plt.contourf(X*100, V, Z, levels=20, cmap='viridis')\n",
    "\n",
    "plt.colorbar(contour, label=\"Interpolated Values\")\n",
    "plt.xlabel(\"X-axis (x)\")\n",
    "plt.ylabel(\"Y-axis (v)\")\n",
    "plt.title(\"Contour Plot of Interpolated Data\")\n",
    "plt.show()"
   ]
  },
  {
   "cell_type": "markdown",
   "metadata": {},
   "source": [
    "# Modeling velocity distribution of Yb-173 atoms out of 450 degree oven"
   ]
  },
  {
   "cell_type": "code",
   "execution_count": null,
   "metadata": {},
   "outputs": [],
   "source": [
    "def find_nearest_value(lst, target):\n",
    "    nearest = min(lst, key=lambda x: abs(x - target))\n",
    "    return nearest"
   ]
  },
  {
   "cell_type": "code",
   "execution_count": null,
   "metadata": {},
   "outputs": [],
   "source": [
    "# Constants\n",
    "k_B = cts.k  # Boltzmann constant in J/K\n",
    " # Atomic mass of Yb-173\n",
    "mass_kg = mass_lab  # Convert to kilograms\n",
    "temperature = 405 + 273.15  # Convert Celsius to Kelvin\n",
    "\n",
    "# Velocity Probability Function\n",
    "def p(m, T, v):\n",
    "    return (m / (k_B * T))**2 * np.exp(-m * v**2 / (2 * k_B * T)) * (v**3) / 2"
   ]
  },
  {
   "cell_type": "code",
   "execution_count": null,
   "metadata": {},
   "outputs": [],
   "source": [
    "class MaxwellBoltzmann(rv_continuous):\n",
    "    def _pdf(self, v):\n",
    "        return p(mass_kg, temperature, v)\n",
    "\n",
    "# Define the custom distribution\n",
    "maxwell_boltzmann = MaxwellBoltzmann(a=0, name=\"Maxwell-Boltzmann\")"
   ]
  },
  {
   "cell_type": "code",
   "execution_count": null,
   "metadata": {},
   "outputs": [],
   "source": [
    "size = 10000# Number of samples\n",
    "velocities = maxwell_boltzmann.rvs(size=size)\n",
    "velocities = [i for i in velocities if i < 400]\n",
    "# Display the sampled velocities\n",
    "print(len(velocities))\n",
    "plt.hist(velocities, bins=100, density=True)\n",
    "plt.grid()"
   ]
  },
  {
   "cell_type": "markdown",
   "metadata": {},
   "source": [
    "# calculating trajectories "
   ]
  },
  {
   "cell_type": "code",
   "execution_count": null,
   "metadata": {},
   "outputs": [],
   "source": [
    "f = rateeq.profile['Fz'].F[2]*Fc\n",
    "f_interp = RegularGridInterpolator((np.array(v)*vc,np.array(x)),f,method = 'linear')\n",
    "\n",
    "def simulate_trajectory(v_0, t_span,f_interp, mass_lab):\n",
    "    x_t, v_t, t = [], [], []\n",
    "    s, di = 0, 0  # Initial conditions\n",
    "\n",
    "    for q in range(len(t_span)):\n",
    "        dt = t_span[q] - di\n",
    "\n",
    "        if s > 0.3 or v_0 < 0 or v_0 >= 400:  # Break condition\n",
    "            break\n",
    "\n",
    "        # Interpolate the force profile\n",
    "        \n",
    "        a = f_interp((v_0, s)) / mass_lab\n",
    "\n",
    "\n",
    "        # Update position and velocity\n",
    "\n",
    "        s = (1/2)*a*(dt**2) + v_0*dt + s\n",
    "        \n",
    "        v_0 = v_0 + a*dt\n",
    "\n",
    "        # Append values\n",
    "        x_t.append(s)\n",
    "        v_t.append(v_0)\n",
    "        t.append(t_span[q])\n",
    "        di = t_span[q]\n",
    "        #print(v_t)\n",
    "       \n",
    "\n",
    "    return v_t, x_t, t"
   ]
  },
  {
   "cell_type": "code",
   "execution_count": null,
   "metadata": {},
   "outputs": [],
   "source": [
    "t_max = 0.05 \n",
    "t_len = [100,1000,10000,100000]\n",
    "v_t_z = []\n",
    "z_t_z = []\n",
    "t_lenn = []\n",
    "for i in t_len:\n",
    "    t_span = np.linspace(0, t_max, i)\n",
    "    v_t,z_t,t = simulate_trajectory(100, t_span,f_interp, mass_lab)\n",
    "    v_t_z.append(v_t)\n",
    "    t_lenn.append(t)\n",
    "    z_t_z.append(z_t)\n",
    "fig,ax = plt.subplots(1,4,figsize=(15,5))\n",
    "ax[0].plot(np.array(t_lenn[0])*1000,np.array(v_t_z[0]))\n",
    "ax[1].plot(np.array(t_lenn[1])*1000,np.array(v_t_z[1]))\n",
    "ax[2].plot(np.array(t_lenn[2])*1000,np.array(v_t_z[2]))\n",
    "ax[3].plot(np.array(t_lenn[3])*1000,np.array(v_t_z[3]))\n",
    "ax[0].set_xlabel('Time (ms)')\n",
    "ax[0].set_ylabel('velocity (cm)')\n",
    "ax[1].set_xlabel('Time (ms)')\n",
    "ax[1].set_ylabel('velocity (cm)')\n",
    "ax[2].set_xlabel('Time (ms)')\n",
    "ax[2].set_ylabel('velocity (cm)')\n",
    "ax[0].set_title('Velocity vs Time for 100 steps')\n",
    "ax[1].set_title('Velocity vs Time for 1000 steps')\n",
    "ax[2].set_title('Velocity vs Time for 10000 steps')\n",
    "ax[3].set_title('Velocity vs Time for 100000 steps')\n",
    "plt.tight_layout()\n"
   ]
  },
  {
   "cell_type": "code",
   "execution_count": null,
   "metadata": {},
   "outputs": [],
   "source": [
    "v_z = []\n",
    "z_t_n = []\n",
    "capture_effeciecency = []\n",
    "v_z_n = []\n",
    "t_n_all = []\n",
    "t_max = 0.05\n",
    "t_span = np.linspace(0, t_max, 1000)\n",
    "\n",
    "#for key in force_profiles:\n",
    "f_interp = RegularGridInterpolator((np.array(v)*vc,np.array(x)*x0/100),rateeq.profile['Fz'].F[2]*Fc,method='linear')\n",
    "v_z = []\n",
    "z_t = []\n",
    "t_n = []\n",
    "for i in range(len(velocities)):\n",
    "        v_t,x_t,t = simulate_trajectory(velocities[i], t_span, f_interp,mass_lab)\n",
    "        v_z.append(v_t)\n",
    "        z_t.append(x_t)\n",
    "\n",
    "c1 = 0\n",
    "for i in v_z:\n",
    "        if i[-1] < 144:\n",
    "                c1 = c1+1 \n",
    "print(c1)\n",
    "capture_effeciecency.append(c1)\n",
    "#plt.plot(det,capture_effeciecency)"
   ]
  },
  {
   "cell_type": "code",
   "execution_count": null,
   "metadata": {},
   "outputs": [],
   "source": [
    "final_velocity = []\n",
    "initial_velocity = []\n",
    "for i in v_z:\n",
    "    final_velocity.append(i[-1])\n",
    "    initial_velocity.append(i[0])"
   ]
  },
  {
   "cell_type": "code",
   "execution_count": null,
   "metadata": {},
   "outputs": [],
   "source": [
    "c = 0\n",
    "for i in initial_velocity:\n",
    "    if i < 144:\n",
    "        c = c+1\n",
    "print(c*100/len(velocities))"
   ]
  },
  {
   "cell_type": "code",
   "execution_count": null,
   "metadata": {},
   "outputs": [],
   "source": [
    "fig, ax = plt.subplots(1, 2, figsize=(15, 8))\n",
    "\n",
    "ax[0].hist(final_velocity, bins=100, density=True)\n",
    "ax[1].hist(initial_velocity, bins=100, density=True)\n",
    "\n",
    "ax[0].grid()\n",
    "ax[1].grid()\n",
    "ax[0].set_title('Vel Distribution after zeeman slower(idealB,30 cm),len(t_span) = 1000000')\n",
    "ax[1].set_title('Vel Distribution before zeeman slower(idealB,30 cm)')\n",
    "ax[0].set_ylabel('Frequency of velocity ')\n",
    "ax[1].set_xlabel('Velocity (m/s)' )\n",
    "ax[0].set_xlabel('Velocity (m/s)')\n",
    "ax[1].set_ylabel('Frequency of velocity')\n",
    "ax[0].set_ylim([0,0.0035])\n",
    "\n",
    "ax[1].set_ylim([0,0.0035])\n",
    "plt.tight_layout()\n"
   ]
  },
  {
   "cell_type": "code",
   "execution_count": null,
   "metadata": {},
   "outputs": [],
   "source": [
    "bump_s = [final_velocity.index(i) for i in final_velocity if i < 200 and i > 100]\n",
    "bump_b = [final_velocity.index(i) for i in final_velocity if i > 375 and i < 380]"
   ]
  },
  {
   "cell_type": "code",
   "execution_count": null,
   "metadata": {},
   "outputs": [],
   "source": [
    "bump_ts = []\n",
    "t_ss = []\n",
    "bump_zs = []\n",
    "for j in bump_s:\n",
    "    bump_ts.append(v_z[j])\n",
    "    bump_zs.append(z_t[j])\n",
    "    t_ss.append(t_span[:len(v_z[j])])\n"
   ]
  },
  {
   "cell_type": "code",
   "execution_count": null,
   "metadata": {},
   "outputs": [],
   "source": [
    "bump_tb = []\n",
    "t_sb = []\n",
    "bump_zb = []\n",
    "for j in bump_b:\n",
    "    bump_tb.append(v_z[j])\n",
    "    bump_zb.append(z_t[j])\n",
    "    t_sb.append(t_span[:len(v_z[j])])"
   ]
  },
  {
   "cell_type": "code",
   "execution_count": null,
   "metadata": {},
   "outputs": [],
   "source": [
    "len(bump_tb)"
   ]
  },
  {
   "cell_type": "code",
   "execution_count": null,
   "metadata": {},
   "outputs": [],
   "source": [
    "fig,ax = plt.subplots(2,2,figsize=(10,10))\n",
    "for  i in range(len(bump_ts)):\n",
    "    ax[0][1].plot(t_ss[i]*1e3,bump_ts[i])\n",
    "    ax[0][0].plot(t_ss[i]*1e3,np.array(bump_zs[i])*100)\n",
    "for i in range(len(bump_tb)):\n",
    "    ax[1][1].plot(t_sb[i]*1e3,bump_tb[i])\n",
    "    ax[1][0].plot(t_sb[i]*1e3,np.array(bump_zb[i])*100)\n",
    "ax[0][0].set_xlabel('Time (ms)')\n",
    "ax[0][0].set_ylabel('Position (cm)')\n",
    "ax[0][1].set_xlabel('Time (ms)')\n",
    "ax[0][1].set_ylabel('Velocity (m/s)')\n",
    "ax[0][0].set_title('Position vs Time(first bump)')\n",
    "ax[0][1].set_title('Velocity vs Time(first bump)')\n",
    "ax[1][0].set_xlabel('Time (ms)')\n",
    "ax[1][0].set_ylabel('Position (cm)')\n",
    "ax[1][1].set_xlabel('Time (ms)')\n",
    "ax[1][1].set_ylabel('Velocity (m/s)')\n",
    "ax[1][0].set_title('Position vs Time(Second Bump)')\n",
    "ax[1][1].set_title('Velocity vs Time(Second Bump)')\n",
    "plt.tight_layout()"
   ]
  },
  {
   "cell_type": "code",
   "execution_count": null,
   "metadata": {},
   "outputs": [],
   "source": [
    "other = [initial_velocity.index(i) for i in  initial_velocity if  i > 350 and i < 400 ]\n",
    "other_t = []\n",
    "t_so = []\n",
    "other_z = []\n",
    "for j in other:\n",
    "    other_t.append(v_z[j])\n",
    "    other_z.append(z_t[j])\n",
    "    t_so.append(t_span[:len(v_z[j])])"
   ]
  },
  {
   "cell_type": "code",
   "execution_count": null,
   "metadata": {},
   "outputs": [],
   "source": [
    "fig,ax = plt.subplots(1,2,figsize=(8,5))\n",
    "for  i in range(len(other_t)):\n",
    "    ax[0].plot(t_so[i]*1e3,other_t[i])\n",
    "    ax[1].plot(t_so[i]*1e3,np.array(other_z[i])*100)\n",
    "ax[0].set_xlabel('Time (ms)')\n",
    "ax[0].set_ylabel('Velocity (m/s)')\n",
    "ax[1].set_xlabel('Time (ms)')\n",
    "ax[1].set_ylabel('Position (cm)')\n",
    "ax[0].set_title('Velocity vs Time(other)')\n",
    "ax[1].set_title('Position vs Time(other)')\n"
   ]
  },
  {
   "cell_type": "code",
   "execution_count": null,
   "metadata": {},
   "outputs": [],
   "source": [
    "for i in range(len(other_t)):\n",
    "    plt.plot(other_z[i],other_t[i])\n",
    "\n",
    "plt.xlabel('Position (cm)')\n",
    "plt.ylabel('Velocity (m/s)')\n",
    "plt.title('Velocity vs Position(V_f all velocities)')"
   ]
  },
  {
   "cell_type": "code",
   "execution_count": null,
   "metadata": {},
   "outputs": [],
   "source": [
    "z = np.linspace(0,400)\n",
    "y = z\n",
    "plt.scatter(initial_velocity,final_velocity,s = 0.008)\n",
    "plt.plot(z,y,'r')\n",
    "plt.xlabel('Initial Velocity (m/s)')\n",
    "plt.ylabel('Final Velocity (m/s)')\n",
    "plt.grid()"
   ]
  },
  {
   "cell_type": "code",
   "execution_count": null,
   "metadata": {},
   "outputs": [],
   "source": []
  },
  {
   "cell_type": "code",
   "execution_count": null,
   "metadata": {},
   "outputs": [],
   "source": [
    "x = np.linspace(0,400)\n",
    "y = x\n",
    "plt.scatter(initial_velocity,final_velocity,s = 0.008)\n",
    "plt.plot(x,y,'r')\n",
    "plt.xlabel('Initial Velocity (m/s)')\n",
    "plt.ylabel('Final Velocity (m/s)')\n",
    "plt.xlim([375,395])\n",
    "plt.ylim([340,400])\n",
    "plt.grid()"
   ]
  },
  {
   "cell_type": "code",
   "execution_count": null,
   "metadata": {},
   "outputs": [],
   "source": [
    "for i in range(len(bump_t)):\n",
    "    plt.plot(np.array(bump_z[i])*100,bump_t[i])\n",
    "    plt.xlabel('Position (cm)')\n",
    "    plt.ylabel('Velocity (m/s)')\n",
    "    plt.title('Velocity vs Position of the anomalous bump')"
   ]
  },
  {
   "cell_type": "code",
   "execution_count": null,
   "metadata": {},
   "outputs": [],
   "source": []
  },
  {
   "cell_type": "code",
   "execution_count": null,
   "metadata": {},
   "outputs": [],
   "source": []
  }
 ],
 "metadata": {
  "kernelspec": {
   "display_name": "Python 3",
   "language": "python",
   "name": "python3"
  },
  "language_info": {
   "codemirror_mode": {
    "name": "ipython",
    "version": 3
   },
   "file_extension": ".py",
   "mimetype": "text/x-python",
   "name": "python",
   "nbconvert_exporter": "python",
   "pygments_lexer": "ipython3",
   "version": "3.12.3"
  }
 },
 "nbformat": 4,
 "nbformat_minor": 2
}
