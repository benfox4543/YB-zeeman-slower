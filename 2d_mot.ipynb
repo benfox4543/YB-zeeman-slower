{
 "cells": [
  {
   "cell_type": "code",
   "execution_count": 7,
   "metadata": {},
   "outputs": [],
   "source": [
    "import numpy as np\n",
    "import matplotlib.pyplot as plt\n",
    "import pylcp \n",
    "import scipy.constants  as cts\n",
    "import magpylib as magpy"
   ]
  },
  {
   "cell_type": "code",
   "execution_count": 85,
   "metadata": {},
   "outputs": [
    {
     "data": {
      "application/vnd.plotly.v1+json": {
       "config": {
        "plotlyServerURL": "https://plot.ly"
       },
       "data": [
        {
         "color": "#2e91e5",
         "colorscale": [
          [
           0,
           "#00b050"
          ],
          [
           0.16,
           "#00b050"
          ],
          [
           0.26,
           "#dddddd"
          ],
          [
           0.74,
           "#dddddd"
          ],
          [
           0.8400000000000001,
           "#e71111"
          ],
          [
           1,
           "#e71111"
          ]
         ],
         "i": [
          7,
          0,
          0,
          0,
          4,
          4,
          2,
          6,
          4,
          0,
          3,
          7,
          15,
          8,
          8,
          8,
          12,
          12,
          10,
          14,
          12,
          8,
          11,
          15,
          23,
          16,
          16,
          16,
          20,
          20,
          18,
          22,
          20,
          16,
          19,
          23,
          31,
          24,
          24,
          24,
          28,
          28,
          26,
          30,
          28,
          24,
          27,
          31
         ],
         "intensity": [
          0,
          0,
          1,
          1,
          0,
          0,
          1,
          1,
          0,
          0,
          1,
          1,
          0,
          0,
          1,
          1,
          0,
          0,
          1,
          1,
          0,
          0,
          1,
          1,
          0,
          0,
          1,
          1,
          0,
          0,
          1,
          1
         ],
         "j": [
          0,
          7,
          1,
          2,
          6,
          7,
          1,
          2,
          5,
          5,
          2,
          2,
          8,
          15,
          9,
          10,
          14,
          15,
          9,
          10,
          13,
          13,
          10,
          10,
          16,
          23,
          17,
          18,
          22,
          23,
          17,
          18,
          21,
          21,
          18,
          18,
          24,
          31,
          25,
          26,
          30,
          31,
          25,
          26,
          29,
          29,
          26,
          26
         ],
         "k": [
          3,
          4,
          2,
          3,
          5,
          6,
          5,
          5,
          0,
          1,
          7,
          6,
          11,
          12,
          10,
          11,
          13,
          14,
          13,
          13,
          8,
          9,
          15,
          14,
          19,
          20,
          18,
          19,
          21,
          22,
          21,
          21,
          16,
          17,
          23,
          22,
          27,
          28,
          26,
          27,
          29,
          30,
          29,
          29,
          24,
          25,
          31,
          30
         ],
         "legendgroup": "Collection(id=2792786470976)",
         "name": "Collection (4 sources)",
         "opacity": 1,
         "showlegend": true,
         "showscale": false,
         "type": "mesh3d",
         "x": [
          56,
          56,
          64,
          64,
          56,
          56,
          64,
          64,
          4.000000000000015,
          4.000000000000012,
          -3.9999999999999885,
          -3.9999999999999853,
          4.000000000000015,
          4.000000000000012,
          -3.9999999999999885,
          -3.9999999999999853,
          -64,
          -64,
          -56,
          -56,
          -64,
          -64,
          -56,
          -56,
          3.9999999999999885,
          3.9999999999999853,
          -4.000000000000015,
          -4.000000000000012,
          3.9999999999999885,
          3.9999999999999853,
          -4.000000000000015,
          -4.000000000000012
         ],
         "y": [
          -3,
          3,
          3,
          -3,
          -3,
          3,
          3,
          -3,
          63,
          57,
          57,
          63,
          63,
          57,
          57,
          63,
          -2.9999999999999916,
          3.0000000000000084,
          3.0000000000000067,
          -2.9999999999999933,
          -2.9999999999999916,
          3.0000000000000084,
          3.0000000000000067,
          -2.9999999999999933,
          -57,
          -63,
          -63,
          -57,
          -57,
          -63,
          -63,
          -57
         ],
         "z": [
          -40,
          -40,
          -40,
          -40,
          40,
          40,
          40,
          40,
          -40,
          -40,
          -40,
          -40,
          40,
          40,
          40,
          40,
          -40,
          -40,
          -40,
          -40,
          40,
          40,
          40,
          40,
          -40,
          -40,
          -40,
          -40,
          40,
          40,
          40,
          40
         ]
        }
       ],
       "layout": {
        "legend": {
         "itemsizing": "constant"
        },
        "scene": {
         "aspectmode": "manual",
         "aspectratio": {
          "x": 1,
          "y": 1,
          "z": 1
         },
         "camera": {
          "eye": {
           "x": 1,
           "y": -1.5,
           "z": 1.4
          }
         },
         "xaxis": {
          "autorange": false,
          "range": [
           -64,
           64
          ],
          "title": {
           "text": "x (m)"
          }
         },
         "yaxis": {
          "autorange": false,
          "range": [
           -64,
           64
          ],
          "title": {
           "text": "y (m)"
          }
         },
         "zaxis": {
          "autorange": false,
          "range": [
           -64,
           64
          ],
          "title": {
           "text": "z (m)"
          }
         }
        },
        "template": {
         "data": {
          "bar": [
           {
            "error_x": {
             "color": "#2a3f5f"
            },
            "error_y": {
             "color": "#2a3f5f"
            },
            "marker": {
             "line": {
              "color": "#E5ECF6",
              "width": 0.5
             },
             "pattern": {
              "fillmode": "overlay",
              "size": 10,
              "solidity": 0.2
             }
            },
            "type": "bar"
           }
          ],
          "barpolar": [
           {
            "marker": {
             "line": {
              "color": "#E5ECF6",
              "width": 0.5
             },
             "pattern": {
              "fillmode": "overlay",
              "size": 10,
              "solidity": 0.2
             }
            },
            "type": "barpolar"
           }
          ],
          "carpet": [
           {
            "aaxis": {
             "endlinecolor": "#2a3f5f",
             "gridcolor": "white",
             "linecolor": "white",
             "minorgridcolor": "white",
             "startlinecolor": "#2a3f5f"
            },
            "baxis": {
             "endlinecolor": "#2a3f5f",
             "gridcolor": "white",
             "linecolor": "white",
             "minorgridcolor": "white",
             "startlinecolor": "#2a3f5f"
            },
            "type": "carpet"
           }
          ],
          "choropleth": [
           {
            "colorbar": {
             "outlinewidth": 0,
             "ticks": ""
            },
            "type": "choropleth"
           }
          ],
          "contour": [
           {
            "colorbar": {
             "outlinewidth": 0,
             "ticks": ""
            },
            "colorscale": [
             [
              0,
              "#0d0887"
             ],
             [
              0.1111111111111111,
              "#46039f"
             ],
             [
              0.2222222222222222,
              "#7201a8"
             ],
             [
              0.3333333333333333,
              "#9c179e"
             ],
             [
              0.4444444444444444,
              "#bd3786"
             ],
             [
              0.5555555555555556,
              "#d8576b"
             ],
             [
              0.6666666666666666,
              "#ed7953"
             ],
             [
              0.7777777777777778,
              "#fb9f3a"
             ],
             [
              0.8888888888888888,
              "#fdca26"
             ],
             [
              1,
              "#f0f921"
             ]
            ],
            "type": "contour"
           }
          ],
          "contourcarpet": [
           {
            "colorbar": {
             "outlinewidth": 0,
             "ticks": ""
            },
            "type": "contourcarpet"
           }
          ],
          "heatmap": [
           {
            "colorbar": {
             "outlinewidth": 0,
             "ticks": ""
            },
            "colorscale": [
             [
              0,
              "#0d0887"
             ],
             [
              0.1111111111111111,
              "#46039f"
             ],
             [
              0.2222222222222222,
              "#7201a8"
             ],
             [
              0.3333333333333333,
              "#9c179e"
             ],
             [
              0.4444444444444444,
              "#bd3786"
             ],
             [
              0.5555555555555556,
              "#d8576b"
             ],
             [
              0.6666666666666666,
              "#ed7953"
             ],
             [
              0.7777777777777778,
              "#fb9f3a"
             ],
             [
              0.8888888888888888,
              "#fdca26"
             ],
             [
              1,
              "#f0f921"
             ]
            ],
            "type": "heatmap"
           }
          ],
          "heatmapgl": [
           {
            "colorbar": {
             "outlinewidth": 0,
             "ticks": ""
            },
            "colorscale": [
             [
              0,
              "#0d0887"
             ],
             [
              0.1111111111111111,
              "#46039f"
             ],
             [
              0.2222222222222222,
              "#7201a8"
             ],
             [
              0.3333333333333333,
              "#9c179e"
             ],
             [
              0.4444444444444444,
              "#bd3786"
             ],
             [
              0.5555555555555556,
              "#d8576b"
             ],
             [
              0.6666666666666666,
              "#ed7953"
             ],
             [
              0.7777777777777778,
              "#fb9f3a"
             ],
             [
              0.8888888888888888,
              "#fdca26"
             ],
             [
              1,
              "#f0f921"
             ]
            ],
            "type": "heatmapgl"
           }
          ],
          "histogram": [
           {
            "marker": {
             "pattern": {
              "fillmode": "overlay",
              "size": 10,
              "solidity": 0.2
             }
            },
            "type": "histogram"
           }
          ],
          "histogram2d": [
           {
            "colorbar": {
             "outlinewidth": 0,
             "ticks": ""
            },
            "colorscale": [
             [
              0,
              "#0d0887"
             ],
             [
              0.1111111111111111,
              "#46039f"
             ],
             [
              0.2222222222222222,
              "#7201a8"
             ],
             [
              0.3333333333333333,
              "#9c179e"
             ],
             [
              0.4444444444444444,
              "#bd3786"
             ],
             [
              0.5555555555555556,
              "#d8576b"
             ],
             [
              0.6666666666666666,
              "#ed7953"
             ],
             [
              0.7777777777777778,
              "#fb9f3a"
             ],
             [
              0.8888888888888888,
              "#fdca26"
             ],
             [
              1,
              "#f0f921"
             ]
            ],
            "type": "histogram2d"
           }
          ],
          "histogram2dcontour": [
           {
            "colorbar": {
             "outlinewidth": 0,
             "ticks": ""
            },
            "colorscale": [
             [
              0,
              "#0d0887"
             ],
             [
              0.1111111111111111,
              "#46039f"
             ],
             [
              0.2222222222222222,
              "#7201a8"
             ],
             [
              0.3333333333333333,
              "#9c179e"
             ],
             [
              0.4444444444444444,
              "#bd3786"
             ],
             [
              0.5555555555555556,
              "#d8576b"
             ],
             [
              0.6666666666666666,
              "#ed7953"
             ],
             [
              0.7777777777777778,
              "#fb9f3a"
             ],
             [
              0.8888888888888888,
              "#fdca26"
             ],
             [
              1,
              "#f0f921"
             ]
            ],
            "type": "histogram2dcontour"
           }
          ],
          "mesh3d": [
           {
            "colorbar": {
             "outlinewidth": 0,
             "ticks": ""
            },
            "type": "mesh3d"
           }
          ],
          "parcoords": [
           {
            "line": {
             "colorbar": {
              "outlinewidth": 0,
              "ticks": ""
             }
            },
            "type": "parcoords"
           }
          ],
          "pie": [
           {
            "automargin": true,
            "type": "pie"
           }
          ],
          "scatter": [
           {
            "fillpattern": {
             "fillmode": "overlay",
             "size": 10,
             "solidity": 0.2
            },
            "type": "scatter"
           }
          ],
          "scatter3d": [
           {
            "line": {
             "colorbar": {
              "outlinewidth": 0,
              "ticks": ""
             }
            },
            "marker": {
             "colorbar": {
              "outlinewidth": 0,
              "ticks": ""
             }
            },
            "type": "scatter3d"
           }
          ],
          "scattercarpet": [
           {
            "marker": {
             "colorbar": {
              "outlinewidth": 0,
              "ticks": ""
             }
            },
            "type": "scattercarpet"
           }
          ],
          "scattergeo": [
           {
            "marker": {
             "colorbar": {
              "outlinewidth": 0,
              "ticks": ""
             }
            },
            "type": "scattergeo"
           }
          ],
          "scattergl": [
           {
            "marker": {
             "colorbar": {
              "outlinewidth": 0,
              "ticks": ""
             }
            },
            "type": "scattergl"
           }
          ],
          "scattermapbox": [
           {
            "marker": {
             "colorbar": {
              "outlinewidth": 0,
              "ticks": ""
             }
            },
            "type": "scattermapbox"
           }
          ],
          "scatterpolar": [
           {
            "marker": {
             "colorbar": {
              "outlinewidth": 0,
              "ticks": ""
             }
            },
            "type": "scatterpolar"
           }
          ],
          "scatterpolargl": [
           {
            "marker": {
             "colorbar": {
              "outlinewidth": 0,
              "ticks": ""
             }
            },
            "type": "scatterpolargl"
           }
          ],
          "scatterternary": [
           {
            "marker": {
             "colorbar": {
              "outlinewidth": 0,
              "ticks": ""
             }
            },
            "type": "scatterternary"
           }
          ],
          "surface": [
           {
            "colorbar": {
             "outlinewidth": 0,
             "ticks": ""
            },
            "colorscale": [
             [
              0,
              "#0d0887"
             ],
             [
              0.1111111111111111,
              "#46039f"
             ],
             [
              0.2222222222222222,
              "#7201a8"
             ],
             [
              0.3333333333333333,
              "#9c179e"
             ],
             [
              0.4444444444444444,
              "#bd3786"
             ],
             [
              0.5555555555555556,
              "#d8576b"
             ],
             [
              0.6666666666666666,
              "#ed7953"
             ],
             [
              0.7777777777777778,
              "#fb9f3a"
             ],
             [
              0.8888888888888888,
              "#fdca26"
             ],
             [
              1,
              "#f0f921"
             ]
            ],
            "type": "surface"
           }
          ],
          "table": [
           {
            "cells": {
             "fill": {
              "color": "#EBF0F8"
             },
             "line": {
              "color": "white"
             }
            },
            "header": {
             "fill": {
              "color": "#C8D4E3"
             },
             "line": {
              "color": "white"
             }
            },
            "type": "table"
           }
          ]
         },
         "layout": {
          "annotationdefaults": {
           "arrowcolor": "#2a3f5f",
           "arrowhead": 0,
           "arrowwidth": 1
          },
          "autotypenumbers": "strict",
          "coloraxis": {
           "colorbar": {
            "outlinewidth": 0,
            "ticks": ""
           }
          },
          "colorscale": {
           "diverging": [
            [
             0,
             "#8e0152"
            ],
            [
             0.1,
             "#c51b7d"
            ],
            [
             0.2,
             "#de77ae"
            ],
            [
             0.3,
             "#f1b6da"
            ],
            [
             0.4,
             "#fde0ef"
            ],
            [
             0.5,
             "#f7f7f7"
            ],
            [
             0.6,
             "#e6f5d0"
            ],
            [
             0.7,
             "#b8e186"
            ],
            [
             0.8,
             "#7fbc41"
            ],
            [
             0.9,
             "#4d9221"
            ],
            [
             1,
             "#276419"
            ]
           ],
           "sequential": [
            [
             0,
             "#0d0887"
            ],
            [
             0.1111111111111111,
             "#46039f"
            ],
            [
             0.2222222222222222,
             "#7201a8"
            ],
            [
             0.3333333333333333,
             "#9c179e"
            ],
            [
             0.4444444444444444,
             "#bd3786"
            ],
            [
             0.5555555555555556,
             "#d8576b"
            ],
            [
             0.6666666666666666,
             "#ed7953"
            ],
            [
             0.7777777777777778,
             "#fb9f3a"
            ],
            [
             0.8888888888888888,
             "#fdca26"
            ],
            [
             1,
             "#f0f921"
            ]
           ],
           "sequentialminus": [
            [
             0,
             "#0d0887"
            ],
            [
             0.1111111111111111,
             "#46039f"
            ],
            [
             0.2222222222222222,
             "#7201a8"
            ],
            [
             0.3333333333333333,
             "#9c179e"
            ],
            [
             0.4444444444444444,
             "#bd3786"
            ],
            [
             0.5555555555555556,
             "#d8576b"
            ],
            [
             0.6666666666666666,
             "#ed7953"
            ],
            [
             0.7777777777777778,
             "#fb9f3a"
            ],
            [
             0.8888888888888888,
             "#fdca26"
            ],
            [
             1,
             "#f0f921"
            ]
           ]
          },
          "colorway": [
           "#636efa",
           "#EF553B",
           "#00cc96",
           "#ab63fa",
           "#FFA15A",
           "#19d3f3",
           "#FF6692",
           "#B6E880",
           "#FF97FF",
           "#FECB52"
          ],
          "font": {
           "color": "#2a3f5f"
          },
          "geo": {
           "bgcolor": "white",
           "lakecolor": "white",
           "landcolor": "#E5ECF6",
           "showlakes": true,
           "showland": true,
           "subunitcolor": "white"
          },
          "hoverlabel": {
           "align": "left"
          },
          "hovermode": "closest",
          "mapbox": {
           "style": "light"
          },
          "paper_bgcolor": "white",
          "plot_bgcolor": "#E5ECF6",
          "polar": {
           "angularaxis": {
            "gridcolor": "white",
            "linecolor": "white",
            "ticks": ""
           },
           "bgcolor": "#E5ECF6",
           "radialaxis": {
            "gridcolor": "white",
            "linecolor": "white",
            "ticks": ""
           }
          },
          "scene": {
           "xaxis": {
            "backgroundcolor": "#E5ECF6",
            "gridcolor": "white",
            "gridwidth": 2,
            "linecolor": "white",
            "showbackground": true,
            "ticks": "",
            "zerolinecolor": "white"
           },
           "yaxis": {
            "backgroundcolor": "#E5ECF6",
            "gridcolor": "white",
            "gridwidth": 2,
            "linecolor": "white",
            "showbackground": true,
            "ticks": "",
            "zerolinecolor": "white"
           },
           "zaxis": {
            "backgroundcolor": "#E5ECF6",
            "gridcolor": "white",
            "gridwidth": 2,
            "linecolor": "white",
            "showbackground": true,
            "ticks": "",
            "zerolinecolor": "white"
           }
          },
          "shapedefaults": {
           "line": {
            "color": "#2a3f5f"
           }
          },
          "ternary": {
           "aaxis": {
            "gridcolor": "white",
            "linecolor": "white",
            "ticks": ""
           },
           "baxis": {
            "gridcolor": "white",
            "linecolor": "white",
            "ticks": ""
           },
           "bgcolor": "#E5ECF6",
           "caxis": {
            "gridcolor": "white",
            "linecolor": "white",
            "ticks": ""
           }
          },
          "title": {
           "x": 0.05
          },
          "xaxis": {
           "automargin": true,
           "gridcolor": "white",
           "linecolor": "white",
           "ticks": "",
           "title": {
            "standoff": 15
           },
           "zerolinecolor": "white",
           "zerolinewidth": 2
          },
          "yaxis": {
           "automargin": true,
           "gridcolor": "white",
           "linecolor": "white",
           "ticks": "",
           "title": {
            "standoff": 15
           },
           "zerolinecolor": "white",
           "zerolinewidth": 2
          }
         }
        }
       }
      }
     },
     "metadata": {},
     "output_type": "display_data"
    }
   ],
   "source": [
    "tfmot = magpy.Collection()\n",
    "N = 4\n",
    "angles = np.linspace(0, 360, N, endpoint=False)\n",
    "l = 30\n",
    "halbach = magpy.Collection()\n",
    "for a in angles:\n",
    "    cube= magpy.magnet.Cuboid(\n",
    "    dimension=(8,6,80),\n",
    "    polarization=(1.17,0,0),\n",
    "    position=(30+l,0,0))\n",
    "    \n",
    "    cube.rotate_from_angax(a, 'z',anchor = 0)\n",
    "    cube.rotate_from_angax(a, 'z')\n",
    "\n",
    "    tfmot.add(cube)\n",
    "\n",
    "magpy.show(tfmot, backend='plotly',)"
   ]
  },
  {
   "cell_type": "code",
   "execution_count": 86,
   "metadata": {},
   "outputs": [],
   "source": [
    "def v_avg(m,T):\n",
    "    return np.sqrt(8*cts.k*T/(np.pi*m))"
   ]
  },
  {
   "cell_type": "code",
   "execution_count": 87,
   "metadata": {},
   "outputs": [
    {
     "data": {
      "image/png": "[encoded data removed]",
      "text/plain": [
       "<Figure size 2000x500 with 1 Axes>"
      ]
     },
     "metadata": {},
     "output_type": "display_data"
    }
   ],
   "source": [
    "L = 16\n",
    "z = np.linspace(-30,2*L,1000)\n",
    "b_y = []\n",
    "b_z = []\n",
    "b_x = []\n",
    "for i in z:\n",
    "    b_x.append(tfmot.getB([0,0,i*10])[0])\n",
    "    b_y.append(tfmot.getB([0,0,i*10])[1])\n",
    "    b_z.append(tfmot.getB([0,0,i*10])[2])\n",
    "\n",
    "fig,ax = plt.subplots(1,1,figsize=(20,5))    \n",
    "plt.plot(z,np.array(b_x)*1e3)\n",
    "plt.plot(z,np.array(b_y)*1e3)\n",
    "plt.plot(z,np.array(b_z)*1e3)\n",
    "#plt.yticks([-20,0,20,40])\n",
    "#plt.xticks([-0.1,0,0.1,0.2,0.3,0.4])\n",
    "plt.xlabel('z (cm)')\n",
    "\n",
    "plt.ylabel('$B$ (mT)')\n",
    "plt.legend(['$B_x$','$B_y$','$B_z$','Analytical'])  \n",
    "plt.ylabel('$B_y$ (mT)')\n",
    "plt.grid()"
   ]
  },
  {
   "cell_type": "code",
   "execution_count": 88,
   "metadata": {},
   "outputs": [
    {
     "name": "stdout",
     "output_type": "stream",
     "text": [
      "-0.067 16 611.5412157667639 0.048\n"
     ]
    }
   ],
   "source": [
    "mass_lab = 173*cts.value('atomic mass constant') # YB-173 mass in kg\n",
    "v_a = v_avg(mass_lab,216.85)\n",
    "sd = np.sqrt(cts.k*216.85/mass_lab)\n",
    "vel = np.random.normal(v_a,sd,1000000)\n",
    "klab = 2*np.pi*25068.2222# Lab wavevector (without 2pi) in cm^{-1}   # Lifetime of 6P_{3/2} state (in seconds)\n",
    "gammalab = (1.93*1e8)\n",
    "v0 =max(vel)\n",
    "Blab = -67*1e-3#(v0*cts.hbar*(klab*100))/cts.value('Bohr magneton')\n",
    "b_0L =  48*1e-3\n",
    "# (v0*cts.hbar*(klab*100))/cts.value('Bohr magneton')/2\n",
    "# T # About 15 G/cm is a typical gradient for Rb\n",
    "L = 16\n",
    "x0 = 1/klab  # cm\n",
    "t0 = 1/gammalab  # s\n",
    "#100*(mass_lab*(v0**2))/(0.5*cts.hbar*(klab*100)*gammalab) +5\n",
    "print(Blab, L,v0,b_0L)"
   ]
  },
  {
   "cell_type": "code",
   "execution_count": 89,
   "metadata": {},
   "outputs": [
    {
     "name": "stdout",
     "output_type": "stream",
     "text": [
      "6.348872362073421e-06 5.181347150259067e-09 2119.188266564296 1.0 1.0 -30.52874111941582 21.871336921372524\n"
     ]
    }
   ],
   "source": [
    "x0 = 1/klab  # cm\n",
    "t0 = 1/gammalab  # s\n",
    "\n",
    "mass = mass_lab*(x0*1e-2)**2/cts.hbar/t0\n",
    "\n",
    "# And now our wavevector, decay rate, and magnetic field gradient in these units:\n",
    "k = klab*x0\n",
    "gamma = gammalab*t0\n",
    "alpha = cts.value('Bohr magneton')*Blab*t0/cts.hbar\n",
    "b_0 = cts.value('Bohr magneton')*b_0L*t0/cts.hbar \n",
    "l = L/x0 \n",
    "\n",
    "print(x0, t0, mass, k, gamma, alpha,b_0)"
   ]
  },
  {
   "cell_type": "code",
   "execution_count": 142,
   "metadata": {},
   "outputs": [],
   "source": [
    "# Define the atomic Hamiltonian:\n",
    "H_g_D2, mu_q_g_D2 = pylcp.hamiltonians.hyperfine_coupled(\n",
    "0, 5/2, 0,  \t-0.2592,\n",
    "    Ahfs = 0, Bhfs=0, Chfs=0,\n",
    "    muB=1)# ground state 1s0\n",
    "H_e_D2, mu_q_e_D2 = pylcp.hamiltonians.hyperfine_coupled(\n",
    "1, 5/2, 1.035,\t-0.2592,\n",
    "    Ahfs=59.52*1e6,Bhfs = 601.87*1e6 , Chfs= 0,\n",
    "    muB=1) #excited state 1p1\n",
    "\n",
    "dijq_D2 = pylcp.hamiltonians.dqij_two_hyperfine_manifolds(0, 1, 5/2)\n",
    "\n",
    "E_e_D2 = np.unique(np.diagonal(H_e_D2))\n",
    "E_g_D2 = np.unique(np.diagonal(H_g_D2))\n",
    "hamiltonian_D2 = pylcp.hamiltonian(mass = mass)\n",
    "hamiltonian_D2.add_H_0_block('g', H_g_D2)\n",
    "hamiltonian_D2.add_H_0_block('e', H_e_D2)\n",
    "hamiltonian_D2.add_d_q_block('g', 'e', dijq_D2, gamma = gamma, k = k)\n",
    "hamiltonian_D2.add_mu_q_block('g', mu_q_g_D2)\n",
    "hamiltonian_D2.add_mu_q_block('e', mu_q_e_D2)\n",
    "\n",
    "\n",
    "\n",
    "#ham = pylcp.hamiltonian(Hg, He, mugq, mueq, dijq, mass=mass, gamma=gamma, k=k)\n",
    "# Define the atomic Hamiltonian:\n",
    "H_g_D2, mu_q_g_D2 = pylcp.hamiltonians.hyperfine_coupled(\n",
    "0, 5/2, 0,  \t-0.2592,\n",
    "    Ahfs = 0, Bhfs=0, Chfs=0,\n",
    "    muB=1)# ground state 1s0\n",
    "H_e_D2, mu_q_e_D2 = pylcp.hamiltonians.hyperfine_coupled(\n",
    "1, 5/2, 1.035,\t-0.2592,\n",
    "    Ahfs=59.52*1e6,Bhfs = 601.87*1e6 , Chfs= 0,\n",
    "    muB=1) #excited state 1p1\n",
    "\n",
    "dijq_D2 = pylcp.hamiltonians.dqij_two_hyperfine_manifolds(0, 1, 5/2)\n",
    "\n",
    "E_e_D2 = np.unique(np.diagonal(H_e_D2))\n",
    "E_g_D2 = np.unique(np.diagonal(H_g_D2))\n",
    "hamiltonian_D2 = pylcp.hamiltonian(mass = mass)\n",
    "hamiltonian_D2.add_H_0_block('g', H_g_D2)\n",
    "hamiltonian_D2.add_H_0_block('e', H_e_D2)\n",
    "hamiltonian_D2.add_d_q_block('g', 'e', dijq_D2, gamma = gamma, k = k)\n",
    "hamiltonian_D2.add_mu_q_block('g', mu_q_g_D2)\n",
    "hamiltonian_D2.add_mu_q_block('e', mu_q_e_D2)\n",
    "\n",
    "\n",
    "\n",
    "#ham = pylcp.hamiltonian(Hg, He, mugq, mueq, dijq, mass=mass, gamma=gamma, k=k)\n",
    "\n",
    "\n",
    "s = 5\n",
    "det = 5\n",
    "\n",
    "# Define the laser beams:\n",
    "laserBeams = pylcp.laserBeams([\n",
    "    {'kvec':np.array([0, 1, 0]), 's': s,'pol_coord':'spherical', 'pol': 1, 'delta': (E_e_D2[2]-E_g_D2[0]) + det*gamma},\n",
    "     {'kvec':np.array([0, -1, 0]), 's': s,'pol_coord':'spherical', 'pol':1, 'delta': (E_e_D2[2]-E_g_D2[0]) + det*gamma},\n",
    "      {'kvec':np.array([1, 0, 0]), 's': s,'pol_coord':'spherical', 'pol': 1, 'delta': (E_e_D2[2]-E_g_D2[0]) + det*gamma},\n",
    "     {'kvec':np.array([-1, 0, 0]), 's': s,'pol_coord':'spherical', 'pol':1, 'delta': (E_e_D2[2]-E_g_D2[0]) + det*gamma}],\n",
    "    beam_type=pylcp.infinitePlaneWaveBeam) \n",
    "\n",
    "#linGrad =  pylcp.magField(lambda R: mag(R,b_0,alpha,l))\n",
    "bf_mot = lambda R:tfmot.getB(R*10*x0)*cts.value('Bohr magneton')*t0/cts.hbar \n",
    "linGrad = pylcp.magField(lambda R: bf_mot(R))"
   ]
  },
  {
   "cell_type": "code",
   "execution_count": 143,
   "metadata": {},
   "outputs": [
    {
     "data": {
      "text/plain": [
       "5.24141365003064"
      ]
     },
     "execution_count": 143,
     "metadata": {},
     "output_type": "execute_result"
    }
   ],
   "source": [
    "(2*161e6*np.pi)/gammalab"
   ]
  },
  {
   "cell_type": "code",
   "execution_count": 144,
   "metadata": {},
   "outputs": [],
   "source": [
    "rateeq = pylcp.rateeq(laserBeams, linGrad, hamiltonian_D2, include_mag_forces=True)"
   ]
  },
  {
   "cell_type": "code",
   "execution_count": 145,
   "metadata": {},
   "outputs": [
    {
     "name": "stdout",
     "output_type": "stream",
     "text": [
      "Completed in 1.93 s.                                               \n"
     ]
    }
   ],
   "source": [
    "vc = x0/t0*1/(100)\n",
    "Fc = cts.hbar*klab*gammalab\n",
    "x = np.arange(-10, 10, 1)/x0\n",
    "v = np.arange(-10, 10, 1)/vc\n",
    "\n",
    "X, V = np.meshgrid(x, v)\n",
    "\n",
    "Rvec = np.array([np.zeros(X.shape), X, np.zeros(X.shape)])\n",
    "Vvec = np.array([np.zeros(X.shape), V, np.zeros(V.shape)])\n",
    "\n",
    "rateeq.generate_force_profile(Rvec, Vvec, name='Fz', progress_bar=True)\n"
   ]
  },
  {
   "cell_type": "code",
   "execution_count": 146,
   "metadata": {},
   "outputs": [
    {
     "name": "stderr",
     "output_type": "stream",
     "text": [
      "C:\\Users\\benfo\\AppData\\Local\\Temp\\ipykernel_35960\\277109663.py:2: MatplotlibDeprecationWarning:\n",
      "\n",
      "The get_cmap function was deprecated in Matplotlib 3.7 and will be removed two minor releases later. Use ``matplotlib.colormaps[name]`` or ``matplotlib.colormaps.get_cmap(obj)`` instead.\n",
      "\n"
     ]
    },
    {
     "data": {
      "text/plain": [
       "Text(0.5, 1.0, 'Contour plot of position vs velocity and force')"
      ]
     },
     "execution_count": 146,
     "metadata": {},
     "output_type": "execute_result"
    },
    {
     "data": {
      "image/png": "[encoded data removed]",
      "text/plain": [
       "<Figure size 800x400 with 2 Axes>"
      ]
     },
     "metadata": {},
     "output_type": "display_data"
    }
   ],
   "source": [
    "\n",
    "fig,ax = plt.subplots(1, 1, figsize=(8, 4)) \n",
    "cmap_reversed = plt.cm.get_cmap('viridis_r')\n",
    "Fc = gammalab*cts.hbar*klab\n",
    "im1 = ax.contourf(np.array(x)*x0, np.array(v)*vc,rateeq.profile['Fz'].F[0]*Fc)\n",
    "fig.subplots_adjust(left=0.08, wspace=0.2)\n",
    "cb1 = plt.colorbar(im1)\n",
    "cb1.set_label('$F(N)$')\n",
    "ax.set_xlabel('$x$ (cm)')\n",
    "ax.set_ylabel('$v (ms^{-1})$')\n",
    "plt.title('Contour plot of position vs velocity and force')"
   ]
  },
  {
   "cell_type": "code",
   "execution_count": null,
   "metadata": {},
   "outputs": [],
   "source": []
  },
  {
   "cell_type": "code",
   "execution_count": null,
   "metadata": {},
   "outputs": [],
   "source": []
  }
 ],
 "metadata": {
  "kernelspec": {
   "display_name": "Python 3",
   "language": "python",
   "name": "python3"
  },
  "language_info": {
   "codemirror_mode": {
    "name": "ipython",
    "version": 3
   },
   "file_extension": ".py",
   "mimetype": "text/x-python",
   "name": "python",
   "nbconvert_exporter": "python",
   "pygments_lexer": "ipython3",
   "version": "3.12.3"
  }
 },
 "nbformat": 4,
 "nbformat_minor": 2
}
