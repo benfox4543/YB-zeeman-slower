{
 "cells": [
  {
   "cell_type": "code",
   "execution_count": 242,
   "metadata": {},
   "outputs": [],
   "source": [
    "import numpy as np\n",
    "import matplotlib.pyplot as plt\n",
    "import pylcp \n",
    "import scipy.constants  as cts\n",
    "import magpylib as magpy\n",
    "from scipy.stats import rv_continuous\n",
    "from scipy.interpolate import RegularGridInterpolator\n",
    "import multiprocessing as mp"
   ]
  },
  {
   "cell_type": "code",
   "execution_count": 243,
   "metadata": {},
   "outputs": [
    {
     "data": {
      "text/plain": [
       "0.5"
      ]
     },
     "execution_count": 243,
     "metadata": {},
     "output_type": "execute_result"
    }
   ],
   "source": [
    "0.1*5"
   ]
  },
  {
   "cell_type": "code",
   "execution_count": 244,
   "metadata": {},
   "outputs": [
    {
     "data": {
      "application/vnd.plotly.v1+json": {
       "config": {
        "plotlyServerURL": "https://plot.ly"
       },
       "data": [
        {
         "color": "#2e91e5",
         "colorscale": [
          [
           0,
           "turquoise"
          ],
          [
           0.16,
           "turquoise"
          ],
          [
           0.26,
           "white"
          ],
          [
           0.74,
           "white"
          ],
          [
           0.8400000000000001,
           "magenta"
          ],
          [
           1,
           "magenta"
          ]
         ],
         "i": [
          7,
          0,
          0,
          0,
          4,
          4,
          2,
          6,
          4,
          0,
          3,
          7,
          15,
          8,
          8,
          8,
          12,
          12,
          10,
          14,
          12,
          8,
          11,
          15,
          23,
          16,
          16,
          16,
          20,
          20,
          18,
          22,
          20,
          16,
          19,
          23,
          31,
          24,
          24,
          24,
          28,
          28,
          26,
          30,
          28,
          24,
          27,
          31
         ],
         "intensity": [
          0,
          0,
          1,
          1,
          0,
          0,
          1,
          1,
          0,
          0,
          1,
          1,
          0,
          0,
          1,
          1,
          0,
          0,
          1,
          1,
          0,
          0,
          1,
          1,
          0,
          0,
          1,
          1,
          0,
          0,
          1,
          1
         ],
         "j": [
          0,
          7,
          1,
          2,
          6,
          7,
          1,
          2,
          5,
          5,
          2,
          2,
          8,
          15,
          9,
          10,
          14,
          15,
          9,
          10,
          13,
          13,
          10,
          10,
          16,
          23,
          17,
          18,
          22,
          23,
          17,
          18,
          21,
          21,
          18,
          18,
          24,
          31,
          25,
          26,
          30,
          31,
          25,
          26,
          29,
          29,
          26,
          26
         ],
         "k": [
          3,
          4,
          2,
          3,
          5,
          6,
          5,
          5,
          0,
          1,
          7,
          6,
          11,
          12,
          10,
          11,
          13,
          14,
          13,
          13,
          8,
          9,
          15,
          14,
          19,
          20,
          18,
          19,
          21,
          22,
          21,
          21,
          16,
          17,
          23,
          22,
          27,
          28,
          26,
          27,
          29,
          30,
          29,
          29,
          24,
          25,
          31,
          30
         ],
         "legendgroup": "Collection(id=1438035154688)",
         "name": "Collection (4 sources)",
         "opacity": 1,
         "showlegend": true,
         "showscale": false,
         "type": "mesh3d",
         "x": [
          43.13351365237939,
          47.376154339498676,
          41.7193000900063,
          37.476659402887016,
          43.13351365237939,
          47.376154339498676,
          41.7193000900063,
          37.476659402887016,
          -37.476659402887016,
          -41.7193000900063,
          -47.376154339498676,
          -43.13351365237939,
          -37.476659402887016,
          -41.7193000900063,
          -47.376154339498676,
          -43.13351365237939,
          -43.13351365237939,
          -47.37615433949868,
          -41.7193000900063,
          -37.47665940288701,
          -43.13351365237939,
          -47.37615433949868,
          -41.7193000900063,
          -37.47665940288701,
          37.47665940288701,
          41.71930009000629,
          47.37615433949867,
          43.133513652379385,
          37.47665940288701,
          41.71930009000629,
          47.37615433949867,
          43.133513652379385
         ],
         "y": [
          47.37615433949868,
          43.1335136523794,
          37.47665940288702,
          41.71930009000631,
          47.37615433949868,
          43.1335136523794,
          37.47665940288702,
          41.71930009000631,
          41.719300090006314,
          37.47665940288702,
          43.133513652379406,
          47.3761543394987,
          41.719300090006314,
          37.47665940288702,
          43.133513652379406,
          47.3761543394987,
          -47.376154339498676,
          -43.13351365237939,
          -37.476659402887016,
          -41.7193000900063,
          -47.376154339498676,
          -43.13351365237939,
          -37.476659402887016,
          -41.7193000900063,
          -41.71930009000632,
          -37.47665940288704,
          -43.13351365237941,
          -47.3761543394987,
          -41.71930009000632,
          -37.47665940288704,
          -43.13351365237941,
          -47.3761543394987
         ],
         "z": [
          -40,
          -40,
          -40,
          -40,
          40,
          40,
          40,
          40,
          -40,
          -40,
          -40,
          -40,
          40,
          40,
          40,
          40,
          -40.00000000000001,
          -40.00000000000001,
          -40.00000000000001,
          -40.00000000000001,
          40.00000000000001,
          40.00000000000001,
          40.00000000000001,
          40.00000000000001,
          -40,
          -40,
          -40,
          -40,
          40,
          40,
          40,
          40
         ]
        },
        {
         "legendgroup": "Collection(id=1438035154688)",
         "line": {
          "color": "black",
          "dash": "solid",
          "width": 4.4
         },
         "mode": "lines",
         "name": "Collection (4 sources)",
         "opacity": 1,
         "showlegend": false,
         "type": "scatter3d",
         "x": [
          null,
          42.426406871192846,
          -42.42640687111774,
          -28.849956672348036,
          -42.42640687111774,
          -39.032294321425304,
          -42.42640687111774,
          -42.42640687111774,
          null,
          -42.426406871192846,
          -127.27922061350347,
          -123.88510806381103,
          -127.27922061350347,
          -113.70277041473378,
          -127.27922061350347,
          -127.27922061350347,
          null,
          -42.426406871192846,
          42.42640687111777,
          28.849956672348064,
          42.42640687111777,
          39.03229432142533,
          42.42640687111777,
          42.42640687111777,
          null,
          42.42640687119284,
          127.27922061350344,
          123.88510806381102,
          127.27922061350344,
          113.70277041473373,
          127.27922061350344,
          127.27922061350344
         ],
         "y": [
          null,
          42.42640687119285,
          -42.42640687111776,
          -39.03229432142534,
          -42.42640687111776,
          -28.84995667234807,
          -42.42640687111776,
          -42.42640687111776,
          null,
          42.42640687119286,
          127.27922061350347,
          113.70277041473378,
          127.27922061350347,
          123.88510806381103,
          127.27922061350347,
          127.27922061350347,
          null,
          -42.426406871192846,
          42.42640687111777,
          39.03229432142535,
          42.42640687111777,
          28.84995667234808,
          42.42640687111777,
          42.42640687111777,
          null,
          -42.42640687119287,
          -127.2792206135035,
          -113.70277041473379,
          -127.2792206135035,
          -123.88510806381106,
          -127.2792206135035,
          -127.2792206135035
         ],
         "z": [
          null,
          0,
          0,
          0,
          0,
          0,
          0,
          0,
          null,
          0,
          0,
          0,
          0,
          0,
          0,
          0,
          null,
          0,
          0,
          0,
          0,
          0,
          0,
          0,
          null,
          0,
          0,
          0,
          0,
          0,
          0,
          0
         ]
        }
       ],
       "layout": {
        "legend": {
         "itemsizing": "constant"
        },
        "scene": {
         "aspectmode": "manual",
         "aspectratio": {
          "x": 1,
          "y": 1,
          "z": 1
         },
         "camera": {
          "eye": {
           "x": 1,
           "y": -1.5,
           "z": 1.4
          }
         },
         "xaxis": {
          "autorange": false,
          "range": [
           -127.2792206135035,
           127.27922061350347
          ],
          "title": {
           "text": "x (m)"
          }
         },
         "yaxis": {
          "autorange": false,
          "range": [
           -127.2792206135035,
           127.27922061350347
          ],
          "title": {
           "text": "y (m)"
          }
         },
         "zaxis": {
          "autorange": false,
          "range": [
           -127.27922061350348,
           127.27922061350348
          ],
          "title": {
           "text": "z (m)"
          }
         }
        },
        "template": {
         "data": {
          "bar": [
           {
            "error_x": {
             "color": "#2a3f5f"
            },
            "error_y": {
             "color": "#2a3f5f"
            },
            "marker": {
             "line": {
              "color": "#E5ECF6",
              "width": 0.5
             },
             "pattern": {
              "fillmode": "overlay",
              "size": 10,
              "solidity": 0.2
             }
            },
            "type": "bar"
           }
          ],
          "barpolar": [
           {
            "marker": {
             "line": {
              "color": "#E5ECF6",
              "width": 0.5
             },
             "pattern": {
              "fillmode": "overlay",
              "size": 10,
              "solidity": 0.2
             }
            },
            "type": "barpolar"
           }
          ],
          "carpet": [
           {
            "aaxis": {
             "endlinecolor": "#2a3f5f",
             "gridcolor": "white",
             "linecolor": "white",
             "minorgridcolor": "white",
             "startlinecolor": "#2a3f5f"
            },
            "baxis": {
             "endlinecolor": "#2a3f5f",
             "gridcolor": "white",
             "linecolor": "white",
             "minorgridcolor": "white",
             "startlinecolor": "#2a3f5f"
            },
            "type": "carpet"
           }
          ],
          "choropleth": [
           {
            "colorbar": {
             "outlinewidth": 0,
             "ticks": ""
            },
            "type": "choropleth"
           }
          ],
          "contour": [
           {
            "colorbar": {
             "outlinewidth": 0,
             "ticks": ""
            },
            "colorscale": [
             [
              0,
              "#0d0887"
             ],
             [
              0.1111111111111111,
              "#46039f"
             ],
             [
              0.2222222222222222,
              "#7201a8"
             ],
             [
              0.3333333333333333,
              "#9c179e"
             ],
             [
              0.4444444444444444,
              "#bd3786"
             ],
             [
              0.5555555555555556,
              "#d8576b"
             ],
             [
              0.6666666666666666,
              "#ed7953"
             ],
             [
              0.7777777777777778,
              "#fb9f3a"
             ],
             [
              0.8888888888888888,
              "#fdca26"
             ],
             [
              1,
              "#f0f921"
             ]
            ],
            "type": "contour"
           }
          ],
          "contourcarpet": [
           {
            "colorbar": {
             "outlinewidth": 0,
             "ticks": ""
            },
            "type": "contourcarpet"
           }
          ],
          "heatmap": [
           {
            "colorbar": {
             "outlinewidth": 0,
             "ticks": ""
            },
            "colorscale": [
             [
              0,
              "#0d0887"
             ],
             [
              0.1111111111111111,
              "#46039f"
             ],
             [
              0.2222222222222222,
              "#7201a8"
             ],
             [
              0.3333333333333333,
              "#9c179e"
             ],
             [
              0.4444444444444444,
              "#bd3786"
             ],
             [
              0.5555555555555556,
              "#d8576b"
             ],
             [
              0.6666666666666666,
              "#ed7953"
             ],
             [
              0.7777777777777778,
              "#fb9f3a"
             ],
             [
              0.8888888888888888,
              "#fdca26"
             ],
             [
              1,
              "#f0f921"
             ]
            ],
            "type": "heatmap"
           }
          ],
          "heatmapgl": [
           {
            "colorbar": {
             "outlinewidth": 0,
             "ticks": ""
            },
            "colorscale": [
             [
              0,
              "#0d0887"
             ],
             [
              0.1111111111111111,
              "#46039f"
             ],
             [
              0.2222222222222222,
              "#7201a8"
             ],
             [
              0.3333333333333333,
              "#9c179e"
             ],
             [
              0.4444444444444444,
              "#bd3786"
             ],
             [
              0.5555555555555556,
              "#d8576b"
             ],
             [
              0.6666666666666666,
              "#ed7953"
             ],
             [
              0.7777777777777778,
              "#fb9f3a"
             ],
             [
              0.8888888888888888,
              "#fdca26"
             ],
             [
              1,
              "#f0f921"
             ]
            ],
            "type": "heatmapgl"
           }
          ],
          "histogram": [
           {
            "marker": {
             "pattern": {
              "fillmode": "overlay",
              "size": 10,
              "solidity": 0.2
             }
            },
            "type": "histogram"
           }
          ],
          "histogram2d": [
           {
            "colorbar": {
             "outlinewidth": 0,
             "ticks": ""
            },
            "colorscale": [
             [
              0,
              "#0d0887"
             ],
             [
              0.1111111111111111,
              "#46039f"
             ],
             [
              0.2222222222222222,
              "#7201a8"
             ],
             [
              0.3333333333333333,
              "#9c179e"
             ],
             [
              0.4444444444444444,
              "#bd3786"
             ],
             [
              0.5555555555555556,
              "#d8576b"
             ],
             [
              0.6666666666666666,
              "#ed7953"
             ],
             [
              0.7777777777777778,
              "#fb9f3a"
             ],
             [
              0.8888888888888888,
              "#fdca26"
             ],
             [
              1,
              "#f0f921"
             ]
            ],
            "type": "histogram2d"
           }
          ],
          "histogram2dcontour": [
           {
            "colorbar": {
             "outlinewidth": 0,
             "ticks": ""
            },
            "colorscale": [
             [
              0,
              "#0d0887"
             ],
             [
              0.1111111111111111,
              "#46039f"
             ],
             [
              0.2222222222222222,
              "#7201a8"
             ],
             [
              0.3333333333333333,
              "#9c179e"
             ],
             [
              0.4444444444444444,
              "#bd3786"
             ],
             [
              0.5555555555555556,
              "#d8576b"
             ],
             [
              0.6666666666666666,
              "#ed7953"
             ],
             [
              0.7777777777777778,
              "#fb9f3a"
             ],
             [
              0.8888888888888888,
              "#fdca26"
             ],
             [
              1,
              "#f0f921"
             ]
            ],
            "type": "histogram2dcontour"
           }
          ],
          "mesh3d": [
           {
            "colorbar": {
             "outlinewidth": 0,
             "ticks": ""
            },
            "type": "mesh3d"
           }
          ],
          "parcoords": [
           {
            "line": {
             "colorbar": {
              "outlinewidth": 0,
              "ticks": ""
             }
            },
            "type": "parcoords"
           }
          ],
          "pie": [
           {
            "automargin": true,
            "type": "pie"
           }
          ],
          "scatter": [
           {
            "fillpattern": {
             "fillmode": "overlay",
             "size": 10,
             "solidity": 0.2
            },
            "type": "scatter"
           }
          ],
          "scatter3d": [
           {
            "line": {
             "colorbar": {
              "outlinewidth": 0,
              "ticks": ""
             }
            },
            "marker": {
             "colorbar": {
              "outlinewidth": 0,
              "ticks": ""
             }
            },
            "type": "scatter3d"
           }
          ],
          "scattercarpet": [
           {
            "marker": {
             "colorbar": {
              "outlinewidth": 0,
              "ticks": ""
             }
            },
            "type": "scattercarpet"
           }
          ],
          "scattergeo": [
           {
            "marker": {
             "colorbar": {
              "outlinewidth": 0,
              "ticks": ""
             }
            },
            "type": "scattergeo"
           }
          ],
          "scattergl": [
           {
            "marker": {
             "colorbar": {
              "outlinewidth": 0,
              "ticks": ""
             }
            },
            "type": "scattergl"
           }
          ],
          "scattermapbox": [
           {
            "marker": {
             "colorbar": {
              "outlinewidth": 0,
              "ticks": ""
             }
            },
            "type": "scattermapbox"
           }
          ],
          "scatterpolar": [
           {
            "marker": {
             "colorbar": {
              "outlinewidth": 0,
              "ticks": ""
             }
            },
            "type": "scatterpolar"
           }
          ],
          "scatterpolargl": [
           {
            "marker": {
             "colorbar": {
              "outlinewidth": 0,
              "ticks": ""
             }
            },
            "type": "scatterpolargl"
           }
          ],
          "scatterternary": [
           {
            "marker": {
             "colorbar": {
              "outlinewidth": 0,
              "ticks": ""
             }
            },
            "type": "scatterternary"
           }
          ],
          "surface": [
           {
            "colorbar": {
             "outlinewidth": 0,
             "ticks": ""
            },
            "colorscale": [
             [
              0,
              "#0d0887"
             ],
             [
              0.1111111111111111,
              "#46039f"
             ],
             [
              0.2222222222222222,
              "#7201a8"
             ],
             [
              0.3333333333333333,
              "#9c179e"
             ],
             [
              0.4444444444444444,
              "#bd3786"
             ],
             [
              0.5555555555555556,
              "#d8576b"
             ],
             [
              0.6666666666666666,
              "#ed7953"
             ],
             [
              0.7777777777777778,
              "#fb9f3a"
             ],
             [
              0.8888888888888888,
              "#fdca26"
             ],
             [
              1,
              "#f0f921"
             ]
            ],
            "type": "surface"
           }
          ],
          "table": [
           {
            "cells": {
             "fill": {
              "color": "#EBF0F8"
             },
             "line": {
              "color": "white"
             }
            },
            "header": {
             "fill": {
              "color": "#C8D4E3"
             },
             "line": {
              "color": "white"
             }
            },
            "type": "table"
           }
          ]
         },
         "layout": {
          "annotationdefaults": {
           "arrowcolor": "#2a3f5f",
           "arrowhead": 0,
           "arrowwidth": 1
          },
          "autotypenumbers": "strict",
          "coloraxis": {
           "colorbar": {
            "outlinewidth": 0,
            "ticks": ""
           }
          },
          "colorscale": {
           "diverging": [
            [
             0,
             "#8e0152"
            ],
            [
             0.1,
             "#c51b7d"
            ],
            [
             0.2,
             "#de77ae"
            ],
            [
             0.3,
             "#f1b6da"
            ],
            [
             0.4,
             "#fde0ef"
            ],
            [
             0.5,
             "#f7f7f7"
            ],
            [
             0.6,
             "#e6f5d0"
            ],
            [
             0.7,
             "#b8e186"
            ],
            [
             0.8,
             "#7fbc41"
            ],
            [
             0.9,
             "#4d9221"
            ],
            [
             1,
             "#276419"
            ]
           ],
           "sequential": [
            [
             0,
             "#0d0887"
            ],
            [
             0.1111111111111111,
             "#46039f"
            ],
            [
             0.2222222222222222,
             "#7201a8"
            ],
            [
             0.3333333333333333,
             "#9c179e"
            ],
            [
             0.4444444444444444,
             "#bd3786"
            ],
            [
             0.5555555555555556,
             "#d8576b"
            ],
            [
             0.6666666666666666,
             "#ed7953"
            ],
            [
             0.7777777777777778,
             "#fb9f3a"
            ],
            [
             0.8888888888888888,
             "#fdca26"
            ],
            [
             1,
             "#f0f921"
            ]
           ],
           "sequentialminus": [
            [
             0,
             "#0d0887"
            ],
            [
             0.1111111111111111,
             "#46039f"
            ],
            [
             0.2222222222222222,
             "#7201a8"
            ],
            [
             0.3333333333333333,
             "#9c179e"
            ],
            [
             0.4444444444444444,
             "#bd3786"
            ],
            [
             0.5555555555555556,
             "#d8576b"
            ],
            [
             0.6666666666666666,
             "#ed7953"
            ],
            [
             0.7777777777777778,
             "#fb9f3a"
            ],
            [
             0.8888888888888888,
             "#fdca26"
            ],
            [
             1,
             "#f0f921"
            ]
           ]
          },
          "colorway": [
           "#636efa",
           "#EF553B",
           "#00cc96",
           "#ab63fa",
           "#FFA15A",
           "#19d3f3",
           "#FF6692",
           "#B6E880",
           "#FF97FF",
           "#FECB52"
          ],
          "font": {
           "color": "#2a3f5f"
          },
          "geo": {
           "bgcolor": "white",
           "lakecolor": "white",
           "landcolor": "#E5ECF6",
           "showlakes": true,
           "showland": true,
           "subunitcolor": "white"
          },
          "hoverlabel": {
           "align": "left"
          },
          "hovermode": "closest",
          "mapbox": {
           "style": "light"
          },
          "paper_bgcolor": "white",
          "plot_bgcolor": "#E5ECF6",
          "polar": {
           "angularaxis": {
            "gridcolor": "white",
            "linecolor": "white",
            "ticks": ""
           },
           "bgcolor": "#E5ECF6",
           "radialaxis": {
            "gridcolor": "white",
            "linecolor": "white",
            "ticks": ""
           }
          },
          "scene": {
           "xaxis": {
            "backgroundcolor": "#E5ECF6",
            "gridcolor": "white",
            "gridwidth": 2,
            "linecolor": "white",
            "showbackground": true,
            "ticks": "",
            "zerolinecolor": "white"
           },
           "yaxis": {
            "backgroundcolor": "#E5ECF6",
            "gridcolor": "white",
            "gridwidth": 2,
            "linecolor": "white",
            "showbackground": true,
            "ticks": "",
            "zerolinecolor": "white"
           },
           "zaxis": {
            "backgroundcolor": "#E5ECF6",
            "gridcolor": "white",
            "gridwidth": 2,
            "linecolor": "white",
            "showbackground": true,
            "ticks": "",
            "zerolinecolor": "white"
           }
          },
          "shapedefaults": {
           "line": {
            "color": "#2a3f5f"
           }
          },
          "ternary": {
           "aaxis": {
            "gridcolor": "white",
            "linecolor": "white",
            "ticks": ""
           },
           "baxis": {
            "gridcolor": "white",
            "linecolor": "white",
            "ticks": ""
           },
           "bgcolor": "#E5ECF6",
           "caxis": {
            "gridcolor": "white",
            "linecolor": "white",
            "ticks": ""
           }
          },
          "title": {
           "x": 0.05
          },
          "xaxis": {
           "automargin": true,
           "gridcolor": "white",
           "linecolor": "white",
           "ticks": "",
           "title": {
            "standoff": 15
           },
           "zerolinecolor": "white",
           "zerolinewidth": 2
          },
          "yaxis": {
           "automargin": true,
           "gridcolor": "white",
           "linecolor": "white",
           "ticks": "",
           "title": {
            "standoff": 15
           },
           "zerolinecolor": "white",
           "zerolinewidth": 2
          }
         }
        }
       }
      }
     },
     "metadata": {},
     "output_type": "display_data"
    }
   ],
   "source": [
    "tfmot = magpy.Collection()\n",
    "N = 2\n",
    "angles = [45,135,225,315]\n",
    "angles_d = [180,0,180,0]\n",
    "l = 30\n",
    "mstyle = dict(\n",
    "    mode=\"color+arrow\",\n",
    "    color=dict(north=\"magenta\", middle=\"white\", south=\"turquoise\"),\n",
    "    arrow=dict(width=2, color=\"k\")\n",
    ")\n",
    "for a in range(len(angles)):\n",
    "    cube= magpy.magnet.Cuboid(\n",
    "    dimension=(8,6,80),\n",
    "    polarization=(1.42,0,0),\n",
    "    position=(30+l,0,0),\n",
    "    style_magnetization=mstyle )\n",
    "    \n",
    "    cube.rotate_from_angax(angles[a], 'z',anchor = 0)\n",
    "    cube.rotate_from_angax(angles_d[a], 'z')\n",
    "\n",
    "    tfmot.add(cube)\n",
    "\n",
    "magpy.show(tfmot, backend='plotly',)"
   ]
  },
  {
   "cell_type": "code",
   "execution_count": 245,
   "metadata": {},
   "outputs": [
    {
     "data": {
      "image/png": "[encoded data removed]",
      "text/plain": [
       "<Figure size 640x480 with 2 Axes>"
      ]
     },
     "metadata": {},
     "output_type": "display_data"
    }
   ],
   "source": [
    "# Continuation from above - ensure previous code is executed\n",
    "\n",
    "import matplotlib.pyplot as plt\n",
    "fig, ax = plt.subplots()\n",
    "\n",
    "# Compute and plot field on x-y grid\n",
    "grid = np.mgrid[-10:10:100j, -10:10:100j, 0:0:1j].T[0]\n",
    "X, Y, _ = np.moveaxis(grid, 2, 0)\n",
    "\n",
    "B = tfmot.getB(grid)*1e3\n",
    "Bx, By, _ = np.moveaxis(B, 2, 0)\n",
    "Bamp = np.linalg.norm(B, axis=2)\n",
    "\n",
    "pc = ax.contourf(X, Y, Bamp, levels=50, cmap=\"coolwarm\")\n",
    "ax.streamplot(X, Y, Bx, By, color=\"k\", density=1.5, linewidth=1)\n",
    "\n",
    "# Add colorbar\n",
    "fig.colorbar(pc, ax=ax, label=\"|B| (mT)\")\n",
    "\n",
    "# Figure styling\n",
    "ax.set(\n",
    "    xlabel=\"x-position(mm)\",\n",
    "    ylabel=\"y-position(mm)\",\n",
    "    aspect=1,\n",
    ")\n",
    "\n",
    "plt.show()"
   ]
  },
  {
   "cell_type": "code",
   "execution_count": 246,
   "metadata": {},
   "outputs": [],
   "source": [
    "def v_avg(m,T):\n",
    "    return np.sqrt(8*cts.k*T/(np.pi*m))"
   ]
  },
  {
   "cell_type": "code",
   "execution_count": 321,
   "metadata": {},
   "outputs": [
    {
     "data": {
      "image/png": "[encoded data removed]",
      "text/plain": [
       "<Figure size 2000x500 with 1 Axes>"
      ]
     },
     "metadata": {},
     "output_type": "display_data"
    }
   ],
   "source": [
    "L = 16\n",
    "z = np.linspace(-20,20,1000)\n",
    "b_y = []\n",
    "b_z = []\n",
    "b_x = []\n",
    "for i in z:\n",
    "    b_x.append(tfmot.getB([0,i*10,i*10])[0])\n",
    "    b_y.append(tfmot.getB([0,i*10,i*10])[1])\n",
    "    b_z.append(tfmot.getB([0,i*10,i*10])[2])\n",
    "\n",
    "fig,ax = plt.subplots(1,1,figsize=(20,5))    \n",
    "plt.plot(z,np.array(b_x)*1e3)\n",
    "plt.plot(z,np.array(b_y)*1e3)\n",
    "plt.plot(z,np.array(b_z)*1e3)\n",
    "\n",
    "plt.xlabel('z (cm)')\n",
    "\n",
    "plt.ylabel('$B$ (mT)')\n",
    "plt.legend(['$B_y$','$B_y$','$B_z$','Analytical'])  \n",
    "plt.ylabel('$B_y$ (mT)')\n",
    "plt.title('Magnetic field along the z-axis(will going up the same amount in y)')\n",
    "plt.grid()"
   ]
  },
  {
   "cell_type": "code",
   "execution_count": 248,
   "metadata": {},
   "outputs": [
    {
     "name": "stdout",
     "output_type": "stream",
     "text": [
      "-0.067 16 656.8397643569306 0.048\n"
     ]
    }
   ],
   "source": [
    "mass_lab = 173*cts.value('atomic mass constant') # YB-173 mass in kg\n",
    "v_a = v_avg(mass_lab,216.85)\n",
    "sd = np.sqrt(cts.k*216.85/mass_lab)\n",
    "vel = np.random.normal(v_a,sd,1000000)\n",
    "klab = 2*np.pi*25068.2222# Lab wavevector (without 2pi) in cm^{-1}   # Lifetime of 6P_{3/2} state (in seconds)\n",
    "gammalab = (1.93*1e8)\n",
    "v0 =max(vel)\n",
    "Blab = -67*1e-3#(v0*cts.hbar*(klab*100))/cts.value('Bohr magneton')\n",
    "b_0L =  48*1e-3\n",
    "# (v0*cts.hbar*(klab*100))/cts.value('Bohr magneton')/2\n",
    "# T # About 15 G/cm is a typical gradient for Rb\n",
    "L = 16\n",
    "x0 = 1/klab  # cm\n",
    "t0 = 1/gammalab  # s\n",
    "#100*(mass_lab*(v0**2))/(0.5*cts.hbar*(klab*100)*gammalab) +5\n",
    "x0 = 1/klab  # cm\n",
    "t0 = 1/gammalab  # s\n",
    "vc = x0/t0*1/(100)\n",
    "Fc = gammalab*cts.hbar*klab*100\n",
    "\n",
    "print(Blab, L,v0,b_0L)"
   ]
  },
  {
   "cell_type": "code",
   "execution_count": 249,
   "metadata": {},
   "outputs": [
    {
     "name": "stdout",
     "output_type": "stream",
     "text": [
      "6.348872362073421e-06 5.181347150259067e-09 2119.188266564296 1.0 1.0 -30.52874111941582 21.871336921372524\n"
     ]
    }
   ],
   "source": [
    "x0 = 1/klab  # cm\n",
    "t0 = 1/gammalab  # s\n",
    "\n",
    "mass = mass_lab*(x0*1e-2)**2/cts.hbar/t0\n",
    "\n",
    "# And now our wavevector, decay rate, and magnetic field gradient in these units:\n",
    "k = klab*x0\n",
    "gamma = gammalab*t0\n",
    "alpha = cts.value('Bohr magneton')*Blab*t0/cts.hbar\n",
    "b_0 = cts.value('Bohr magneton')*b_0L*t0/cts.hbar \n",
    "l = L/x0 \n",
    "\n",
    "print(x0, t0, mass, k, gamma, alpha,b_0)"
   ]
  },
  {
   "cell_type": "code",
   "execution_count": null,
   "metadata": {},
   "outputs": [],
   "source": [
    "# Define the atomic Hamiltonian:\n",
    "H_g_D2, mu_q_g_D2 = pylcp.hamiltonians.hyperfine_coupled(\n",
    "0, 5/2, 0,  \t-0.2592,\n",
    "    Ahfs = 0, Bhfs=0, Chfs=0,\n",
    "    muB=1)# ground state 1s0\n",
    "H_e_D2, mu_q_e_D2 = pylcp.hamiltonians.hyperfine_coupled(\n",
    "1, 5/2, 1.035,\t-0.2592,\n",
    "    Ahfs=59.52*1e6,Bhfs = 601.87*1e6 , Chfs= 0,\n",
    "    muB=1) #excited state 1p1\n",
    "\n",
    "dijq_D2 = pylcp.hamiltonians.dqij_two_hyperfine_manifolds(0, 1, 5/2)\n",
    "\n",
    "E_e_D2 = np.unique(np.diagonal(H_e_D2))\n",
    "E_g_D2 = np.unique(np.diagonal(H_g_D2))\n",
    "hamiltonian_D2 = pylcp.hamiltonian(mass = mass)\n",
    "hamiltonian_D2.add_H_0_block('g', H_g_D2)\n",
    "hamiltonian_D2.add_H_0_block('e', H_e_D2)\n",
    "hamiltonian_D2.add_d_q_block('g', 'e', dijq_D2, gamma = gamma, k = k)\n",
    "hamiltonian_D2.add_mu_q_block('g', mu_q_g_D2)\n",
    "hamiltonian_D2.add_mu_q_block('e', mu_q_e_D2)\n",
    "\n",
    "\n",
    "\n",
    "#ham = pylcp.hamiltonian(Hg, He, mugq, mueq, dijq, mass=mass, gamma=gamma, k=k)\n",
    "# Define the atomic Hamiltonian:\n",
    "H_g_D2, mu_q_g_D2 = pylcp.hamiltonians.hyperfine_coupled(\n",
    "0, 5/2, 0,  \t-0.2592,\n",
    "    Ahfs = 0, Bhfs=0, Chfs=0,\n",
    "    muB=1)# ground state 1s0\n",
    "H_e_D2, mu_q_e_D2 = pylcp.hamiltonians.hyperfine_coupled(\n",
    "1, 5/2, 1.035,\t-0.2592,\n",
    "    Ahfs=59.52*1e6*t0,Bhfs = 601.87*1e6*t0 , Chfs= 0,\n",
    "    muB=1) #excited state 1p1\n",
    "\n",
    "dijq_D2 = pylcp.hamiltonians.dqij_two_hyperfine_manifolds(0, 1, 5/2)\n",
    "\n",
    "E_e_D2 = np.unique(np.diagonal(H_e_D2))\n",
    "E_g_D2 = np.unique(np.diagonal(H_g_D2))\n",
    "hamiltonian_D2 = pylcp.hamiltonian(mass = mass)\n",
    "hamiltonian_D2.add_H_0_block('g', H_g_D2)\n",
    "hamiltonian_D2.add_H_0_block('e', H_e_D2)\n",
    "hamiltonian_D2.add_d_q_block('g', 'e', dijq_D2, gamma = gamma, k = k)\n",
    "hamiltonian_D2.add_mu_q_block('g', mu_q_g_D2)\n",
    "hamiltonian_D2.add_mu_q_block('e', mu_q_e_D2)\n",
    "\n",
    "\n",
    "\n",
    "#ham = pylcp.hamiltonian(Hg, He, mugq, mueq, dijq, mass=mass, gamma=gamma, k=k)\n",
    "\n",
    "\n",
    "s = 20\n",
    "det = -5\n",
    "r = 0.4/x0 # this is for cylindrcal laser howver we want an eliptical one as this for somereason turns out to be better \n",
    "# Define the laser beams:\n",
    "laserBeams = pylcp.laserBeams([\n",
    "    {'kvec':np.array([0, 1, 0]),  's': s,'pol_coord':'spherical', 'pol':1, 'delta': (E_e_D2[2]-E_g_D2[0]) + det*gamma},\n",
    "    {'kvec':np.array([0, -1, 0]), 's': s,'pol_coord':'spherical', 'pol':1, 'delta': (E_e_D2[2]-E_g_D2[0]) + det*gamma},\n",
    "    # {'kvec':np.array([1, 0, 0]),  's': s,'pol_coord':'spherical', 'pol':1, 'delta': (E_e_D2[2]-E_g_D2[0]) + det*gamma},\n",
    "    # {'kvec':np.array([-1, 0, 0]), 's': s,'pol_coord':'spherical', 'pol':1, 'delta': (E_e_D2[2]-E_g_D2[0]) + det*gamma}\n",
    "     ],\n",
    "    beam_type=pylcp.infinitePlaneWaveBeam) \n",
    "\n",
    "#linGrad =  pylcp.magField(lambda R: mag(R,b_0,alpha,l))\n",
    "bf_mot = lambda R:tfmot.getB(R*10*x0)*cts.value('Bohr magneton')*t0/cts.hbar \n",
    "linGrad = pylcp.magField(lambda R: bf_mot(R))"
   ]
  },
  {
   "cell_type": "code",
   "execution_count": 339,
   "metadata": {},
   "outputs": [],
   "source": [
    "rateeq = pylcp.rateeq(laserBeams, linGrad, hamiltonian_D2, include_mag_forces=False)"
   ]
  },
  {
   "cell_type": "code",
   "execution_count": 340,
   "metadata": {},
   "outputs": [
    {
     "data": {
      "text/plain": [
       "12.253323658801703"
      ]
     },
     "execution_count": 340,
     "metadata": {},
     "output_type": "execute_result"
    }
   ],
   "source": [
    "vc"
   ]
  },
  {
   "cell_type": "code",
   "execution_count": 342,
   "metadata": {},
   "outputs": [
    {
     "name": "stderr",
     "output_type": "stream",
     "text": [
      "c:\\Users\\benfo\\AppData\\Local\\Programs\\Python\\Python312\\Lib\\site-packages\\pylcp\\rateeq.py:264: ComplexWarning:\n",
      "\n",
      "Casting complex values to real discards the imaginary part\n",
      "\n"
     ]
    },
    {
     "name": "stdout",
     "output_type": "stream",
     "text": [
      "Progress: |------------------------------| 0.0%; time left: 31.98 s\r"
     ]
    },
    {
     "ename": "ValueError",
     "evalue": "Unable to find solution at r=(0.00,-2937529.52,0.00) and v=(0.00,-12.24,0.00)",
     "output_type": "error",
     "traceback": [
      "\u001b[1;31m---------------------------------------------------------------------------\u001b[0m",
      "\u001b[1;31mValueError\u001b[0m                                Traceback (most recent call last)",
      "File \u001b[1;32mc:\\Users\\benfo\\AppData\\Local\\Programs\\Python\\Python312\\Lib\\site-packages\\pylcp\\rateeq.py:843\u001b[0m, in \u001b[0;36mrateeq.generate_force_profile\u001b[1;34m(self, R, V, name, progress_bar, **kwargs)\u001b[0m\n\u001b[0;32m    842\u001b[0m \u001b[38;5;28;01mtry\u001b[39;00m:\n\u001b[1;32m--> 843\u001b[0m     F, f, Neq, Rijl, f_mag \u001b[38;5;241m=\u001b[39m \u001b[38;5;28;43mself\u001b[39;49m\u001b[38;5;241;43m.\u001b[39;49m\u001b[43mfind_equilibrium_force\u001b[49m\u001b[43m(\u001b[49m\n\u001b[0;32m    844\u001b[0m \u001b[43m        \u001b[49m\u001b[43mreturn_details\u001b[49m\u001b[38;5;241;43m=\u001b[39;49m\u001b[38;5;28;43;01mTrue\u001b[39;49;00m\u001b[43m,\u001b[49m\u001b[43m \u001b[49m\u001b[38;5;241;43m*\u001b[39;49m\u001b[38;5;241;43m*\u001b[39;49m\u001b[43mkwargs\u001b[49m\n\u001b[0;32m    845\u001b[0m \u001b[43m        \u001b[49m\u001b[43m)\u001b[49m\n\u001b[0;32m    846\u001b[0m \u001b[38;5;28;01mexcept\u001b[39;00m:\n",
      "File \u001b[1;32mc:\\Users\\benfo\\AppData\\Local\\Programs\\Python\\Python312\\Lib\\site-packages\\pylcp\\rateeq.py:780\u001b[0m, in \u001b[0;36mrateeq.find_equilibrium_force\u001b[1;34m(self, return_details, **kwargs)\u001b[0m\n\u001b[0;32m    779\u001b[0m \u001b[38;5;28;01melse\u001b[39;00m:\n\u001b[1;32m--> 780\u001b[0m     N_eq, Rev, Rijl \u001b[38;5;241m=\u001b[39m \u001b[38;5;28;43mself\u001b[39;49m\u001b[38;5;241;43m.\u001b[39;49m\u001b[43mequilibrium_populations\u001b[49m\u001b[43m(\u001b[49m\n\u001b[0;32m    781\u001b[0m \u001b[43m        \u001b[49m\u001b[38;5;28;43mself\u001b[39;49m\u001b[38;5;241;43m.\u001b[39;49m\u001b[43mr0\u001b[49m\u001b[43m,\u001b[49m\u001b[43m \u001b[49m\u001b[38;5;28;43mself\u001b[39;49m\u001b[38;5;241;43m.\u001b[39;49m\u001b[43mv0\u001b[49m\u001b[43m,\u001b[49m\u001b[43m \u001b[49m\u001b[43mt\u001b[49m\u001b[38;5;241;43m=\u001b[39;49m\u001b[38;5;241;43m0.\u001b[39;49m\u001b[43m,\u001b[49m\u001b[43m \u001b[49m\u001b[43mreturn_details\u001b[49m\u001b[38;5;241;43m=\u001b[39;49m\u001b[38;5;28;43;01mTrue\u001b[39;49;00m\u001b[43m,\u001b[49m\u001b[43m \u001b[49m\u001b[38;5;241;43m*\u001b[39;49m\u001b[38;5;241;43m*\u001b[39;49m\u001b[43mkwargs\u001b[49m\n\u001b[0;32m    782\u001b[0m \u001b[43m        \u001b[49m\u001b[43m)\u001b[49m\n\u001b[0;32m    784\u001b[0m     F_eq, f_eq, f_mag \u001b[38;5;241m=\u001b[39m \u001b[38;5;28mself\u001b[39m\u001b[38;5;241m.\u001b[39mforce(\u001b[38;5;28mself\u001b[39m\u001b[38;5;241m.\u001b[39mr0, \u001b[38;5;241m0.\u001b[39m, N_eq)\n",
      "File \u001b[1;32mc:\\Users\\benfo\\AppData\\Local\\Programs\\Python\\Python312\\Lib\\site-packages\\pylcp\\rateeq.py:373\u001b[0m, in \u001b[0;36mrateeq.equilibrium_populations\u001b[1;34m(self, r, v, t, **kwargs)\u001b[0m\n\u001b[0;32m    371\u001b[0m return_details \u001b[38;5;241m=\u001b[39m kwargs\u001b[38;5;241m.\u001b[39mpop(\u001b[38;5;124m'\u001b[39m\u001b[38;5;124mreturn_details\u001b[39m\u001b[38;5;124m'\u001b[39m, \u001b[38;5;28;01mFalse\u001b[39;00m)\n\u001b[1;32m--> 373\u001b[0m Rev, Rijl \u001b[38;5;241m=\u001b[39m \u001b[38;5;28;43mself\u001b[39;49m\u001b[38;5;241;43m.\u001b[39;49m\u001b[43mconstruct_evolution_matrix\u001b[49m\u001b[43m(\u001b[49m\u001b[43mr\u001b[49m\u001b[43m,\u001b[49m\u001b[43m \u001b[49m\u001b[43mv\u001b[49m\u001b[43m,\u001b[49m\u001b[43m \u001b[49m\u001b[43mt\u001b[49m\u001b[43m,\u001b[49m\u001b[43m \u001b[49m\u001b[38;5;241;43m*\u001b[39;49m\u001b[38;5;241;43m*\u001b[39;49m\u001b[43mkwargs\u001b[49m\u001b[43m)\u001b[49m\n\u001b[0;32m    375\u001b[0m \u001b[38;5;66;03m# Find the singular values:\u001b[39;00m\n",
      "File \u001b[1;32mc:\\Users\\benfo\\AppData\\Local\\Programs\\Python\\Python312\\Lib\\site-packages\\pylcp\\rateeq.py:318\u001b[0m, in \u001b[0;36mrateeq.construct_evolution_matrix\u001b[1;34m(self, r, v, t, default_axis)\u001b[0m\n\u001b[0;32m    317\u001b[0m \u001b[38;5;66;03m# Diagonalize the hamiltonian at this location:\u001b[39;00m\n\u001b[1;32m--> 318\u001b[0m \u001b[38;5;28;43mself\u001b[39;49m\u001b[38;5;241;43m.\u001b[39;49m\u001b[43mhamiltonian\u001b[49m\u001b[38;5;241;43m.\u001b[39;49m\u001b[43mdiag_static_field\u001b[49m\u001b[43m(\u001b[49m\u001b[43mBmag\u001b[49m\u001b[43m)\u001b[49m\n\u001b[0;32m    320\u001b[0m \u001b[38;5;66;03m# Re-initialize the evolution matrix:\u001b[39;00m\n",
      "File \u001b[1;32mc:\\Users\\benfo\\AppData\\Local\\Programs\\Python\\Python312\\Lib\\site-packages\\pylcp\\hamiltonian.py:555\u001b[0m, in \u001b[0;36mhamiltonian.diag_static_field\u001b[1;34m(self, B)\u001b[0m\n\u001b[0;32m    554\u001b[0m     \u001b[38;5;28;01melse\u001b[39;00m:\n\u001b[1;32m--> 555\u001b[0m         \u001b[38;5;28;01mraise\u001b[39;00m \u001b[38;5;167;01mValueError\u001b[39;00m(\u001b[38;5;124m'\u001b[39m\u001b[38;5;124mYou broke the Hamiltonian!\u001b[39m\u001b[38;5;124m'\u001b[39m)\n\u001b[0;32m    556\u001b[0m \u001b[38;5;28;01melse\u001b[39;00m: \u001b[38;5;66;03m# It is diagonal:\u001b[39;00m\n",
      "\u001b[1;31mValueError\u001b[0m: You broke the Hamiltonian!",
      "\nDuring handling of the above exception, another exception occurred:\n",
      "\u001b[1;31mValueError\u001b[0m                                Traceback (most recent call last)",
      "Cell \u001b[1;32mIn[342], line 15\u001b[0m\n\u001b[0;32m     13\u001b[0m Rvec \u001b[38;5;241m=\u001b[39m np\u001b[38;5;241m.\u001b[39marray([np\u001b[38;5;241m.\u001b[39mzeros(Y\u001b[38;5;241m.\u001b[39mshape), Y, np\u001b[38;5;241m.\u001b[39mzeros(Y\u001b[38;5;241m.\u001b[39mshape)])\n\u001b[0;32m     14\u001b[0m Vvec \u001b[38;5;241m=\u001b[39m np\u001b[38;5;241m.\u001b[39marray([np\u001b[38;5;241m.\u001b[39mzeros(V\u001b[38;5;241m.\u001b[39mshape), V, np\u001b[38;5;241m.\u001b[39mzeros(V\u001b[38;5;241m.\u001b[39mshape)])\n\u001b[1;32m---> 15\u001b[0m \u001b[43mrateeq\u001b[49m\u001b[38;5;241;43m.\u001b[39;49m\u001b[43mgenerate_force_profile\u001b[49m\u001b[43m(\u001b[49m\u001b[43mRvec\u001b[49m\u001b[43m,\u001b[49m\u001b[43m \u001b[49m\u001b[43mVvec\u001b[49m\u001b[43m,\u001b[49m\u001b[43m \u001b[49m\u001b[43mname\u001b[49m\u001b[38;5;241;43m=\u001b[39;49m\u001b[38;5;124;43m'\u001b[39;49m\u001b[38;5;124;43mFz\u001b[39;49m\u001b[38;5;124;43m'\u001b[39;49m\u001b[43m,\u001b[49m\u001b[43m \u001b[49m\u001b[43mprogress_bar\u001b[49m\u001b[38;5;241;43m=\u001b[39;49m\u001b[38;5;28;43;01mTrue\u001b[39;49;00m\u001b[43m)\u001b[49m\n",
      "File \u001b[1;32mc:\\Users\\benfo\\AppData\\Local\\Programs\\Python\\Python312\\Lib\\site-packages\\pylcp\\rateeq.py:847\u001b[0m, in \u001b[0;36mrateeq.generate_force_profile\u001b[1;34m(self, R, V, name, progress_bar, **kwargs)\u001b[0m\n\u001b[0;32m    843\u001b[0m     F, f, Neq, Rijl, f_mag \u001b[38;5;241m=\u001b[39m \u001b[38;5;28mself\u001b[39m\u001b[38;5;241m.\u001b[39mfind_equilibrium_force(\n\u001b[0;32m    844\u001b[0m         return_details\u001b[38;5;241m=\u001b[39m\u001b[38;5;28;01mTrue\u001b[39;00m, \u001b[38;5;241m*\u001b[39m\u001b[38;5;241m*\u001b[39mkwargs\n\u001b[0;32m    845\u001b[0m         )\n\u001b[0;32m    846\u001b[0m \u001b[38;5;28;01mexcept\u001b[39;00m:\n\u001b[1;32m--> 847\u001b[0m     \u001b[38;5;28;01mraise\u001b[39;00m \u001b[38;5;167;01mValueError\u001b[39;00m(\n\u001b[0;32m    848\u001b[0m         \u001b[38;5;124m\"\u001b[39m\u001b[38;5;124mUnable to find solution at \u001b[39m\u001b[38;5;124m\"\u001b[39m \u001b[38;5;241m+\u001b[39m\\\n\u001b[0;32m    849\u001b[0m         \u001b[38;5;124m\"\u001b[39m\u001b[38;5;124mr=(\u001b[39m\u001b[38;5;132;01m{0:0.2f}\u001b[39;00m\u001b[38;5;124m,\u001b[39m\u001b[38;5;132;01m{1:0.2f}\u001b[39;00m\u001b[38;5;124m,\u001b[39m\u001b[38;5;132;01m{2:0.2f}\u001b[39;00m\u001b[38;5;124m)\u001b[39m\u001b[38;5;124m\"\u001b[39m\u001b[38;5;241m.\u001b[39mformat(x, y, z) \u001b[38;5;241m+\u001b[39m \u001b[38;5;124m\"\u001b[39m\u001b[38;5;124m and \u001b[39m\u001b[38;5;124m\"\u001b[39m \u001b[38;5;241m+\u001b[39m\n\u001b[0;32m    850\u001b[0m         \u001b[38;5;124m\"\u001b[39m\u001b[38;5;124mv=(\u001b[39m\u001b[38;5;132;01m{0:0.2f}\u001b[39;00m\u001b[38;5;124m,\u001b[39m\u001b[38;5;132;01m{1:0.2f}\u001b[39;00m\u001b[38;5;124m,\u001b[39m\u001b[38;5;132;01m{2:0.2f}\u001b[39;00m\u001b[38;5;124m)\u001b[39m\u001b[38;5;124m\"\u001b[39m\u001b[38;5;241m.\u001b[39mformat(vx, vy, vz)\n\u001b[0;32m    851\u001b[0m         )\n\u001b[0;32m    853\u001b[0m \u001b[38;5;28;01mif\u001b[39;00m progress_bar:\n\u001b[0;32m    854\u001b[0m     progress\u001b[38;5;241m.\u001b[39mupdate((it\u001b[38;5;241m.\u001b[39miterindex\u001b[38;5;241m+\u001b[39m\u001b[38;5;241m1\u001b[39m)\u001b[38;5;241m/\u001b[39mit\u001b[38;5;241m.\u001b[39mitersize)\n",
      "\u001b[1;31mValueError\u001b[0m: Unable to find solution at r=(0.00,-2937529.52,0.00) and v=(0.00,-12.24,0.00)"
     ]
    }
   ],
   "source": [
    "position = np.linspace(-0.4,0.4,20)\n",
    "max_force = []\n",
    "#for i in position:    \n",
    "\n",
    "Fc = cts.hbar*klab*gammalab\n",
    "x = np.arange(-5, 5, 0.05)/x0\n",
    "y = np.arange(-20, 20, 0.05)/x0\n",
    "Z = np.arange(-5, 5, 0.5)/x0\n",
    "v = np.arange(-150, 150, 30)/vc\n",
    "\n",
    "V,Y = np.meshgrid(v,y)\n",
    "\n",
    "Rvec = np.array([np.zeros(Y.shape), Y, np.zeros(Y.shape)])\n",
    "Vvec = np.array([np.zeros(V.shape), V, np.zeros(V.shape)])\n",
    "rateeq.generate_force_profile(Rvec, Vvec, name='Fz', progress_bar=True)\n"
   ]
  },
  {
   "cell_type": "code",
   "execution_count": 326,
   "metadata": {},
   "outputs": [
    {
     "data": {
      "text/plain": [
       "Text(0.5, 1.0, 'Contour plot of position vs velocity and force')"
      ]
     },
     "execution_count": 326,
     "metadata": {},
     "output_type": "execute_result"
    },
    {
     "data": {
      "image/png": "[encoded data removed]",
      "text/plain": [
       "<Figure size 2000x500 with 2 Axes>"
      ]
     },
     "metadata": {},
     "output_type": "display_data"
    }
   ],
   "source": [
    "fig,ax = plt.subplots(1,1,figsize=(20,5))\n",
    "Fc = gammalab*cts.hbar*klab*100\n",
    "im1 = ax.contourf(np.array(v)*vc, np.array(y)*x0,rateeq.profile['Fz'].F[1]*Fc)\n",
    "fig.subplots_adjust(left=0.08, wspace=0.2)\n",
    "cb1 = plt.colorbar(im1)\n",
    "cb1.set_label('$F(N)$')\n",
    "ax.set_ylabel('$y$ (cm)')\n",
    "ax.set_xlabel('$v (ms^{-1})$')\n",
    "plt.title('Contour plot of position vs velocity and force')"
   ]
  },
  {
   "cell_type": "code",
   "execution_count": null,
   "metadata": {},
   "outputs": [
    {
     "data": {
      "text/plain": [
       "0.17593586820759652"
      ]
     },
     "execution_count": 256,
     "metadata": {},
     "output_type": "execute_result"
    }
   ],
   "source": [
    "1/np.e**2*1.3"
   ]
  },
  {
   "cell_type": "code",
   "execution_count": 257,
   "metadata": {},
   "outputs": [],
   "source": [
    "# Constants\n",
    "k_B = cts.k  # Boltzmann constant in J/K\n",
    " # Atomic mass of Yb-173\n",
    "mass_kg = mass_lab  # Convert to kilograms\n",
    "temperature = 405 + 273.15  # Convert Celsius to Kelvin\n",
    "\n",
    "# Velocity Probability Function\n",
    "def p(m, T, v):\n",
    "    return (m / (k_B * T))**2 * np.exp(-m * v**2 / (2 * k_B * T)) * (v**3) / 2"
   ]
  },
  {
   "cell_type": "code",
   "execution_count": 258,
   "metadata": {},
   "outputs": [],
   "source": [
    "class MaxwellBoltzmann(rv_continuous):\n",
    "    def _pdf(self, v):\n",
    "        return p(mass_kg, temperature, v)\n",
    "\n",
    "# Define the custom distribution\n",
    "maxwell_boltzmann = MaxwellBoltzmann(a=0, name=\"Maxwell-Boltzmann\")"
   ]
  },
  {
   "cell_type": "code",
   "execution_count": 259,
   "metadata": {},
   "outputs": [
    {
     "name": "stdout",
     "output_type": "stream",
     "text": [
      "69\n"
     ]
    },
    {
     "data": {
      "image/png": "[encoded data removed]",
      "text/plain": [
       "<Figure size 640x480 with 1 Axes>"
      ]
     },
     "metadata": {},
     "output_type": "display_data"
    }
   ],
   "source": [
    "size = 100# Number of samples\n",
    "velocities = maxwell_boltzmann.rvs(size=size)\n",
    "velocities = velocities[velocities < 400]\n",
    "velocities_t = [np.tan(35e-3)*i for i in velocities ]\n",
    "v_0 = []\n",
    "for i in range(len(velocities)):\n",
    "    v_0.append([velocities_t[i],velocities_t[i],50])\n",
    "# Display the sampled velocities\n",
    "print(len(velocities))\n",
    "plt.hist(velocities, bins=100, density=True)\n",
    "plt.grid()\n"
   ]
  },
  {
   "cell_type": "code",
   "execution_count": 260,
   "metadata": {},
   "outputs": [],
   "source": [
    "def simulate_trajectory_zeeman(v_0, t_span,mass_lab):\n",
    "    x_t,y_t, v_tx, v_ty, t = [], [], [],[], []\n",
    "    di = 0  # Initial conditions\n",
    "    s = [0,0,0]\n",
    "    for q in range(len(t_span)):\n",
    "        v_x = v_0[0]\n",
    "\n",
    "        v_y = v_0[1]\n",
    "\n",
    "        v_z = v_0[2]\n",
    "    \n",
    "        dt = t_span[q] - di\n",
    "        \n",
    "        f  = 0\n",
    "\n",
    "        # Interpolate the force profile\n",
    "\n",
    "        # Update position and velocity\n",
    "   \n",
    "        a_x   = 0\n",
    "        a_y   = 0\n",
    "        a_z   = 0\n",
    "\n",
    "    \n",
    "\n",
    "        s_x = (1/2)*a_x*(dt**2) + v_x*dt + s[0]\n",
    "        \n",
    "        s_y = (1/2)*a_y*(dt**2) + v_y*dt + s[0]\n",
    "\n",
    "        s_z = (1/2)*a_z*(dt**2) + v_z*dt + s[0]\n",
    "        \n",
    "        v_x = v_x + a_x*dt\n",
    "\n",
    "        v_y = v_y + a_y*dt\n",
    "\n",
    "        v_z = v_z + a_z*dt\n",
    "\n",
    "        # Append values\n",
    "        x_t.append(s_x)\n",
    "        y_t.append(s_y)\n",
    "        v_tx.append(v_x)\n",
    "        v_ty.append(v_y)\n",
    "        t.append(t_span[q])\n",
    "        di = t_span[q]\n",
    "        v_0 = (v_x,v_y,v_z)\n",
    "        s = (s_x,s_y,s_z)\n",
    " \n",
    "\n",
    "    return x_t, y_t, v_tx, v_ty, t"
   ]
  },
  {
   "cell_type": "code",
   "execution_count": 241,
   "metadata": {},
   "outputs": [
    {
     "name": "stdout",
     "output_type": "stream",
     "text": [
      "nan\n"
     ]
    },
    {
     "name": "stderr",
     "output_type": "stream",
     "text": [
      "c:\\Users\\benfo\\AppData\\Local\\Programs\\Python\\Python312\\Lib\\site-packages\\pylcp\\rateeq.py:264: ComplexWarning:\n",
      "\n",
      "Casting complex values to real discards the imaginary part\n",
      "\n"
     ]
    }
   ],
   "source": [
    "rateeq.generate_force_profile(np.array([11.022735481968033, 11.022735481968033, 50]),np.array([100,10,10]), name='Fz', progress_bar=False)\n",
    "print(rateeq.profile['Fz'].F[1])"
   ]
  },
  {
   "cell_type": "code",
   "execution_count": null,
   "metadata": {},
   "outputs": [],
   "source": []
  },
  {
   "cell_type": "code",
   "execution_count": null,
   "metadata": {},
   "outputs": [
    {
     "ename": "SyntaxError",
     "evalue": "unmatched ')' (1855538771.py, line 30)",
     "output_type": "error",
     "traceback": [
      "\u001b[1;36m  Cell \u001b[1;32mIn[228], line 30\u001b[1;36m\u001b[0m\n\u001b[1;33m    if np.isnan(v_0)).any():\u001b[0m\n\u001b[1;37m                    ^\u001b[0m\n\u001b[1;31mSyntaxError\u001b[0m\u001b[1;31m:\u001b[0m unmatched ')'\n"
     ]
    }
   ],
   "source": [
    "x0_m = x0 / 100\n",
    "\n",
    "def simulate_trajectory(v_0, t_span, mass_lab):\n",
    "\n",
    "    x_t, y_t, v_tx, v_ty, t = [], [], [], [], []\n",
    "\n",
    "    di = 0  # Initial conditions\n",
    "\n",
    "    s = [0, 0, 0]\n",
    "    \n",
    "    b = 0\n",
    "\n",
    "    for q in range(len(t_span)):\n",
    "        v_x = v_0[0]/vc\n",
    "        v_y = v_0[1]/vc\n",
    "        v_z = v_0[2]/vc\n",
    "        #print(v_0)\n",
    "        dt = (t_span[q] - di)/t0\n",
    "        \n",
    "        # if np.isnan(v_0).any():\n",
    "        #     print(v_0 , s,dt,a_x)\n",
    "        #     break\n",
    "\n",
    "        b  = b +1\n",
    "\n",
    "        if any(v_0) < 1e-10:\n",
    "            print(v_0)\n",
    "            break\n",
    "        \n",
    "        if np.isnan(v_0).any():\n",
    "            print(f'final b is {b}') \n",
    "            break\n",
    "    \n",
    "  \n",
    "        print(v_0)\n",
    "        rateeq.generate_force_profile(np.array(v_0)/vc, np.array(s), name='Fz', progress_bar=False)\n",
    "     \n",
    "    \n",
    "        # Update position and velocity\n",
    "\n",
    "        a_x = rateeq.profile['Fz'].F[0]/mass\n",
    "        \n",
    "        a_y = rateeq.profile['Fz'].F[1]/mass\n",
    "\n",
    "        a_z = 0 \n",
    "\n",
    "        s_x = (1 / 2) * a_x * (dt ** 2) + v_x * dt + s[0]\n",
    "\n",
    "        s_y = (1 / 2) * a_y * (dt ** 2) + v_y * dt + s[1]\n",
    "\n",
    "        s_z = (1 / 2) * a_z * (dt ** 2) + v_z * dt + s[2]\n",
    "        #print(a_y)\n",
    "\n",
    "        v_x = v_x + a_x * dt\n",
    "\n",
    "        v_y = v_y + a_y * dt\n",
    "\n",
    "        v_z = v_z + a_z * dt\n",
    "\n",
    "        # Append values\n",
    "        x_t.append(s_x)\n",
    "        y_t.append(s_y)\n",
    "        v_tx.append(v_x)\n",
    "        v_ty.append(v_y)\n",
    "        t.append(t_span[q])\n",
    "\n",
    "        di = t_span[q]\n",
    "        v_0 = [v_x, v_y, v_z]\n",
    "        s = [s_x, s_y, s_z]\n",
    "        print\n",
    "        #print(dt)\n",
    "    return x_t, y_t, v_tx, v_ty, t"
   ]
  },
  {
   "cell_type": "code",
   "execution_count": 230,
   "metadata": {},
   "outputs": [
    {
     "name": "stdout",
     "output_type": "stream",
     "text": [
      "[11.022735481968033, 11.022735481968033, 50]\n",
      "final b is 2\n",
      "1\n",
      "[7.154099132251296, 7.154099132251296, 50]\n",
      "final b is 2\n",
      "2\n",
      "[11.968395621797118, 11.968395621797118, 50]\n",
      "final b is 2\n",
      "3\n",
      "[13.147147188529413, 13.147147188529413, 50]\n",
      "final b is 2\n",
      "4\n",
      "[11.372590871125883, 11.372590871125883, 50]\n",
      "final b is 2\n",
      "5\n",
      "[9.69854174799227, 9.69854174799227, 50]\n",
      "final b is 2\n",
      "6\n",
      "[7.116808163695827, 7.116808163695827, 50]\n",
      "final b is 2\n",
      "7\n",
      "[7.859013407057279, 7.859013407057279, 50]\n",
      "final b is 2\n",
      "8\n",
      "[6.311699465319647, 6.311699465319647, 50]\n",
      "final b is 2\n",
      "9\n",
      "[8.641470723927364, 8.641470723927364, 50]\n",
      "final b is 2\n",
      "10\n",
      "[13.233366249214848, 13.233366249214848, 50]\n",
      "final b is 2\n",
      "11\n",
      "[12.73626155572145, 12.73626155572145, 50]\n",
      "final b is 2\n",
      "12\n",
      "[7.694302070312082, 7.694302070312082, 50]\n",
      "final b is 2\n",
      "13\n",
      "[13.349030508558496, 13.349030508558496, 50]\n",
      "final b is 2\n",
      "14\n",
      "[13.23306586406687, 13.23306586406687, 50]\n",
      "final b is 2\n",
      "15\n",
      "[13.603711794632448, 13.603711794632448, 50]\n",
      "final b is 2\n",
      "16\n",
      "[10.480626850421324, 10.480626850421324, 50]\n",
      "final b is 2\n",
      "17\n",
      "[11.829793526118737, 11.829793526118737, 50]\n",
      "final b is 2\n",
      "18\n",
      "[13.056431695750156, 13.056431695750156, 50]\n",
      "final b is 2\n",
      "19\n",
      "[9.346352541489665, 9.346352541489665, 50]\n",
      "final b is 2\n",
      "20\n",
      "[12.662469313550465, 12.662469313550465, 50]\n",
      "final b is 2\n",
      "21\n",
      "[11.123515261376284, 11.123515261376284, 50]\n",
      "final b is 2\n",
      "22\n",
      "[11.246179121304738, 11.246179121304738, 50]\n",
      "final b is 2\n",
      "23\n",
      "[11.925947088365518, 11.925947088365518, 50]\n",
      "final b is 2\n",
      "24\n",
      "[5.921579076057371, 5.921579076057371, 50]\n",
      "final b is 2\n",
      "25\n",
      "[7.136001918642823, 7.136001918642823, 50]\n",
      "final b is 2\n",
      "26\n",
      "[6.420362097295415, 6.420362097295415, 50]\n",
      "final b is 2\n",
      "27\n",
      "[10.347181495416992, 10.347181495416992, 50]\n",
      "final b is 2\n",
      "28\n",
      "[6.732958209441337, 6.732958209441337, 50]\n",
      "final b is 2\n",
      "29\n",
      "[12.729849295732343, 12.729849295732343, 50]\n",
      "final b is 2\n",
      "30\n",
      "[6.834277605506292, 6.834277605506292, 50]\n",
      "final b is 2\n",
      "31\n",
      "[5.87794188429937, 5.87794188429937, 50]\n",
      "final b is 2\n",
      "32\n",
      "[10.077238536766043, 10.077238536766043, 50]\n",
      "final b is 2\n",
      "33\n",
      "[6.741183735184981, 6.741183735184981, 50]\n",
      "final b is 2\n",
      "34\n",
      "[9.061057371560182, 9.061057371560182, 50]\n",
      "final b is 2\n",
      "35\n",
      "[11.350845149910237, 11.350845149910237, 50]\n",
      "final b is 2\n",
      "36\n",
      "[4.651676645742372, 4.651676645742372, 50]\n",
      "final b is 2\n",
      "37\n",
      "[9.856725945001143, 9.856725945001143, 50]\n",
      "final b is 2\n",
      "38\n",
      "[13.237389932403257, 13.237389932403257, 50]\n",
      "final b is 2\n",
      "39\n",
      "[5.5156369779713765, 5.5156369779713765, 50]\n",
      "final b is 2\n",
      "40\n",
      "[9.892677734275217, 9.892677734275217, 50]\n",
      "final b is 2\n",
      "41\n",
      "[12.292323781555725, 12.292323781555725, 50]\n",
      "final b is 2\n",
      "42\n",
      "[7.688197377491338, 7.688197377491338, 50]\n",
      "final b is 2\n",
      "43\n",
      "[10.284728367069176, 10.284728367069176, 50]\n",
      "final b is 2\n",
      "44\n",
      "[10.377221550847858, 10.377221550847858, 50]\n",
      "final b is 2\n",
      "45\n",
      "[8.451554518385562, 8.451554518385562, 50]\n",
      "final b is 2\n",
      "46\n",
      "[6.957097057905535, 6.957097057905535, 50]\n",
      "final b is 2\n",
      "47\n",
      "[6.94969812647268, 6.94969812647268, 50]\n",
      "final b is 2\n",
      "48\n",
      "[13.713530682020437, 13.713530682020437, 50]\n",
      "final b is 2\n",
      "49\n",
      "[8.004256223631218, 8.004256223631218, 50]\n",
      "final b is 2\n",
      "50\n",
      "[8.92304937445099, 8.92304937445099, 50]\n",
      "final b is 2\n",
      "51\n",
      "[7.445189947838546, 7.445189947838546, 50]\n",
      "final b is 2\n",
      "52\n",
      "[11.664395462797216, 11.664395462797216, 50]\n",
      "final b is 2\n",
      "53\n",
      "[8.659420277793027, 8.659420277793027, 50]\n",
      "final b is 2\n",
      "54\n",
      "[8.773252309898348, 8.773252309898348, 50]\n",
      "final b is 2\n",
      "55\n",
      "[5.7755842569494815, 5.7755842569494815, 50]\n",
      "final b is 2\n",
      "56\n",
      "[8.603232419926796, 8.603232419926796, 50]\n",
      "final b is 2\n",
      "57\n",
      "[12.664914523137888, 12.664914523137888, 50]\n",
      "final b is 2\n",
      "58\n",
      "[8.161125525724787, 8.161125525724787, 50]\n",
      "final b is 2\n",
      "59\n",
      "[6.404239547001186, 6.404239547001186, 50]\n",
      "final b is 2\n",
      "60\n",
      "[8.1823526529839, 8.1823526529839, 50]\n",
      "final b is 2\n",
      "61\n",
      "[8.605575675089966, 8.605575675089966, 50]\n",
      "final b is 2\n",
      "62\n",
      "[8.80249519297175, 8.80249519297175, 50]\n",
      "final b is 2\n",
      "63\n",
      "[8.799584672042847, 8.799584672042847, 50]\n",
      "final b is 2\n",
      "64\n",
      "[10.775231177283535, 10.775231177283535, 50]\n",
      "final b is 2\n",
      "65\n",
      "[2.1575289759836913, 2.1575289759836913, 50]\n",
      "final b is 2\n",
      "66\n",
      "[11.91480920827952, 11.91480920827952, 50]\n",
      "final b is 2\n",
      "67\n",
      "[10.126245517192928, 10.126245517192928, 50]\n",
      "final b is 2\n",
      "68\n",
      "[11.161683889282095, 11.161683889282095, 50]\n",
      "final b is 2\n",
      "69\n"
     ]
    }
   ],
   "source": [
    "# The 2D MOT seems to be slowing although the function is still tempramental working only for some values of v_0 which \n",
    "# suggest to me the units are not correct. howver i can not seem to see where the units are wrong.\n",
    "x_n = []\n",
    "y_n = []\n",
    "v_tx_n = []\n",
    "v_ty_n = []\n",
    "t_n = []\n",
    "t_max = 0.00008\n",
    "t_span = np.linspace(0, t_max, 1000)\n",
    "\n",
    "b = 0\n",
    "for i in v_0:\n",
    "    x_t, y_t, v_tx, v_ty, t = simulate_trajectory(i, t_span, mass_lab)\n",
    "\n",
    "    x_n.append(x_t)\n",
    "    y_n.append(y_t)\n",
    "    v_tx_n.append(v_tx)\n",
    "    v_ty_n.append(v_ty)\n",
    "    t_n.append(t)\n",
    "\n",
    "    b += 1\n",
    "    print(b)\n",
    "    "
   ]
  },
  {
   "cell_type": "code",
   "execution_count": 213,
   "metadata": {},
   "outputs": [],
   "source": [
    "\n",
    "# t_max = 0.005\n",
    "# t_span =  np.linspace(0, t_max, 1000)\n",
    "# theta = 37e-3\n",
    "# # Define a list of initial velocities (v_0)\n",
    "# initial_velocities = v_0\n",
    "\n",
    "# # Create a pool of processes\n",
    "# with mp.Pool(processes = mp.cpu_count()) as pool:\n",
    "#     # Map only v_0 to simulate_trajectory; pass constant args using `starmap`\n",
    "#     results = pool.starmap(\n",
    "#         simulate_trajectory, [(v, t_span, mass_lab) for v in initial_velocities]\n",
    "#     )\n",
    "\n",
    "# # Save results into a new list\n",
    "# all_trajectories = []\n",
    "# for result in results:\n",
    "#     all_trajectories.append(result)\n",
    "\n",
    "# # Print the saved list\n",
    "# for i, trajectory in enumerate(all_trajectories):\n",
    "#     print(f\"Trajectory {i + 1}:\")\n",
    "#     print(\"x_t:\", trajectory[0])\n",
    "#     print(\"y_t:\", trajectory[1])\n",
    "#     print()"
   ]
  },
  {
   "cell_type": "code",
   "execution_count": 214,
   "metadata": {},
   "outputs": [],
   "source": [
    "initial_y = []\n",
    "final_y = []\n",
    "for i in range(len(x_n)):\n",
    "\n",
    "    final_y.append(v_ty_n[i][-1]*vc)\n",
    "    initial_y.append(v_ty_n[i][0]*vc)"
   ]
  },
  {
   "cell_type": "code",
   "execution_count": 215,
   "metadata": {},
   "outputs": [
    {
     "data": {
      "text/plain": [
       "<matplotlib.legend.Legend at 0x14ed04ecdd0>"
      ]
     },
     "execution_count": 215,
     "metadata": {},
     "output_type": "execute_result"
    },
    {
     "data": {
      "image/png": "[encoded data removed]",
      "text/plain": [
       "<Figure size 640x480 with 1 Axes>"
      ]
     },
     "metadata": {},
     "output_type": "display_data"
    }
   ],
   "source": [
    "k  = np.linspace(2.5,14,100)\n",
    "\n",
    "plt.scatter(initial_y,final_y)\n",
    "plt.xlabel('Initial velocity(m/s)')\n",
    "plt.ylabel('Final velocity(m/s)')\n",
    "plt.plot(k,k,'r')\n",
    "plt.legend(['MOT simulation','y=x'])"
   ]
  },
  {
   "cell_type": "code",
   "execution_count": null,
   "metadata": {},
   "outputs": [],
   "source": []
  }
 ],
 "metadata": {
  "kernelspec": {
   "display_name": "Python 3",
   "language": "python",
   "name": "python3"
  },
  "language_info": {
   "codemirror_mode": {
    "name": "ipython",
    "version": 3
   },
   "file_extension": ".py",
   "mimetype": "text/x-python",
   "name": "python",
   "nbconvert_exporter": "python",
   "pygments_lexer": "ipython3",
   "version": "3.12.3"
  }
 },
 "nbformat": 4,
 "nbformat_minor": 2
}
