{
 "cells": [
  {
   "cell_type": "code",
   "execution_count": 16,
   "metadata": {},
   "outputs": [],
   "source": [
    "import numpy as np\n",
    "import matplotlib.pyplot as plt"
   ]
  },
  {
   "cell_type": "code",
   "execution_count": 78,
   "metadata": {},
   "outputs": [],
   "source": [
    "def B_sheet(r_a,r_b,r_2,alpha):\n",
    "\n",
    "    pp = alpha*np.cross(r_2 - r_a,n)\n",
    "    A = np.dot(r_2-r_a,r_2-r_a)\n",
    "    B = np.dot(r_2 - r_a,r_b - r_a)\n",
    "    C = np.dot(r_b - r_a,r_b - r_a)\n",
    "    D = np.dot(r_2 - r_a,pp) \n",
    "    P = alpha*np.cross((r_b - r_a),n) \n",
    "\n",
    "    a1 = A*C - 2*B*C +C**2\n",
    "    b1 = -2*C*D\n",
    "    c1 = (alpha**2)*C**2\n",
    "    p1 = (C-B)**2\n",
    "    d1 = b1**2 - 4*(a1 + p1)*c1\n",
    "\n",
    "\n",
    "    a2 = A*C\n",
    "    b2 = -2*C*D\n",
    "    c2 = (alpha**2)*C**2\n",
    "\n",
    "    ru = a1 + b1*(1/2) + c1*(1/2)**2 \n",
    "    rl = a2 + b2*(-1/2) + c2*(-1/2)**2\n",
    "\n",
    "    su = 0.5\n",
    "    sl = 0.5\n",
    "\n",
    "    if p1 > 0:\n",
    "        I1 = np.arctan(np.sqrt(ru/p1)) -  np.arctan(np.sqrt(rl/p1))\n",
    "    else:\n",
    "        I_u1 = np.log(np.sqrt(-p) - np.sqrt(ru)/(sqrt(-p) + np.sqrt(ru)))\n",
    "        I_l1 = np.log(np.sqrt(-p) - np.sqrt(rl)/(sqrt(-p) + np.sqrt(rl)))\n",
    "        I1 = 1/(2*np.sqrt(-p))*(I_u1 - I_l1)\n",
    "    if p1*d1 > 0:\n",
    "        I2 = - np.arctan(np.sqrt(p1/dq))*(B1 + 2*C1*su/np.sqrt(Ru)) + np.arctan(np.sqrt(p1/dq))*(B1 + 2*C1*sl/np.sqrt(Rl))\n",
    "    else:\n",
    "        if p1 >0:\n",
    "            I2_u = np.log((np.sqrt(-d1)*np.sqrt(ru) + np.sqrt(p1)*(b1 + 2*c1*(0.5)))/(np.sqrt(-d1)*np.sqrt(ru)- np.sqrt(p1)*(b1 + 2*c1*(0.5)))) \n",
    "            I2_l = np.log((np.sqrt(-d1)*np.sqrt(rl) + np.sqrt(p1)*(b1 + 2*c1*(-0.5)))/(np.sqrt(-d1)*np.sqrt(rl)- np.sqrt(p1)*(b1 + 2*c1*(-0.5)))) \n",
    "            I2 = 1/(2*1j)*(I2_u - I2_l)\n",
    "        else:\n",
    "            I2_u = np.log((np.sqrt(d1)*np.sqrt(ru) + np.sqrt(-p1)*(b1 + 2*c1*(0.5)))/(np.sqrt(d1)*np.sqrt(ru)- np.sqrt(-p1)*(b1 + 2*c1*(0.5)))) \n",
    "            I2_l = np.log((np.sqrt(d1)*np.sqrt(rl) + np.sqrt(-p1)*(b1 + 2*c1*(-0.5)))/(np.sqrt(d1)*np.sqrt(rl)- np.sqrt(-p1)*(b1 + 2*c1*(-0.5))))\n",
    "            I2 =  1/(2*1j)*(I2_u - I2_l)\n",
    "        U1 = B\n",
    "        v1 = C-B\n",
    "        if  (c1**2)*p1*((b1)**2 - 4*(a1 +p1)*c1) >  0:\n",
    "            integ_1 = (U1/c1)*I1  - I2*(2*(v1*c1)-U1*b1)/(np.sqrt((c1**2)*p1*((b1)**2 - 4*(a1 +p1)*c1)))\n",
    "        else:\n",
    "            integ_1 = (U1/c1)*I1  - I2*(2*(v1*c1)-U1*b1)/(1J*np.sqrt(abs((c1**2)*p1*((b1)**2 - 4*(a1 +p1)*c1))))\n",
    "        B_s = (Br*alpha*C/(4*np.pi))*integ_1*(np.cross(r_b - r_a,r_2 - r_a)) + (Br*alpha/(4*np.pi))*integ_1\n",
    "\n",
    "    return np.real(B_s)\n",
    "   \n",
    "    \n"
   ]
  },
  {
   "cell_type": "code",
   "execution_count": 79,
   "metadata": {},
   "outputs": [
    {
     "name": "stdout",
     "output_type": "stream",
     "text": [
      "[ 1.58006077e-04  3.22461383e-06 -2.03150671e-04]\n"
     ]
    }
   ],
   "source": [
    "r_a = np.array([2,3,3])\n",
    "r_b = np.array([2,5,3])\n",
    "r_2 = np.array([10,3,9])\n",
    "n = np.array([0,0,1])\n",
    "B_s = B_sheet(r_a,r_b,r_2,alpha)\n",
    "\n",
    "print(B_s)"
   ]
  },
  {
   "cell_type": "code",
   "execution_count": 74,
   "metadata": {},
   "outputs": [
    {
     "data": {
      "text/plain": [
       "-53.999999999999964"
      ]
     },
     "execution_count": 74,
     "metadata": {},
     "output_type": "execute_result"
    }
   ],
   "source": [
    "pp = alpha*np.cross(r_2 - r_a,n)\n",
    "A = np.dot(r_2-r_a,r_2-r_a)\n",
    "B = np.dot(r_2 - r_a,r_b - r_a)\n",
    "C = np.dot(r_b - r_a,r_b - r_a)\n",
    "D = np.dot(r_2 - r_a,pp) \n",
    "P = alpha*np.cross((r_b - r_a),n) \n",
    "\n",
    "a1 = A*C - 2*B*C +C**2\n",
    "b1 = -2*C*D\n",
    "c1 = (alpha**2)*C**2\n",
    "p1 = (C-B)**2\n",
    "d1 = b1**2 - 4*(a1 + p1)*c1\n",
    "(c1**2)*p1*((b1)**2 - 4*(a1 +p1)*c1)"
   ]
  },
  {
   "cell_type": "code",
   "execution_count": null,
   "metadata": {},
   "outputs": [],
   "source": []
  }
 ],
 "metadata": {
  "kernelspec": {
   "display_name": "Python 3",
   "language": "python",
   "name": "python3"
  },
  "language_info": {
   "codemirror_mode": {
    "name": "ipython",
    "version": 3
   },
   "file_extension": ".py",
   "mimetype": "text/x-python",
   "name": "python",
   "nbconvert_exporter": "python",
   "pygments_lexer": "ipython3",
   "version": "3.12.3"
  }
 },
 "nbformat": 4,
 "nbformat_minor": 2
}
