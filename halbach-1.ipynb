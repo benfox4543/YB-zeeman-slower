{
 "cells": [
  {
   "cell_type": "code",
   "execution_count": 2,
   "metadata": {},
   "outputs": [],
   "source": [
    "import magpylib as magpy\n",
    "import numpy as np\n",
    "import matplotlib.pyplot as plt\n",
    "\n",
    "from scipy.spatial.transform import Rotation as R"
   ]
  },
  {
   "cell_type": "code",
   "execution_count": null,
   "metadata": {},
   "outputs": [],
   "source": []
  },
  {
   "cell_type": "code",
   "execution_count": 3,
   "metadata": {},
   "outputs": [
    {
     "data": {
      "application/vnd.plotly.v1+json": {
       "config": {
        "plotlyServerURL": "https://plot.ly"
       },
       "data": [
        {
         "color": "#2e91e5",
         "colorscale": [
          [
           0,
           "#00b050"
          ],
          [
           0.16,
           "#00b050"
          ],
          [
           0.26,
           "#dddddd"
          ],
          [
           0.74,
           "#dddddd"
          ],
          [
           0.8400000000000001,
           "#e71111"
          ],
          [
           1,
           "#e71111"
          ]
         ],
         "i": [
          7,
          0,
          0,
          0,
          4,
          4,
          2,
          6,
          4,
          0,
          3,
          7,
          15,
          8,
          8,
          8,
          12,
          12,
          10,
          14,
          12,
          8,
          11,
          15,
          23,
          16,
          16,
          16,
          20,
          20,
          18,
          22,
          20,
          16,
          19,
          23,
          31,
          24,
          24,
          24,
          28,
          28,
          26,
          30,
          28,
          24,
          27,
          31,
          39,
          32,
          32,
          32,
          36,
          36,
          34,
          38,
          36,
          32,
          35,
          39,
          47,
          40,
          40,
          40,
          44,
          44,
          42,
          46,
          44,
          40,
          43,
          47,
          55,
          48,
          48,
          48,
          52,
          52,
          50,
          54,
          52,
          48,
          51,
          55,
          63,
          56,
          56,
          56,
          60,
          60,
          58,
          62,
          60,
          56,
          59,
          63,
          71,
          64,
          64,
          64,
          68,
          68,
          66,
          70,
          68,
          64,
          67,
          71,
          79,
          72,
          72,
          72,
          76,
          76,
          74,
          78,
          76,
          72,
          75,
          79
         ],
         "intensity": [
          0,
          0,
          1,
          1,
          0,
          0,
          1,
          1,
          0,
          0,
          1,
          1,
          0,
          0,
          1,
          1,
          0,
          0,
          1,
          1,
          0,
          0,
          1,
          1,
          0,
          0,
          1,
          1,
          0,
          0,
          1,
          1,
          0,
          0,
          1,
          1,
          0,
          0,
          1,
          1,
          0,
          0,
          1,
          1,
          0,
          0,
          1,
          1,
          0,
          0,
          1,
          1,
          0,
          0,
          1,
          1,
          0,
          0,
          1,
          1,
          0,
          0,
          1,
          1,
          0,
          0,
          1,
          1,
          0,
          0,
          1,
          1,
          0,
          0,
          1,
          1,
          0,
          0,
          1,
          1
         ],
         "j": [
          0,
          7,
          1,
          2,
          6,
          7,
          1,
          2,
          5,
          5,
          2,
          2,
          8,
          15,
          9,
          10,
          14,
          15,
          9,
          10,
          13,
          13,
          10,
          10,
          16,
          23,
          17,
          18,
          22,
          23,
          17,
          18,
          21,
          21,
          18,
          18,
          24,
          31,
          25,
          26,
          30,
          31,
          25,
          26,
          29,
          29,
          26,
          26,
          32,
          39,
          33,
          34,
          38,
          39,
          33,
          34,
          37,
          37,
          34,
          34,
          40,
          47,
          41,
          42,
          46,
          47,
          41,
          42,
          45,
          45,
          42,
          42,
          48,
          55,
          49,
          50,
          54,
          55,
          49,
          50,
          53,
          53,
          50,
          50,
          56,
          63,
          57,
          58,
          62,
          63,
          57,
          58,
          61,
          61,
          58,
          58,
          64,
          71,
          65,
          66,
          70,
          71,
          65,
          66,
          69,
          69,
          66,
          66,
          72,
          79,
          73,
          74,
          78,
          79,
          73,
          74,
          77,
          77,
          74,
          74
         ],
         "k": [
          3,
          4,
          2,
          3,
          5,
          6,
          5,
          5,
          0,
          1,
          7,
          6,
          11,
          12,
          10,
          11,
          13,
          14,
          13,
          13,
          8,
          9,
          15,
          14,
          19,
          20,
          18,
          19,
          21,
          22,
          21,
          21,
          16,
          17,
          23,
          22,
          27,
          28,
          26,
          27,
          29,
          30,
          29,
          29,
          24,
          25,
          31,
          30,
          35,
          36,
          34,
          35,
          37,
          38,
          37,
          37,
          32,
          33,
          39,
          38,
          43,
          44,
          42,
          43,
          45,
          46,
          45,
          45,
          40,
          41,
          47,
          46,
          51,
          52,
          50,
          51,
          53,
          54,
          53,
          53,
          48,
          49,
          55,
          54,
          59,
          60,
          58,
          59,
          61,
          62,
          61,
          61,
          56,
          57,
          63,
          62,
          67,
          68,
          66,
          67,
          69,
          70,
          69,
          69,
          64,
          65,
          71,
          70,
          75,
          76,
          74,
          75,
          77,
          78,
          77,
          77,
          72,
          73,
          79,
          78
         ],
         "legendgroup": "Collection(id=2669890201520)",
         "name": "Collection (10 sources)",
         "opacity": 1,
         "showlegend": true,
         "showscale": false,
         "type": "mesh3d",
         "x": [
          -64,
          -64,
          64,
          64,
          -64,
          -64,
          64,
          64,
          -64,
          -64,
          64,
          64,
          -64,
          -64,
          64,
          64,
          -64.00000000000001,
          -64.00000000000001,
          64.00000000000001,
          64.00000000000001,
          -64.00000000000001,
          -64.00000000000001,
          64.00000000000001,
          64.00000000000001,
          -64.00000000000001,
          -64.00000000000001,
          64.00000000000001,
          64.00000000000001,
          -64.00000000000001,
          -64.00000000000001,
          64.00000000000001,
          64.00000000000001,
          -64.00000000000001,
          -64.00000000000001,
          64.00000000000001,
          64.00000000000001,
          -64.00000000000001,
          -64.00000000000001,
          64.00000000000001,
          64.00000000000001,
          -64,
          -64,
          64,
          64,
          -64,
          -64,
          64,
          64,
          -64,
          -64,
          64,
          64,
          -64,
          -64,
          64,
          64,
          -64.00000000000001,
          -64.00000000000001,
          64.00000000000001,
          64.00000000000001,
          -64.00000000000001,
          -64.00000000000001,
          64.00000000000001,
          64.00000000000001,
          -64,
          -64,
          64,
          64,
          -64,
          -64,
          64,
          64,
          -64.00000000000001,
          -64.00000000000001,
          64.00000000000001,
          64.00000000000001,
          -64.00000000000001,
          -64.00000000000001,
          64.00000000000001,
          64.00000000000001
         ],
         "y": [
          17,
          23,
          23,
          17,
          17,
          23,
          23,
          17,
          18.106458453259563,
          19.96056041950925,
          19.96056041950925,
          18.106458453259563,
          12.400119355488641,
          14.254221321738328,
          14.254221321738328,
          12.400119355488641,
          10.370746627501212,
          5.516644661251526,
          5.516644661251526,
          10.370746627501212,
          6.844035113746372,
          1.9899331474966866,
          1.9899331474966866,
          6.844035113746372,
          -5.516644661251526,
          -10.370746627501212,
          -10.370746627501212,
          -5.516644661251526,
          -1.9899331474966866,
          -6.844035113746372,
          -6.844035113746372,
          -1.9899331474966866,
          -19.960560419509257,
          -18.10645845325957,
          -18.10645845325957,
          -19.960560419509257,
          -14.254221321738333,
          -12.400119355488648,
          -12.400119355488648,
          -14.254221321738333,
          -23,
          -17,
          -17,
          -23,
          -23,
          -17,
          -17,
          -23,
          -14.254221321738335,
          -12.400119355488648,
          -12.400119355488648,
          -14.254221321738335,
          -19.960560419509257,
          -18.10645845325957,
          -18.10645845325957,
          -19.960560419509257,
          -1.9899331474966875,
          -6.844035113746372,
          -6.844035113746372,
          -1.9899331474966875,
          -5.516644661251529,
          -10.370746627501214,
          -10.370746627501214,
          -5.516644661251529,
          6.844035113746369,
          1.9899331474966822,
          1.9899331474966822,
          6.844035113746369,
          10.370746627501205,
          5.516644661251519,
          5.516644661251519,
          10.370746627501205,
          12.400119355488641,
          14.254221321738324,
          14.254221321738324,
          12.400119355488641,
          18.106458453259567,
          19.96056041950925,
          19.96056041950925,
          18.106458453259567
         ],
         "z": [
          -3,
          -3,
          -3,
          -3,
          3,
          3,
          3,
          3,
          7.975484513839157,
          13.681823611610078,
          13.681823611610078,
          7.975484513839157,
          9.829586480088842,
          15.535925577859764,
          15.535925577859764,
          9.829586480088842,
          19.684825552150496,
          23.211537065905336,
          23.211537065905336,
          19.684825552150496,
          14.83072358590081,
          18.35743509965565,
          18.35743509965565,
          14.83072358590081,
          23.211537065905336,
          19.684825552150496,
          19.684825552150496,
          23.211537065905336,
          18.35743509965565,
          14.83072358590081,
          14.83072358590081,
          18.35743509965565,
          13.681823611610085,
          7.975484513839162,
          7.975484513839162,
          13.681823611610085,
          15.535925577859768,
          9.829586480088846,
          9.829586480088846,
          15.535925577859768,
          -2.9999999999999964,
          -2.9999999999999982,
          -2.9999999999999982,
          -2.9999999999999964,
          3.0000000000000036,
          3.0000000000000018,
          3.0000000000000018,
          3.0000000000000036,
          -15.535925577859764,
          -9.829586480088842,
          -9.829586480088842,
          -15.535925577859764,
          -13.681823611610078,
          -7.975484513839156,
          -7.975484513839156,
          -13.681823611610078,
          -18.357435099655646,
          -14.830723585900806,
          -14.830723585900806,
          -18.357435099655646,
          -23.211537065905333,
          -19.684825552150492,
          -19.684825552150492,
          -23.211537065905333,
          -14.830723585900811,
          -18.357435099655646,
          -18.357435099655646,
          -14.830723585900811,
          -19.6848255521505,
          -23.211537065905333,
          -23.211537065905333,
          -19.6848255521505,
          -9.829586480088844,
          -15.535925577859768,
          -15.535925577859768,
          -9.829586480088844,
          -7.975484513839162,
          -13.681823611610087,
          -13.681823611610087,
          -7.975484513839162
         ]
        }
       ],
       "layout": {
        "legend": {
         "itemsizing": "constant"
        },
        "scene": {
         "aspectmode": "manual",
         "aspectratio": {
          "x": 1,
          "y": 1,
          "z": 1
         },
         "camera": {
          "eye": {
           "x": 1,
           "y": -1.5,
           "z": 1.4
          }
         },
         "xaxis": {
          "autorange": false,
          "range": [
           -64.00000000000001,
           64.00000000000001
          ],
          "title": {
           "text": "x (m)"
          }
         },
         "yaxis": {
          "autorange": false,
          "range": [
           -64.00000000000001,
           64.00000000000001
          ],
          "title": {
           "text": "y (m)"
          }
         },
         "zaxis": {
          "autorange": false,
          "range": [
           -64.00000000000001,
           64.00000000000001
          ],
          "title": {
           "text": "z (m)"
          }
         }
        },
        "template": {
         "data": {
          "bar": [
           {
            "error_x": {
             "color": "#2a3f5f"
            },
            "error_y": {
             "color": "#2a3f5f"
            },
            "marker": {
             "line": {
              "color": "#E5ECF6",
              "width": 0.5
             },
             "pattern": {
              "fillmode": "overlay",
              "size": 10,
              "solidity": 0.2
             }
            },
            "type": "bar"
           }
          ],
          "barpolar": [
           {
            "marker": {
             "line": {
              "color": "#E5ECF6",
              "width": 0.5
             },
             "pattern": {
              "fillmode": "overlay",
              "size": 10,
              "solidity": 0.2
             }
            },
            "type": "barpolar"
           }
          ],
          "carpet": [
           {
            "aaxis": {
             "endlinecolor": "#2a3f5f",
             "gridcolor": "white",
             "linecolor": "white",
             "minorgridcolor": "white",
             "startlinecolor": "#2a3f5f"
            },
            "baxis": {
             "endlinecolor": "#2a3f5f",
             "gridcolor": "white",
             "linecolor": "white",
             "minorgridcolor": "white",
             "startlinecolor": "#2a3f5f"
            },
            "type": "carpet"
           }
          ],
          "choropleth": [
           {
            "colorbar": {
             "outlinewidth": 0,
             "ticks": ""
            },
            "type": "choropleth"
           }
          ],
          "contour": [
           {
            "colorbar": {
             "outlinewidth": 0,
             "ticks": ""
            },
            "colorscale": [
             [
              0,
              "#0d0887"
             ],
             [
              0.1111111111111111,
              "#46039f"
             ],
             [
              0.2222222222222222,
              "#7201a8"
             ],
             [
              0.3333333333333333,
              "#9c179e"
             ],
             [
              0.4444444444444444,
              "#bd3786"
             ],
             [
              0.5555555555555556,
              "#d8576b"
             ],
             [
              0.6666666666666666,
              "#ed7953"
             ],
             [
              0.7777777777777778,
              "#fb9f3a"
             ],
             [
              0.8888888888888888,
              "#fdca26"
             ],
             [
              1,
              "#f0f921"
             ]
            ],
            "type": "contour"
           }
          ],
          "contourcarpet": [
           {
            "colorbar": {
             "outlinewidth": 0,
             "ticks": ""
            },
            "type": "contourcarpet"
           }
          ],
          "heatmap": [
           {
            "colorbar": {
             "outlinewidth": 0,
             "ticks": ""
            },
            "colorscale": [
             [
              0,
              "#0d0887"
             ],
             [
              0.1111111111111111,
              "#46039f"
             ],
             [
              0.2222222222222222,
              "#7201a8"
             ],
             [
              0.3333333333333333,
              "#9c179e"
             ],
             [
              0.4444444444444444,
              "#bd3786"
             ],
             [
              0.5555555555555556,
              "#d8576b"
             ],
             [
              0.6666666666666666,
              "#ed7953"
             ],
             [
              0.7777777777777778,
              "#fb9f3a"
             ],
             [
              0.8888888888888888,
              "#fdca26"
             ],
             [
              1,
              "#f0f921"
             ]
            ],
            "type": "heatmap"
           }
          ],
          "heatmapgl": [
           {
            "colorbar": {
             "outlinewidth": 0,
             "ticks": ""
            },
            "colorscale": [
             [
              0,
              "#0d0887"
             ],
             [
              0.1111111111111111,
              "#46039f"
             ],
             [
              0.2222222222222222,
              "#7201a8"
             ],
             [
              0.3333333333333333,
              "#9c179e"
             ],
             [
              0.4444444444444444,
              "#bd3786"
             ],
             [
              0.5555555555555556,
              "#d8576b"
             ],
             [
              0.6666666666666666,
              "#ed7953"
             ],
             [
              0.7777777777777778,
              "#fb9f3a"
             ],
             [
              0.8888888888888888,
              "#fdca26"
             ],
             [
              1,
              "#f0f921"
             ]
            ],
            "type": "heatmapgl"
           }
          ],
          "histogram": [
           {
            "marker": {
             "pattern": {
              "fillmode": "overlay",
              "size": 10,
              "solidity": 0.2
             }
            },
            "type": "histogram"
           }
          ],
          "histogram2d": [
           {
            "colorbar": {
             "outlinewidth": 0,
             "ticks": ""
            },
            "colorscale": [
             [
              0,
              "#0d0887"
             ],
             [
              0.1111111111111111,
              "#46039f"
             ],
             [
              0.2222222222222222,
              "#7201a8"
             ],
             [
              0.3333333333333333,
              "#9c179e"
             ],
             [
              0.4444444444444444,
              "#bd3786"
             ],
             [
              0.5555555555555556,
              "#d8576b"
             ],
             [
              0.6666666666666666,
              "#ed7953"
             ],
             [
              0.7777777777777778,
              "#fb9f3a"
             ],
             [
              0.8888888888888888,
              "#fdca26"
             ],
             [
              1,
              "#f0f921"
             ]
            ],
            "type": "histogram2d"
           }
          ],
          "histogram2dcontour": [
           {
            "colorbar": {
             "outlinewidth": 0,
             "ticks": ""
            },
            "colorscale": [
             [
              0,
              "#0d0887"
             ],
             [
              0.1111111111111111,
              "#46039f"
             ],
             [
              0.2222222222222222,
              "#7201a8"
             ],
             [
              0.3333333333333333,
              "#9c179e"
             ],
             [
              0.4444444444444444,
              "#bd3786"
             ],
             [
              0.5555555555555556,
              "#d8576b"
             ],
             [
              0.6666666666666666,
              "#ed7953"
             ],
             [
              0.7777777777777778,
              "#fb9f3a"
             ],
             [
              0.8888888888888888,
              "#fdca26"
             ],
             [
              1,
              "#f0f921"
             ]
            ],
            "type": "histogram2dcontour"
           }
          ],
          "mesh3d": [
           {
            "colorbar": {
             "outlinewidth": 0,
             "ticks": ""
            },
            "type": "mesh3d"
           }
          ],
          "parcoords": [
           {
            "line": {
             "colorbar": {
              "outlinewidth": 0,
              "ticks": ""
             }
            },
            "type": "parcoords"
           }
          ],
          "pie": [
           {
            "automargin": true,
            "type": "pie"
           }
          ],
          "scatter": [
           {
            "fillpattern": {
             "fillmode": "overlay",
             "size": 10,
             "solidity": 0.2
            },
            "type": "scatter"
           }
          ],
          "scatter3d": [
           {
            "line": {
             "colorbar": {
              "outlinewidth": 0,
              "ticks": ""
             }
            },
            "marker": {
             "colorbar": {
              "outlinewidth": 0,
              "ticks": ""
             }
            },
            "type": "scatter3d"
           }
          ],
          "scattercarpet": [
           {
            "marker": {
             "colorbar": {
              "outlinewidth": 0,
              "ticks": ""
             }
            },
            "type": "scattercarpet"
           }
          ],
          "scattergeo": [
           {
            "marker": {
             "colorbar": {
              "outlinewidth": 0,
              "ticks": ""
             }
            },
            "type": "scattergeo"
           }
          ],
          "scattergl": [
           {
            "marker": {
             "colorbar": {
              "outlinewidth": 0,
              "ticks": ""
             }
            },
            "type": "scattergl"
           }
          ],
          "scattermapbox": [
           {
            "marker": {
             "colorbar": {
              "outlinewidth": 0,
              "ticks": ""
             }
            },
            "type": "scattermapbox"
           }
          ],
          "scatterpolar": [
           {
            "marker": {
             "colorbar": {
              "outlinewidth": 0,
              "ticks": ""
             }
            },
            "type": "scatterpolar"
           }
          ],
          "scatterpolargl": [
           {
            "marker": {
             "colorbar": {
              "outlinewidth": 0,
              "ticks": ""
             }
            },
            "type": "scatterpolargl"
           }
          ],
          "scatterternary": [
           {
            "marker": {
             "colorbar": {
              "outlinewidth": 0,
              "ticks": ""
             }
            },
            "type": "scatterternary"
           }
          ],
          "surface": [
           {
            "colorbar": {
             "outlinewidth": 0,
             "ticks": ""
            },
            "colorscale": [
             [
              0,
              "#0d0887"
             ],
             [
              0.1111111111111111,
              "#46039f"
             ],
             [
              0.2222222222222222,
              "#7201a8"
             ],
             [
              0.3333333333333333,
              "#9c179e"
             ],
             [
              0.4444444444444444,
              "#bd3786"
             ],
             [
              0.5555555555555556,
              "#d8576b"
             ],
             [
              0.6666666666666666,
              "#ed7953"
             ],
             [
              0.7777777777777778,
              "#fb9f3a"
             ],
             [
              0.8888888888888888,
              "#fdca26"
             ],
             [
              1,
              "#f0f921"
             ]
            ],
            "type": "surface"
           }
          ],
          "table": [
           {
            "cells": {
             "fill": {
              "color": "#EBF0F8"
             },
             "line": {
              "color": "white"
             }
            },
            "header": {
             "fill": {
              "color": "#C8D4E3"
             },
             "line": {
              "color": "white"
             }
            },
            "type": "table"
           }
          ]
         },
         "layout": {
          "annotationdefaults": {
           "arrowcolor": "#2a3f5f",
           "arrowhead": 0,
           "arrowwidth": 1
          },
          "autotypenumbers": "strict",
          "coloraxis": {
           "colorbar": {
            "outlinewidth": 0,
            "ticks": ""
           }
          },
          "colorscale": {
           "diverging": [
            [
             0,
             "#8e0152"
            ],
            [
             0.1,
             "#c51b7d"
            ],
            [
             0.2,
             "#de77ae"
            ],
            [
             0.3,
             "#f1b6da"
            ],
            [
             0.4,
             "#fde0ef"
            ],
            [
             0.5,
             "#f7f7f7"
            ],
            [
             0.6,
             "#e6f5d0"
            ],
            [
             0.7,
             "#b8e186"
            ],
            [
             0.8,
             "#7fbc41"
            ],
            [
             0.9,
             "#4d9221"
            ],
            [
             1,
             "#276419"
            ]
           ],
           "sequential": [
            [
             0,
             "#0d0887"
            ],
            [
             0.1111111111111111,
             "#46039f"
            ],
            [
             0.2222222222222222,
             "#7201a8"
            ],
            [
             0.3333333333333333,
             "#9c179e"
            ],
            [
             0.4444444444444444,
             "#bd3786"
            ],
            [
             0.5555555555555556,
             "#d8576b"
            ],
            [
             0.6666666666666666,
             "#ed7953"
            ],
            [
             0.7777777777777778,
             "#fb9f3a"
            ],
            [
             0.8888888888888888,
             "#fdca26"
            ],
            [
             1,
             "#f0f921"
            ]
           ],
           "sequentialminus": [
            [
             0,
             "#0d0887"
            ],
            [
             0.1111111111111111,
             "#46039f"
            ],
            [
             0.2222222222222222,
             "#7201a8"
            ],
            [
             0.3333333333333333,
             "#9c179e"
            ],
            [
             0.4444444444444444,
             "#bd3786"
            ],
            [
             0.5555555555555556,
             "#d8576b"
            ],
            [
             0.6666666666666666,
             "#ed7953"
            ],
            [
             0.7777777777777778,
             "#fb9f3a"
            ],
            [
             0.8888888888888888,
             "#fdca26"
            ],
            [
             1,
             "#f0f921"
            ]
           ]
          },
          "colorway": [
           "#636efa",
           "#EF553B",
           "#00cc96",
           "#ab63fa",
           "#FFA15A",
           "#19d3f3",
           "#FF6692",
           "#B6E880",
           "#FF97FF",
           "#FECB52"
          ],
          "font": {
           "color": "#2a3f5f"
          },
          "geo": {
           "bgcolor": "white",
           "lakecolor": "white",
           "landcolor": "#E5ECF6",
           "showlakes": true,
           "showland": true,
           "subunitcolor": "white"
          },
          "hoverlabel": {
           "align": "left"
          },
          "hovermode": "closest",
          "mapbox": {
           "style": "light"
          },
          "paper_bgcolor": "white",
          "plot_bgcolor": "#E5ECF6",
          "polar": {
           "angularaxis": {
            "gridcolor": "white",
            "linecolor": "white",
            "ticks": ""
           },
           "bgcolor": "#E5ECF6",
           "radialaxis": {
            "gridcolor": "white",
            "linecolor": "white",
            "ticks": ""
           }
          },
          "scene": {
           "xaxis": {
            "backgroundcolor": "#E5ECF6",
            "gridcolor": "white",
            "gridwidth": 2,
            "linecolor": "white",
            "showbackground": true,
            "ticks": "",
            "zerolinecolor": "white"
           },
           "yaxis": {
            "backgroundcolor": "#E5ECF6",
            "gridcolor": "white",
            "gridwidth": 2,
            "linecolor": "white",
            "showbackground": true,
            "ticks": "",
            "zerolinecolor": "white"
           },
           "zaxis": {
            "backgroundcolor": "#E5ECF6",
            "gridcolor": "white",
            "gridwidth": 2,
            "linecolor": "white",
            "showbackground": true,
            "ticks": "",
            "zerolinecolor": "white"
           }
          },
          "shapedefaults": {
           "line": {
            "color": "#2a3f5f"
           }
          },
          "ternary": {
           "aaxis": {
            "gridcolor": "white",
            "linecolor": "white",
            "ticks": ""
           },
           "baxis": {
            "gridcolor": "white",
            "linecolor": "white",
            "ticks": ""
           },
           "bgcolor": "#E5ECF6",
           "caxis": {
            "gridcolor": "white",
            "linecolor": "white",
            "ticks": ""
           }
          },
          "title": {
           "x": 0.05
          },
          "xaxis": {
           "automargin": true,
           "gridcolor": "white",
           "linecolor": "white",
           "ticks": "",
           "title": {
            "standoff": 15
           },
           "zerolinecolor": "white",
           "zerolinewidth": 2
          },
          "yaxis": {
           "automargin": true,
           "gridcolor": "white",
           "linecolor": "white",
           "ticks": "",
           "title": {
            "standoff": 15
           },
           "zerolinecolor": "white",
           "zerolinewidth": 2
          }
         }
        }
       }
      }
     },
     "metadata": {},
     "output_type": "display_data"
    }
   ],
   "source": [
    "import numpy as np\n",
    "import magpylib as magpy\n",
    "\n",
    "N = 10\n",
    "angles = np.linspace(0, 360, N, endpoint=False)\n",
    "\n",
    "halbach = magpy.Collection()\n",
    "\n",
    "for a in angles:\n",
    "    cube = magpy.magnet.Cuboid(\n",
    "        dimension=(128,6,6),\n",
    "        polarization=(1,0,0),\n",
    "        position=(0,20,0)\n",
    "    )\n",
    "    cube.rotate_from_angax(a, 'x', anchor=0)\n",
    "    cube.rotate_from_angax(a, 'x')\n",
    "    halbach.add(cube)\n",
    "\n",
    "halbach.show(backend='plotly')\n",
    "\n",
    "\n",
    "\n",
    "\n",
    "\n"
   ]
  },
  {
   "cell_type": "code",
   "execution_count": 4,
   "metadata": {},
   "outputs": [
    {
     "data": {
      "image/png": "[encoded data removed]",
      "text/plain": [
       "<Figure size 640x480 with 2 Axes>"
      ]
     },
     "metadata": {},
     "output_type": "display_data"
    }
   ],
   "source": [
    "\n",
    "import matplotlib.pyplot as plt\n",
    "fig, ax = plt.subplots()\n",
    "\n",
    "# Compute and plot field on x-y grid\n",
    "grid = np.mgrid[-35:35:100j, -35:35:100j, 0:0:1j].T[0]\n",
    "X, Y, _ = np.moveaxis(grid, 2, 0)\n",
    "\n",
    "B = halbach.getB(grid)\n",
    "Bx, By, _ = np.moveaxis(B, 2, 0)\n",
    "Bamp = np.linalg.norm(B, axis=2)\n",
    "\n",
    "pc = ax.contourf(X, Y, Bamp, levels=50, cmap=\"coolwarm\")\n",
    "ax.streamplot(X, Y, Bx, By, color=\"k\", density=1.5, linewidth=1)\n",
    "\n",
    "# Add colorbar\n",
    "fig.colorbar(pc, ax=ax, label=\"|B|\")\n",
    "\n",
    "# Figure styling\n",
    "ax.set(\n",
    "    xlabel=\"x-position\",\n",
    "    ylabel=\"z-position\",\n",
    "    aspect=1,\n",
    ")\n",
    "\n",
    "plt.show()\n",
    "\n"
   ]
  },
  {
   "cell_type": "code",
   "execution_count": 5,
   "metadata": {},
   "outputs": [
    {
     "data": {
      "text/plain": [
       "array([-0.01183528,  0.        ,  0.        ])"
      ]
     },
     "execution_count": 5,
     "metadata": {},
     "output_type": "execute_result"
    }
   ],
   "source": [
    "halbach.getB([0,0,10])"
   ]
  },
  {
   "cell_type": "code",
   "execution_count": 6,
   "metadata": {},
   "outputs": [
    {
     "data": {
      "image/png": "[encoded data removed]",
      "text/plain": [
       "<Figure size 1500x500 with 3 Axes>"
      ]
     },
     "metadata": {},
     "output_type": "display_data"
    }
   ],
   "source": [
    "x = np.linspace(0,200,100)\n",
    "hal_fieldx = []\n",
    "hal_fieldy = []\n",
    "hal_fieldz = []\n",
    "x_p = []\n",
    "for i in x:\n",
    "    h = halbach.getB([0,0,i])\n",
    "    #if h[0]  > 0:\n",
    "    x_p.append(i)\n",
    "    hal_fieldx.append(h[0])\n",
    "    hal_fieldy.append(h[1])\n",
    "    hal_fieldz.append(h[2])\n",
    "fig, ax = plt.subplots(1,3,figsize=(15,5))\n",
    "ax[0].plot(x_p,np.array(hal_fieldx)*1e3)\n",
    "ax[0].set_title('Bx')\n",
    "ax[0].set_xlabel('z(mm)')\n",
    "ax[0].set_ylabel('Bx(mT)')\n",
    "ax[1].plot(x_p,np.array(hal_fieldy)*1e3)\n",
    "ax[1].set_title('By')\n",
    "ax[1].set_xlabel('z(mm)')\n",
    "ax[1].set_ylabel('By(mT)')\n",
    "ax[2].plot(x_p,np.array(hal_fieldz)*1e3)\n",
    "ax[2].set_title('Bz')\n",
    "ax[2].set_xlabel('z(mm)')\n",
    "ax[2].set_ylabel('$B_z$(mT)')\n",
    "plt.tight_layout()\n",
    "plt.show()"
   ]
  },
  {
   "cell_type": "code",
   "execution_count": 146,
   "metadata": {},
   "outputs": [
    {
     "data": {
      "application/vnd.plotly.v1+json": {
       "config": {
        "plotlyServerURL": "https://plot.ly"
       },
       "data": [
        {
         "color": "#2e91e5",
         "colorscale": [
          [
           0,
           "#00b050"
          ],
          [
           0.16,
           "#00b050"
          ],
          [
           0.26,
           "#dddddd"
          ],
          [
           0.74,
           "#dddddd"
          ],
          [
           0.8400000000000001,
           "#e71111"
          ],
          [
           1,
           "#e71111"
          ]
         ],
         "i": [
          7,
          0,
          0,
          0,
          4,
          4,
          2,
          6,
          4,
          0,
          3,
          7,
          15,
          8,
          8,
          8,
          12,
          12,
          10,
          14,
          12,
          8,
          11,
          15,
          23,
          16,
          16,
          16,
          20,
          20,
          18,
          22,
          20,
          16,
          19,
          23,
          31,
          24,
          24,
          24,
          28,
          28,
          26,
          30,
          28,
          24,
          27,
          31,
          39,
          32,
          32,
          32,
          36,
          36,
          34,
          38,
          36,
          32,
          35,
          39
         ],
         "intensity": [
          1,
          0,
          0,
          1,
          1,
          0,
          0,
          1,
          1,
          0,
          0,
          1,
          1,
          0,
          0,
          1,
          1,
          0,
          0,
          1,
          1,
          0,
          0,
          1,
          1,
          0,
          0,
          1,
          1,
          0,
          0,
          1,
          1,
          0,
          0,
          1,
          1,
          0,
          0,
          1
         ],
         "j": [
          0,
          7,
          1,
          2,
          6,
          7,
          1,
          2,
          5,
          5,
          2,
          2,
          8,
          15,
          9,
          10,
          14,
          15,
          9,
          10,
          13,
          13,
          10,
          10,
          16,
          23,
          17,
          18,
          22,
          23,
          17,
          18,
          21,
          21,
          18,
          18,
          24,
          31,
          25,
          26,
          30,
          31,
          25,
          26,
          29,
          29,
          26,
          26,
          32,
          39,
          33,
          34,
          38,
          39,
          33,
          34,
          37,
          37,
          34,
          34
         ],
         "k": [
          3,
          4,
          2,
          3,
          5,
          6,
          5,
          5,
          0,
          1,
          7,
          6,
          11,
          12,
          10,
          11,
          13,
          14,
          13,
          13,
          8,
          9,
          15,
          14,
          19,
          20,
          18,
          19,
          21,
          22,
          21,
          21,
          16,
          17,
          23,
          22,
          27,
          28,
          26,
          27,
          29,
          30,
          29,
          29,
          24,
          25,
          31,
          30,
          35,
          36,
          34,
          35,
          37,
          38,
          37,
          37,
          32,
          33,
          39,
          38
         ],
         "legendgroup": "Collection(id=2670774625408)",
         "name": "Collection (5 sources)",
         "opacity": 1,
         "showlegend": true,
         "showscale": false,
         "type": "mesh3d",
         "x": [
          59.832327089627455,
          59.832327089627455,
          65.31359983548306,
          65.31359983548306,
          7.770036775925025,
          7.770036775925025,
          13.25130952178063,
          13.25130952178063,
          15.600029998705008,
          12.07331848495017,
          7.219216518700485,
          10.745928032455323,
          15.600029998705008,
          12.07331848495017,
          7.219216518700485,
          10.745928032455323,
          -59.58446901473375,
          -54.37146885219674,
          -52.67766242292313,
          -57.890662585460134,
          -7.522178701031315,
          -2.309178538494308,
          -0.6153721092206936,
          -5.828372271757701,
          -29.846775956944818,
          -35.55311505471574,
          -33.69901308846605,
          -27.99267399069513,
          -29.846775956944825,
          -35.55311505471575,
          -33.69901308846606,
          -27.99267399069514,
          -13.26395317540688,
          -10.042141891600288,
          -14.476584693801708,
          -17.6983959776083,
          38.79833713829555,
          42.020148422102146,
          37.58570561990072,
          34.363894336094134
         ],
         "y": [
          -2.000000000000001,
          4.000000000000001,
          4.000000000000001,
          -2.000000000000001,
          -2.000000000000001,
          4.000000000000001,
          4.000000000000001,
          -2.000000000000001,
          61.67309640450759,
          57.23865360230617,
          60.46046488611277,
          64.89490768831419,
          9.610806090805163,
          5.176363288603746,
          8.39817457241034,
          12.832617374611758,
          24.62851166308461,
          26.482613629334292,
          20.776274531563367,
          18.922172565313684,
          24.62851166308461,
          26.482613629334292,
          20.776274531563367,
          18.922172565313684,
          -51.702364145167394,
          -50.00855771589377,
          -44.79555755335677,
          -46.48936398263039,
          0.35992616853504344,
          2.0537325978086614,
          7.266732760345665,
          5.572926331072047,
          -33.54283691742894,
          -38.39693888367863,
          -41.92365039743346,
          -37.069548431183776,
          -33.54283691742894,
          -38.39693888367863,
          -41.92365039743346,
          -37.069548431183776
         ],
         "z": [
          -43.41765349532186,
          -43.41765349532186,
          -40.977233636867055,
          -40.977233636867055,
          73.51616508293108,
          73.51616508293108,
          75.95658494138588,
          75.95658494138588,
          -42.59809019330148,
          -44.572431332201525,
          -43.13798853000011,
          -41.16364739110006,
          74.33572838495147,
          72.36138724605141,
          73.79583004825284,
          75.77017118715287,
          -43.5280070201499,
          -45.84898422902944,
          -46.603115438702076,
          -44.282138229822536,
          73.40581155810305,
          71.08483434922351,
          70.33070313955088,
          72.65168034843042,
          -47.03734620869094,
          -47.791477418363584,
          -50.11245462724312,
          -49.358323417570475,
          69.89647236956202,
          69.14234115988937,
          66.82136395100984,
          67.57549516068248,
          -64.15122939010662,
          -65.58567219230804,
          -63.61133105340799,
          -62.17688825120657,
          52.782589188146325,
          51.34814638594491,
          53.32248752484495,
          54.75693032704637
         ]
        }
       ],
       "layout": {
        "legend": {
         "itemsizing": "constant"
        },
        "scene": {
         "aspectmode": "manual",
         "aspectratio": {
          "x": 1,
          "y": 1,
          "z": 1
         },
         "camera": {
          "eye": {
           "x": 1,
           "y": -1.5,
           "z": 1.4
          }
         },
         "xaxis": {
          "autorange": false,
          "range": [
           -67.9065631564723,
           73.6356939772216
          ],
          "title": {
           "text": "x (m)"
          }
         },
         "yaxis": {
          "autorange": false,
          "range": [
           -64.17485679527356,
           77.36740033842035
          ],
          "title": {
           "text": "y (m)"
          }
         },
         "zaxis": {
          "autorange": false,
          "range": [
           -65.58567219230804,
           75.95658494138587
          ],
          "title": {
           "text": "z (m)"
          }
         }
        },
        "template": {
         "data": {
          "bar": [
           {
            "error_x": {
             "color": "#2a3f5f"
            },
            "error_y": {
             "color": "#2a3f5f"
            },
            "marker": {
             "line": {
              "color": "#E5ECF6",
              "width": 0.5
             },
             "pattern": {
              "fillmode": "overlay",
              "size": 10,
              "solidity": 0.2
             }
            },
            "type": "bar"
           }
          ],
          "barpolar": [
           {
            "marker": {
             "line": {
              "color": "#E5ECF6",
              "width": 0.5
             },
             "pattern": {
              "fillmode": "overlay",
              "size": 10,
              "solidity": 0.2
             }
            },
            "type": "barpolar"
           }
          ],
          "carpet": [
           {
            "aaxis": {
             "endlinecolor": "#2a3f5f",
             "gridcolor": "white",
             "linecolor": "white",
             "minorgridcolor": "white",
             "startlinecolor": "#2a3f5f"
            },
            "baxis": {
             "endlinecolor": "#2a3f5f",
             "gridcolor": "white",
             "linecolor": "white",
             "minorgridcolor": "white",
             "startlinecolor": "#2a3f5f"
            },
            "type": "carpet"
           }
          ],
          "choropleth": [
           {
            "colorbar": {
             "outlinewidth": 0,
             "ticks": ""
            },
            "type": "choropleth"
           }
          ],
          "contour": [
           {
            "colorbar": {
             "outlinewidth": 0,
             "ticks": ""
            },
            "colorscale": [
             [
              0,
              "#0d0887"
             ],
             [
              0.1111111111111111,
              "#46039f"
             ],
             [
              0.2222222222222222,
              "#7201a8"
             ],
             [
              0.3333333333333333,
              "#9c179e"
             ],
             [
              0.4444444444444444,
              "#bd3786"
             ],
             [
              0.5555555555555556,
              "#d8576b"
             ],
             [
              0.6666666666666666,
              "#ed7953"
             ],
             [
              0.7777777777777778,
              "#fb9f3a"
             ],
             [
              0.8888888888888888,
              "#fdca26"
             ],
             [
              1,
              "#f0f921"
             ]
            ],
            "type": "contour"
           }
          ],
          "contourcarpet": [
           {
            "colorbar": {
             "outlinewidth": 0,
             "ticks": ""
            },
            "type": "contourcarpet"
           }
          ],
          "heatmap": [
           {
            "colorbar": {
             "outlinewidth": 0,
             "ticks": ""
            },
            "colorscale": [
             [
              0,
              "#0d0887"
             ],
             [
              0.1111111111111111,
              "#46039f"
             ],
             [
              0.2222222222222222,
              "#7201a8"
             ],
             [
              0.3333333333333333,
              "#9c179e"
             ],
             [
              0.4444444444444444,
              "#bd3786"
             ],
             [
              0.5555555555555556,
              "#d8576b"
             ],
             [
              0.6666666666666666,
              "#ed7953"
             ],
             [
              0.7777777777777778,
              "#fb9f3a"
             ],
             [
              0.8888888888888888,
              "#fdca26"
             ],
             [
              1,
              "#f0f921"
             ]
            ],
            "type": "heatmap"
           }
          ],
          "heatmapgl": [
           {
            "colorbar": {
             "outlinewidth": 0,
             "ticks": ""
            },
            "colorscale": [
             [
              0,
              "#0d0887"
             ],
             [
              0.1111111111111111,
              "#46039f"
             ],
             [
              0.2222222222222222,
              "#7201a8"
             ],
             [
              0.3333333333333333,
              "#9c179e"
             ],
             [
              0.4444444444444444,
              "#bd3786"
             ],
             [
              0.5555555555555556,
              "#d8576b"
             ],
             [
              0.6666666666666666,
              "#ed7953"
             ],
             [
              0.7777777777777778,
              "#fb9f3a"
             ],
             [
              0.8888888888888888,
              "#fdca26"
             ],
             [
              1,
              "#f0f921"
             ]
            ],
            "type": "heatmapgl"
           }
          ],
          "histogram": [
           {
            "marker": {
             "pattern": {
              "fillmode": "overlay",
              "size": 10,
              "solidity": 0.2
             }
            },
            "type": "histogram"
           }
          ],
          "histogram2d": [
           {
            "colorbar": {
             "outlinewidth": 0,
             "ticks": ""
            },
            "colorscale": [
             [
              0,
              "#0d0887"
             ],
             [
              0.1111111111111111,
              "#46039f"
             ],
             [
              0.2222222222222222,
              "#7201a8"
             ],
             [
              0.3333333333333333,
              "#9c179e"
             ],
             [
              0.4444444444444444,
              "#bd3786"
             ],
             [
              0.5555555555555556,
              "#d8576b"
             ],
             [
              0.6666666666666666,
              "#ed7953"
             ],
             [
              0.7777777777777778,
              "#fb9f3a"
             ],
             [
              0.8888888888888888,
              "#fdca26"
             ],
             [
              1,
              "#f0f921"
             ]
            ],
            "type": "histogram2d"
           }
          ],
          "histogram2dcontour": [
           {
            "colorbar": {
             "outlinewidth": 0,
             "ticks": ""
            },
            "colorscale": [
             [
              0,
              "#0d0887"
             ],
             [
              0.1111111111111111,
              "#46039f"
             ],
             [
              0.2222222222222222,
              "#7201a8"
             ],
             [
              0.3333333333333333,
              "#9c179e"
             ],
             [
              0.4444444444444444,
              "#bd3786"
             ],
             [
              0.5555555555555556,
              "#d8576b"
             ],
             [
              0.6666666666666666,
              "#ed7953"
             ],
             [
              0.7777777777777778,
              "#fb9f3a"
             ],
             [
              0.8888888888888888,
              "#fdca26"
             ],
             [
              1,
              "#f0f921"
             ]
            ],
            "type": "histogram2dcontour"
           }
          ],
          "mesh3d": [
           {
            "colorbar": {
             "outlinewidth": 0,
             "ticks": ""
            },
            "type": "mesh3d"
           }
          ],
          "parcoords": [
           {
            "line": {
             "colorbar": {
              "outlinewidth": 0,
              "ticks": ""
             }
            },
            "type": "parcoords"
           }
          ],
          "pie": [
           {
            "automargin": true,
            "type": "pie"
           }
          ],
          "scatter": [
           {
            "fillpattern": {
             "fillmode": "overlay",
             "size": 10,
             "solidity": 0.2
            },
            "type": "scatter"
           }
          ],
          "scatter3d": [
           {
            "line": {
             "colorbar": {
              "outlinewidth": 0,
              "ticks": ""
             }
            },
            "marker": {
             "colorbar": {
              "outlinewidth": 0,
              "ticks": ""
             }
            },
            "type": "scatter3d"
           }
          ],
          "scattercarpet": [
           {
            "marker": {
             "colorbar": {
              "outlinewidth": 0,
              "ticks": ""
             }
            },
            "type": "scattercarpet"
           }
          ],
          "scattergeo": [
           {
            "marker": {
             "colorbar": {
              "outlinewidth": 0,
              "ticks": ""
             }
            },
            "type": "scattergeo"
           }
          ],
          "scattergl": [
           {
            "marker": {
             "colorbar": {
              "outlinewidth": 0,
              "ticks": ""
             }
            },
            "type": "scattergl"
           }
          ],
          "scattermapbox": [
           {
            "marker": {
             "colorbar": {
              "outlinewidth": 0,
              "ticks": ""
             }
            },
            "type": "scattermapbox"
           }
          ],
          "scatterpolar": [
           {
            "marker": {
             "colorbar": {
              "outlinewidth": 0,
              "ticks": ""
             }
            },
            "type": "scatterpolar"
           }
          ],
          "scatterpolargl": [
           {
            "marker": {
             "colorbar": {
              "outlinewidth": 0,
              "ticks": ""
             }
            },
            "type": "scatterpolargl"
           }
          ],
          "scatterternary": [
           {
            "marker": {
             "colorbar": {
              "outlinewidth": 0,
              "ticks": ""
             }
            },
            "type": "scatterternary"
           }
          ],
          "surface": [
           {
            "colorbar": {
             "outlinewidth": 0,
             "ticks": ""
            },
            "colorscale": [
             [
              0,
              "#0d0887"
             ],
             [
              0.1111111111111111,
              "#46039f"
             ],
             [
              0.2222222222222222,
              "#7201a8"
             ],
             [
              0.3333333333333333,
              "#9c179e"
             ],
             [
              0.4444444444444444,
              "#bd3786"
             ],
             [
              0.5555555555555556,
              "#d8576b"
             ],
             [
              0.6666666666666666,
              "#ed7953"
             ],
             [
              0.7777777777777778,
              "#fb9f3a"
             ],
             [
              0.8888888888888888,
              "#fdca26"
             ],
             [
              1,
              "#f0f921"
             ]
            ],
            "type": "surface"
           }
          ],
          "table": [
           {
            "cells": {
             "fill": {
              "color": "#EBF0F8"
             },
             "line": {
              "color": "white"
             }
            },
            "header": {
             "fill": {
              "color": "#C8D4E3"
             },
             "line": {
              "color": "white"
             }
            },
            "type": "table"
           }
          ]
         },
         "layout": {
          "annotationdefaults": {
           "arrowcolor": "#2a3f5f",
           "arrowhead": 0,
           "arrowwidth": 1
          },
          "autotypenumbers": "strict",
          "coloraxis": {
           "colorbar": {
            "outlinewidth": 0,
            "ticks": ""
           }
          },
          "colorscale": {
           "diverging": [
            [
             0,
             "#8e0152"
            ],
            [
             0.1,
             "#c51b7d"
            ],
            [
             0.2,
             "#de77ae"
            ],
            [
             0.3,
             "#f1b6da"
            ],
            [
             0.4,
             "#fde0ef"
            ],
            [
             0.5,
             "#f7f7f7"
            ],
            [
             0.6,
             "#e6f5d0"
            ],
            [
             0.7,
             "#b8e186"
            ],
            [
             0.8,
             "#7fbc41"
            ],
            [
             0.9,
             "#4d9221"
            ],
            [
             1,
             "#276419"
            ]
           ],
           "sequential": [
            [
             0,
             "#0d0887"
            ],
            [
             0.1111111111111111,
             "#46039f"
            ],
            [
             0.2222222222222222,
             "#7201a8"
            ],
            [
             0.3333333333333333,
             "#9c179e"
            ],
            [
             0.4444444444444444,
             "#bd3786"
            ],
            [
             0.5555555555555556,
             "#d8576b"
            ],
            [
             0.6666666666666666,
             "#ed7953"
            ],
            [
             0.7777777777777778,
             "#fb9f3a"
            ],
            [
             0.8888888888888888,
             "#fdca26"
            ],
            [
             1,
             "#f0f921"
            ]
           ],
           "sequentialminus": [
            [
             0,
             "#0d0887"
            ],
            [
             0.1111111111111111,
             "#46039f"
            ],
            [
             0.2222222222222222,
             "#7201a8"
            ],
            [
             0.3333333333333333,
             "#9c179e"
            ],
            [
             0.4444444444444444,
             "#bd3786"
            ],
            [
             0.5555555555555556,
             "#d8576b"
            ],
            [
             0.6666666666666666,
             "#ed7953"
            ],
            [
             0.7777777777777778,
             "#fb9f3a"
            ],
            [
             0.8888888888888888,
             "#fdca26"
            ],
            [
             1,
             "#f0f921"
            ]
           ]
          },
          "colorway": [
           "#636efa",
           "#EF553B",
           "#00cc96",
           "#ab63fa",
           "#FFA15A",
           "#19d3f3",
           "#FF6692",
           "#B6E880",
           "#FF97FF",
           "#FECB52"
          ],
          "font": {
           "color": "#2a3f5f"
          },
          "geo": {
           "bgcolor": "white",
           "lakecolor": "white",
           "landcolor": "#E5ECF6",
           "showlakes": true,
           "showland": true,
           "subunitcolor": "white"
          },
          "hoverlabel": {
           "align": "left"
          },
          "hovermode": "closest",
          "mapbox": {
           "style": "light"
          },
          "paper_bgcolor": "white",
          "plot_bgcolor": "#E5ECF6",
          "polar": {
           "angularaxis": {
            "gridcolor": "white",
            "linecolor": "white",
            "ticks": ""
           },
           "bgcolor": "#E5ECF6",
           "radialaxis": {
            "gridcolor": "white",
            "linecolor": "white",
            "ticks": ""
           }
          },
          "scene": {
           "xaxis": {
            "backgroundcolor": "#E5ECF6",
            "gridcolor": "white",
            "gridwidth": 2,
            "linecolor": "white",
            "showbackground": true,
            "ticks": "",
            "zerolinecolor": "white"
           },
           "yaxis": {
            "backgroundcolor": "#E5ECF6",
            "gridcolor": "white",
            "gridwidth": 2,
            "linecolor": "white",
            "showbackground": true,
            "ticks": "",
            "zerolinecolor": "white"
           },
           "zaxis": {
            "backgroundcolor": "#E5ECF6",
            "gridcolor": "white",
            "gridwidth": 2,
            "linecolor": "white",
            "showbackground": true,
            "ticks": "",
            "zerolinecolor": "white"
           }
          },
          "shapedefaults": {
           "line": {
            "color": "#2a3f5f"
           }
          },
          "ternary": {
           "aaxis": {
            "gridcolor": "white",
            "linecolor": "white",
            "ticks": ""
           },
           "baxis": {
            "gridcolor": "white",
            "linecolor": "white",
            "ticks": ""
           },
           "bgcolor": "#E5ECF6",
           "caxis": {
            "gridcolor": "white",
            "linecolor": "white",
            "ticks": ""
           }
          },
          "title": {
           "x": 0.05
          },
          "xaxis": {
           "automargin": true,
           "gridcolor": "white",
           "linecolor": "white",
           "ticks": "",
           "title": {
            "standoff": 15
           },
           "zerolinecolor": "white",
           "zerolinewidth": 2
          },
          "yaxis": {
           "automargin": true,
           "gridcolor": "white",
           "linecolor": "white",
           "ticks": "",
           "title": {
            "standoff": 15
           },
           "zerolinecolor": "white",
           "zerolinewidth": 2
          }
         }
        }
       }
      }
     },
     "metadata": {},
     "output_type": "display_data"
    }
   ],
   "source": [
    "zeeman_prof = magpy.Collection()\n",
    "n = 5\n",
    "l =[-24,24,24,-24,24]\n",
    "ll = ['y','x','y','x','y']\n",
    "j = 0\n",
    "angles = np.linspace(0, 360, n, endpoint=False) \n",
    "for i in angles:\n",
    "    cube1= magpy.magnet.Cuboid(\n",
    "    dimension=(6,6,128),\n",
    "    polarization=(0,-1.08,0),\n",
    "    position=(40,1,0))\n",
    "    cube1.rotate_from_angax(i, 'z', anchor=0)\n",
    "    cube1.rotate_from_angax(i, 'z')\n",
    "    cube1.rotate_from_angax(l[j], ll[j],anchor = 0)\n",
    "    zeeman_prof.add(cube1)\n",
    "    j = j+1\n",
    "magpy.show(zeeman_prof, backend='plotly')  "
   ]
  },
  {
   "cell_type": "code",
   "execution_count": null,
   "metadata": {},
   "outputs": [
    {
     "data": {
      "application/vnd.plotly.v1+json": {
       "config": {
        "plotlyServerURL": "https://plot.ly"
       },
       "data": [
        {
         "color": "#2e91e5",
         "colorscale": [
          [
           0,
           "blue"
          ],
          [
           0.16,
           "blue"
          ],
          [
           0.26,
           "#dddddd"
          ],
          [
           0.74,
           "#dddddd"
          ],
          [
           0.8400000000000001,
           "red"
          ],
          [
           1,
           "red"
          ]
         ],
         "i": [
          7,
          0,
          0,
          0,
          4,
          4,
          2,
          6,
          4,
          0,
          3,
          7,
          15,
          8,
          8,
          8,
          12,
          12,
          10,
          14,
          12,
          8,
          11,
          15,
          23,
          16,
          16,
          16,
          20,
          20,
          18,
          22,
          20,
          16,
          19,
          23,
          31,
          24,
          24,
          24,
          28,
          28,
          26,
          30,
          28,
          24,
          27,
          31,
          39,
          32,
          32,
          32,
          36,
          36,
          34,
          38,
          36,
          32,
          35,
          39,
          47,
          40,
          40,
          40,
          44,
          44,
          42,
          46,
          44,
          40,
          43,
          47,
          55,
          48,
          48,
          48,
          52,
          52,
          50,
          54,
          52,
          48,
          51,
          55,
          63,
          56,
          56,
          56,
          60,
          60,
          58,
          62,
          60,
          56,
          59,
          63,
          71,
          64,
          64,
          64,
          68,
          68,
          66,
          70,
          68,
          64,
          67,
          71,
          79,
          72,
          72,
          72,
          76,
          76,
          74,
          78,
          76,
          72,
          75,
          79,
          87,
          80,
          80,
          80,
          84,
          84,
          82,
          86,
          84,
          80,
          83,
          87,
          95,
          88,
          88,
          88,
          92,
          92,
          90,
          94,
          92,
          88,
          91,
          95,
          103,
          96,
          96,
          96,
          100,
          100,
          98,
          102,
          100,
          96,
          99,
          103,
          111,
          104,
          104,
          104,
          108,
          108,
          106,
          110,
          108,
          104,
          107,
          111,
          119,
          112,
          112,
          112,
          116,
          116,
          114,
          118,
          116,
          112,
          115,
          119,
          127,
          120,
          120,
          120,
          124,
          124,
          122,
          126,
          124,
          120,
          123,
          127,
          135,
          128,
          128,
          128,
          132,
          132,
          130,
          134,
          132,
          128,
          131,
          135,
          143,
          136,
          136,
          136,
          140,
          140,
          138,
          142,
          140,
          136,
          139,
          143,
          151,
          144,
          144,
          144,
          148,
          148,
          146,
          150,
          148,
          144,
          147,
          151,
          159,
          152,
          152,
          152,
          156,
          156,
          154,
          158,
          156,
          152,
          155,
          159
         ],
         "intensity": [
          0,
          1,
          1,
          0,
          0,
          1,
          1,
          0,
          1,
          0,
          0,
          1,
          1,
          0,
          0,
          1,
          1,
          0,
          0,
          1,
          1,
          0,
          0,
          1,
          0,
          1,
          1,
          0,
          0,
          1,
          1,
          0,
          0,
          1,
          1,
          0,
          0,
          1,
          1,
          0,
          0,
          1,
          1,
          0,
          0,
          1,
          1,
          0,
          1,
          0,
          0,
          1,
          1,
          0,
          0,
          1,
          1,
          0,
          0,
          1,
          1,
          0,
          0,
          1,
          0,
          1,
          1,
          0,
          0,
          1,
          1,
          0,
          0,
          1,
          1,
          0,
          0,
          1,
          1,
          0,
          0,
          1,
          1,
          0,
          0,
          1,
          1,
          0,
          1,
          0,
          0,
          1,
          1,
          0,
          0,
          1,
          1,
          0,
          0,
          1,
          1,
          0,
          0,
          1,
          0,
          1,
          1,
          0,
          0,
          1,
          1,
          0,
          0,
          1,
          1,
          0,
          0,
          1,
          1,
          0,
          0,
          1,
          1,
          0,
          0,
          1,
          1,
          0,
          1,
          0,
          0,
          1,
          1,
          0,
          0,
          1,
          1,
          0,
          0,
          1,
          1,
          0,
          0,
          1,
          0,
          1,
          1,
          0,
          0,
          1,
          1,
          0,
          0,
          1,
          1,
          0,
          0,
          1,
          1,
          0
         ],
         "j": [
          0,
          7,
          1,
          2,
          6,
          7,
          1,
          2,
          5,
          5,
          2,
          2,
          8,
          15,
          9,
          10,
          14,
          15,
          9,
          10,
          13,
          13,
          10,
          10,
          16,
          23,
          17,
          18,
          22,
          23,
          17,
          18,
          21,
          21,
          18,
          18,
          24,
          31,
          25,
          26,
          30,
          31,
          25,
          26,
          29,
          29,
          26,
          26,
          32,
          39,
          33,
          34,
          38,
          39,
          33,
          34,
          37,
          37,
          34,
          34,
          40,
          47,
          41,
          42,
          46,
          47,
          41,
          42,
          45,
          45,
          42,
          42,
          48,
          55,
          49,
          50,
          54,
          55,
          49,
          50,
          53,
          53,
          50,
          50,
          56,
          63,
          57,
          58,
          62,
          63,
          57,
          58,
          61,
          61,
          58,
          58,
          64,
          71,
          65,
          66,
          70,
          71,
          65,
          66,
          69,
          69,
          66,
          66,
          72,
          79,
          73,
          74,
          78,
          79,
          73,
          74,
          77,
          77,
          74,
          74,
          80,
          87,
          81,
          82,
          86,
          87,
          81,
          82,
          85,
          85,
          82,
          82,
          88,
          95,
          89,
          90,
          94,
          95,
          89,
          90,
          93,
          93,
          90,
          90,
          96,
          103,
          97,
          98,
          102,
          103,
          97,
          98,
          101,
          101,
          98,
          98,
          104,
          111,
          105,
          106,
          110,
          111,
          105,
          106,
          109,
          109,
          106,
          106,
          112,
          119,
          113,
          114,
          118,
          119,
          113,
          114,
          117,
          117,
          114,
          114,
          120,
          127,
          121,
          122,
          126,
          127,
          121,
          122,
          125,
          125,
          122,
          122,
          128,
          135,
          129,
          130,
          134,
          135,
          129,
          130,
          133,
          133,
          130,
          130,
          136,
          143,
          137,
          138,
          142,
          143,
          137,
          138,
          141,
          141,
          138,
          138,
          144,
          151,
          145,
          146,
          150,
          151,
          145,
          146,
          149,
          149,
          146,
          146,
          152,
          159,
          153,
          154,
          158,
          159,
          153,
          154,
          157,
          157,
          154,
          154
         ],
         "k": [
          3,
          4,
          2,
          3,
          5,
          6,
          5,
          5,
          0,
          1,
          7,
          6,
          11,
          12,
          10,
          11,
          13,
          14,
          13,
          13,
          8,
          9,
          15,
          14,
          19,
          20,
          18,
          19,
          21,
          22,
          21,
          21,
          16,
          17,
          23,
          22,
          27,
          28,
          26,
          27,
          29,
          30,
          29,
          29,
          24,
          25,
          31,
          30,
          35,
          36,
          34,
          35,
          37,
          38,
          37,
          37,
          32,
          33,
          39,
          38,
          43,
          44,
          42,
          43,
          45,
          46,
          45,
          45,
          40,
          41,
          47,
          46,
          51,
          52,
          50,
          51,
          53,
          54,
          53,
          53,
          48,
          49,
          55,
          54,
          59,
          60,
          58,
          59,
          61,
          62,
          61,
          61,
          56,
          57,
          63,
          62,
          67,
          68,
          66,
          67,
          69,
          70,
          69,
          69,
          64,
          65,
          71,
          70,
          75,
          76,
          74,
          75,
          77,
          78,
          77,
          77,
          72,
          73,
          79,
          78,
          83,
          84,
          82,
          83,
          85,
          86,
          85,
          85,
          80,
          81,
          87,
          86,
          91,
          92,
          90,
          91,
          93,
          94,
          93,
          93,
          88,
          89,
          95,
          94,
          99,
          100,
          98,
          99,
          101,
          102,
          101,
          101,
          96,
          97,
          103,
          102,
          107,
          108,
          106,
          107,
          109,
          110,
          109,
          109,
          104,
          105,
          111,
          110,
          115,
          116,
          114,
          115,
          117,
          118,
          117,
          117,
          112,
          113,
          119,
          118,
          123,
          124,
          122,
          123,
          125,
          126,
          125,
          125,
          120,
          121,
          127,
          126,
          131,
          132,
          130,
          131,
          133,
          134,
          133,
          133,
          128,
          129,
          135,
          134,
          139,
          140,
          138,
          139,
          141,
          142,
          141,
          141,
          136,
          137,
          143,
          142,
          147,
          148,
          146,
          147,
          149,
          150,
          149,
          149,
          144,
          145,
          151,
          150,
          155,
          156,
          154,
          155,
          157,
          158,
          157,
          157,
          152,
          153,
          159,
          158
         ],
         "legendgroup": "Collection(id=2670823782640)",
         "name": "Collection (24 sources)",
         "opacity": 1,
         "showlegend": true,
         "showscale": false,
         "type": "mesh3d",
         "x": [
          90.94070751081958,
          90.94070751081958,
          96.73626246855397,
          96.73626246855397,
          57.81186973769692,
          57.81186973769692,
          63.60742469543133,
          63.60742469543133,
          63.77073437814951,
          63.77073437814951,
          69.25200712400512,
          69.25200712400512,
          11.708444064447082,
          11.708444064447082,
          17.189716810302688,
          17.189716810302688,
          48,
          48,
          52,
          52,
          48,
          48,
          52,
          52,
          38,
          38,
          42,
          42,
          38,
          38,
          42,
          42,
          28,
          28,
          32,
          32,
          28,
          28,
          32,
          32,
          3.000000000000019,
          3.0000000000000164,
          -2.9999999999999836,
          -2.999999999999981,
          3.000000000000019,
          3.0000000000000164,
          -2.9999999999999836,
          -2.999999999999981,
          3.000000000000029,
          3.000000000000026,
          -2.9999999999999756,
          -2.999999999999973,
          3.000000000000029,
          3.000000000000026,
          -2.9999999999999756,
          -2.999999999999973,
          2.000000000000012,
          2.00000000000001,
          -1.9999999999999898,
          -1.999999999999988,
          2.000000000000012,
          2.00000000000001,
          -1.9999999999999898,
          -1.999999999999988,
          2.0000000000000098,
          2.000000000000008,
          -1.999999999999992,
          -1.9999999999999902,
          2.0000000000000098,
          2.000000000000008,
          -1.999999999999992,
          -1.9999999999999902,
          2.0000000000000075,
          2.0000000000000058,
          -1.9999999999999942,
          -1.9999999999999925,
          2.0000000000000075,
          2.0000000000000058,
          -1.9999999999999942,
          -1.9999999999999925,
          -96.73626246855397,
          -96.73626246855397,
          -90.94070751081958,
          -90.94070751081958,
          -63.60742469543133,
          -63.60742469543133,
          -57.81186973769692,
          -57.81186973769692,
          -69.25200712400512,
          -69.25200712400512,
          -63.77073437814951,
          -63.77073437814951,
          -17.189716810302688,
          -17.189716810302688,
          -11.708444064447082,
          -11.708444064447082,
          -52,
          -52,
          -48,
          -48,
          -52,
          -52,
          -48,
          -48,
          -42,
          -42,
          -38,
          -38,
          -42,
          -42,
          -38,
          -38,
          -32,
          -32,
          -28,
          -28,
          -32,
          -32,
          -28,
          -28,
          2.9999999999999836,
          2.999999999999981,
          -3.000000000000019,
          -3.0000000000000164,
          2.9999999999999836,
          2.999999999999981,
          -3.000000000000019,
          -3.0000000000000164,
          2.9999999999999756,
          2.999999999999973,
          -3.000000000000029,
          -3.000000000000026,
          2.9999999999999756,
          2.999999999999973,
          -3.000000000000029,
          -3.000000000000026,
          1.9999999999999898,
          1.999999999999988,
          -2.000000000000012,
          -2.00000000000001,
          1.9999999999999898,
          1.999999999999988,
          -2.000000000000012,
          -2.00000000000001,
          1.999999999999992,
          1.9999999999999902,
          -2.0000000000000098,
          -2.000000000000008,
          1.999999999999992,
          1.9999999999999902,
          -2.0000000000000098,
          -2.000000000000008,
          1.9999999999999942,
          1.9999999999999925,
          -2.0000000000000075,
          -2.0000000000000058,
          1.9999999999999942,
          1.9999999999999925,
          -2.0000000000000075,
          -2.0000000000000058
         ],
         "y": [
          -3,
          3,
          3,
          -3,
          -3,
          3,
          3,
          -3,
          -3.000000000000001,
          3.000000000000001,
          3.000000000000001,
          -3.000000000000001,
          -3.000000000000001,
          3.000000000000001,
          3.000000000000001,
          -3.000000000000001,
          -2,
          2,
          2,
          -2,
          -2,
          2,
          2,
          -2,
          -2,
          2,
          2,
          -2,
          -2,
          2,
          2,
          -2,
          -2,
          2,
          2,
          -2,
          -2,
          2,
          2,
          -2,
          96.73626246855397,
          90.94070751081958,
          90.94070751081958,
          96.73626246855397,
          63.60742469543133,
          57.81186973769692,
          57.81186973769692,
          63.60742469543133,
          69.25200712400512,
          63.770734378149506,
          63.77073437814951,
          69.25200712400512,
          17.189716810302688,
          11.708444064447079,
          11.708444064447082,
          17.18971681030269,
          52,
          48,
          48,
          52,
          52,
          48,
          48,
          52,
          42,
          38,
          38,
          42,
          42,
          38,
          38,
          42,
          32,
          28,
          28,
          32,
          32,
          28,
          28,
          32,
          -2.9999999999999893,
          3.0000000000000107,
          3.000000000000009,
          -2.999999999999991,
          -2.9999999999999893,
          3.0000000000000107,
          3.000000000000009,
          -2.999999999999991,
          -2.9999999999999853,
          3.0000000000000164,
          3.0000000000000147,
          -2.999999999999987,
          -2.9999999999999853,
          3.0000000000000164,
          3.0000000000000147,
          -2.999999999999987,
          -1.9999999999999933,
          2.0000000000000067,
          2.0000000000000058,
          -1.9999999999999942,
          -1.9999999999999933,
          2.0000000000000067,
          2.0000000000000058,
          -1.9999999999999942,
          -1.9999999999999947,
          2.0000000000000053,
          2.0000000000000044,
          -1.9999999999999956,
          -1.9999999999999947,
          2.0000000000000053,
          2.0000000000000044,
          -1.9999999999999956,
          -1.9999999999999958,
          2.000000000000004,
          2.000000000000003,
          -1.9999999999999967,
          -1.9999999999999958,
          2.000000000000004,
          2.000000000000003,
          -1.9999999999999967,
          -90.94070751081958,
          -96.73626246855397,
          -96.73626246855397,
          -90.94070751081958,
          -57.81186973769692,
          -63.60742469543133,
          -63.60742469543133,
          -57.81186973769692,
          -63.77073437814951,
          -69.25200712400512,
          -69.25200712400512,
          -63.770734378149506,
          -11.708444064447082,
          -17.18971681030269,
          -17.189716810302688,
          -11.708444064447079,
          -48,
          -52,
          -52,
          -48,
          -48,
          -52,
          -52,
          -48,
          -38,
          -42,
          -42,
          -38,
          -38,
          -42,
          -42,
          -38,
          -28,
          -32,
          -32,
          -28,
          -28,
          -32,
          -32,
          -28
         ],
         "z": [
          -41.890186409606265,
          -41.890186409606265,
          -40.337272138991146,
          -40.337272138991146,
          81.74831935539447,
          81.74831935539447,
          83.30123362600958,
          83.30123362600958,
          144.42400574998433,
          144.42400574998433,
          146.86442560843915,
          146.86442560843915,
          261.35782432823726,
          261.35782432823726,
          263.79824418669205,
          263.79824418669205,
          127.5,
          127.5,
          127.5,
          127.5,
          152.5,
          152.5,
          152.5,
          152.5,
          227.5,
          227.5,
          227.5,
          227.5,
          252.5,
          252.5,
          252.5,
          252.5,
          247.5,
          247.5,
          247.5,
          247.5,
          272.5,
          272.5,
          272.5,
          272.5,
          -40.337272138991146,
          -41.890186409606265,
          -41.890186409606265,
          -40.337272138991146,
          83.30123362600958,
          81.74831935539447,
          81.74831935539447,
          83.30123362600958,
          146.86442560843915,
          144.42400574998433,
          144.42400574998433,
          146.86442560843915,
          263.79824418669205,
          261.35782432823726,
          261.35782432823726,
          263.79824418669205,
          127.5,
          127.5,
          127.5,
          127.5,
          152.5,
          152.5,
          152.5,
          152.5,
          227.5,
          227.5,
          227.5,
          227.5,
          252.5,
          252.5,
          252.5,
          252.5,
          247.5,
          247.5,
          247.5,
          247.5,
          272.5,
          272.5,
          272.5,
          272.5,
          -40.337272138991146,
          -40.337272138991146,
          -41.890186409606265,
          -41.890186409606265,
          83.30123362600958,
          83.30123362600958,
          81.74831935539447,
          81.74831935539447,
          146.86442560843915,
          146.86442560843915,
          144.42400574998433,
          144.42400574998433,
          263.79824418669205,
          263.79824418669205,
          261.35782432823726,
          261.35782432823726,
          127.5,
          127.5,
          127.5,
          127.5,
          152.5,
          152.5,
          152.5,
          152.5,
          227.5,
          227.5,
          227.5,
          227.5,
          252.5,
          252.5,
          252.5,
          252.5,
          247.5,
          247.5,
          247.5,
          247.5,
          272.5,
          272.5,
          272.5,
          272.5,
          -41.890186409606265,
          -40.337272138991146,
          -40.337272138991146,
          -41.890186409606265,
          81.74831935539447,
          83.30123362600958,
          83.30123362600958,
          81.74831935539447,
          144.42400574998433,
          146.86442560843915,
          146.86442560843915,
          144.42400574998433,
          261.35782432823726,
          263.79824418669205,
          263.79824418669205,
          261.35782432823726,
          127.5,
          127.5,
          127.5,
          127.5,
          152.5,
          152.5,
          152.5,
          152.5,
          227.5,
          227.5,
          227.5,
          227.5,
          252.5,
          252.5,
          252.5,
          252.5,
          247.5,
          247.5,
          247.5,
          247.5,
          272.5,
          272.5,
          272.5,
          272.5
         ]
        },
        {
         "color": "#2e91e5",
         "colorscale": [
          [
           0,
           "#00b050"
          ],
          [
           0.16,
           "#00b050"
          ],
          [
           0.26,
           "#dddddd"
          ],
          [
           0.74,
           "#dddddd"
          ],
          [
           0.8400000000000001,
           "#e71111"
          ],
          [
           1,
           "#e71111"
          ]
         ],
         "i": [
          7,
          0,
          0,
          0,
          4,
          4,
          2,
          6,
          4,
          0,
          3,
          7,
          15,
          8,
          8,
          8,
          12,
          12,
          10,
          14,
          12,
          8,
          11,
          15,
          23,
          16,
          16,
          16,
          20,
          20,
          18,
          22,
          20,
          16,
          19,
          23,
          31,
          24,
          24,
          24,
          28,
          28,
          26,
          30,
          28,
          24,
          27,
          31
         ],
         "intensity": [
          1,
          0,
          0,
          1,
          1,
          0,
          0,
          1,
          1,
          0,
          0,
          1,
          1,
          0,
          0,
          1,
          1,
          0,
          0,
          1,
          1,
          0,
          0,
          1,
          1,
          0,
          0,
          1,
          1,
          0,
          0,
          1
         ],
         "j": [
          0,
          7,
          1,
          2,
          6,
          7,
          1,
          2,
          5,
          5,
          2,
          2,
          8,
          15,
          9,
          10,
          14,
          15,
          9,
          10,
          13,
          13,
          10,
          10,
          16,
          23,
          17,
          18,
          22,
          23,
          17,
          18,
          21,
          21,
          18,
          18,
          24,
          31,
          25,
          26,
          30,
          31,
          25,
          26,
          29,
          29,
          26,
          26
         ],
         "k": [
          3,
          4,
          2,
          3,
          5,
          6,
          5,
          5,
          0,
          1,
          7,
          6,
          11,
          12,
          10,
          11,
          13,
          14,
          13,
          13,
          8,
          9,
          15,
          14,
          19,
          20,
          18,
          19,
          21,
          22,
          21,
          21,
          16,
          17,
          23,
          22,
          27,
          28,
          26,
          27,
          29,
          30,
          29,
          29,
          24,
          25,
          31,
          30
         ],
         "legendgroup": "Collection(id=2670823782640)",
         "name": "Collection (24 sources)",
         "opacity": 1,
         "showlegend": false,
         "showscale": false,
         "type": "mesh3d",
         "x": [
          78,
          78,
          82,
          82,
          78,
          78,
          82,
          82,
          2.0000000000000187,
          2.000000000000017,
          -1.9999999999999831,
          -1.9999999999999813,
          2.0000000000000187,
          2.000000000000017,
          -1.9999999999999831,
          -1.9999999999999813,
          -82,
          -82,
          -78,
          -78,
          -82,
          -82,
          -78,
          -78,
          1.9999999999999831,
          1.9999999999999813,
          -2.0000000000000187,
          -2.000000000000017,
          1.9999999999999831,
          1.9999999999999813,
          -2.0000000000000187,
          -2.000000000000017
         ],
         "y": [
          -2,
          2,
          2,
          -2,
          -2,
          2,
          2,
          -2,
          82,
          78,
          78,
          82,
          82,
          78,
          78,
          82,
          -1.9999999999999898,
          2.00000000000001,
          2.0000000000000093,
          -1.9999999999999907,
          -1.9999999999999898,
          2.00000000000001,
          2.0000000000000093,
          -1.9999999999999907,
          -78,
          -82,
          -82,
          -78,
          -78,
          -82,
          -82,
          -78
         ],
         "z": [
          -62.5,
          -62.5,
          -62.5,
          -62.5,
          -37.5,
          -37.5,
          -37.5,
          -37.5,
          -62.5,
          -62.5,
          -62.5,
          -62.5,
          -37.5,
          -37.5,
          -37.5,
          -37.5,
          -62.5,
          -62.5,
          -62.5,
          -62.5,
          -37.5,
          -37.5,
          -37.5,
          -37.5,
          -62.5,
          -62.5,
          -62.5,
          -62.5,
          -37.5,
          -37.5,
          -37.5,
          -37.5
         ]
        }
       ],
       "layout": {
        "legend": {
         "itemsizing": "constant"
        },
        "scene": {
         "aspectmode": "manual",
         "aspectratio": {
          "x": 1,
          "y": 1,
          "z": 1
         },
         "camera": {
          "eye": {
           "x": 1,
           "y": -1.5,
           "z": 1.4
          }
         },
         "xaxis": {
          "autorange": false,
          "range": [
           -167.5,
           167.5
          ],
          "title": {
           "text": "x (m)"
          }
         },
         "yaxis": {
          "autorange": false,
          "range": [
           -167.5,
           167.5
          ],
          "title": {
           "text": "y (m)"
          }
         },
         "zaxis": {
          "autorange": false,
          "range": [
           -62.5,
           272.5
          ],
          "title": {
           "text": "z (m)"
          }
         }
        },
        "template": {
         "data": {
          "bar": [
           {
            "error_x": {
             "color": "#2a3f5f"
            },
            "error_y": {
             "color": "#2a3f5f"
            },
            "marker": {
             "line": {
              "color": "#E5ECF6",
              "width": 0.5
             },
             "pattern": {
              "fillmode": "overlay",
              "size": 10,
              "solidity": 0.2
             }
            },
            "type": "bar"
           }
          ],
          "barpolar": [
           {
            "marker": {
             "line": {
              "color": "#E5ECF6",
              "width": 0.5
             },
             "pattern": {
              "fillmode": "overlay",
              "size": 10,
              "solidity": 0.2
             }
            },
            "type": "barpolar"
           }
          ],
          "carpet": [
           {
            "aaxis": {
             "endlinecolor": "#2a3f5f",
             "gridcolor": "white",
             "linecolor": "white",
             "minorgridcolor": "white",
             "startlinecolor": "#2a3f5f"
            },
            "baxis": {
             "endlinecolor": "#2a3f5f",
             "gridcolor": "white",
             "linecolor": "white",
             "minorgridcolor": "white",
             "startlinecolor": "#2a3f5f"
            },
            "type": "carpet"
           }
          ],
          "choropleth": [
           {
            "colorbar": {
             "outlinewidth": 0,
             "ticks": ""
            },
            "type": "choropleth"
           }
          ],
          "contour": [
           {
            "colorbar": {
             "outlinewidth": 0,
             "ticks": ""
            },
            "colorscale": [
             [
              0,
              "#0d0887"
             ],
             [
              0.1111111111111111,
              "#46039f"
             ],
             [
              0.2222222222222222,
              "#7201a8"
             ],
             [
              0.3333333333333333,
              "#9c179e"
             ],
             [
              0.4444444444444444,
              "#bd3786"
             ],
             [
              0.5555555555555556,
              "#d8576b"
             ],
             [
              0.6666666666666666,
              "#ed7953"
             ],
             [
              0.7777777777777778,
              "#fb9f3a"
             ],
             [
              0.8888888888888888,
              "#fdca26"
             ],
             [
              1,
              "#f0f921"
             ]
            ],
            "type": "contour"
           }
          ],
          "contourcarpet": [
           {
            "colorbar": {
             "outlinewidth": 0,
             "ticks": ""
            },
            "type": "contourcarpet"
           }
          ],
          "heatmap": [
           {
            "colorbar": {
             "outlinewidth": 0,
             "ticks": ""
            },
            "colorscale": [
             [
              0,
              "#0d0887"
             ],
             [
              0.1111111111111111,
              "#46039f"
             ],
             [
              0.2222222222222222,
              "#7201a8"
             ],
             [
              0.3333333333333333,
              "#9c179e"
             ],
             [
              0.4444444444444444,
              "#bd3786"
             ],
             [
              0.5555555555555556,
              "#d8576b"
             ],
             [
              0.6666666666666666,
              "#ed7953"
             ],
             [
              0.7777777777777778,
              "#fb9f3a"
             ],
             [
              0.8888888888888888,
              "#fdca26"
             ],
             [
              1,
              "#f0f921"
             ]
            ],
            "type": "heatmap"
           }
          ],
          "heatmapgl": [
           {
            "colorbar": {
             "outlinewidth": 0,
             "ticks": ""
            },
            "colorscale": [
             [
              0,
              "#0d0887"
             ],
             [
              0.1111111111111111,
              "#46039f"
             ],
             [
              0.2222222222222222,
              "#7201a8"
             ],
             [
              0.3333333333333333,
              "#9c179e"
             ],
             [
              0.4444444444444444,
              "#bd3786"
             ],
             [
              0.5555555555555556,
              "#d8576b"
             ],
             [
              0.6666666666666666,
              "#ed7953"
             ],
             [
              0.7777777777777778,
              "#fb9f3a"
             ],
             [
              0.8888888888888888,
              "#fdca26"
             ],
             [
              1,
              "#f0f921"
             ]
            ],
            "type": "heatmapgl"
           }
          ],
          "histogram": [
           {
            "marker": {
             "pattern": {
              "fillmode": "overlay",
              "size": 10,
              "solidity": 0.2
             }
            },
            "type": "histogram"
           }
          ],
          "histogram2d": [
           {
            "colorbar": {
             "outlinewidth": 0,
             "ticks": ""
            },
            "colorscale": [
             [
              0,
              "#0d0887"
             ],
             [
              0.1111111111111111,
              "#46039f"
             ],
             [
              0.2222222222222222,
              "#7201a8"
             ],
             [
              0.3333333333333333,
              "#9c179e"
             ],
             [
              0.4444444444444444,
              "#bd3786"
             ],
             [
              0.5555555555555556,
              "#d8576b"
             ],
             [
              0.6666666666666666,
              "#ed7953"
             ],
             [
              0.7777777777777778,
              "#fb9f3a"
             ],
             [
              0.8888888888888888,
              "#fdca26"
             ],
             [
              1,
              "#f0f921"
             ]
            ],
            "type": "histogram2d"
           }
          ],
          "histogram2dcontour": [
           {
            "colorbar": {
             "outlinewidth": 0,
             "ticks": ""
            },
            "colorscale": [
             [
              0,
              "#0d0887"
             ],
             [
              0.1111111111111111,
              "#46039f"
             ],
             [
              0.2222222222222222,
              "#7201a8"
             ],
             [
              0.3333333333333333,
              "#9c179e"
             ],
             [
              0.4444444444444444,
              "#bd3786"
             ],
             [
              0.5555555555555556,
              "#d8576b"
             ],
             [
              0.6666666666666666,
              "#ed7953"
             ],
             [
              0.7777777777777778,
              "#fb9f3a"
             ],
             [
              0.8888888888888888,
              "#fdca26"
             ],
             [
              1,
              "#f0f921"
             ]
            ],
            "type": "histogram2dcontour"
           }
          ],
          "mesh3d": [
           {
            "colorbar": {
             "outlinewidth": 0,
             "ticks": ""
            },
            "type": "mesh3d"
           }
          ],
          "parcoords": [
           {
            "line": {
             "colorbar": {
              "outlinewidth": 0,
              "ticks": ""
             }
            },
            "type": "parcoords"
           }
          ],
          "pie": [
           {
            "automargin": true,
            "type": "pie"
           }
          ],
          "scatter": [
           {
            "fillpattern": {
             "fillmode": "overlay",
             "size": 10,
             "solidity": 0.2
            },
            "type": "scatter"
           }
          ],
          "scatter3d": [
           {
            "line": {
             "colorbar": {
              "outlinewidth": 0,
              "ticks": ""
             }
            },
            "marker": {
             "colorbar": {
              "outlinewidth": 0,
              "ticks": ""
             }
            },
            "type": "scatter3d"
           }
          ],
          "scattercarpet": [
           {
            "marker": {
             "colorbar": {
              "outlinewidth": 0,
              "ticks": ""
             }
            },
            "type": "scattercarpet"
           }
          ],
          "scattergeo": [
           {
            "marker": {
             "colorbar": {
              "outlinewidth": 0,
              "ticks": ""
             }
            },
            "type": "scattergeo"
           }
          ],
          "scattergl": [
           {
            "marker": {
             "colorbar": {
              "outlinewidth": 0,
              "ticks": ""
             }
            },
            "type": "scattergl"
           }
          ],
          "scattermapbox": [
           {
            "marker": {
             "colorbar": {
              "outlinewidth": 0,
              "ticks": ""
             }
            },
            "type": "scattermapbox"
           }
          ],
          "scatterpolar": [
           {
            "marker": {
             "colorbar": {
              "outlinewidth": 0,
              "ticks": ""
             }
            },
            "type": "scatterpolar"
           }
          ],
          "scatterpolargl": [
           {
            "marker": {
             "colorbar": {
              "outlinewidth": 0,
              "ticks": ""
             }
            },
            "type": "scatterpolargl"
           }
          ],
          "scatterternary": [
           {
            "marker": {
             "colorbar": {
              "outlinewidth": 0,
              "ticks": ""
             }
            },
            "type": "scatterternary"
           }
          ],
          "surface": [
           {
            "colorbar": {
             "outlinewidth": 0,
             "ticks": ""
            },
            "colorscale": [
             [
              0,
              "#0d0887"
             ],
             [
              0.1111111111111111,
              "#46039f"
             ],
             [
              0.2222222222222222,
              "#7201a8"
             ],
             [
              0.3333333333333333,
              "#9c179e"
             ],
             [
              0.4444444444444444,
              "#bd3786"
             ],
             [
              0.5555555555555556,
              "#d8576b"
             ],
             [
              0.6666666666666666,
              "#ed7953"
             ],
             [
              0.7777777777777778,
              "#fb9f3a"
             ],
             [
              0.8888888888888888,
              "#fdca26"
             ],
             [
              1,
              "#f0f921"
             ]
            ],
            "type": "surface"
           }
          ],
          "table": [
           {
            "cells": {
             "fill": {
              "color": "#EBF0F8"
             },
             "line": {
              "color": "white"
             }
            },
            "header": {
             "fill": {
              "color": "#C8D4E3"
             },
             "line": {
              "color": "white"
             }
            },
            "type": "table"
           }
          ]
         },
         "layout": {
          "annotationdefaults": {
           "arrowcolor": "#2a3f5f",
           "arrowhead": 0,
           "arrowwidth": 1
          },
          "autotypenumbers": "strict",
          "coloraxis": {
           "colorbar": {
            "outlinewidth": 0,
            "ticks": ""
           }
          },
          "colorscale": {
           "diverging": [
            [
             0,
             "#8e0152"
            ],
            [
             0.1,
             "#c51b7d"
            ],
            [
             0.2,
             "#de77ae"
            ],
            [
             0.3,
             "#f1b6da"
            ],
            [
             0.4,
             "#fde0ef"
            ],
            [
             0.5,
             "#f7f7f7"
            ],
            [
             0.6,
             "#e6f5d0"
            ],
            [
             0.7,
             "#b8e186"
            ],
            [
             0.8,
             "#7fbc41"
            ],
            [
             0.9,
             "#4d9221"
            ],
            [
             1,
             "#276419"
            ]
           ],
           "sequential": [
            [
             0,
             "#0d0887"
            ],
            [
             0.1111111111111111,
             "#46039f"
            ],
            [
             0.2222222222222222,
             "#7201a8"
            ],
            [
             0.3333333333333333,
             "#9c179e"
            ],
            [
             0.4444444444444444,
             "#bd3786"
            ],
            [
             0.5555555555555556,
             "#d8576b"
            ],
            [
             0.6666666666666666,
             "#ed7953"
            ],
            [
             0.7777777777777778,
             "#fb9f3a"
            ],
            [
             0.8888888888888888,
             "#fdca26"
            ],
            [
             1,
             "#f0f921"
            ]
           ],
           "sequentialminus": [
            [
             0,
             "#0d0887"
            ],
            [
             0.1111111111111111,
             "#46039f"
            ],
            [
             0.2222222222222222,
             "#7201a8"
            ],
            [
             0.3333333333333333,
             "#9c179e"
            ],
            [
             0.4444444444444444,
             "#bd3786"
            ],
            [
             0.5555555555555556,
             "#d8576b"
            ],
            [
             0.6666666666666666,
             "#ed7953"
            ],
            [
             0.7777777777777778,
             "#fb9f3a"
            ],
            [
             0.8888888888888888,
             "#fdca26"
            ],
            [
             1,
             "#f0f921"
            ]
           ]
          },
          "colorway": [
           "#636efa",
           "#EF553B",
           "#00cc96",
           "#ab63fa",
           "#FFA15A",
           "#19d3f3",
           "#FF6692",
           "#B6E880",
           "#FF97FF",
           "#FECB52"
          ],
          "font": {
           "color": "#2a3f5f"
          },
          "geo": {
           "bgcolor": "white",
           "lakecolor": "white",
           "landcolor": "#E5ECF6",
           "showlakes": true,
           "showland": true,
           "subunitcolor": "white"
          },
          "hoverlabel": {
           "align": "left"
          },
          "hovermode": "closest",
          "mapbox": {
           "style": "light"
          },
          "paper_bgcolor": "white",
          "plot_bgcolor": "#E5ECF6",
          "polar": {
           "angularaxis": {
            "gridcolor": "white",
            "linecolor": "white",
            "ticks": ""
           },
           "bgcolor": "#E5ECF6",
           "radialaxis": {
            "gridcolor": "white",
            "linecolor": "white",
            "ticks": ""
           }
          },
          "scene": {
           "xaxis": {
            "backgroundcolor": "#E5ECF6",
            "gridcolor": "white",
            "gridwidth": 2,
            "linecolor": "white",
            "showbackground": true,
            "ticks": "",
            "zerolinecolor": "white"
           },
           "yaxis": {
            "backgroundcolor": "#E5ECF6",
            "gridcolor": "white",
            "gridwidth": 2,
            "linecolor": "white",
            "showbackground": true,
            "ticks": "",
            "zerolinecolor": "white"
           },
           "zaxis": {
            "backgroundcolor": "#E5ECF6",
            "gridcolor": "white",
            "gridwidth": 2,
            "linecolor": "white",
            "showbackground": true,
            "ticks": "",
            "zerolinecolor": "white"
           }
          },
          "shapedefaults": {
           "line": {
            "color": "#2a3f5f"
           }
          },
          "ternary": {
           "aaxis": {
            "gridcolor": "white",
            "linecolor": "white",
            "ticks": ""
           },
           "baxis": {
            "gridcolor": "white",
            "linecolor": "white",
            "ticks": ""
           },
           "bgcolor": "#E5ECF6",
           "caxis": {
            "gridcolor": "white",
            "linecolor": "white",
            "ticks": ""
           }
          },
          "title": {
           "x": 0.05
          },
          "xaxis": {
           "automargin": true,
           "gridcolor": "white",
           "linecolor": "white",
           "ticks": "",
           "title": {
            "standoff": 15
           },
           "zerolinecolor": "white",
           "zerolinewidth": 2
          },
          "yaxis": {
           "automargin": true,
           "gridcolor": "white",
           "linecolor": "white",
           "ticks": "",
           "title": {
            "standoff": 15
           },
           "zerolinecolor": "white",
           "zerolinewidth": 2
          }
         }
        }
       }
      }
     },
     "metadata": {},
     "output_type": "display_data"
    }
   ],
   "source": [
    "zeeman_prof = magpy.Collection()\n",
    "j = 0\n",
    "n = 4\n",
    "a = 10\n",
    "l =[-15,15,15,-15]\n",
    "l2 = [-24,24,24,-24]\n",
    "ll = ['y','x','y','x']\n",
    "mystyle = dict(\n",
    "    mode=\"color\",\n",
    "    color=dict(north='red',south = 'blue'))\n",
    "angles = np.linspace(0, 360, n, endpoint=False)\n",
    "for i in angles:\n",
    "    cube1= magpy.magnet.Cuboid(\n",
    "    dimension=(6,6,128),\n",
    "    polarization=(0,1.08,0),\n",
    "    position=(70+a,0,0),\n",
    "    style_magnetization = mystyle)\n",
    "    cube2 = magpy.magnet.Cuboid(dimension= (4,4,25),\n",
    "    polarization=(0,-1.17,0),\n",
    "    position=(70+a,0,-50))\n",
    "    cube3= magpy.magnet.Cuboid(\n",
    "        dimension=(6,6,128),\n",
    "        polarization=(0,-1.08,0),\n",
    "        position=(110+a,0,170),\n",
    "    style_magnetization = mystyle)\n",
    "    cube4 = magpy.magnet.Cuboid(dimension= (4,4,25),\n",
    "    polarization=(0,-1.17,0),\n",
    "    position=(40+a,0,140),\n",
    "    style_magnetization = mystyle)\n",
    "    cube5 = magpy.magnet.Cuboid(dimension= (4,4,25),\n",
    "    polarization=(0,1.17,0),\n",
    "    position=(30+a,0,240),\n",
    "    style_magnetization = mystyle)\n",
    "    cube6 = magpy.magnet.Cuboid(dimension= (4,4,25),\n",
    "    polarization=(0,1.17,0),\n",
    "    position=(20+a,0,260),\n",
    "    style_magnetization = mystyle)\n",
    "    cube1.rotate_from_angax(i, 'z', anchor=0)\n",
    "    cube1.rotate_from_angax(i, 'z')\n",
    "    cube1.rotate_from_angax(l[j], ll[j],anchor=0)\n",
    "    cube2.rotate_from_angax(i, 'z', anchor=0)\n",
    "    cube2.rotate_from_angax(i, 'z')\n",
    "    cube3.rotate_from_angax(i, 'z', anchor=0)\n",
    "    cube3.rotate_from_angax(i, 'z')\n",
    "    cube3.rotate_from_angax(l2[j], ll[j],anchor = 0)\n",
    "    cube4.rotate_from_angax(i, 'z', anchor=0)\n",
    "    cube4.rotate_from_angax(i, 'z')\n",
    "    cube5.rotate_from_angax(i, 'z', anchor=0)\n",
    "    cube5.rotate_from_angax(i, 'z')\n",
    "    cube6.rotate_from_angax(i, 'z', anchor=0)\n",
    "    cube6.rotate_from_angax(i, 'z')\n",
    "\n",
    "    zeeman_prof.add(cube1)\n",
    "    zeeman_prof.add(cube2)\n",
    "    zeeman_prof.add(cube3)\n",
    "    zeeman_prof.add(cube4)\n",
    "    zeeman_prof.add(cube5)\n",
    "    zeeman_prof.add(cube6)\n",
    "    j = j+1\n",
    "sens = magpy.Sensor([(0,0,0),(0,0,250)])\n",
    "magpy.show(zeeman_prof)\n"
   ]
  },
  {
   "cell_type": "code",
   "execution_count": null,
   "metadata": {},
   "outputs": [
    {
     "ename": "IndentationError",
     "evalue": "unexpected indent (2938878588.py, line 6)",
     "output_type": "error",
     "traceback": [
      "\u001b[1;36m  Cell \u001b[1;32mIn[224], line 6\u001b[1;36m\u001b[0m\n\u001b[1;33m    cube2 = magpy.magnet.Cuboid(dimension= (4,4,25),\u001b[0m\n\u001b[1;37m    ^\u001b[0m\n\u001b[1;31mIndentationError\u001b[0m\u001b[1;31m:\u001b[0m unexpected indent\n"
     ]
    }
   ],
   "source": [
    "cube1= magpy.magnet.Cuboid(\n",
    "dimension=(6,6,128),\n",
    "polarization=(0,1.08,0),\n",
    "position=(70+a,0,0),\n",
    "style_magnetization = mystyle)\n",
    "cube2 = magpy.magnet.Cuboid(dimension= (4,4,25),\n",
    "polarization=(0,-1.17,0),\n",
    "position=(70+a,0,-50))\n",
    "cube3= magpy.magnet.Cuboid(\n",
    "    dimension=(6,6,128),\n",
    "    polarization=(0,-1.08,0),\n",
    "    position=(110+a,0,170),\n",
    "style_magnetization = mystyle)\n",
    "cube4 = magpy.magnet.Cuboid(dimension= (4,4,25),\n",
    "polarization=(0,-1.17,0),\n",
    "position=(40+a,0,140),\n",
    "style_magnetization = mystyle)\n",
    "cube5 = magpy.magnet.Cuboid(dimension= (4,4,25),\n",
    "polarization=(0,1.17,0),\n",
    "position=(30+a,0,240),\n",
    "style_magnetization = mystyle)\n",
    "cube6 = magpy.magnet.Cuboid(dimension= (4,4,25),\n",
    "polarization=(0,1.17,0),\n",
    "position=(20+a,0,260),\n",
    "style_magnetization = mystyle)\n",
    "magpy.show(zeeman_prof)"
   ]
  },
  {
   "cell_type": "code",
   "execution_count": 220,
   "metadata": {},
   "outputs": [
    {
     "data": {
      "image/png": "[encoded data removed]",
      "text/plain": [
       "<Figure size 640x480 with 1 Axes>"
      ]
     },
     "metadata": {},
     "output_type": "display_data"
    }
   ],
   "source": [
    "B = magpy.getB(zeeman_prof, (0.01, 0, 0))\n",
    "plt.plot(\n",
    "    B * 1000,  # T -> mT\n",
    "    label=[\"Bx\", \"By\", \"Bz\"],\n",
    ")\n",
    "\n",
    "plt.gca().set(\n",
    "    title=\"B-field (mT) at position x=10mm\", xlabel=\"helmholtz path position index\"\n",
    ")\n",
    "plt.gca().grid(color=\".9\")\n",
    "plt.gca().legend()\n",
    "plt.show()"
   ]
  },
  {
   "cell_type": "code",
   "execution_count": null,
   "metadata": {},
   "outputs": [],
   "source": []
  },
  {
   "cell_type": "code",
   "execution_count": 223,
   "metadata": {},
   "outputs": [
    {
     "data": {
      "text/plain": [
       "Text(0, 0.5, 'mT')"
      ]
     },
     "execution_count": 223,
     "metadata": {},
     "output_type": "execute_result"
    },
    {
     "data": {
      "image/png": "[encoded data removed]",
      "text/plain": [
       "<Figure size 640x480 with 1 Axes>"
      ]
     },
     "metadata": {},
     "output_type": "display_data"
    }
   ],
   "source": [
    "z = np.linspace(-50,350,100)\n",
    "b_z = []\n",
    "b_x = []\n",
    "b_y = []\n",
    "for i in z:\n",
    "    b_z.append(zeeman_prof.getB([0,0,i])[1])\n",
    "\n",
    "    \n",
    "plt.plot(z/1e1,np.array(b_z)*1e3)\n",
    "plt.xlabel('z(cm)')\n",
    "plt.ylabel('mT')"
   ]
  },
  {
   "cell_type": "code",
   "execution_count": null,
   "metadata": {},
   "outputs": [],
   "source": []
  },
  {
   "cell_type": "code",
   "execution_count": null,
   "metadata": {},
   "outputs": [],
   "source": []
  }
 ],
 "metadata": {
  "kernelspec": {
   "display_name": "Python 3",
   "language": "python",
   "name": "python3"
  },
  "language_info": {
   "codemirror_mode": {
    "name": "ipython",
    "version": 3
   },
   "file_extension": ".py",
   "mimetype": "text/x-python",
   "name": "python",
   "nbconvert_exporter": "python",
   "pygments_lexer": "ipython3",
   "version": "3.12.3"
  }
 },
 "nbformat": 4,
 "nbformat_minor": 2
}
