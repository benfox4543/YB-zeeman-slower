{
 "cells": [
  {
   "cell_type": "code",
   "execution_count": 16,
   "metadata": {},
   "outputs": [],
   "source": [
    "import matplotlib.pyplot as plt\n",
    "import numpy as np\n",
    "import magpylib as magpy    \n",
    "import scipy.constants as cts\n",
    "import pylcp "
   ]
  },
  {
   "cell_type": "code",
   "execution_count": 17,
   "metadata": {},
   "outputs": [
    {
     "data": {
      "application/vnd.plotly.v1+json": {
       "config": {
        "plotlyServerURL": "https://plot.ly"
       },
       "data": [
        {
         "color": "#2e91e5",
         "colorscale": [
          [
           0,
           "turquoise"
          ],
          [
           0.16,
           "turquoise"
          ],
          [
           0.26,
           "white"
          ],
          [
           0.74,
           "white"
          ],
          [
           0.8400000000000001,
           "magenta"
          ],
          [
           1,
           "magenta"
          ]
         ],
         "i": [
          7,
          0,
          0,
          0,
          4,
          4,
          2,
          6,
          4,
          0,
          3,
          7,
          15,
          8,
          8,
          8,
          12,
          12,
          10,
          14,
          12,
          8,
          11,
          15,
          23,
          16,
          16,
          16,
          20,
          20,
          18,
          22,
          20,
          16,
          19,
          23,
          31,
          24,
          24,
          24,
          28,
          28,
          26,
          30,
          28,
          24,
          27,
          31
         ],
         "intensity": [
          0,
          0,
          1,
          1,
          0,
          0,
          1,
          1,
          0,
          0,
          1,
          1,
          0,
          0,
          1,
          1,
          0,
          0,
          1,
          1,
          0,
          0,
          1,
          1,
          0,
          0,
          1,
          1,
          0,
          0,
          1,
          1
         ],
         "j": [
          0,
          7,
          1,
          2,
          6,
          7,
          1,
          2,
          5,
          5,
          2,
          2,
          8,
          15,
          9,
          10,
          14,
          15,
          9,
          10,
          13,
          13,
          10,
          10,
          16,
          23,
          17,
          18,
          22,
          23,
          17,
          18,
          21,
          21,
          18,
          18,
          24,
          31,
          25,
          26,
          30,
          31,
          25,
          26,
          29,
          29,
          26,
          26
         ],
         "k": [
          3,
          4,
          2,
          3,
          5,
          6,
          5,
          5,
          0,
          1,
          7,
          6,
          11,
          12,
          10,
          11,
          13,
          14,
          13,
          13,
          8,
          9,
          15,
          14,
          19,
          20,
          18,
          19,
          21,
          22,
          21,
          21,
          16,
          17,
          23,
          22,
          27,
          28,
          26,
          27,
          29,
          30,
          29,
          29,
          24,
          25,
          31,
          30
         ],
         "legendgroup": "Collection(id=1911235319744)",
         "name": "Collection (4 sources)",
         "opacity": 1,
         "showlegend": true,
         "showscale": false,
         "type": "mesh3d",
         "x": [
          61,
          61,
          69,
          69,
          61,
          61,
          69,
          69,
          -2.999999999999985,
          3.000000000000015,
          3.0000000000000133,
          -2.9999999999999867,
          -2.999999999999985,
          3.000000000000015,
          3.0000000000000133,
          -2.9999999999999867,
          -61,
          -61,
          -69,
          -69,
          -61,
          -61,
          -69,
          -69,
          2.999999999999985,
          -3.000000000000015,
          -3.0000000000000133,
          2.9999999999999867,
          2.999999999999985,
          -3.000000000000015,
          -3.0000000000000133,
          2.9999999999999867
         ],
         "y": [
          -3,
          3,
          3,
          -3,
          -3,
          3,
          3,
          -3,
          69,
          69,
          61,
          61,
          69,
          69,
          61,
          61,
          3.0000000000000075,
          -2.9999999999999925,
          -2.9999999999999916,
          3.0000000000000084,
          3.0000000000000075,
          -2.9999999999999925,
          -2.9999999999999916,
          3.0000000000000084,
          -69,
          -69,
          -61,
          -61,
          -69,
          -69,
          -61,
          -61
         ],
         "z": [
          -40,
          -40,
          -40,
          -40,
          40,
          40,
          40,
          40,
          -40,
          -40,
          -40,
          -40,
          40,
          40,
          40,
          40,
          -40,
          -40,
          -40,
          -40,
          40,
          40,
          40,
          40,
          -40,
          -40,
          -40,
          -40,
          40,
          40,
          40,
          40
         ]
        },
        {
         "legendgroup": "Collection(id=1911235319744)",
         "line": {
          "color": "black",
          "dash": "solid",
          "width": 4.4
         },
         "mode": "lines",
         "name": "Collection (4 sources)",
         "opacity": 1,
         "showlegend": false,
         "type": "scatter3d",
         "x": [
          null,
          65,
          184.99999999987114,
          172.999999999884,
          184.99999999987114,
          172.999999999884,
          184.99999999987114,
          184.99999999987114,
          null,
          1.4432899320127035e-14,
          1.4432899320127035e-14,
          7.199999999992281,
          1.4432899320127035e-14,
          -7.199999999992253,
          1.4432899320127035e-14,
          1.4432899320127035e-14,
          null,
          -65,
          -184.99999999987114,
          -172.999999999884,
          -184.99999999987114,
          -172.999999999884,
          -184.99999999987114,
          -184.99999999987114,
          null,
          -1.4432899320127035e-14,
          -1.4432899320127035e-14,
          -7.199999999992281,
          -1.4432899320127035e-14,
          7.199999999992253,
          -1.4432899320127035e-14,
          -1.4432899320127035e-14
         ],
         "y": [
          null,
          0,
          2.664535259097514e-14,
          7.199999999992291,
          2.664535259097514e-14,
          -7.199999999992243,
          2.664535259097514e-14,
          2.664535259097514e-14,
          null,
          65,
          -54.99999999987112,
          -42.99999999988401,
          -54.99999999987112,
          -42.99999999988401,
          -54.99999999987112,
          -54.99999999987112,
          null,
          7.959941299845452e-15,
          -3.9901350452769445e-15,
          -7.1999999999922695,
          -3.9901350452769445e-15,
          7.199999999992264,
          -3.9901350452769445e-15,
          -3.9901350452769445e-15,
          null,
          -65,
          54.99999999987112,
          42.99999999988401,
          54.99999999987112,
          42.99999999988401,
          54.99999999987112,
          54.99999999987112
         ],
         "z": [
          null,
          0,
          0,
          0,
          0,
          0,
          0,
          0,
          null,
          0,
          0,
          0,
          0,
          0,
          0,
          0,
          null,
          0,
          0,
          0,
          0,
          0,
          0,
          0,
          null,
          0,
          0,
          0,
          0,
          0,
          0,
          0
         ]
        }
       ],
       "layout": {
        "legend": {
         "itemsizing": "constant"
        },
        "scene": {
         "aspectmode": "manual",
         "aspectratio": {
          "x": 1,
          "y": 1,
          "z": 1
         },
         "camera": {
          "eye": {
           "x": 1,
           "y": -1.5,
           "z": 1.4
          }
         },
         "xaxis": {
          "autorange": false,
          "range": [
           -184.99999999987114,
           184.99999999987114
          ],
          "title": {
           "text": "x (m)"
          }
         },
         "yaxis": {
          "autorange": false,
          "range": [
           -184.99999999987114,
           184.99999999987114
          ],
          "title": {
           "text": "y (m)"
          }
         },
         "zaxis": {
          "autorange": false,
          "range": [
           -184.99999999987114,
           184.99999999987114
          ],
          "title": {
           "text": "z (m)"
          }
         }
        },
        "template": {
         "data": {
          "bar": [
           {
            "error_x": {
             "color": "#2a3f5f"
            },
            "error_y": {
             "color": "#2a3f5f"
            },
            "marker": {
             "line": {
              "color": "#E5ECF6",
              "width": 0.5
             },
             "pattern": {
              "fillmode": "overlay",
              "size": 10,
              "solidity": 0.2
             }
            },
            "type": "bar"
           }
          ],
          "barpolar": [
           {
            "marker": {
             "line": {
              "color": "#E5ECF6",
              "width": 0.5
             },
             "pattern": {
              "fillmode": "overlay",
              "size": 10,
              "solidity": 0.2
             }
            },
            "type": "barpolar"
           }
          ],
          "carpet": [
           {
            "aaxis": {
             "endlinecolor": "#2a3f5f",
             "gridcolor": "white",
             "linecolor": "white",
             "minorgridcolor": "white",
             "startlinecolor": "#2a3f5f"
            },
            "baxis": {
             "endlinecolor": "#2a3f5f",
             "gridcolor": "white",
             "linecolor": "white",
             "minorgridcolor": "white",
             "startlinecolor": "#2a3f5f"
            },
            "type": "carpet"
           }
          ],
          "choropleth": [
           {
            "colorbar": {
             "outlinewidth": 0,
             "ticks": ""
            },
            "type": "choropleth"
           }
          ],
          "contour": [
           {
            "colorbar": {
             "outlinewidth": 0,
             "ticks": ""
            },
            "colorscale": [
             [
              0,
              "#0d0887"
             ],
             [
              0.1111111111111111,
              "#46039f"
             ],
             [
              0.2222222222222222,
              "#7201a8"
             ],
             [
              0.3333333333333333,
              "#9c179e"
             ],
             [
              0.4444444444444444,
              "#bd3786"
             ],
             [
              0.5555555555555556,
              "#d8576b"
             ],
             [
              0.6666666666666666,
              "#ed7953"
             ],
             [
              0.7777777777777778,
              "#fb9f3a"
             ],
             [
              0.8888888888888888,
              "#fdca26"
             ],
             [
              1,
              "#f0f921"
             ]
            ],
            "type": "contour"
           }
          ],
          "contourcarpet": [
           {
            "colorbar": {
             "outlinewidth": 0,
             "ticks": ""
            },
            "type": "contourcarpet"
           }
          ],
          "heatmap": [
           {
            "colorbar": {
             "outlinewidth": 0,
             "ticks": ""
            },
            "colorscale": [
             [
              0,
              "#0d0887"
             ],
             [
              0.1111111111111111,
              "#46039f"
             ],
             [
              0.2222222222222222,
              "#7201a8"
             ],
             [
              0.3333333333333333,
              "#9c179e"
             ],
             [
              0.4444444444444444,
              "#bd3786"
             ],
             [
              0.5555555555555556,
              "#d8576b"
             ],
             [
              0.6666666666666666,
              "#ed7953"
             ],
             [
              0.7777777777777778,
              "#fb9f3a"
             ],
             [
              0.8888888888888888,
              "#fdca26"
             ],
             [
              1,
              "#f0f921"
             ]
            ],
            "type": "heatmap"
           }
          ],
          "heatmapgl": [
           {
            "colorbar": {
             "outlinewidth": 0,
             "ticks": ""
            },
            "colorscale": [
             [
              0,
              "#0d0887"
             ],
             [
              0.1111111111111111,
              "#46039f"
             ],
             [
              0.2222222222222222,
              "#7201a8"
             ],
             [
              0.3333333333333333,
              "#9c179e"
             ],
             [
              0.4444444444444444,
              "#bd3786"
             ],
             [
              0.5555555555555556,
              "#d8576b"
             ],
             [
              0.6666666666666666,
              "#ed7953"
             ],
             [
              0.7777777777777778,
              "#fb9f3a"
             ],
             [
              0.8888888888888888,
              "#fdca26"
             ],
             [
              1,
              "#f0f921"
             ]
            ],
            "type": "heatmapgl"
           }
          ],
          "histogram": [
           {
            "marker": {
             "pattern": {
              "fillmode": "overlay",
              "size": 10,
              "solidity": 0.2
             }
            },
            "type": "histogram"
           }
          ],
          "histogram2d": [
           {
            "colorbar": {
             "outlinewidth": 0,
             "ticks": ""
            },
            "colorscale": [
             [
              0,
              "#0d0887"
             ],
             [
              0.1111111111111111,
              "#46039f"
             ],
             [
              0.2222222222222222,
              "#7201a8"
             ],
             [
              0.3333333333333333,
              "#9c179e"
             ],
             [
              0.4444444444444444,
              "#bd3786"
             ],
             [
              0.5555555555555556,
              "#d8576b"
             ],
             [
              0.6666666666666666,
              "#ed7953"
             ],
             [
              0.7777777777777778,
              "#fb9f3a"
             ],
             [
              0.8888888888888888,
              "#fdca26"
             ],
             [
              1,
              "#f0f921"
             ]
            ],
            "type": "histogram2d"
           }
          ],
          "histogram2dcontour": [
           {
            "colorbar": {
             "outlinewidth": 0,
             "ticks": ""
            },
            "colorscale": [
             [
              0,
              "#0d0887"
             ],
             [
              0.1111111111111111,
              "#46039f"
             ],
             [
              0.2222222222222222,
              "#7201a8"
             ],
             [
              0.3333333333333333,
              "#9c179e"
             ],
             [
              0.4444444444444444,
              "#bd3786"
             ],
             [
              0.5555555555555556,
              "#d8576b"
             ],
             [
              0.6666666666666666,
              "#ed7953"
             ],
             [
              0.7777777777777778,
              "#fb9f3a"
             ],
             [
              0.8888888888888888,
              "#fdca26"
             ],
             [
              1,
              "#f0f921"
             ]
            ],
            "type": "histogram2dcontour"
           }
          ],
          "mesh3d": [
           {
            "colorbar": {
             "outlinewidth": 0,
             "ticks": ""
            },
            "type": "mesh3d"
           }
          ],
          "parcoords": [
           {
            "line": {
             "colorbar": {
              "outlinewidth": 0,
              "ticks": ""
             }
            },
            "type": "parcoords"
           }
          ],
          "pie": [
           {
            "automargin": true,
            "type": "pie"
           }
          ],
          "scatter": [
           {
            "fillpattern": {
             "fillmode": "overlay",
             "size": 10,
             "solidity": 0.2
            },
            "type": "scatter"
           }
          ],
          "scatter3d": [
           {
            "line": {
             "colorbar": {
              "outlinewidth": 0,
              "ticks": ""
             }
            },
            "marker": {
             "colorbar": {
              "outlinewidth": 0,
              "ticks": ""
             }
            },
            "type": "scatter3d"
           }
          ],
          "scattercarpet": [
           {
            "marker": {
             "colorbar": {
              "outlinewidth": 0,
              "ticks": ""
             }
            },
            "type": "scattercarpet"
           }
          ],
          "scattergeo": [
           {
            "marker": {
             "colorbar": {
              "outlinewidth": 0,
              "ticks": ""
             }
            },
            "type": "scattergeo"
           }
          ],
          "scattergl": [
           {
            "marker": {
             "colorbar": {
              "outlinewidth": 0,
              "ticks": ""
             }
            },
            "type": "scattergl"
           }
          ],
          "scattermapbox": [
           {
            "marker": {
             "colorbar": {
              "outlinewidth": 0,
              "ticks": ""
             }
            },
            "type": "scattermapbox"
           }
          ],
          "scatterpolar": [
           {
            "marker": {
             "colorbar": {
              "outlinewidth": 0,
              "ticks": ""
             }
            },
            "type": "scatterpolar"
           }
          ],
          "scatterpolargl": [
           {
            "marker": {
             "colorbar": {
              "outlinewidth": 0,
              "ticks": ""
             }
            },
            "type": "scatterpolargl"
           }
          ],
          "scatterternary": [
           {
            "marker": {
             "colorbar": {
              "outlinewidth": 0,
              "ticks": ""
             }
            },
            "type": "scatterternary"
           }
          ],
          "surface": [
           {
            "colorbar": {
             "outlinewidth": 0,
             "ticks": ""
            },
            "colorscale": [
             [
              0,
              "#0d0887"
             ],
             [
              0.1111111111111111,
              "#46039f"
             ],
             [
              0.2222222222222222,
              "#7201a8"
             ],
             [
              0.3333333333333333,
              "#9c179e"
             ],
             [
              0.4444444444444444,
              "#bd3786"
             ],
             [
              0.5555555555555556,
              "#d8576b"
             ],
             [
              0.6666666666666666,
              "#ed7953"
             ],
             [
              0.7777777777777778,
              "#fb9f3a"
             ],
             [
              0.8888888888888888,
              "#fdca26"
             ],
             [
              1,
              "#f0f921"
             ]
            ],
            "type": "surface"
           }
          ],
          "table": [
           {
            "cells": {
             "fill": {
              "color": "#EBF0F8"
             },
             "line": {
              "color": "white"
             }
            },
            "header": {
             "fill": {
              "color": "#C8D4E3"
             },
             "line": {
              "color": "white"
             }
            },
            "type": "table"
           }
          ]
         },
         "layout": {
          "annotationdefaults": {
           "arrowcolor": "#2a3f5f",
           "arrowhead": 0,
           "arrowwidth": 1
          },
          "autotypenumbers": "strict",
          "coloraxis": {
           "colorbar": {
            "outlinewidth": 0,
            "ticks": ""
           }
          },
          "colorscale": {
           "diverging": [
            [
             0,
             "#8e0152"
            ],
            [
             0.1,
             "#c51b7d"
            ],
            [
             0.2,
             "#de77ae"
            ],
            [
             0.3,
             "#f1b6da"
            ],
            [
             0.4,
             "#fde0ef"
            ],
            [
             0.5,
             "#f7f7f7"
            ],
            [
             0.6,
             "#e6f5d0"
            ],
            [
             0.7,
             "#b8e186"
            ],
            [
             0.8,
             "#7fbc41"
            ],
            [
             0.9,
             "#4d9221"
            ],
            [
             1,
             "#276419"
            ]
           ],
           "sequential": [
            [
             0,
             "#0d0887"
            ],
            [
             0.1111111111111111,
             "#46039f"
            ],
            [
             0.2222222222222222,
             "#7201a8"
            ],
            [
             0.3333333333333333,
             "#9c179e"
            ],
            [
             0.4444444444444444,
             "#bd3786"
            ],
            [
             0.5555555555555556,
             "#d8576b"
            ],
            [
             0.6666666666666666,
             "#ed7953"
            ],
            [
             0.7777777777777778,
             "#fb9f3a"
            ],
            [
             0.8888888888888888,
             "#fdca26"
            ],
            [
             1,
             "#f0f921"
            ]
           ],
           "sequentialminus": [
            [
             0,
             "#0d0887"
            ],
            [
             0.1111111111111111,
             "#46039f"
            ],
            [
             0.2222222222222222,
             "#7201a8"
            ],
            [
             0.3333333333333333,
             "#9c179e"
            ],
            [
             0.4444444444444444,
             "#bd3786"
            ],
            [
             0.5555555555555556,
             "#d8576b"
            ],
            [
             0.6666666666666666,
             "#ed7953"
            ],
            [
             0.7777777777777778,
             "#fb9f3a"
            ],
            [
             0.8888888888888888,
             "#fdca26"
            ],
            [
             1,
             "#f0f921"
            ]
           ]
          },
          "colorway": [
           "#636efa",
           "#EF553B",
           "#00cc96",
           "#ab63fa",
           "#FFA15A",
           "#19d3f3",
           "#FF6692",
           "#B6E880",
           "#FF97FF",
           "#FECB52"
          ],
          "font": {
           "color": "#2a3f5f"
          },
          "geo": {
           "bgcolor": "white",
           "lakecolor": "white",
           "landcolor": "#E5ECF6",
           "showlakes": true,
           "showland": true,
           "subunitcolor": "white"
          },
          "hoverlabel": {
           "align": "left"
          },
          "hovermode": "closest",
          "mapbox": {
           "style": "light"
          },
          "paper_bgcolor": "white",
          "plot_bgcolor": "#E5ECF6",
          "polar": {
           "angularaxis": {
            "gridcolor": "white",
            "linecolor": "white",
            "ticks": ""
           },
           "bgcolor": "#E5ECF6",
           "radialaxis": {
            "gridcolor": "white",
            "linecolor": "white",
            "ticks": ""
           }
          },
          "scene": {
           "xaxis": {
            "backgroundcolor": "#E5ECF6",
            "gridcolor": "white",
            "gridwidth": 2,
            "linecolor": "white",
            "showbackground": true,
            "ticks": "",
            "zerolinecolor": "white"
           },
           "yaxis": {
            "backgroundcolor": "#E5ECF6",
            "gridcolor": "white",
            "gridwidth": 2,
            "linecolor": "white",
            "showbackground": true,
            "ticks": "",
            "zerolinecolor": "white"
           },
           "zaxis": {
            "backgroundcolor": "#E5ECF6",
            "gridcolor": "white",
            "gridwidth": 2,
            "linecolor": "white",
            "showbackground": true,
            "ticks": "",
            "zerolinecolor": "white"
           }
          },
          "shapedefaults": {
           "line": {
            "color": "#2a3f5f"
           }
          },
          "ternary": {
           "aaxis": {
            "gridcolor": "white",
            "linecolor": "white",
            "ticks": ""
           },
           "baxis": {
            "gridcolor": "white",
            "linecolor": "white",
            "ticks": ""
           },
           "bgcolor": "#E5ECF6",
           "caxis": {
            "gridcolor": "white",
            "linecolor": "white",
            "ticks": ""
           }
          },
          "title": {
           "x": 0.05
          },
          "xaxis": {
           "automargin": true,
           "gridcolor": "white",
           "linecolor": "white",
           "ticks": "",
           "title": {
            "standoff": 15
           },
           "zerolinecolor": "white",
           "zerolinewidth": 2
          },
          "yaxis": {
           "automargin": true,
           "gridcolor": "white",
           "linecolor": "white",
           "ticks": "",
           "title": {
            "standoff": 15
           },
           "zerolinecolor": "white",
           "zerolinewidth": 2
          }
         }
        }
       }
      }
     },
     "metadata": {},
     "output_type": "display_data"
    }
   ],
   "source": [
    "tfmot = magpy.Collection()\n",
    "N = 4\n",
    "angles = np.linspace(0,360,N,endpoint=False)\n",
    "pol = [0,180,0,180]\n",
    "l = 35\n",
    "halbach = magpy.Collection()\n",
    "mystyle = mstyle = dict(\n",
    "    mode=\"color+arrow\",\n",
    "    color=dict(north=\"magenta\", middle=\"white\", south=\"turquoise\"),\n",
    "    arrow=dict(width=2, color=\"k\"),\n",
    ")\n",
    "for a in range(len(angles)):\n",
    "    cube= magpy.magnet.Cuboid(\n",
    "    dimension=(8,6,80),\n",
    "    polarization=(1.17,0,0),\n",
    "    position=(30+l,0,0),\n",
    "    style_magnetization = mystyle)\n",
    "    cube.rotate_from_angax(angles[a], 'z',anchor = 0)\n",
    "    cube.rotate_from_angax(pol[a], 'z')\n",
    "\n",
    "    tfmot.add(cube)\n",
    "\n",
    "magpy.show(tfmot, backend='plotly',)"
   ]
  },
  {
   "cell_type": "code",
   "execution_count": 18,
   "metadata": {},
   "outputs": [
    {
     "name": "stdout",
     "output_type": "stream",
     "text": [
      "0\n",
      "1\n",
      "2\n",
      "3\n"
     ]
    },
    {
     "data": {
      "application/vnd.plotly.v1+json": {
       "config": {
        "plotlyServerURL": "https://plot.ly"
       },
       "data": [
        {
         "color": "#2e91e5",
         "colorscale": [
          [
           0,
           "#00b050"
          ],
          [
           0.16,
           "#00b050"
          ],
          [
           0.26,
           "#dddddd"
          ],
          [
           0.74,
           "#dddddd"
          ],
          [
           0.8400000000000001,
           "#e71111"
          ],
          [
           1,
           "#e71111"
          ]
         ],
         "i": [
          7,
          0,
          0,
          0,
          4,
          4,
          2,
          6,
          4,
          0,
          3,
          7,
          15,
          8,
          8,
          8,
          12,
          12,
          10,
          14,
          12,
          8,
          11,
          15,
          23,
          16,
          16,
          16,
          20,
          20,
          18,
          22,
          20,
          16,
          19,
          23,
          31,
          24,
          24,
          24,
          28,
          28,
          26,
          30,
          28,
          24,
          27,
          31,
          39,
          32,
          32,
          32,
          36,
          36,
          34,
          38,
          36,
          32,
          35,
          39,
          47,
          40,
          40,
          40,
          44,
          44,
          42,
          46,
          44,
          40,
          43,
          47,
          55,
          48,
          48,
          48,
          52,
          52,
          50,
          54,
          52,
          48,
          51,
          55,
          63,
          56,
          56,
          56,
          60,
          60,
          58,
          62,
          60,
          56,
          59,
          63,
          71,
          64,
          64,
          64,
          68,
          68,
          66,
          70,
          68,
          64,
          67,
          71,
          79,
          72,
          72,
          72,
          76,
          76,
          74,
          78,
          76,
          72,
          75,
          79,
          87,
          80,
          80,
          80,
          84,
          84,
          82,
          86,
          84,
          80,
          83,
          87,
          95,
          88,
          88,
          88,
          92,
          92,
          90,
          94,
          92,
          88,
          91,
          95,
          103,
          96,
          96,
          96,
          100,
          100,
          98,
          102,
          100,
          96,
          99,
          103,
          111,
          104,
          104,
          104,
          108,
          108,
          106,
          110,
          108,
          104,
          107,
          111,
          119,
          112,
          112,
          112,
          116,
          116,
          114,
          118,
          116,
          112,
          115,
          119,
          127,
          120,
          120,
          120,
          124,
          124,
          122,
          126,
          124,
          120,
          123,
          127
         ],
         "intensity": [
          1,
          1,
          0,
          0,
          1,
          1,
          0,
          0,
          0,
          0,
          1,
          1,
          0,
          0,
          1,
          1,
          1,
          1,
          0,
          0,
          1,
          1,
          0,
          0,
          0,
          0,
          1,
          1,
          0,
          0,
          1,
          1,
          1,
          1,
          0,
          0,
          1,
          1,
          0,
          0,
          0,
          0,
          1,
          1,
          0,
          0,
          1,
          1,
          1,
          1,
          0,
          0,
          1,
          1,
          0,
          0,
          0,
          0,
          1,
          1,
          0,
          0,
          1,
          1,
          1,
          1,
          0,
          0,
          1,
          1,
          0,
          0,
          0,
          0,
          1,
          1,
          0,
          0,
          1,
          1,
          1,
          1,
          0,
          0,
          1,
          1,
          0,
          0,
          0,
          0,
          1,
          1,
          0,
          0,
          1,
          1,
          1,
          1,
          0,
          0,
          1,
          1,
          0,
          0,
          0,
          0,
          1,
          1,
          0,
          0,
          1,
          1,
          1,
          1,
          0,
          0,
          1,
          1,
          0,
          0,
          0,
          0,
          1,
          1,
          0,
          0,
          1,
          1
         ],
         "j": [
          0,
          7,
          1,
          2,
          6,
          7,
          1,
          2,
          5,
          5,
          2,
          2,
          8,
          15,
          9,
          10,
          14,
          15,
          9,
          10,
          13,
          13,
          10,
          10,
          16,
          23,
          17,
          18,
          22,
          23,
          17,
          18,
          21,
          21,
          18,
          18,
          24,
          31,
          25,
          26,
          30,
          31,
          25,
          26,
          29,
          29,
          26,
          26,
          32,
          39,
          33,
          34,
          38,
          39,
          33,
          34,
          37,
          37,
          34,
          34,
          40,
          47,
          41,
          42,
          46,
          47,
          41,
          42,
          45,
          45,
          42,
          42,
          48,
          55,
          49,
          50,
          54,
          55,
          49,
          50,
          53,
          53,
          50,
          50,
          56,
          63,
          57,
          58,
          62,
          63,
          57,
          58,
          61,
          61,
          58,
          58,
          64,
          71,
          65,
          66,
          70,
          71,
          65,
          66,
          69,
          69,
          66,
          66,
          72,
          79,
          73,
          74,
          78,
          79,
          73,
          74,
          77,
          77,
          74,
          74,
          80,
          87,
          81,
          82,
          86,
          87,
          81,
          82,
          85,
          85,
          82,
          82,
          88,
          95,
          89,
          90,
          94,
          95,
          89,
          90,
          93,
          93,
          90,
          90,
          96,
          103,
          97,
          98,
          102,
          103,
          97,
          98,
          101,
          101,
          98,
          98,
          104,
          111,
          105,
          106,
          110,
          111,
          105,
          106,
          109,
          109,
          106,
          106,
          112,
          119,
          113,
          114,
          118,
          119,
          113,
          114,
          117,
          117,
          114,
          114,
          120,
          127,
          121,
          122,
          126,
          127,
          121,
          122,
          125,
          125,
          122,
          122
         ],
         "k": [
          3,
          4,
          2,
          3,
          5,
          6,
          5,
          5,
          0,
          1,
          7,
          6,
          11,
          12,
          10,
          11,
          13,
          14,
          13,
          13,
          8,
          9,
          15,
          14,
          19,
          20,
          18,
          19,
          21,
          22,
          21,
          21,
          16,
          17,
          23,
          22,
          27,
          28,
          26,
          27,
          29,
          30,
          29,
          29,
          24,
          25,
          31,
          30,
          35,
          36,
          34,
          35,
          37,
          38,
          37,
          37,
          32,
          33,
          39,
          38,
          43,
          44,
          42,
          43,
          45,
          46,
          45,
          45,
          40,
          41,
          47,
          46,
          51,
          52,
          50,
          51,
          53,
          54,
          53,
          53,
          48,
          49,
          55,
          54,
          59,
          60,
          58,
          59,
          61,
          62,
          61,
          61,
          56,
          57,
          63,
          62,
          67,
          68,
          66,
          67,
          69,
          70,
          69,
          69,
          64,
          65,
          71,
          70,
          75,
          76,
          74,
          75,
          77,
          78,
          77,
          77,
          72,
          73,
          79,
          78,
          83,
          84,
          82,
          83,
          85,
          86,
          85,
          85,
          80,
          81,
          87,
          86,
          91,
          92,
          90,
          91,
          93,
          94,
          93,
          93,
          88,
          89,
          95,
          94,
          99,
          100,
          98,
          99,
          101,
          102,
          101,
          101,
          96,
          97,
          103,
          102,
          107,
          108,
          106,
          107,
          109,
          110,
          109,
          109,
          104,
          105,
          111,
          110,
          115,
          116,
          114,
          115,
          117,
          118,
          117,
          117,
          112,
          113,
          119,
          118,
          123,
          124,
          122,
          123,
          125,
          126,
          125,
          125,
          120,
          121,
          127,
          126
         ],
         "legendgroup": "Collection(id=1909955890352)",
         "name": "Collection (28 sources)",
         "opacity": 1,
         "showlegend": true,
         "showscale": false,
         "type": "mesh3d",
         "x": [
          31.151923788646684,
          31.151923788646684,
          36.348076211353316,
          36.348076211353316,
          93.65192378864668,
          93.65192378864668,
          98.84807621135332,
          98.84807621135332,
          72.1804038193097,
          72.1804038193097,
          77.66167656516532,
          77.66167656516532,
          21.338323434834685,
          21.338323434834685,
          26.81959618069029,
          26.81959618069029,
          26.864853865045976,
          21.26677765369266,
          20.864853865045976,
          26.462930076399292,
          71.0590276892052,
          65.46095147785188,
          65.0590276892052,
          70.65710390055851,
          55.97717557348102,
          50.23653920055321,
          49.97717557348102,
          55.717811946408816,
          20.026395763987185,
          14.285759391059383,
          14.026395763987185,
          19.767032136914988,
          3.0000000000000115,
          3.0000000000000107,
          -2.9999999999999893,
          -2.9999999999999885,
          3.0000000000000187,
          3.0000000000000178,
          -2.9999999999999822,
          -2.9999999999999813,
          3.000000000000019,
          3.0000000000000173,
          -2.9999999999999845,
          -2.9999999999999827,
          3.0000000000000067,
          3.000000000000005,
          -2.999999999999997,
          -2.999999999999995,
          -26.462930076399292,
          -20.864853865045976,
          -21.26677765369266,
          -26.864853865045976,
          -70.65710390055851,
          -65.0590276892052,
          -65.46095147785188,
          -71.0590276892052,
          -55.71781194640882,
          -49.97717557348102,
          -50.23653920055322,
          -55.97717557348102,
          -19.767032136914985,
          -14.026395763987182,
          -14.28575939105938,
          -20.026395763987182,
          -36.348076211353316,
          -36.348076211353316,
          -31.151923788646684,
          -31.15192378864669,
          -98.84807621135332,
          -98.84807621135332,
          -93.65192378864668,
          -93.65192378864668,
          -77.66167656516532,
          -77.66167656516532,
          -72.1804038193097,
          -72.1804038193097,
          -26.81959618069029,
          -26.81959618069029,
          -21.338323434834685,
          -21.338323434834685,
          -20.86485386504597,
          -26.462930076399285,
          -26.86485386504597,
          -21.266777653692653,
          -65.0590276892052,
          -70.65710390055851,
          -71.0590276892052,
          -65.46095147785188,
          -49.97717557348103,
          -55.71781194640883,
          -55.97717557348103,
          -50.236539200553224,
          -14.026395763987175,
          -19.767032136914978,
          -20.026395763987175,
          -14.285759391059372,
          2.9999999999999893,
          2.9999999999999885,
          -3.0000000000000115,
          -3.0000000000000107,
          2.9999999999999822,
          2.9999999999999813,
          -3.0000000000000187,
          -3.0000000000000178,
          2.9999999999999845,
          2.9999999999999827,
          -3.000000000000019,
          -3.0000000000000173,
          2.999999999999997,
          2.999999999999995,
          -3.0000000000000067,
          -3.000000000000005,
          21.266777653692657,
          26.864853865045976,
          26.46293007639929,
          20.86485386504597,
          65.46095147785186,
          71.05902768920518,
          70.6571039005585,
          65.05902768920518,
          50.23653920055321,
          55.97717557348102,
          55.717811946408816,
          49.97717557348101,
          14.285759391059372,
          20.026395763987175,
          19.767032136914978,
          14.026395763987171
         ],
         "y": [
          -3,
          3,
          3,
          -3,
          -3,
          3,
          3,
          -3,
          -3.000000000000001,
          3.000000000000001,
          3.000000000000001,
          -3.000000000000001,
          -3.000000000000001,
          3.000000000000001,
          3.000000000000001,
          -3.000000000000001,
          20.86485386504598,
          21.266777653692664,
          26.86485386504598,
          26.462930076399296,
          65.05902768920521,
          65.46095147785189,
          71.05902768920521,
          70.65710390055852,
          49.97717557348103,
          50.236539200553224,
          55.97717557348103,
          55.71781194640883,
          14.026395763987189,
          14.285759391059386,
          20.02639576398719,
          19.76703213691499,
          36.348076211353316,
          31.151923788646684,
          31.15192378864669,
          36.348076211353316,
          98.84807621135332,
          93.65192378864668,
          93.65192378864668,
          98.84807621135332,
          77.66167656516531,
          72.1804038193097,
          72.1804038193097,
          77.66167656516531,
          26.819596180690294,
          21.338323434834688,
          21.338323434834688,
          26.819596180690294,
          26.462930076399303,
          26.864853865045987,
          21.26677765369267,
          20.864853865045987,
          70.65710390055852,
          71.05902768920521,
          65.46095147785189,
          65.05902768920521,
          55.71781194640883,
          55.977175573481034,
          50.236539200553224,
          49.977175573481034,
          19.767032136914988,
          20.026395763987185,
          14.285759391059383,
          14.026395763987185,
          -2.999999999999995,
          3.000000000000005,
          3.000000000000003,
          -2.999999999999997,
          -2.999999999999987,
          3.000000000000013,
          3.000000000000011,
          -2.999999999999989,
          -2.9999999999999907,
          3.000000000000011,
          3.0000000000000093,
          -2.9999999999999925,
          -2.999999999999997,
          3.000000000000005,
          3.000000000000003,
          -2.9999999999999987,
          -26.864853865045976,
          -26.462930076399292,
          -20.864853865045976,
          -21.26677765369266,
          -71.0590276892052,
          -70.65710390055851,
          -65.0590276892052,
          -65.46095147785188,
          -55.97717557348102,
          -55.71781194640883,
          -49.97717557348102,
          -50.236539200553224,
          -20.026395763987182,
          -19.76703213691498,
          -14.026395763987178,
          -14.285759391059376,
          -31.15192378864669,
          -36.348076211353316,
          -36.348076211353316,
          -31.151923788646684,
          -93.65192378864668,
          -98.84807621135332,
          -98.84807621135332,
          -93.65192378864668,
          -72.1804038193097,
          -77.66167656516531,
          -77.66167656516531,
          -72.1804038193097,
          -21.338323434834688,
          -26.819596180690294,
          -26.819596180690294,
          -21.338323434834688,
          -21.266777653692667,
          -20.864853865045987,
          -26.462930076399307,
          -26.864853865045987,
          -65.4609514778519,
          -65.05902768920522,
          -70.65710390055854,
          -71.05902768920522,
          -50.23653920055324,
          -49.97717557348105,
          -55.71781194640885,
          -55.97717557348105,
          -14.28575939105938,
          -14.026395763987185,
          -19.76703213691499,
          -20.026395763987182
         ],
         "z": [
          -12.62658773652742,
          -12.62658773652742,
          -15.62658773652742,
          -15.62658773652742,
          95.62658773652743,
          95.62658773652743,
          92.62658773652743,
          92.62658773652743,
          71.68319896811003,
          71.68319896811003,
          74.12361882656484,
          74.12361882656484,
          185.87638117343516,
          185.87638117343516,
          188.31680103188995,
          188.31680103188995,
          -14.126587736527426,
          -12.005267392967781,
          -14.126587736527426,
          -16.247908080087072,
          94.12658773652743,
          96.24790808008707,
          94.12658773652743,
          92.00526739296778,
          72.90340889733744,
          71.17777146648174,
          72.90340889733744,
          74.62904632819314,
          187.09659110266256,
          185.37095367180686,
          187.09659110266256,
          188.82222853351826,
          -15.62658773652742,
          -12.62658773652742,
          -12.62658773652742,
          -15.62658773652742,
          92.62658773652743,
          95.62658773652743,
          95.62658773652743,
          92.62658773652743,
          74.12361882656484,
          71.68319896811003,
          71.68319896811003,
          74.12361882656484,
          188.31680103188995,
          185.87638117343516,
          185.87638117343516,
          188.31680103188995,
          -16.247908080087072,
          -14.126587736527426,
          -12.005267392967781,
          -14.126587736527426,
          92.00526739296778,
          94.12658773652743,
          96.24790808008707,
          94.12658773652743,
          74.62904632819314,
          72.90340889733744,
          71.17777146648174,
          72.90340889733744,
          188.82222853351826,
          187.09659110266256,
          185.37095367180686,
          187.09659110266256,
          -15.62658773652742,
          -15.62658773652742,
          -12.62658773652742,
          -12.62658773652742,
          92.62658773652743,
          92.62658773652743,
          95.62658773652743,
          95.62658773652743,
          74.12361882656484,
          74.12361882656484,
          71.68319896811003,
          71.68319896811003,
          188.31680103188995,
          188.31680103188995,
          185.87638117343516,
          185.87638117343516,
          -14.126587736527433,
          -16.24790808008708,
          -14.126587736527433,
          -12.005267392967788,
          94.12658773652743,
          92.0052673929678,
          94.12658773652743,
          96.24790808008709,
          72.90340889733744,
          74.62904632819314,
          72.90340889733744,
          71.17777146648173,
          187.09659110266256,
          188.82222853351828,
          187.09659110266256,
          185.37095367180686,
          -12.62658773652742,
          -15.62658773652742,
          -15.62658773652742,
          -12.62658773652742,
          95.62658773652743,
          92.62658773652743,
          92.62658773652743,
          95.62658773652743,
          71.68319896811003,
          74.12361882656484,
          74.12361882656484,
          71.68319896811003,
          185.87638117343516,
          188.31680103188995,
          188.31680103188995,
          185.87638117343516,
          -12.005267392967788,
          -14.126587736527433,
          -16.24790808008708,
          -14.126587736527433,
          96.24790808008709,
          94.12658773652743,
          92.0052673929678,
          94.12658773652743,
          71.17777146648173,
          72.90340889733744,
          74.62904632819314,
          72.90340889733744,
          185.37095367180686,
          187.09659110266256,
          188.82222853351828,
          187.09659110266256
         ]
        },
        {
         "color": "#2e91e5",
         "colorscale": [
          [
           0,
           "turquoise"
          ],
          [
           0.16,
           "turquoise"
          ],
          [
           0.26,
           "white"
          ],
          [
           0.74,
           "white"
          ],
          [
           0.8400000000000001,
           "magenta"
          ],
          [
           1,
           "magenta"
          ]
         ],
         "i": [
          7,
          0,
          0,
          0,
          4,
          4,
          2,
          6,
          4,
          0,
          3,
          7,
          15,
          8,
          8,
          8,
          12,
          12,
          10,
          14,
          12,
          8,
          11,
          15,
          23,
          16,
          16,
          16,
          20,
          20,
          18,
          22,
          20,
          16,
          19,
          23,
          31,
          24,
          24,
          24,
          28,
          28,
          26,
          30,
          28,
          24,
          27,
          31,
          39,
          32,
          32,
          32,
          36,
          36,
          34,
          38,
          36,
          32,
          35,
          39,
          47,
          40,
          40,
          40,
          44,
          44,
          42,
          46,
          44,
          40,
          43,
          47,
          55,
          48,
          48,
          48,
          52,
          52,
          50,
          54,
          52,
          48,
          51,
          55,
          63,
          56,
          56,
          56,
          60,
          60,
          58,
          62,
          60,
          56,
          59,
          63,
          71,
          64,
          64,
          64,
          68,
          68,
          66,
          70,
          68,
          64,
          67,
          71,
          79,
          72,
          72,
          72,
          76,
          76,
          74,
          78,
          76,
          72,
          75,
          79,
          87,
          80,
          80,
          80,
          84,
          84,
          82,
          86,
          84,
          80,
          83,
          87,
          95,
          88,
          88,
          88,
          92,
          92,
          90,
          94,
          92,
          88,
          91,
          95
         ],
         "intensity": [
          1,
          1,
          0,
          0,
          1,
          1,
          0,
          0,
          1,
          1,
          0,
          0,
          1,
          1,
          0,
          0,
          1,
          1,
          0,
          0,
          1,
          1,
          0,
          0,
          1,
          1,
          0,
          0,
          1,
          1,
          0,
          0,
          1,
          1,
          0,
          0,
          1,
          1,
          0,
          0,
          1,
          1,
          0,
          0,
          1,
          1,
          0,
          0,
          1,
          1,
          0,
          0,
          1,
          1,
          0,
          0,
          1,
          1,
          0,
          0,
          1,
          1,
          0,
          0,
          0,
          0,
          1,
          1,
          0,
          0,
          1,
          1,
          0,
          0,
          1,
          1,
          0,
          0,
          1,
          1,
          0,
          0,
          1,
          1,
          0,
          0,
          1,
          1,
          0,
          0,
          1,
          1,
          0,
          0,
          1,
          1
         ],
         "j": [
          0,
          7,
          1,
          2,
          6,
          7,
          1,
          2,
          5,
          5,
          2,
          2,
          8,
          15,
          9,
          10,
          14,
          15,
          9,
          10,
          13,
          13,
          10,
          10,
          16,
          23,
          17,
          18,
          22,
          23,
          17,
          18,
          21,
          21,
          18,
          18,
          24,
          31,
          25,
          26,
          30,
          31,
          25,
          26,
          29,
          29,
          26,
          26,
          32,
          39,
          33,
          34,
          38,
          39,
          33,
          34,
          37,
          37,
          34,
          34,
          40,
          47,
          41,
          42,
          46,
          47,
          41,
          42,
          45,
          45,
          42,
          42,
          48,
          55,
          49,
          50,
          54,
          55,
          49,
          50,
          53,
          53,
          50,
          50,
          56,
          63,
          57,
          58,
          62,
          63,
          57,
          58,
          61,
          61,
          58,
          58,
          64,
          71,
          65,
          66,
          70,
          71,
          65,
          66,
          69,
          69,
          66,
          66,
          72,
          79,
          73,
          74,
          78,
          79,
          73,
          74,
          77,
          77,
          74,
          74,
          80,
          87,
          81,
          82,
          86,
          87,
          81,
          82,
          85,
          85,
          82,
          82,
          88,
          95,
          89,
          90,
          94,
          95,
          89,
          90,
          93,
          93,
          90,
          90
         ],
         "k": [
          3,
          4,
          2,
          3,
          5,
          6,
          5,
          5,
          0,
          1,
          7,
          6,
          11,
          12,
          10,
          11,
          13,
          14,
          13,
          13,
          8,
          9,
          15,
          14,
          19,
          20,
          18,
          19,
          21,
          22,
          21,
          21,
          16,
          17,
          23,
          22,
          27,
          28,
          26,
          27,
          29,
          30,
          29,
          29,
          24,
          25,
          31,
          30,
          35,
          36,
          34,
          35,
          37,
          38,
          37,
          37,
          32,
          33,
          39,
          38,
          43,
          44,
          42,
          43,
          45,
          46,
          45,
          45,
          40,
          41,
          47,
          46,
          51,
          52,
          50,
          51,
          53,
          54,
          53,
          53,
          48,
          49,
          55,
          54,
          59,
          60,
          58,
          59,
          61,
          62,
          61,
          61,
          56,
          57,
          63,
          62,
          67,
          68,
          66,
          67,
          69,
          70,
          69,
          69,
          64,
          65,
          71,
          70,
          75,
          76,
          74,
          75,
          77,
          78,
          77,
          77,
          72,
          73,
          79,
          78,
          83,
          84,
          82,
          83,
          85,
          86,
          85,
          85,
          80,
          81,
          87,
          86,
          91,
          92,
          90,
          91,
          93,
          94,
          93,
          93,
          88,
          89,
          95,
          94
         ],
         "legendgroup": "Collection(id=1909955890352)",
         "name": "Collection (28 sources)",
         "opacity": 1,
         "showlegend": false,
         "showscale": false,
         "type": "mesh3d",
         "x": [
          53,
          53,
          57,
          57,
          53,
          53,
          57,
          57,
          40.89087296526011,
          36.89087296526011,
          36.89087296526011,
          40.89087296526011,
          40.89087296526011,
          36.89087296526011,
          36.89087296526011,
          40.89087296526011,
          2.0000000000000133,
          2.0000000000000115,
          -1.9999999999999887,
          -1.999999999999987,
          2.0000000000000133,
          2.0000000000000115,
          -1.9999999999999887,
          -1.999999999999987,
          -40.89087296526011,
          -36.89087296526011,
          -36.89087296526011,
          -40.89087296526011,
          -40.89087296526011,
          -36.89087296526011,
          -36.89087296526011,
          -40.89087296526011,
          -57,
          -57,
          -53,
          -53,
          -57,
          -57,
          -53,
          -53,
          -36.89087296526011,
          -40.89087296526011,
          -40.89087296526011,
          -36.89087296526011,
          -36.89087296526011,
          -40.89087296526011,
          -40.89087296526011,
          -36.89087296526011,
          1.9999999999999887,
          1.999999999999987,
          -2.0000000000000133,
          -2.0000000000000115,
          1.9999999999999887,
          1.999999999999987,
          -2.0000000000000133,
          -2.0000000000000115,
          36.8908729652601,
          40.8908729652601,
          40.8908729652601,
          36.8908729652601,
          36.8908729652601,
          40.8908729652601,
          40.8908729652601,
          36.8908729652601,
          61,
          61,
          69,
          69,
          61,
          61,
          69,
          69,
          -2.999999999999985,
          3.000000000000015,
          3.0000000000000133,
          -2.9999999999999867,
          -2.999999999999985,
          3.000000000000015,
          3.0000000000000133,
          -2.9999999999999867,
          -61,
          -61,
          -69,
          -69,
          -61,
          -61,
          -69,
          -69,
          2.999999999999985,
          -3.000000000000015,
          -3.0000000000000133,
          2.9999999999999867,
          2.999999999999985,
          -3.000000000000015,
          -3.0000000000000133,
          2.9999999999999867
         ],
         "y": [
          -2,
          2,
          2,
          -2,
          -2,
          2,
          2,
          -2,
          36.890872965260115,
          36.890872965260115,
          40.890872965260115,
          40.890872965260115,
          36.890872965260115,
          36.890872965260115,
          40.890872965260115,
          40.890872965260115,
          57,
          53,
          53,
          57,
          57,
          53,
          53,
          57,
          40.89087296526012,
          40.89087296526012,
          36.89087296526012,
          36.89087296526012,
          40.89087296526012,
          40.89087296526012,
          36.89087296526012,
          36.89087296526012,
          -1.999999999999993,
          2.000000000000007,
          2.000000000000006,
          -1.9999999999999938,
          -1.999999999999993,
          2.000000000000007,
          2.000000000000006,
          -1.9999999999999938,
          -40.89087296526011,
          -40.89087296526011,
          -36.89087296526011,
          -36.89087296526011,
          -40.89087296526011,
          -40.89087296526011,
          -36.89087296526011,
          -36.89087296526011,
          -53,
          -57,
          -57,
          -53,
          -53,
          -57,
          -57,
          -53,
          -36.89087296526013,
          -36.89087296526013,
          -40.89087296526013,
          -40.89087296526013,
          -36.89087296526013,
          -36.89087296526013,
          -40.89087296526013,
          -40.89087296526013,
          -3,
          3,
          3,
          -3,
          -3,
          3,
          3,
          -3,
          69,
          69,
          61,
          61,
          69,
          69,
          61,
          61,
          3.0000000000000075,
          -2.9999999999999925,
          -2.9999999999999916,
          3.0000000000000084,
          3.0000000000000075,
          -2.9999999999999925,
          -2.9999999999999916,
          3.0000000000000084,
          -69,
          -69,
          -61,
          -61,
          -69,
          -69,
          -61,
          -61
         ],
         "z": [
          77.5,
          77.5,
          77.5,
          77.5,
          102.5,
          102.5,
          102.5,
          102.5,
          77.5,
          77.5,
          77.5,
          77.5,
          102.5,
          102.5,
          102.5,
          102.5,
          77.5,
          77.5,
          77.5,
          77.5,
          102.5,
          102.5,
          102.5,
          102.5,
          77.5,
          77.5,
          77.5,
          77.5,
          102.5,
          102.5,
          102.5,
          102.5,
          77.5,
          77.5,
          77.5,
          77.5,
          102.5,
          102.5,
          102.5,
          102.5,
          77.5,
          77.5,
          77.5,
          77.5,
          102.5,
          102.5,
          102.5,
          102.5,
          77.5,
          77.5,
          77.5,
          77.5,
          102.5,
          102.5,
          102.5,
          102.5,
          77.5,
          77.5,
          77.5,
          77.5,
          102.5,
          102.5,
          102.5,
          102.5,
          230,
          230,
          230,
          230,
          310,
          310,
          310,
          310,
          230,
          230,
          230,
          230,
          310,
          310,
          310,
          310,
          230,
          230,
          230,
          230,
          310,
          310,
          310,
          310,
          230,
          230,
          230,
          230,
          310,
          310,
          310,
          310
         ]
        },
        {
         "legendgroup": "Collection(id=1909955890352)",
         "line": {
          "color": "black",
          "dash": "solid",
          "width": 4.4
         },
         "mode": "lines",
         "name": "Collection (28 sources)",
         "opacity": 1,
         "showlegend": false,
         "type": "scatter3d",
         "x": [
          null,
          55,
          17.500000000040274,
          21.250000000036245,
          17.500000000040274,
          21.250000000036245,
          17.500000000040274,
          17.500000000040274,
          null,
          38.89087296526011,
          38.89087296526011,
          41.14087296525769,
          38.89087296526011,
          36.640872965262524,
          38.89087296526011,
          38.89087296526011,
          null,
          1.2212453270876722e-14,
          37.49999999995974,
          33.74999999996377,
          37.49999999995974,
          33.74999999996377,
          37.49999999995974,
          37.49999999995974,
          null,
          -38.89087296526011,
          -38.89087296526009,
          -41.14087296525767,
          -38.89087296526009,
          -36.6408729652625,
          -38.89087296526009,
          -38.89087296526009,
          null,
          -55,
          -92.49999999995973,
          -88.74999999996376,
          -92.49999999995973,
          -88.74999999996376,
          -92.49999999995973,
          -92.49999999995973,
          null,
          -38.89087296526011,
          -38.890872965260115,
          -36.64087296526253,
          -38.890872965260115,
          -41.1408729652577,
          -38.890872965260115,
          -38.890872965260115,
          null,
          -1.2212453270876722e-14,
          37.49999999995971,
          33.74999999996374,
          37.49999999995971,
          33.74999999996374,
          37.49999999995971,
          37.49999999995971,
          null,
          38.8908729652601,
          38.89087296526013,
          36.640872965262545,
          38.89087296526013,
          41.140872965257714,
          38.89087296526013,
          38.89087296526013,
          null,
          65,
          184.99999999987114,
          172.999999999884,
          184.99999999987114,
          172.999999999884,
          184.99999999987114,
          184.99999999987114,
          null,
          1.4432899320127035e-14,
          1.4432899320127035e-14,
          7.199999999992281,
          1.4432899320127035e-14,
          -7.199999999992253,
          1.4432899320127035e-14,
          1.4432899320127035e-14,
          null,
          -65,
          -184.99999999987114,
          -172.999999999884,
          -184.99999999987114,
          -172.999999999884,
          -184.99999999987114,
          -184.99999999987114,
          null,
          -1.4432899320127035e-14,
          -1.4432899320127035e-14,
          -7.199999999992281,
          -1.4432899320127035e-14,
          7.199999999992253,
          -1.4432899320127035e-14,
          -1.4432899320127035e-14
         ],
         "y": [
          null,
          0,
          8.326672684679732e-15,
          -2.249999999997576,
          8.326672684679732e-15,
          2.2499999999975913,
          8.326672684679732e-15,
          8.326672684679732e-15,
          null,
          38.890872965260115,
          1.3908729653003888,
          5.14087296529636,
          1.3908729653003888,
          5.14087296529636,
          1.3908729653003888,
          1.3908729653003888,
          null,
          55,
          54.99999999999997,
          57.24999999999756,
          54.99999999999997,
          52.750000000002395,
          54.99999999999997,
          54.99999999999997,
          null,
          38.89087296526012,
          76.39087296521986,
          72.64087296522388,
          76.39087296521986,
          72.64087296522388,
          76.39087296521986,
          76.39087296521986,
          null,
          6.735334946023075e-15,
          2.4246555284360772e-14,
          -2.249999999997561,
          2.4246555284360772e-14,
          2.2499999999976064,
          2.4246555284360772e-14,
          2.4246555284360772e-14,
          null,
          -38.89087296526011,
          -76.39087296521984,
          -72.64087296522388,
          -76.39087296521984,
          -72.64087296522388,
          -76.39087296521984,
          -76.39087296521984,
          null,
          -55,
          -55.00000000000003,
          -52.75000000000244,
          -55.00000000000003,
          -57.249999999997605,
          -55.00000000000003,
          -55.00000000000003,
          null,
          -38.89087296526013,
          -1.390872965300396,
          -5.140872965296367,
          -1.390872965300396,
          -5.140872965296367,
          -1.390872965300396,
          -1.390872965300396,
          null,
          0,
          2.664535259097514e-14,
          7.199999999992291,
          2.664535259097514e-14,
          -7.199999999992243,
          2.664535259097514e-14,
          2.664535259097514e-14,
          null,
          65,
          -54.99999999987112,
          -42.99999999988401,
          -54.99999999987112,
          -42.99999999988401,
          -54.99999999987112,
          -54.99999999987112,
          null,
          7.959941299845452e-15,
          -3.9901350452769445e-15,
          -7.1999999999922695,
          -3.9901350452769445e-15,
          7.199999999992264,
          -3.9901350452769445e-15,
          -3.9901350452769445e-15,
          null,
          -65,
          54.99999999987112,
          42.99999999988401,
          54.99999999987112,
          42.99999999988401,
          54.99999999987112,
          54.99999999987112
         ],
         "z": [
          null,
          90,
          90,
          90,
          90,
          90,
          90,
          90,
          null,
          90,
          90,
          90,
          90,
          90,
          90,
          90,
          null,
          90,
          90,
          90,
          90,
          90,
          90,
          90,
          null,
          90,
          90,
          90,
          90,
          90,
          90,
          90,
          null,
          90,
          90,
          90,
          90,
          90,
          90,
          90,
          null,
          90,
          90,
          90,
          90,
          90,
          90,
          90,
          null,
          90,
          90,
          90,
          90,
          90,
          90,
          90,
          null,
          90,
          90,
          90,
          90,
          90,
          90,
          90,
          null,
          270,
          270,
          270,
          270,
          270,
          270,
          270,
          null,
          270,
          270,
          270,
          270,
          270,
          270,
          270,
          null,
          270,
          270,
          270,
          270,
          270,
          270,
          270,
          null,
          270,
          270,
          270,
          270,
          270,
          270,
          270
         ]
        }
       ],
       "layout": {
        "legend": {
         "itemsizing": "constant"
        },
        "scene": {
         "aspectmode": "manual",
         "aspectratio": {
          "x": 1,
          "y": 1,
          "z": 1
         },
         "camera": {
          "eye": {
           "x": 1,
           "y": -1.5,
           "z": 1.4
          }
         },
         "xaxis": {
          "autorange": false,
          "range": [
           -184.99999999987114,
           184.99999999987114
          ],
          "title": {
           "text": "x (m)"
          }
         },
         "yaxis": {
          "autorange": false,
          "range": [
           -184.99999999987114,
           184.99999999987114
          ],
          "title": {
           "text": "y (m)"
          }
         },
         "zaxis": {
          "autorange": false,
          "range": [
           -38.12395403991468,
           331.8760459598276
          ],
          "title": {
           "text": "z (m)"
          }
         }
        },
        "template": {
         "data": {
          "bar": [
           {
            "error_x": {
             "color": "#2a3f5f"
            },
            "error_y": {
             "color": "#2a3f5f"
            },
            "marker": {
             "line": {
              "color": "#E5ECF6",
              "width": 0.5
             },
             "pattern": {
              "fillmode": "overlay",
              "size": 10,
              "solidity": 0.2
             }
            },
            "type": "bar"
           }
          ],
          "barpolar": [
           {
            "marker": {
             "line": {
              "color": "#E5ECF6",
              "width": 0.5
             },
             "pattern": {
              "fillmode": "overlay",
              "size": 10,
              "solidity": 0.2
             }
            },
            "type": "barpolar"
           }
          ],
          "carpet": [
           {
            "aaxis": {
             "endlinecolor": "#2a3f5f",
             "gridcolor": "white",
             "linecolor": "white",
             "minorgridcolor": "white",
             "startlinecolor": "#2a3f5f"
            },
            "baxis": {
             "endlinecolor": "#2a3f5f",
             "gridcolor": "white",
             "linecolor": "white",
             "minorgridcolor": "white",
             "startlinecolor": "#2a3f5f"
            },
            "type": "carpet"
           }
          ],
          "choropleth": [
           {
            "colorbar": {
             "outlinewidth": 0,
             "ticks": ""
            },
            "type": "choropleth"
           }
          ],
          "contour": [
           {
            "colorbar": {
             "outlinewidth": 0,
             "ticks": ""
            },
            "colorscale": [
             [
              0,
              "#0d0887"
             ],
             [
              0.1111111111111111,
              "#46039f"
             ],
             [
              0.2222222222222222,
              "#7201a8"
             ],
             [
              0.3333333333333333,
              "#9c179e"
             ],
             [
              0.4444444444444444,
              "#bd3786"
             ],
             [
              0.5555555555555556,
              "#d8576b"
             ],
             [
              0.6666666666666666,
              "#ed7953"
             ],
             [
              0.7777777777777778,
              "#fb9f3a"
             ],
             [
              0.8888888888888888,
              "#fdca26"
             ],
             [
              1,
              "#f0f921"
             ]
            ],
            "type": "contour"
           }
          ],
          "contourcarpet": [
           {
            "colorbar": {
             "outlinewidth": 0,
             "ticks": ""
            },
            "type": "contourcarpet"
           }
          ],
          "heatmap": [
           {
            "colorbar": {
             "outlinewidth": 0,
             "ticks": ""
            },
            "colorscale": [
             [
              0,
              "#0d0887"
             ],
             [
              0.1111111111111111,
              "#46039f"
             ],
             [
              0.2222222222222222,
              "#7201a8"
             ],
             [
              0.3333333333333333,
              "#9c179e"
             ],
             [
              0.4444444444444444,
              "#bd3786"
             ],
             [
              0.5555555555555556,
              "#d8576b"
             ],
             [
              0.6666666666666666,
              "#ed7953"
             ],
             [
              0.7777777777777778,
              "#fb9f3a"
             ],
             [
              0.8888888888888888,
              "#fdca26"
             ],
             [
              1,
              "#f0f921"
             ]
            ],
            "type": "heatmap"
           }
          ],
          "heatmapgl": [
           {
            "colorbar": {
             "outlinewidth": 0,
             "ticks": ""
            },
            "colorscale": [
             [
              0,
              "#0d0887"
             ],
             [
              0.1111111111111111,
              "#46039f"
             ],
             [
              0.2222222222222222,
              "#7201a8"
             ],
             [
              0.3333333333333333,
              "#9c179e"
             ],
             [
              0.4444444444444444,
              "#bd3786"
             ],
             [
              0.5555555555555556,
              "#d8576b"
             ],
             [
              0.6666666666666666,
              "#ed7953"
             ],
             [
              0.7777777777777778,
              "#fb9f3a"
             ],
             [
              0.8888888888888888,
              "#fdca26"
             ],
             [
              1,
              "#f0f921"
             ]
            ],
            "type": "heatmapgl"
           }
          ],
          "histogram": [
           {
            "marker": {
             "pattern": {
              "fillmode": "overlay",
              "size": 10,
              "solidity": 0.2
             }
            },
            "type": "histogram"
           }
          ],
          "histogram2d": [
           {
            "colorbar": {
             "outlinewidth": 0,
             "ticks": ""
            },
            "colorscale": [
             [
              0,
              "#0d0887"
             ],
             [
              0.1111111111111111,
              "#46039f"
             ],
             [
              0.2222222222222222,
              "#7201a8"
             ],
             [
              0.3333333333333333,
              "#9c179e"
             ],
             [
              0.4444444444444444,
              "#bd3786"
             ],
             [
              0.5555555555555556,
              "#d8576b"
             ],
             [
              0.6666666666666666,
              "#ed7953"
             ],
             [
              0.7777777777777778,
              "#fb9f3a"
             ],
             [
              0.8888888888888888,
              "#fdca26"
             ],
             [
              1,
              "#f0f921"
             ]
            ],
            "type": "histogram2d"
           }
          ],
          "histogram2dcontour": [
           {
            "colorbar": {
             "outlinewidth": 0,
             "ticks": ""
            },
            "colorscale": [
             [
              0,
              "#0d0887"
             ],
             [
              0.1111111111111111,
              "#46039f"
             ],
             [
              0.2222222222222222,
              "#7201a8"
             ],
             [
              0.3333333333333333,
              "#9c179e"
             ],
             [
              0.4444444444444444,
              "#bd3786"
             ],
             [
              0.5555555555555556,
              "#d8576b"
             ],
             [
              0.6666666666666666,
              "#ed7953"
             ],
             [
              0.7777777777777778,
              "#fb9f3a"
             ],
             [
              0.8888888888888888,
              "#fdca26"
             ],
             [
              1,
              "#f0f921"
             ]
            ],
            "type": "histogram2dcontour"
           }
          ],
          "mesh3d": [
           {
            "colorbar": {
             "outlinewidth": 0,
             "ticks": ""
            },
            "type": "mesh3d"
           }
          ],
          "parcoords": [
           {
            "line": {
             "colorbar": {
              "outlinewidth": 0,
              "ticks": ""
             }
            },
            "type": "parcoords"
           }
          ],
          "pie": [
           {
            "automargin": true,
            "type": "pie"
           }
          ],
          "scatter": [
           {
            "fillpattern": {
             "fillmode": "overlay",
             "size": 10,
             "solidity": 0.2
            },
            "type": "scatter"
           }
          ],
          "scatter3d": [
           {
            "line": {
             "colorbar": {
              "outlinewidth": 0,
              "ticks": ""
             }
            },
            "marker": {
             "colorbar": {
              "outlinewidth": 0,
              "ticks": ""
             }
            },
            "type": "scatter3d"
           }
          ],
          "scattercarpet": [
           {
            "marker": {
             "colorbar": {
              "outlinewidth": 0,
              "ticks": ""
             }
            },
            "type": "scattercarpet"
           }
          ],
          "scattergeo": [
           {
            "marker": {
             "colorbar": {
              "outlinewidth": 0,
              "ticks": ""
             }
            },
            "type": "scattergeo"
           }
          ],
          "scattergl": [
           {
            "marker": {
             "colorbar": {
              "outlinewidth": 0,
              "ticks": ""
             }
            },
            "type": "scattergl"
           }
          ],
          "scattermapbox": [
           {
            "marker": {
             "colorbar": {
              "outlinewidth": 0,
              "ticks": ""
             }
            },
            "type": "scattermapbox"
           }
          ],
          "scatterpolar": [
           {
            "marker": {
             "colorbar": {
              "outlinewidth": 0,
              "ticks": ""
             }
            },
            "type": "scatterpolar"
           }
          ],
          "scatterpolargl": [
           {
            "marker": {
             "colorbar": {
              "outlinewidth": 0,
              "ticks": ""
             }
            },
            "type": "scatterpolargl"
           }
          ],
          "scatterternary": [
           {
            "marker": {
             "colorbar": {
              "outlinewidth": 0,
              "ticks": ""
             }
            },
            "type": "scatterternary"
           }
          ],
          "surface": [
           {
            "colorbar": {
             "outlinewidth": 0,
             "ticks": ""
            },
            "colorscale": [
             [
              0,
              "#0d0887"
             ],
             [
              0.1111111111111111,
              "#46039f"
             ],
             [
              0.2222222222222222,
              "#7201a8"
             ],
             [
              0.3333333333333333,
              "#9c179e"
             ],
             [
              0.4444444444444444,
              "#bd3786"
             ],
             [
              0.5555555555555556,
              "#d8576b"
             ],
             [
              0.6666666666666666,
              "#ed7953"
             ],
             [
              0.7777777777777778,
              "#fb9f3a"
             ],
             [
              0.8888888888888888,
              "#fdca26"
             ],
             [
              1,
              "#f0f921"
             ]
            ],
            "type": "surface"
           }
          ],
          "table": [
           {
            "cells": {
             "fill": {
              "color": "#EBF0F8"
             },
             "line": {
              "color": "white"
             }
            },
            "header": {
             "fill": {
              "color": "#C8D4E3"
             },
             "line": {
              "color": "white"
             }
            },
            "type": "table"
           }
          ]
         },
         "layout": {
          "annotationdefaults": {
           "arrowcolor": "#2a3f5f",
           "arrowhead": 0,
           "arrowwidth": 1
          },
          "autotypenumbers": "strict",
          "coloraxis": {
           "colorbar": {
            "outlinewidth": 0,
            "ticks": ""
           }
          },
          "colorscale": {
           "diverging": [
            [
             0,
             "#8e0152"
            ],
            [
             0.1,
             "#c51b7d"
            ],
            [
             0.2,
             "#de77ae"
            ],
            [
             0.3,
             "#f1b6da"
            ],
            [
             0.4,
             "#fde0ef"
            ],
            [
             0.5,
             "#f7f7f7"
            ],
            [
             0.6,
             "#e6f5d0"
            ],
            [
             0.7,
             "#b8e186"
            ],
            [
             0.8,
             "#7fbc41"
            ],
            [
             0.9,
             "#4d9221"
            ],
            [
             1,
             "#276419"
            ]
           ],
           "sequential": [
            [
             0,
             "#0d0887"
            ],
            [
             0.1111111111111111,
             "#46039f"
            ],
            [
             0.2222222222222222,
             "#7201a8"
            ],
            [
             0.3333333333333333,
             "#9c179e"
            ],
            [
             0.4444444444444444,
             "#bd3786"
            ],
            [
             0.5555555555555556,
             "#d8576b"
            ],
            [
             0.6666666666666666,
             "#ed7953"
            ],
            [
             0.7777777777777778,
             "#fb9f3a"
            ],
            [
             0.8888888888888888,
             "#fdca26"
            ],
            [
             1,
             "#f0f921"
            ]
           ],
           "sequentialminus": [
            [
             0,
             "#0d0887"
            ],
            [
             0.1111111111111111,
             "#46039f"
            ],
            [
             0.2222222222222222,
             "#7201a8"
            ],
            [
             0.3333333333333333,
             "#9c179e"
            ],
            [
             0.4444444444444444,
             "#bd3786"
            ],
            [
             0.5555555555555556,
             "#d8576b"
            ],
            [
             0.6666666666666666,
             "#ed7953"
            ],
            [
             0.7777777777777778,
             "#fb9f3a"
            ],
            [
             0.8888888888888888,
             "#fdca26"
            ],
            [
             1,
             "#f0f921"
            ]
           ]
          },
          "colorway": [
           "#636efa",
           "#EF553B",
           "#00cc96",
           "#ab63fa",
           "#FFA15A",
           "#19d3f3",
           "#FF6692",
           "#B6E880",
           "#FF97FF",
           "#FECB52"
          ],
          "font": {
           "color": "#2a3f5f"
          },
          "geo": {
           "bgcolor": "white",
           "lakecolor": "white",
           "landcolor": "#E5ECF6",
           "showlakes": true,
           "showland": true,
           "subunitcolor": "white"
          },
          "hoverlabel": {
           "align": "left"
          },
          "hovermode": "closest",
          "mapbox": {
           "style": "light"
          },
          "paper_bgcolor": "white",
          "plot_bgcolor": "#E5ECF6",
          "polar": {
           "angularaxis": {
            "gridcolor": "white",
            "linecolor": "white",
            "ticks": ""
           },
           "bgcolor": "#E5ECF6",
           "radialaxis": {
            "gridcolor": "white",
            "linecolor": "white",
            "ticks": ""
           }
          },
          "scene": {
           "xaxis": {
            "backgroundcolor": "#E5ECF6",
            "gridcolor": "white",
            "gridwidth": 2,
            "linecolor": "white",
            "showbackground": true,
            "ticks": "",
            "zerolinecolor": "white"
           },
           "yaxis": {
            "backgroundcolor": "#E5ECF6",
            "gridcolor": "white",
            "gridwidth": 2,
            "linecolor": "white",
            "showbackground": true,
            "ticks": "",
            "zerolinecolor": "white"
           },
           "zaxis": {
            "backgroundcolor": "#E5ECF6",
            "gridcolor": "white",
            "gridwidth": 2,
            "linecolor": "white",
            "showbackground": true,
            "ticks": "",
            "zerolinecolor": "white"
           }
          },
          "shapedefaults": {
           "line": {
            "color": "#2a3f5f"
           }
          },
          "ternary": {
           "aaxis": {
            "gridcolor": "white",
            "linecolor": "white",
            "ticks": ""
           },
           "baxis": {
            "gridcolor": "white",
            "linecolor": "white",
            "ticks": ""
           },
           "bgcolor": "#E5ECF6",
           "caxis": {
            "gridcolor": "white",
            "linecolor": "white",
            "ticks": ""
           }
          },
          "title": {
           "x": 0.05
          },
          "xaxis": {
           "automargin": true,
           "gridcolor": "white",
           "linecolor": "white",
           "ticks": "",
           "title": {
            "standoff": 15
           },
           "zerolinecolor": "white",
           "zerolinewidth": 2
          },
          "yaxis": {
           "automargin": true,
           "gridcolor": "white",
           "linecolor": "white",
           "ticks": "",
           "title": {
            "standoff": 15
           },
           "zerolinecolor": "white",
           "zerolinewidth": 2
          }
         }
        }
       }
      }
     },
     "metadata": {},
     "output_type": "display_data"
    }
   ],
   "source": [
    "zeeman_prof = magpy.Collection()\n",
    "j = 30\n",
    "n = 8\n",
    "a = 0# distance it circles aroundthe center \n",
    "c = 30 #angle of first bar\n",
    "d =  24#angle of second bar\n",
    "b = -190# distnace the two section of the array are apart from each other\n",
    "k = -100 #the first and second magnent are apart\n",
    "e = 40\n",
    "l = -5\n",
    "p= -20# distance the thrid and 4th magnet are apart from each other\n",
    "m  = -42\n",
    "mystyle = mstyle = dict(\n",
    "    mode=\"color+arrow\",\n",
    "    color=dict(north=\"magenta\", middle=\"white\", south=\"turquoise\"),\n",
    "    arrow=dict(width=2, color=\"k\")\n",
    ")\n",
    "angles = np.linspace(0, 360, n, endpoint=False)\n",
    "for i in angles:\n",
    "    cube1= magpy.magnet.Cuboid(\n",
    "    dimension=(6,6,125),\n",
    "    polarization=(-(1.080),0,0),\n",
    "    position=(70+a+l,0,140+k))\n",
    "    cube2 = magpy.magnet.Cuboid(dimension= (4,4,25),\n",
    "    polarization=(-1.17,0,0),\n",
    "    position=(60+a+l,0,50+e),style_magnetization = mystyle)\n",
    "    cube3= magpy.magnet.Cuboid(\n",
    "    dimension=(6,6,125),\n",
    "    polarization=(1.08,0,0),\n",
    "    position=(91.5+m,0,320+b))\n",
    " \n",
    "#     cube5 = magpy.magnet.Cuboid(dimension= (4,4,25),\n",
    "#     polarization=(-1.17,0,0),\n",
    "#     position=(90+a+p+m,0,190))\n",
    "\n",
    "#     cube6 = magpy.magnet.Cuboid(dimension= (4,4,25),\n",
    "#     polarization=(-1.17,0,0),\n",
    "#     position=(80+a+p+m,0,200),\n",
    "# )\n",
    "   \n",
    "\n",
    "\n",
    "    cube1.rotate_from_angax(i, 'z')\n",
    "    cube1.rotate_from_angax(c, 'y',)\n",
    "    cube1.rotate_from_angax(i, 'z', anchor=0)\n",
    " \n",
    " \n",
    "    cube2.rotate_from_angax(i, 'z',anchor = 0)\n",
    "    cube2.rotate_from_angax(i, 'z')\n",
    "    cube3.rotate_from_angax(i, 'z', anchor=0)\n",
    "    cube3.rotate_from_angax(-d, 'y')\n",
    "    cube3.rotate_from_angax(i, 'z')\n",
    "  \n",
    "    #cube4.rotate_from_angax(i, 'z', anchor=0)\n",
    "    #cube4.rotate_from_angax(-d, 'y')\n",
    "    #cube4.rotate_from_angax(i, 'z')\n",
    "    \n",
    "\n",
    "    zeeman_prof.add(cube1)\n",
    "    zeeman_prof.add(cube2)\n",
    "    zeeman_prof.add(cube3)\n",
    "    #zeeman_prof.add(cube4)\n",
    "    # zeeman_prof.add(cube5)\n",
    "    # zeeman_prof.add(cube6)\n",
    "    j = j+1\n",
    "\n",
    "\n",
    "tfmot = magpy.Collection()\n",
    "N = 4\n",
    "angles = np.linspace(0,360,N,endpoint=False)\n",
    "pol = [0,180,0,180]\n",
    "l = 35\n",
    "halbach = magpy.Collection()\n",
    "mystyle = mstyle = dict(\n",
    "    mode=\"color+arrow\",\n",
    "    color=dict(north=\"magenta\", middle=\"white\", south=\"turquoise\"),\n",
    "    arrow=dict(width=2, color=\"k\"),\n",
    ")\n",
    "for a in range(len(angles)):\n",
    "    cube= magpy.magnet.Cuboid(\n",
    "    dimension=(8,6,80),\n",
    "    polarization=(1.17,0,0),\n",
    "    position=(30+l,0,270),\n",
    "    style_magnetization = mystyle)\n",
    "    print(a)\n",
    "    cube.rotate_from_angax(angles[a], 'z',anchor = 0)\n",
    "    cube.rotate_from_angax(pol[a], 'z')\n",
    "\n",
    "    tfmot.add(cube)\n",
    "\n",
    "b_tot = magpy.Collection()\n",
    "b_tot.add(zeeman_prof,tfmot,override_parent=True)\n",
    "b_tot.show()"
   ]
  },
  {
   "cell_type": "code",
   "execution_count": 19,
   "metadata": {},
   "outputs": [
    {
     "ename": "KeyboardInterrupt",
     "evalue": "",
     "output_type": "error",
     "traceback": [
      "\u001b[1;31m---------------------------------------------------------------------------\u001b[0m",
      "\u001b[1;31mKeyboardInterrupt\u001b[0m                         Traceback (most recent call last)",
      "Cell \u001b[1;32mIn[19], line 2\u001b[0m\n\u001b[0;32m      1\u001b[0m fig,ax \u001b[38;5;241m=\u001b[39m plt\u001b[38;5;241m.\u001b[39msubplots(\u001b[38;5;241m1\u001b[39m,\u001b[38;5;241m1\u001b[39m,figsize\u001b[38;5;241m=\u001b[39m(\u001b[38;5;241m8\u001b[39m,\u001b[38;5;241m8\u001b[39m))\n\u001b[1;32m----> 2\u001b[0m grid \u001b[38;5;241m=\u001b[39m \u001b[43mnp\u001b[49m\u001b[38;5;241;43m.\u001b[39;49m\u001b[43mmgrid\u001b[49m\u001b[43m[\u001b[49m\u001b[38;5;241;43m-\u001b[39;49m\u001b[38;5;241;43m35\u001b[39;49m\u001b[43m:\u001b[49m\u001b[38;5;241;43m35\u001b[39;49m\u001b[43m:\u001b[49m\u001b[38;5;241;43m1000\u001b[39;49m\u001b[43mj\u001b[49m\u001b[43m,\u001b[49m\u001b[43m \u001b[49m\u001b[38;5;241;43m-\u001b[39;49m\u001b[38;5;241;43m35\u001b[39;49m\u001b[43m:\u001b[49m\u001b[38;5;241;43m35\u001b[39;49m\u001b[43m:\u001b[49m\u001b[38;5;241;43m1000\u001b[39;49m\u001b[43mj\u001b[49m\u001b[43m,\u001b[49m\u001b[43m \u001b[49m\u001b[38;5;241;43m0\u001b[39;49m\u001b[43m:\u001b[49m\u001b[38;5;241;43m0\u001b[39;49m\u001b[43m:\u001b[49m\u001b[38;5;241;43m10\u001b[39;49m\u001b[43mj\u001b[49m\u001b[43m]\u001b[49m\u001b[38;5;241m.\u001b[39mT[\u001b[38;5;241m0\u001b[39m]\n\u001b[0;32m      3\u001b[0m X, Y, _ \u001b[38;5;241m=\u001b[39m np\u001b[38;5;241m.\u001b[39mmoveaxis(grid, \u001b[38;5;241m2\u001b[39m, \u001b[38;5;241m0\u001b[39m)\n\u001b[0;32m      5\u001b[0m B \u001b[38;5;241m=\u001b[39m \u001b[38;5;241m1e3\u001b[39m\u001b[38;5;241m*\u001b[39mtfmot\u001b[38;5;241m.\u001b[39mgetB(grid)\n",
      "File \u001b[1;32mc:\\Users\\benfo\\AppData\\Local\\Programs\\Python\\Python312\\Lib\\site-packages\\numpy\\lib\\index_tricks.py:185\u001b[0m, in \u001b[0;36mnd_grid.__getitem__\u001b[1;34m(self, key)\u001b[0m\n\u001b[0;32m    183\u001b[0m         \u001b[38;5;28;01mif\u001b[39;00m step \u001b[38;5;241m!=\u001b[39m \u001b[38;5;241m1\u001b[39m:\n\u001b[0;32m    184\u001b[0m             step \u001b[38;5;241m=\u001b[39m (kk\u001b[38;5;241m.\u001b[39mstop \u001b[38;5;241m-\u001b[39m start) \u001b[38;5;241m/\u001b[39m \u001b[38;5;28mfloat\u001b[39m(step \u001b[38;5;241m-\u001b[39m \u001b[38;5;241m1\u001b[39m)\n\u001b[1;32m--> 185\u001b[0m     nn[k] \u001b[38;5;241m=\u001b[39m (nn[k]\u001b[38;5;241m*\u001b[39mstep\u001b[38;5;241m+\u001b[39mstart)\n\u001b[0;32m    186\u001b[0m \u001b[38;5;28;01mif\u001b[39;00m \u001b[38;5;28mself\u001b[39m\u001b[38;5;241m.\u001b[39msparse:\n\u001b[0;32m    187\u001b[0m     slobj \u001b[38;5;241m=\u001b[39m [_nx\u001b[38;5;241m.\u001b[39mnewaxis]\u001b[38;5;241m*\u001b[39m\u001b[38;5;28mlen\u001b[39m(size)\n",
      "\u001b[1;31mKeyboardInterrupt\u001b[0m: "
     ]
    },
    {
     "data": {
      "image/png": "[encoded data removed]",
      "text/plain": [
       "<Figure size 800x800 with 1 Axes>"
      ]
     },
     "metadata": {},
     "output_type": "display_data"
    }
   ],
   "source": [
    "fig,ax = plt.subplots(1,1,figsize=(8,8))\n",
    "grid = np.mgrid[-35:35:1000j, -35:35:1000j, 0:0:10j].T[0]\n",
    "X, Y, _ = np.moveaxis(grid, 2, 0)\n",
    "\n",
    "B = 1e3*tfmot.getB(grid)\n",
    "Bx, By, _ = np.moveaxis(B, 2, 0)\n",
    "Bamp = np.linalg.norm(B, axis=2)\n",
    "\n",
    "pc = ax.contourf(X, Y, Bamp, levels=50, cmap=\"coolwarm\")\n",
    "ax.streamplot(X, Y, Bx, By, color=\"k\", density=1.5, linewidth=1)\n",
    "\n",
    "# Add colorbar\n",
    "fig.colorbar(pc, ax=ax, label=\"|B|(mT)\")\n",
    "\n",
    "# Figure styling\n",
    "ax.set(\n",
    "    xlabel=\"x-(mm)\",\n",
    "    ylabel=\"y-(mm)\",\n",
    "    aspect=1,)\n",
    "\n",
    "\n",
    "\n",
    "plt.show()"
   ]
  },
  {
   "cell_type": "code",
   "execution_count": null,
   "metadata": {},
   "outputs": [
    {
     "data": {
      "text/plain": [
       "8.858893836140041"
      ]
     },
     "execution_count": 5,
     "metadata": {},
     "output_type": "execute_result"
    }
   ],
   "source": [
    "2*np.sqrt(2*9.81)"
   ]
  },
  {
   "cell_type": "code",
   "execution_count": null,
   "metadata": {},
   "outputs": [
    {
     "data": {
      "text/plain": [
       "11.186185208682579"
      ]
     },
     "execution_count": 6,
     "metadata": {},
     "output_type": "execute_result"
    }
   ],
   "source": [
    "4*np.sqrt(np.sqrt(2*9.81)) + np.sqrt(128-40/3*np.sqrt(2*9.81))/3"
   ]
  },
  {
   "cell_type": "code",
   "execution_count": null,
   "metadata": {},
   "outputs": [],
   "source": [
    "def v_avg(m,T):\n",
    "    return np.sqrt(8*cts.k*T/(np.pi*m))"
   ]
  },
  {
   "cell_type": "code",
   "execution_count": null,
   "metadata": {},
   "outputs": [
    {
     "data": {
      "image/png": "[encoded data removed]",
      "text/plain": [
       "<Figure size 2000x500 with 1 Axes>"
      ]
     },
     "metadata": {},
     "output_type": "display_data"
    },
    {
     "data": {
      "image/png": "[encoded data removed]",
      "text/plain": [
       "<Figure size 640x480 with 1 Axes>"
      ]
     },
     "metadata": {},
     "output_type": "display_data"
    }
   ],
   "source": [
    "L = 16\n",
    "z = np.linspace(-50,2*L,1000)\n",
    "b_y = []\n",
    "b_z = []\n",
    "b_x = []\n",
    "for i in z:\n",
    "    b_x.append(tfmot.getB([0,i*10,0])[0])\n",
    "    b_y.append(tfmot.getB([0,i*10,0])[1])\n",
    "    b_z.append(tfmot.getB([0,i*10,0])[2])\n",
    "\n",
    "fig,ax = plt.subplots(1,1,figsize=(20,5))    \n",
    "plt.plot(z,np.array(b_x)*1e3)\n",
    "plt.figure()\n",
    "plt.plot(z,np.array(b_y)*1e3)\n",
    "plt.plot(z,np.array(b_z)*1e3)\n",
    "#plt.yticks([-20,0,20,40])\n",
    "#plt.xticks([-0.1,0,0.1,0.2,0.3,0.4])\n",
    "plt.xlabel('z (cm)')\n",
    "\n",
    "plt.ylabel('$B$ (mT)')\n",
    "plt.legend(['$B_x$','$B_y$','$B_z$','Analytical'])  \n",
    "plt.ylabel('$B_y$ (mT)')\n",
    "plt.grid()"
   ]
  },
  {
   "cell_type": "code",
   "execution_count": null,
   "metadata": {},
   "outputs": [
    {
     "name": "stdout",
     "output_type": "stream",
     "text": [
      "-0.067 16 676.8208277129978 0.048\n"
     ]
    }
   ],
   "source": [
    "mass_lab = 173*cts.value('atomic mass constant') # YB-173 mass in kg\n",
    "v_a = v_avg(mass_lab,216.85)\n",
    "sd = np.sqrt(cts.k*216.85/mass_lab)\n",
    "vel = np.random.normal(v_a,sd,1000000)\n",
    "klab = 2*np.pi*25068.2222# Lab wavevector (without 2pi) in cm^{-1}   # Lifetime of 6P_{3/2} state (in seconds)\n",
    "gammalab = (1.93*1e8)\n",
    "v0 =max(vel)\n",
    "Blab = -67*1e-3#(v0*cts.hbar*(klab*100))/cts.value('Bohr magneton')\n",
    "b_0L =  48*1e-3\n",
    "# (v0*cts.hbar*(klab*100))/cts.value('Bohr magneton')/2\n",
    "# T # About 15 G/cm is a typical gradient for Rb\n",
    "L = 16\n",
    "x0 = 1/klab  # cm\n",
    "t0 = 1/gammalab  # s\n",
    "#100*(mass_lab*(v0**2))/(0.5*cts.hbar*(klab*100)*gammalab) +5\n",
    "print(Blab, L,v0,b_0L)"
   ]
  },
  {
   "cell_type": "code",
   "execution_count": null,
   "metadata": {},
   "outputs": [
    {
     "name": "stdout",
     "output_type": "stream",
     "text": [
      "6.348872362073421e-06 5.181347150259067e-09 2119.188266564296 1.0 1.0 -30.52874111941582 21.871336921372524\n"
     ]
    }
   ],
   "source": [
    "x0 = 1/klab  # cm\n",
    "t0 = 1/gammalab  # s\n",
    "\n",
    "mass = mass_lab*(x0*1e-2)**2/cts.hbar/t0\n",
    "\n",
    "# And now our wavevector, decay rate, and magnetic field gradient in these units:\n",
    "k = klab*x0\n",
    "gamma = gammalab*t0\n",
    "alpha = cts.value('Bohr magneton')*Blab*t0/cts.hbar\n",
    "b_0 = cts.value('Bohr magneton')*b_0L*t0/cts.hbar \n",
    "l = L/x0 \n",
    "\n",
    "print(x0, t0, mass, k, gamma, alpha,b_0)"
   ]
  },
  {
   "cell_type": "code",
   "execution_count": null,
   "metadata": {},
   "outputs": [],
   "source": [
    "# Define the atomic Hamiltonian:\n",
    "H_g_D2, mu_q_g_D2 = pylcp.hamiltonians.hyperfine_coupled(\n",
    "0, 5/2, 0,  \t-0.2592,\n",
    "    Ahfs = 0, Bhfs=0, Chfs=0,\n",
    "    muB=1)# ground state 1s0\n",
    "H_e_D2, mu_q_e_D2 = pylcp.hamiltonians.hyperfine_coupled(\n",
    "1, 5/2, 1.035,\t-0.2592,\n",
    "    Ahfs=59.52*1e6,Bhfs = 601.87*1e6 , Chfs= 0,\n",
    "    muB=1) #excited state 1p1\n",
    "\n",
    "dijq_D2 = pylcp.hamiltonians.dqij_two_hyperfine_manifolds(0, 1, 5/2)\n",
    "\n",
    "E_e_D2 = np.unique(np.diagonal(H_e_D2))\n",
    "E_g_D2 = np.unique(np.diagonal(H_g_D2))\n",
    "hamiltonian_D2 = pylcp.hamiltonian(mass = mass)\n",
    "hamiltonian_D2.add_H_0_block('g', H_g_D2)\n",
    "hamiltonian_D2.add_H_0_block('e', H_e_D2)\n",
    "hamiltonian_D2.add_d_q_block('g', 'e', dijq_D2, gamma = gamma, k = k)\n",
    "hamiltonian_D2.add_mu_q_block('g', mu_q_g_D2)\n",
    "hamiltonian_D2.add_mu_q_block('e', mu_q_e_D2)\n",
    "\n",
    "\n",
    "\n",
    "#ham = pylcp.hamiltonian(Hg, He, mugq, mueq, dijq, mass=mass, gamma=gamma, k=k)\n",
    "# Define the atomic Hamiltonian:\n",
    "H_g_D2, mu_q_g_D2 = pylcp.hamiltonians.hyperfine_coupled(\n",
    "0, 5/2, 0,  \t-0.2592,\n",
    "    Ahfs = 0, Bhfs=0, Chfs=0,\n",
    "    muB=1)# ground state 1s0\n",
    "H_e_D2, mu_q_e_D2 = pylcp.hamiltonians.hyperfine_coupled(\n",
    "1, 5/2, 1.035,\t-0.2592,\n",
    "    Ahfs=59.52*1e6,Bhfs = 601.87*1e6 , Chfs= 0,\n",
    "    muB=1) #excited state 1p1\n",
    "\n",
    "dijq_D2 = pylcp.hamiltonians.dqij_two_hyperfine_manifolds(0, 1, 5/2)\n",
    "\n",
    "E_e_D2 = np.unique(np.diagonal(H_e_D2))\n",
    "E_g_D2 = np.unique(np.diagonal(H_g_D2))\n",
    "hamiltonian_D2 = pylcp.hamiltonian(mass = mass)\n",
    "hamiltonian_D2.add_H_0_block('g', H_g_D2)\n",
    "hamiltonian_D2.add_H_0_block('e', H_e_D2)\n",
    "hamiltonian_D2.add_d_q_block('g', 'e', dijq_D2, gamma = gamma, k = k)\n",
    "hamiltonian_D2.add_mu_q_block('g', mu_q_g_D2)\n",
    "hamiltonian_D2.add_mu_q_block('e', mu_q_e_D2)\n",
    "\n",
    "\n",
    "\n",
    "#ham = pylcp.hamiltonian(Hg, He, mugq, mueq, dijq, mass=mass, gamma=gamma, k=k)\n",
    "\n",
    "\n",
    "s = 1\n",
    "det = 5\n",
    "\n",
    "# Define the laser beams:\n",
    "laserBeams = pylcp.laserBeams([\n",
    "    {'kvec':np.array([0, 1, 0]), 's': s,'pol_coord':'spherical', 'pol':  -1, 'delta': (E_e_D2[2]-E_g_D2[0]) + det*gamma},\n",
    "     {'kvec':np.array([0, -1, 0]), 's': s,'pol_coord':'spherical', 'pol': -1, 'delta': (E_e_D2[2]-E_g_D2[0]) + det*gamma},\n",
    "      {'kvec':np.array([1, 0, 0]), 's': s,'pol_coord':'spherical', 'pol': 1, 'delta': (E_e_D2[2]-E_g_D2[0]) + det*gamma},\n",
    "     {'kvec':np.array([-1, 0, 0]), 's': s,'pol_coord':'spherical', 'pol': 1, 'delta': (E_e_D2[2]-E_g_D2[0]) + det*gamma}],\n",
    "    beam_type=pylcp.infinitePlaneWaveBeam) \n",
    "\n",
    "#linGrad =  pylcp.magField(lambda R: mag(R,b_0,alpha,l))\n",
    "bf_mot = lambda R:b_tot.getB(R*10*x0)*cts.value('Bohr magneton')*t0/cts.hbar \n",
    "linGrad = pylcp.magField(lambda R: bf_mot(R))"
   ]
  },
  {
   "cell_type": "code",
   "execution_count": null,
   "metadata": {},
   "outputs": [
    {
     "data": {
      "text/plain": [
       "6.54"
      ]
     },
     "execution_count": 12,
     "metadata": {},
     "output_type": "execute_result"
    }
   ],
   "source": [
    "327/50"
   ]
  },
  {
   "cell_type": "code",
   "execution_count": null,
   "metadata": {},
   "outputs": [],
   "source": [
    "rateeq = pylcp.rateeq(laserBeams, linGrad, hamiltonian_D2, include_mag_forces=True)"
   ]
  },
  {
   "cell_type": "code",
   "execution_count": null,
   "metadata": {},
   "outputs": [
    {
     "ename": "KeyboardInterrupt",
     "evalue": "",
     "output_type": "error",
     "traceback": [
      "\u001b[1;31m---------------------------------------------------------------------------\u001b[0m",
      "\u001b[1;31mKeyboardInterrupt\u001b[0m                         Traceback (most recent call last)",
      "Cell \u001b[1;32mIn[15], line 9\u001b[0m\n\u001b[0;32m      6\u001b[0m z \u001b[38;5;241m=\u001b[39m np\u001b[38;5;241m.\u001b[39marange(\u001b[38;5;241m270\u001b[39m, \u001b[38;5;241m300\u001b[39m, \u001b[38;5;241m0.05\u001b[39m)\u001b[38;5;241m/\u001b[39mx0\n\u001b[0;32m      7\u001b[0m v\u001b[38;5;241m=\u001b[39m np\u001b[38;5;241m.\u001b[39marange(\u001b[38;5;241m-\u001b[39m\u001b[38;5;241m144\u001b[39m, \u001b[38;5;241m144\u001b[39m, \u001b[38;5;241m4\u001b[39m)\u001b[38;5;241m/\u001b[39mvc\n\u001b[1;32m----> 9\u001b[0m X,Y,Z, V \u001b[38;5;241m=\u001b[39m \u001b[43mnp\u001b[49m\u001b[38;5;241;43m.\u001b[39;49m\u001b[43mmeshgrid\u001b[49m\u001b[43m(\u001b[49m\u001b[43mx\u001b[49m\u001b[43m,\u001b[49m\u001b[43my\u001b[49m\u001b[43m,\u001b[49m\u001b[43mz\u001b[49m\u001b[43m,\u001b[49m\u001b[43mv\u001b[49m\u001b[43m)\u001b[49m\n\u001b[0;32m     13\u001b[0m Rvec \u001b[38;5;241m=\u001b[39m np\u001b[38;5;241m.\u001b[39marray([np\u001b[38;5;241m.\u001b[39mzeros(X\u001b[38;5;241m.\u001b[39mshape), X, np\u001b[38;5;241m.\u001b[39m zeros(X\u001b[38;5;241m.\u001b[39mshape)])\n\u001b[0;32m     14\u001b[0m Vvec \u001b[38;5;241m=\u001b[39m np\u001b[38;5;241m.\u001b[39marray([np\u001b[38;5;241m.\u001b[39mzeros(X\u001b[38;5;241m.\u001b[39mshape),V, np\u001b[38;5;241m.\u001b[39mzeros(V\u001b[38;5;241m.\u001b[39mshape)])\n",
      "File \u001b[1;32mc:\\Users\\benfo\\AppData\\Local\\Programs\\Python\\Python312\\Lib\\site-packages\\numpy\\lib\\function_base.py:5164\u001b[0m, in \u001b[0;36mmeshgrid\u001b[1;34m(copy, sparse, indexing, *xi)\u001b[0m\n\u001b[0;32m   5161\u001b[0m     output \u001b[38;5;241m=\u001b[39m np\u001b[38;5;241m.\u001b[39mbroadcast_arrays(\u001b[38;5;241m*\u001b[39moutput, subok\u001b[38;5;241m=\u001b[39m\u001b[38;5;28;01mTrue\u001b[39;00m)\n\u001b[0;32m   5163\u001b[0m \u001b[38;5;28;01mif\u001b[39;00m copy:\n\u001b[1;32m-> 5164\u001b[0m     output \u001b[38;5;241m=\u001b[39m [\u001b[43mx\u001b[49m\u001b[38;5;241;43m.\u001b[39;49m\u001b[43mcopy\u001b[49m\u001b[43m(\u001b[49m\u001b[43m)\u001b[49m \u001b[38;5;28;01mfor\u001b[39;00m x \u001b[38;5;129;01min\u001b[39;00m output]\n\u001b[0;32m   5166\u001b[0m \u001b[38;5;28;01mreturn\u001b[39;00m output\n",
      "\u001b[1;31mKeyboardInterrupt\u001b[0m: "
     ]
    }
   ],
   "source": [
    "vc = x0/t0*1/(100)\n",
    "Fc = cts.hbar*klab*gammalab\n",
    "x = np.arange(-5,5, 0.05)/x0\n",
    "z = np.arange(-3, 3, 0.05)/x0\n",
    "y = np.arange(-3, 3, 0.05)/x0\n",
    "z = np.arange(270, 300, 0.05)/x0\n",
    "v= np.arange(-144, 144, 4)/vc\n",
    "\n",
    "X,Y,Z, V = np.meshgrid(x,y,z,v)\n",
    "\n",
    "\n",
    "\n",
    "Rvec = np.array([X,Y,Z])\n",
    "Vvec = np.array([np.zeros(X.shape),V, np.zeros(V.shape)])\n",
    "\n",
    "rateeq.generate_force_profile(Rvec, Vvec, name='Fz', progress_bar=True)\n"
   ]
  },
  {
   "cell_type": "code",
   "execution_count": null,
   "metadata": {},
   "outputs": [
    {
     "name": "stderr",
     "output_type": "stream",
     "text": [
      "C:\\Users\\benfo\\AppData\\Local\\Temp\\ipykernel_29448\\1990042205.py:2: MatplotlibDeprecationWarning:\n",
      "\n",
      "The get_cmap function was deprecated in Matplotlib 3.7 and will be removed two minor releases later. Use ``matplotlib.colormaps[name]`` or ``matplotlib.colormaps.get_cmap(obj)`` instead.\n",
      "\n"
     ]
    },
    {
     "data": {
      "text/plain": [
       "Text(0.5, 1.0, 'Contour plot of position vs velocity and force')"
      ]
     },
     "execution_count": 90,
     "metadata": {},
     "output_type": "execute_result"
    },
    {
     "data": {
      "image/png": "[encoded data removed]",
      "text/plain": [
       "<Figure size 800x400 with 2 Axes>"
      ]
     },
     "metadata": {},
     "output_type": "display_data"
    }
   ],
   "source": [
    "\n",
    "fig,ax = plt.subplots(1, 1, figsize=(8, 4)) \n",
    "cmap_reversed = plt.cm.get_cmap('viridis_r')\n",
    "Fc = gammalab*cts.hbar*klab\n",
    "im1 = ax.contourf(np.array(x)*x0, np.array(v)*vc,rateeq.profile['Fz'].F[1]*Fc)\n",
    "fig.subplots_adjust(left=0.08, wspace=0.2)\n",
    "cb1 = plt.colorbar(im1)\n",
    "cb1.set_label('$F(N)$')\n",
    "ax.set_xlabel('$y$ (cm)')\n",
    "ax.set_ylabel('$v (ms^{-1})$')\n",
    "plt.title('Contour plot of position vs velocity and force')"
   ]
  },
  {
   "cell_type": "code",
   "execution_count": null,
   "metadata": {},
   "outputs": [],
   "source": [
    "velocitiesz =  np.random.normal(v_a,sd_yb, 100) \n",
    "\n",
    "z_n  = []\n",
    "vz_n = []\n",
    "x_n =  []\n",
    "y_n =  []\n",
    "for j in range(len(velocitiesz)):   \n",
    "    t_max = 0.0010/t0\n",
    "    t_span = np.linspace(0,t_max,10000)\n",
    "    z_t = []\n",
    "    v_t = []\n",
    "    y_t = []\n",
    "    x_t = []\n",
    "    v_0z = velocitiesz[j]/vc\n",
    "    v_0y = velocitiest[j]\n",
    "    v_0x = velocitiest[j] \n",
    "    v_ind = list(np.array(v))\n",
    "    x_ind = list(np.array(x))\n",
    "    sz = 0\n",
    "    sx = 0\n",
    "    sy = 0\n",
    "    di = 0\n",
    "    dt  =  0 \n",
    "    for i in range(len(t_span)):\n",
    "        dt = t_span[i] - di\n",
    "        \n",
    "        c = v_ind.index(find_nearest_value(v_ind,v_0))\n",
    "\n",
    "        d = x_ind.index(find_nearest_value(x_ind,sz))\n",
    "\n",
    "        a = ((force_profiles[key][c][d]))/mass\n",
    "\n",
    "        sz = (1/2)*a*(dt**2) + v_0z*dt + sz\n",
    "        if random_recoil == 'yes':\n",
    "            recoil = dt*(a)*random_sphere(np.random.uniform(-1,1),np.random.uniform(0,2*np.pi))\n",
    "        else: \n",
    "            recoil = [0,0,0]\n",
    "        v_0z = v_0z + a*dt - recoil[2]\n",
    "\n",
    "        sx = sx + v_0x*(dt*t0) - recoil[0]\n",
    "\n",
    "        sy = sy + v_0y*(dt*t0) - recoil[1]\n",
    "\n",
    "        z_t.append(sz)\n",
    "\n",
    "        x_t.append(sx)\n",
    "\n",
    "        y_t.append(sy)\n",
    "        \n",
    "        v_t.append(v_0z)\n",
    "            \n",
    "        di = t_span[i]\n",
    "\n",
    "    z_n.append(z_t)\n",
    "    x_n.append(x_t)\n",
    "    y_n.append(y_t)\n",
    "    vz_n.append(v_t) "
   ]
  }
 ],
 "metadata": {
  "kernelspec": {
   "display_name": "Python 3",
   "language": "python",
   "name": "python3"
  },
  "language_info": {
   "codemirror_mode": {
    "name": "ipython",
    "version": 3
   },
   "file_extension": ".py",
   "mimetype": "text/x-python",
   "name": "python",
   "nbconvert_exporter": "python",
   "pygments_lexer": "ipython3",
   "version": "3.12.3"
  }
 },
 "nbformat": 4,
 "nbformat_minor": 2
}
