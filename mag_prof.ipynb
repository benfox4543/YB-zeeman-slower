{
 "cells": [
  {
   "cell_type": "code",
   "execution_count": 99,
   "metadata": {},
   "outputs": [],
   "source": [
    "import numpy as np\n",
    "import matplotlib.pyplot as plt"
   ]
  },
  {
   "cell_type": "code",
   "execution_count": 104,
   "metadata": {},
   "outputs": [],
   "source": [
    "def integral(r_a,r_b,r_2,alpha):\n",
    "\n",
    "    pp = alpha*np.cross(r_2 - r_a,n)\n",
    "    A = np.dot(r_2-r_a,r_-r_a)\n",
    "    B = np.dot(r_2 - r_a,r_b - r_a)\n",
    "    C = np.dot(r_b - r_a,r_b - r_a)\n",
    "    D = np.dot(r_2 - r_a,pp) \n",
    "\n",
    "    a1 = A*C - 2*B*C +C**2\n",
    "    b1 = -2*C*D\n",
    "    C1 = (alpha**2)*c**2\n",
    "    d1 = b**2 - 4*(a1 + p1)*c1\n",
    "    p1 = (C-B)**2\n",
    "\n",
    "    a2 = A*C\n",
    "    b2 = -2*C*D\n",
    "    C2 = (alpha**2)*C**2\n",
    "\n",
    "    ru = a1 + b1*s + c1*(1/2)**2 \n",
    "    rl = a2 + b2*s + c2*(-1/2)**2\n",
    "    su = 0.5\n",
    "    sl = 0.5\n",
    "    if p1 > 0:\n",
    "        I1 = np.arctan(np.sqrt(ru/p1)) -  np.arctan(np.sqrt(rl/p1))\n",
    "    else:\n",
    "        I_u1 = np.log(np.sqrt(-p) - np.sqrt(ru)/(sqrt(-p) + np.sqrt(ru)))\n",
    "        I_l1 = np.log(np.sqrt(-p) - np.sqrt(rl)/(sqrt(-p) + np.sqrt(rl)))\n",
    "        I1 = 1/(2*np.sqrt(-p))*(I_u1 - I_l1)\n",
    "    if p1d1 > 0:\n",
    "        I2 = - np.arctan(np.sqrt(p1/dq))*(B1 + 2*C1*su/np.sqrt(Ru)) + np.arctan(np.sqrt(p1/dq))*(B1 + 2*C1*sl/np.sqrt(Rl))\n",
    "    else:\n",
    "        if P >0:\n",
    "            I2_u = np.log((np.sqrt(-d1)*np.sqrt(ru) + np.sqrt(p1)(b1 + 2*c1*(0.5)))/(np.sqrt(-d1)*np.sqrt(ru)- np.sqrt(p1)(b1 + 2*c1*(0.5)))) \n",
    "            I2_l = np.log((np.sqrt(-d1)*np.sqrt(rl) + np.sqrt(p1)(b1 + 2*c1*(-0.5)))/(np.sqrt(-d1)*np.sqrt(rl)- np.sqrt(p1)(b1 + 2*c1*(-0.5)))) \n",
    "            I2 = 1/(2*j)*(I2_u - I2_l)\n",
    "        else:\n",
    "            I2_u = np.log((np.sqrt(d1)*np.sqrt(ru) + np.sqrt(-p1)(b1 + 2*c1*(0.5)))/(np.sqrt(d1)*np.sqrt(ru)- np.sqrt(-p1)(b1 + 2*c1*(0.5)))) \n",
    "            I2_l = np.log((np.sqrt(d1)*np.sqrt(rl) + np.sqrt(-p1)(b1 + 2*c1*(-0.5)))/(np.sqrt(d1)*np.sqrt(rl)- np.sqrt(-p1)(b1 + 2*c1*(-0.5))))\n",
    "            I2 =  1/(2*j)*(I2_u - I2_l)\n",
    "            \n",
    "   \n",
    "    \n"
   ]
  },
  {
   "cell_type": "code",
   "execution_count": null,
   "metadata": {},
   "outputs": [],
   "source": [
    "def B(R_2,R_a,R_b,N,Br,alpha):\n",
    "    # define all the constants\n",
    "   \n",
    "\n"
   ]
  }
 ],
 "metadata": {
  "kernelspec": {
   "display_name": "Python 3",
   "language": "python",
   "name": "python3"
  },
  "language_info": {
   "codemirror_mode": {
    "name": "ipython",
    "version": 3
   },
   "file_extension": ".py",
   "mimetype": "text/x-python",
   "name": "python",
   "nbconvert_exporter": "python",
   "pygments_lexer": "ipython3",
   "version": "3.12.3"
  }
 },
 "nbformat": 4,
 "nbformat_minor": 2
}
