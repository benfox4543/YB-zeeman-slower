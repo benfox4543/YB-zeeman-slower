{
 "cells": [
  {
   "cell_type": "code",
   "execution_count": 7,
   "metadata": {},
   "outputs": [],
   "source": [
    "import magpylib as magpy\n",
    "import numpy as np\n",
    "import matplotlib.pyplot as plt\n",
    "\n",
    "from scipy.spatial.transform import Rotation as R"
   ]
  },
  {
   "cell_type": "code",
   "execution_count": null,
   "metadata": {},
   "outputs": [],
   "source": []
  },
  {
   "cell_type": "code",
   "execution_count": 8,
   "metadata": {},
   "outputs": [
    {
     "ename": "MagpylibBadUserInput",
     "evalue": "No sources provided\nSources must be either\n- one of type ['Cuboid', 'Cylinder', 'CylinderSegment', 'Sphere', 'Tetrahedron', 'Triangle', 'TriangularMesh', 'Circle', 'Loop', 'Polyline', 'Line', 'CustomSource', 'Dipole']\n- Collection with at least one of the above\n- 1D list of the above\n- string ['Cuboid', 'Cylinder', 'CylinderSegment', 'Sphere', 'Tetrahedron', 'Triangle', 'TriangularMesh', 'Circle', 'Loop', 'Polyline', 'Line', 'CustomSource', 'Dipole']\nreceived array([[[-35.        , -35.        ,   0.        ],\n        [-34.29292929, -35.        ,   0.        ],\n        [-33.58585859, -35.        ,   0.        ],\n        ...,\n        [ 33.58585859, -35.        ,   0.        ],\n        [ 34.29292929, -35.        ,   0.        ],\n        [ 35.        , -35.        ,   0.        ]],\n\n       [[-35.        , -34.29292929,   0.        ],\n        [-34.29292929, -34.29292929,   0.        ],\n        [-33.58585859, -34.29292929,   0.        ],\n        ...,\n        [ 33.58585859, -34.29292929,   0.        ],\n        [ 34.29292929, -34.29292929,   0.        ],\n        [ 35.        , -34.29292929,   0.        ]],\n\n       [[-35.        , -33.58585859,   0.        ],\n        [-34.29292929, -33.58585859,   0.        ],\n        [-33.58585859, -33.58585859,   0.        ],\n        ...,\n        [ 33.58585859, -33.58585859,   0.        ],\n        [ 34.29292929, -33.58585859,   0.        ],\n        [ 35.        , -33.58585859,   0.        ]],\n\n       ...,\n\n       [[-35.        ,  33.58585859,   0.        ],\n        [-34.29292929,  33.58585859,   0.        ],\n        [-33.58585859,  33.58585859,   0.        ],\n        ...,\n        [ 33.58585859,  33.58585859,   0.        ],\n        [ 34.29292929,  33.58585859,   0.        ],\n        [ 35.        ,  33.58585859,   0.        ]],\n\n       [[-35.        ,  34.29292929,   0.        ],\n        [-34.29292929,  34.29292929,   0.        ],\n        [-33.58585859,  34.29292929,   0.        ],\n        ...,\n        [ 33.58585859,  34.29292929,   0.        ],\n        [ 34.29292929,  34.29292929,   0.        ],\n        [ 35.        ,  34.29292929,   0.        ]],\n\n       [[-35.        ,  35.        ,   0.        ],\n        [-34.29292929,  35.        ,   0.        ],\n        [-33.58585859,  35.        ,   0.        ],\n        ...,\n        [ 33.58585859,  35.        ,   0.        ],\n        [ 34.29292929,  35.        ,   0.        ],\n        [ 35.        ,  35.        ,   0.        ]]]) of type 'ndarray' instead.",
     "output_type": "error",
     "traceback": [
      "\u001b[1;31m---------------------------------------------------------------------------\u001b[0m",
      "\u001b[1;31mMagpylibBadUserInput\u001b[0m                      Traceback (most recent call last)",
      "Cell \u001b[1;32mIn[8], line 8\u001b[0m\n\u001b[0;32m      5\u001b[0m grid \u001b[38;5;241m=\u001b[39m np\u001b[38;5;241m.\u001b[39mmgrid[\u001b[38;5;241m-\u001b[39m\u001b[38;5;241m35\u001b[39m:\u001b[38;5;241m35\u001b[39m:\u001b[38;5;241m100\u001b[39mj, \u001b[38;5;241m-\u001b[39m\u001b[38;5;241m35\u001b[39m:\u001b[38;5;241m35\u001b[39m:\u001b[38;5;241m100\u001b[39mj, \u001b[38;5;241m0\u001b[39m:\u001b[38;5;241m0\u001b[39m:\u001b[38;5;241m1\u001b[39mj]\u001b[38;5;241m.\u001b[39mT[\u001b[38;5;241m0\u001b[39m]\n\u001b[0;32m      6\u001b[0m X, Y, _ \u001b[38;5;241m=\u001b[39m np\u001b[38;5;241m.\u001b[39mmoveaxis(grid, \u001b[38;5;241m2\u001b[39m, \u001b[38;5;241m0\u001b[39m)\n\u001b[1;32m----> 8\u001b[0m B \u001b[38;5;241m=\u001b[39m \u001b[43mhalbach\u001b[49m\u001b[38;5;241;43m.\u001b[39;49m\u001b[43mgetB\u001b[49m\u001b[43m(\u001b[49m\u001b[43mgrid\u001b[49m\u001b[43m)\u001b[49m\n\u001b[0;32m      9\u001b[0m Bx, By, _ \u001b[38;5;241m=\u001b[39m np\u001b[38;5;241m.\u001b[39mmoveaxis(B, \u001b[38;5;241m2\u001b[39m, \u001b[38;5;241m0\u001b[39m)\n\u001b[0;32m     10\u001b[0m Bamp \u001b[38;5;241m=\u001b[39m np\u001b[38;5;241m.\u001b[39mlinalg\u001b[38;5;241m.\u001b[39mnorm(B, axis\u001b[38;5;241m=\u001b[39m\u001b[38;5;241m2\u001b[39m)\n",
      "File \u001b[1;32mc:\\Users\\benfo\\AppData\\Local\\Programs\\Python\\Python312\\Lib\\site-packages\\magpylib\\_src\\obj_classes\\class_Collection.py:614\u001b[0m, in \u001b[0;36mBaseCollection.getB\u001b[1;34m(self, squeeze, pixel_agg, output, in_out, *inputs)\u001b[0m\n\u001b[0;32m    540\u001b[0m \u001b[38;5;250m\u001b[39m\u001b[38;5;124;03m\"\"\"Compute B-field for given sources and observers.\u001b[39;00m\n\u001b[0;32m    541\u001b[0m \n\u001b[0;32m    542\u001b[0m \u001b[38;5;124;03mSI units are used for all inputs and outputs.\u001b[39;00m\n\u001b[1;32m   (...)\u001b[0m\n\u001b[0;32m    610\u001b[0m \u001b[38;5;124;03m  [0.         0.         0.08333333]]]\u001b[39;00m\n\u001b[0;32m    611\u001b[0m \u001b[38;5;124;03m\"\"\"\u001b[39;00m\n\u001b[0;32m    613\u001b[0m sources, sensors \u001b[38;5;241m=\u001b[39m \u001b[38;5;28mself\u001b[39m\u001b[38;5;241m.\u001b[39m_validate_getBH_inputs(\u001b[38;5;241m*\u001b[39minputs)\n\u001b[1;32m--> 614\u001b[0m \u001b[38;5;28;01mreturn\u001b[39;00m \u001b[43mgetBH_level2\u001b[49m\u001b[43m(\u001b[49m\n\u001b[0;32m    615\u001b[0m \u001b[43m    \u001b[49m\u001b[43msources\u001b[49m\u001b[43m,\u001b[49m\n\u001b[0;32m    616\u001b[0m \u001b[43m    \u001b[49m\u001b[43msensors\u001b[49m\u001b[43m,\u001b[49m\n\u001b[0;32m    617\u001b[0m \u001b[43m    \u001b[49m\u001b[43mfield\u001b[49m\u001b[38;5;241;43m=\u001b[39;49m\u001b[38;5;124;43m\"\u001b[39;49m\u001b[38;5;124;43mB\u001b[39;49m\u001b[38;5;124;43m\"\u001b[39;49m\u001b[43m,\u001b[49m\n\u001b[0;32m    618\u001b[0m \u001b[43m    \u001b[49m\u001b[43msumup\u001b[49m\u001b[38;5;241;43m=\u001b[39;49m\u001b[38;5;28;43;01mFalse\u001b[39;49;00m\u001b[43m,\u001b[49m\n\u001b[0;32m    619\u001b[0m \u001b[43m    \u001b[49m\u001b[43msqueeze\u001b[49m\u001b[38;5;241;43m=\u001b[39;49m\u001b[43msqueeze\u001b[49m\u001b[43m,\u001b[49m\n\u001b[0;32m    620\u001b[0m \u001b[43m    \u001b[49m\u001b[43mpixel_agg\u001b[49m\u001b[38;5;241;43m=\u001b[39;49m\u001b[43mpixel_agg\u001b[49m\u001b[43m,\u001b[49m\n\u001b[0;32m    621\u001b[0m \u001b[43m    \u001b[49m\u001b[43moutput\u001b[49m\u001b[38;5;241;43m=\u001b[39;49m\u001b[43moutput\u001b[49m\u001b[43m,\u001b[49m\n\u001b[0;32m    622\u001b[0m \u001b[43m    \u001b[49m\u001b[43min_out\u001b[49m\u001b[38;5;241;43m=\u001b[39;49m\u001b[43min_out\u001b[49m\u001b[43m,\u001b[49m\n\u001b[0;32m    623\u001b[0m \u001b[43m\u001b[49m\u001b[43m)\u001b[49m\n",
      "File \u001b[1;32mc:\\Users\\benfo\\AppData\\Local\\Programs\\Python\\Python312\\Lib\\site-packages\\magpylib\\_src\\fields\\field_wrap_BH.py:207\u001b[0m, in \u001b[0;36mgetBH_level2\u001b[1;34m(sources, observers, field, sumup, squeeze, pixel_agg, output, in_out, **kwargs)\u001b[0m\n\u001b[0;32m    198\u001b[0m     \u001b[38;5;28;01mraise\u001b[39;00m MagpylibBadUserInput(\n\u001b[0;32m    199\u001b[0m         \u001b[38;5;124mf\u001b[39m\u001b[38;5;124m\"\u001b[39m\u001b[38;5;124mKeyword arguments \u001b[39m\u001b[38;5;132;01m{\u001b[39;00m\u001b[38;5;28mtuple\u001b[39m(kwargs\u001b[38;5;241m.\u001b[39mkeys())\u001b[38;5;132;01m}\u001b[39;00m\u001b[38;5;124m are only allowed when the source \u001b[39m\u001b[38;5;124m\"\u001b[39m\n\u001b[0;32m    200\u001b[0m         \u001b[38;5;124m\"\u001b[39m\u001b[38;5;124mis defined by a string (e.g. sources=\u001b[39m\u001b[38;5;124m'\u001b[39m\u001b[38;5;124mCylinder\u001b[39m\u001b[38;5;124m'\u001b[39m\u001b[38;5;124m)\u001b[39m\u001b[38;5;124m\"\u001b[39m\n\u001b[0;32m    201\u001b[0m     )\n\u001b[0;32m    203\u001b[0m \u001b[38;5;66;03m# format sources input:\u001b[39;00m\n\u001b[0;32m    204\u001b[0m \u001b[38;5;66;03m#   input: allow only one bare src object or a 1D list/tuple of src and col\u001b[39;00m\n\u001b[0;32m    205\u001b[0m \u001b[38;5;66;03m#   out: sources = ordered list of sources\u001b[39;00m\n\u001b[0;32m    206\u001b[0m \u001b[38;5;66;03m#   out: src_list = ordered list of sources with flattened collections\u001b[39;00m\n\u001b[1;32m--> 207\u001b[0m sources, src_list \u001b[38;5;241m=\u001b[39m \u001b[43mformat_src_inputs\u001b[49m\u001b[43m(\u001b[49m\u001b[43msources\u001b[49m\u001b[43m)\u001b[49m\n\u001b[0;32m    209\u001b[0m \u001b[38;5;66;03m# test if all source dimensions and excitations are initialized\u001b[39;00m\n\u001b[0;32m    210\u001b[0m check_dimensions(src_list)\n",
      "File \u001b[1;32mc:\\Users\\benfo\\AppData\\Local\\Programs\\Python\\Python312\\Lib\\site-packages\\magpylib\\_src\\utility.py:137\u001b[0m, in \u001b[0;36mformat_src_inputs\u001b[1;34m(sources)\u001b[0m\n\u001b[0;32m    135\u001b[0m         src_list \u001b[38;5;241m+\u001b[39m\u001b[38;5;241m=\u001b[39m [src]\n\u001b[0;32m    136\u001b[0m     \u001b[38;5;28;01melse\u001b[39;00m:\n\u001b[1;32m--> 137\u001b[0m         \u001b[38;5;28;01mraise\u001b[39;00m MagpylibBadUserInput(wrong_obj_msg(src, allow\u001b[38;5;241m=\u001b[39m\u001b[38;5;124m\"\u001b[39m\u001b[38;5;124msources\u001b[39m\u001b[38;5;124m\"\u001b[39m))\n\u001b[0;32m    138\u001b[0m \u001b[38;5;28;01mreturn\u001b[39;00m \u001b[38;5;28mlist\u001b[39m(sources), src_list\n",
      "\u001b[1;31mMagpylibBadUserInput\u001b[0m: No sources provided\nSources must be either\n- one of type ['Cuboid', 'Cylinder', 'CylinderSegment', 'Sphere', 'Tetrahedron', 'Triangle', 'TriangularMesh', 'Circle', 'Loop', 'Polyline', 'Line', 'CustomSource', 'Dipole']\n- Collection with at least one of the above\n- 1D list of the above\n- string ['Cuboid', 'Cylinder', 'CylinderSegment', 'Sphere', 'Tetrahedron', 'Triangle', 'TriangularMesh', 'Circle', 'Loop', 'Polyline', 'Line', 'CustomSource', 'Dipole']\nreceived array([[[-35.        , -35.        ,   0.        ],\n        [-34.29292929, -35.        ,   0.        ],\n        [-33.58585859, -35.        ,   0.        ],\n        ...,\n        [ 33.58585859, -35.        ,   0.        ],\n        [ 34.29292929, -35.        ,   0.        ],\n        [ 35.        , -35.        ,   0.        ]],\n\n       [[-35.        , -34.29292929,   0.        ],\n        [-34.29292929, -34.29292929,   0.        ],\n        [-33.58585859, -34.29292929,   0.        ],\n        ...,\n        [ 33.58585859, -34.29292929,   0.        ],\n        [ 34.29292929, -34.29292929,   0.        ],\n        [ 35.        , -34.29292929,   0.        ]],\n\n       [[-35.        , -33.58585859,   0.        ],\n        [-34.29292929, -33.58585859,   0.        ],\n        [-33.58585859, -33.58585859,   0.        ],\n        ...,\n        [ 33.58585859, -33.58585859,   0.        ],\n        [ 34.29292929, -33.58585859,   0.        ],\n        [ 35.        , -33.58585859,   0.        ]],\n\n       ...,\n\n       [[-35.        ,  33.58585859,   0.        ],\n        [-34.29292929,  33.58585859,   0.        ],\n        [-33.58585859,  33.58585859,   0.        ],\n        ...,\n        [ 33.58585859,  33.58585859,   0.        ],\n        [ 34.29292929,  33.58585859,   0.        ],\n        [ 35.        ,  33.58585859,   0.        ]],\n\n       [[-35.        ,  34.29292929,   0.        ],\n        [-34.29292929,  34.29292929,   0.        ],\n        [-33.58585859,  34.29292929,   0.        ],\n        ...,\n        [ 33.58585859,  34.29292929,   0.        ],\n        [ 34.29292929,  34.29292929,   0.        ],\n        [ 35.        ,  34.29292929,   0.        ]],\n\n       [[-35.        ,  35.        ,   0.        ],\n        [-34.29292929,  35.        ,   0.        ],\n        [-33.58585859,  35.        ,   0.        ],\n        ...,\n        [ 33.58585859,  35.        ,   0.        ],\n        [ 34.29292929,  35.        ,   0.        ],\n        [ 35.        ,  35.        ,   0.        ]]]) of type 'ndarray' instead."
     ]
    },
    {
     "data": {
      "image/png": "[encoded data removed]",
      "text/plain": [
       "<Figure size 640x480 with 1 Axes>"
      ]
     },
     "metadata": {},
     "output_type": "display_data"
    }
   ],
   "source": [
    "\n",
    "import matplotlib.pyplot as plt\n",
    "fig, ax = plt.subplots()\n",
    "\n",
    "# Compute and plot field on x-y grid\n",
    "grid = np.mgrid[-35:35:100j, -35:35:100j, 0:0:1j].T[0]\n",
    "X, Y, _ = np.moveaxis(grid, 2, 0)\n",
    "\n",
    "B = halbach.getB(grid)\n",
    "Bx, By, _ = np.moveaxis(B, 2, 0)\n",
    "Bamp = np.linalg.norm(B, axis=2)\n",
    "\n",
    "pc = ax.contourf(X, Y, Bamp, levels=50, cmap=\"coolwarm\")\n",
    "ax.streamplot(X, Y, Bx, By, color=\"k\", density=1.5, linewidth=1)\n",
    "\n",
    "# Add colorbar\n",
    "fig.colorbar(pc, ax=ax, label=\"|B|\")\n",
    "\n",
    "# Figure styling\n",
    "ax.set(\n",
    "    xlabel=\"x-position\",\n",
    "    ylabel=\"z-position\",\n",
    "    aspect=1,\n",
    ")\n",
    "\n",
    "plt.show()\n",
    "\n"
   ]
  },
  {
   "cell_type": "code",
   "execution_count": null,
   "metadata": {},
   "outputs": [
    {
     "data": {
      "application/vnd.plotly.v1+json": {
       "config": {
        "plotlyServerURL": "https://plot.ly"
       },
       "data": [
        {
         "color": "#2e91e5",
         "colorscale": [
          [
           0,
           "turquoise"
          ],
          [
           0.16,
           "turquoise"
          ],
          [
           0.26,
           "white"
          ],
          [
           0.74,
           "white"
          ],
          [
           0.8400000000000001,
           "magenta"
          ],
          [
           1,
           "magenta"
          ]
         ],
         "i": [
          7,
          0,
          0,
          0,
          4,
          4,
          2,
          6,
          4,
          0,
          3,
          7,
          15,
          8,
          8,
          8,
          12,
          12,
          10,
          14,
          12,
          8,
          11,
          15,
          23,
          16,
          16,
          16,
          20,
          20,
          18,
          22,
          20,
          16,
          19,
          23,
          31,
          24,
          24,
          24,
          28,
          28,
          26,
          30,
          28,
          24,
          27,
          31,
          39,
          32,
          32,
          32,
          36,
          36,
          34,
          38,
          36,
          32,
          35,
          39,
          47,
          40,
          40,
          40,
          44,
          44,
          42,
          46,
          44,
          40,
          43,
          47,
          55,
          48,
          48,
          48,
          52,
          52,
          50,
          54,
          52,
          48,
          51,
          55,
          63,
          56,
          56,
          56,
          60,
          60,
          58,
          62,
          60,
          56,
          59,
          63
         ],
         "intensity": [
          0,
          0,
          1,
          1,
          0,
          0,
          1,
          1,
          0,
          0,
          1,
          1,
          0,
          0,
          1,
          1,
          0,
          0,
          1,
          1,
          0,
          0,
          1,
          1,
          0,
          0,
          1,
          1,
          0,
          0,
          1,
          1,
          0,
          0,
          1,
          1,
          0,
          0,
          1,
          1,
          0,
          0,
          1,
          1,
          0,
          0,
          1,
          1,
          0,
          0,
          1,
          1,
          0,
          0,
          1,
          1,
          0,
          0,
          1,
          1,
          0,
          0,
          1,
          1
         ],
         "j": [
          0,
          7,
          1,
          2,
          6,
          7,
          1,
          2,
          5,
          5,
          2,
          2,
          8,
          15,
          9,
          10,
          14,
          15,
          9,
          10,
          13,
          13,
          10,
          10,
          16,
          23,
          17,
          18,
          22,
          23,
          17,
          18,
          21,
          21,
          18,
          18,
          24,
          31,
          25,
          26,
          30,
          31,
          25,
          26,
          29,
          29,
          26,
          26,
          32,
          39,
          33,
          34,
          38,
          39,
          33,
          34,
          37,
          37,
          34,
          34,
          40,
          47,
          41,
          42,
          46,
          47,
          41,
          42,
          45,
          45,
          42,
          42,
          48,
          55,
          49,
          50,
          54,
          55,
          49,
          50,
          53,
          53,
          50,
          50,
          56,
          63,
          57,
          58,
          62,
          63,
          57,
          58,
          61,
          61,
          58,
          58
         ],
         "k": [
          3,
          4,
          2,
          3,
          5,
          6,
          5,
          5,
          0,
          1,
          7,
          6,
          11,
          12,
          10,
          11,
          13,
          14,
          13,
          13,
          8,
          9,
          15,
          14,
          19,
          20,
          18,
          19,
          21,
          22,
          21,
          21,
          16,
          17,
          23,
          22,
          27,
          28,
          26,
          27,
          29,
          30,
          29,
          29,
          24,
          25,
          31,
          30,
          35,
          36,
          34,
          35,
          37,
          38,
          37,
          37,
          32,
          33,
          39,
          38,
          43,
          44,
          42,
          43,
          45,
          46,
          45,
          45,
          40,
          41,
          47,
          46,
          51,
          52,
          50,
          51,
          53,
          54,
          53,
          53,
          48,
          49,
          55,
          54,
          59,
          60,
          58,
          59,
          61,
          62,
          61,
          61,
          56,
          57,
          63,
          62
         ],
         "legendgroup": "Collection(id=2463625375920)",
         "name": "Collection (8 sources)",
         "opacity": 1,
         "showlegend": true,
         "showscale": false,
         "type": "mesh3d",
         "x": [
          5.938717510164931,
          5.938717510164931,
          6.87841013095084,
          6.87841013095084,
          2.5185160769082433,
          2.5185160769082433,
          3.458208697694152,
          3.458208697694152,
          5.031538935183249,
          4.061692624790295,
          4.031538935183249,
          5.001385245576203,
          2.6130913087034964,
          1.6432449983105426,
          1.6130913087034966,
          2.582937619096451,
          0.5000000000000014,
          0.5000000000000012,
          -0.49999999999999895,
          -0.4999999999999988,
          0.500000000000001,
          0.5000000000000009,
          -0.4999999999999994,
          -0.49999999999999917,
          -5.001385245576203,
          -4.0315389351832485,
          -4.061692624790295,
          -5.031538935183249,
          -2.582937619096451,
          -1.6130913087034964,
          -1.6432449983105426,
          -2.613091308703497,
          -6.87841013095084,
          -6.87841013095084,
          -5.938717510164931,
          -5.938717510164931,
          -3.458208697694152,
          -3.458208697694152,
          -2.5185160769082433,
          -2.5185160769082438,
          -4.031538935183249,
          -5.001385245576203,
          -5.031538935183249,
          -4.061692624790295,
          -1.6130913087034966,
          -2.582937619096451,
          -2.6130913087034964,
          -1.6432449983105426,
          0.49999999999999895,
          0.4999999999999988,
          -0.5000000000000014,
          -0.5000000000000012,
          0.4999999999999994,
          0.49999999999999917,
          -0.500000000000001,
          -0.5000000000000009,
          4.061692624790295,
          5.031538935183249,
          5.001385245576202,
          4.0315389351832485,
          1.6432449983105424,
          2.613091308703497,
          2.58293761909645,
          1.6130913087034955
         ],
         "y": [
          -0.5000000000000001,
          0.5000000000000001,
          0.5000000000000001,
          -0.5000000000000001,
          -0.5000000000000001,
          0.5000000000000001,
          0.5000000000000001,
          -0.5000000000000001,
          4.03153893518325,
          4.061692624790296,
          5.03153893518325,
          5.001385245576205,
          1.6130913087034973,
          1.643244998310543,
          2.6130913087034973,
          2.5829376190964517,
          6.87841013095084,
          5.938717510164931,
          5.938717510164931,
          6.87841013095084,
          3.458208697694152,
          2.5185160769082433,
          2.5185160769082438,
          3.458208697694152,
          5.001385245576206,
          5.031538935183251,
          4.061692624790297,
          4.031538935183251,
          2.5829376190964517,
          2.613091308703497,
          1.6432449983105424,
          1.6130913087034973,
          -0.4999999999999992,
          0.500000000000001,
          0.5000000000000008,
          -0.49999999999999944,
          -0.49999999999999967,
          0.5000000000000006,
          0.5000000000000003,
          -0.4999999999999999,
          -5.031538935183249,
          -5.001385245576204,
          -4.031538935183249,
          -4.061692624790295,
          -2.6130913087034964,
          -2.582937619096451,
          -1.6130913087034964,
          -1.6432449983105422,
          -5.938717510164931,
          -6.87841013095084,
          -6.87841013095084,
          -5.938717510164931,
          -2.5185160769082438,
          -3.458208697694152,
          -3.458208697694152,
          -2.5185160769082433,
          -4.061692624790297,
          -4.031538935183252,
          -5.0013852455762065,
          -5.031538935183251,
          -1.6432449983105428,
          -1.6130913087034977,
          -2.582937619096452,
          -2.6130913087034973
         ],
         "z": [
          -3.159372458964034,
          -3.159372458964034,
          -2.817352315638365,
          -2.817352315638365,
          6.237553748895051,
          6.237553748895051,
          6.57957389222072,
          6.57957389222072,
          -2.9883623873011995,
          -3.230207149949175,
          -2.9883623873011995,
          -2.746517624653224,
          6.408563820557886,
          6.16671905790991,
          6.408563820557886,
          6.650408583205861,
          -2.817352315638365,
          -3.159372458964034,
          -3.159372458964034,
          -2.817352315638365,
          6.57957389222072,
          6.237553748895051,
          6.237553748895051,
          6.57957389222072,
          -2.746517624653224,
          -2.9883623873011995,
          -3.230207149949175,
          -2.9883623873011995,
          6.650408583205861,
          6.408563820557886,
          6.16671905790991,
          6.408563820557886,
          -2.817352315638365,
          -2.817352315638365,
          -3.159372458964034,
          -3.159372458964034,
          6.57957389222072,
          6.57957389222072,
          6.237553748895051,
          6.237553748895051,
          -2.9883623873011995,
          -2.746517624653224,
          -2.9883623873011995,
          -3.230207149949175,
          6.408563820557886,
          6.650408583205861,
          6.408563820557886,
          6.16671905790991,
          -3.159372458964034,
          -2.817352315638365,
          -2.817352315638365,
          -3.159372458964034,
          6.237553748895051,
          6.57957389222072,
          6.57957389222072,
          6.237553748895051,
          -3.230207149949176,
          -2.9883623873012004,
          -2.746517624653225,
          -2.9883623873012004,
          6.166719057909911,
          6.4085638205578865,
          6.650408583205862,
          6.4085638205578865
         ]
        },
        {
         "legendgroup": "Collection(id=2463625375920)",
         "line": {
          "color": "black",
          "dash": "solid",
          "width": 4.4
         },
         "mode": "lines",
         "name": "Collection (8 sources)",
         "opacity": 1,
         "showlegend": false,
         "type": "scatter3d",
         "x": [
          null,
          4.698463103929542,
          18.793852415700457,
          17.384313484523364,
          18.793852415700457,
          17.384313484523364,
          18.793852415700457,
          18.793852415700457,
          null,
          3.322315121943373,
          2.870009777838248,
          2.042378632896199,
          2.870009777838248,
          3.788101991601322,
          2.870009777838248,
          2.870009777838248,
          null,
          1.0432683836668714e-15,
          -14.999999999981151,
          -13.499999999983036,
          -14.999999999981151,
          -13.499999999983036,
          -14.999999999981151,
          -14.999999999981151,
          null,
          -3.322315121943373,
          -3.774620466048497,
          -2.8565282522854227,
          -3.774620466048497,
          -4.602251610990547,
          -3.774620466048497,
          -3.774620466048497,
          null,
          -4.698463103929542,
          9.396926207841371,
          7.98738727666428,
          9.396926207841371,
          7.98738727666428,
          9.396926207841371,
          9.396926207841371,
          null,
          -3.322315121943373,
          -3.7746204660484977,
          -4.602251610990547,
          -3.7746204660484977,
          -2.8565282522854236,
          -3.7746204660484977,
          -3.7746204660484977,
          null,
          -1.0432683836668714e-15,
          -14.999999999981155,
          -13.49999999998304,
          -14.999999999981155,
          -13.49999999998304,
          -14.999999999981155,
          -14.999999999981155,
          null,
          3.3223151219433724,
          2.870009777838245,
          3.7881019916013194,
          2.870009777838245,
          2.0423786328961953,
          2.870009777838245,
          2.870009777838245
         ],
         "y": [
          null,
          0,
          3.3306690738712847e-15,
          0.8999999999988721,
          3.3306690738712847e-15,
          -0.8999999999988662,
          3.3306690738712847e-15,
          3.3306690738712847e-15,
          null,
          3.3223151219433738,
          17.8700097778194,
          16.442378632878107,
          17.8700097778194,
          16.388101991585494,
          17.8700097778194,
          17.8700097778194,
          null,
          4.698463103929542,
          4.698463103929542,
          3.852739745223287,
          4.698463103929542,
          5.544186462635797,
          4.698463103929542,
          4.698463103929542,
          null,
          3.322315121943374,
          -11.225379533932658,
          -9.743471747698749,
          -11.225379533932658,
          -9.797748388991362,
          -11.225379533932658,
          -11.225379533932658,
          null,
          5.753767770272126e-16,
          3.4300598908777077e-16,
          0.8999999999988695,
          3.4300598908777077e-16,
          -0.8999999999988688,
          3.4300598908777077e-16,
          3.4300598908777077e-16,
          null,
          -3.322315121943373,
          11.225379533932657,
          9.79774838899136,
          11.225379533932657,
          9.743471747698747,
          11.225379533932657,
          11.225379533932657,
          null,
          -4.698463103929542,
          -4.698463103929542,
          -5.544186462635796,
          -4.698463103929542,
          -3.8527397452232868,
          -4.698463103929542,
          -4.698463103929542,
          null,
          -3.3223151219433746,
          -17.87000977781941,
          -16.388101991585497,
          -17.87000977781941,
          -16.44237863287811,
          -17.87000977781941,
          -17.87000977781941
         ],
         "z": [
          null,
          1.7101007166283433,
          6.840402866506928,
          6.3273726515190685,
          6.840402866506928,
          6.3273726515190685,
          6.840402866506928,
          6.840402866506928,
          null,
          1.7101007166283433,
          5.337772156343412,
          4.757344725989001,
          5.337772156343412,
          5.192665298754809,
          5.337772156343412,
          5.337772156343412,
          null,
          1.7101007166283433,
          1.7101007166283426,
          1.4022825876356277,
          1.7101007166283426,
          2.017918845621058,
          1.7101007166283426,
          1.7101007166283426,
          null,
          1.7101007166283433,
          -1.9175707230867272,
          -1.7724638654981242,
          -1.9175707230867272,
          -1.3371432927323157,
          -1.9175707230867272,
          -1.9175707230867272,
          null,
          1.7101007166283433,
          -3.4202014332502415,
          -2.9071712182623823,
          -3.4202014332502415,
          -2.9071712182623823,
          -3.4202014332502415,
          -3.4202014332502415,
          null,
          1.7101007166283433,
          -1.9175707230867254,
          -1.3371432927323144,
          -1.9175707230867254,
          -1.7724638654981228,
          -1.9175707230867254,
          -1.9175707230867254,
          null,
          1.7101007166283433,
          1.710100716628344,
          2.017918845621059,
          1.710100716628344,
          1.4022825876356289,
          1.710100716628344,
          1.710100716628344,
          null,
          1.7101007166283433,
          5.337772156343414,
          5.192665298754811,
          5.337772156343414,
          4.757344725989002,
          5.337772156343414,
          5.337772156343414
         ]
        }
       ],
       "layout": {
        "legend": {
         "itemsizing": "constant"
        },
        "scene": {
         "aspectmode": "manual",
         "aspectratio": {
          "x": 1,
          "y": 1,
          "z": 1
         },
         "camera": {
          "eye": {
           "x": 1,
           "y": -1.5,
           "z": 1.4
          }
         },
         "xaxis": {
          "autorange": false,
          "range": [
           -15.973083569959755,
           19.766935985679055
          ],
          "title": {
           "text": "x (m)"
          }
         },
         "yaxis": {
          "autorange": false,
          "range": [
           -17.87000977781941,
           17.8700097778194
          ],
          "title": {
           "text": "y (m)"
          }
         },
         "zaxis": {
          "autorange": false,
          "range": [
           -16.159909061191062,
           19.580110494447748
          ],
          "title": {
           "text": "z (m)"
          }
         }
        },
        "template": {
         "data": {
          "bar": [
           {
            "error_x": {
             "color": "#2a3f5f"
            },
            "error_y": {
             "color": "#2a3f5f"
            },
            "marker": {
             "line": {
              "color": "#E5ECF6",
              "width": 0.5
             },
             "pattern": {
              "fillmode": "overlay",
              "size": 10,
              "solidity": 0.2
             }
            },
            "type": "bar"
           }
          ],
          "barpolar": [
           {
            "marker": {
             "line": {
              "color": "#E5ECF6",
              "width": 0.5
             },
             "pattern": {
              "fillmode": "overlay",
              "size": 10,
              "solidity": 0.2
             }
            },
            "type": "barpolar"
           }
          ],
          "carpet": [
           {
            "aaxis": {
             "endlinecolor": "#2a3f5f",
             "gridcolor": "white",
             "linecolor": "white",
             "minorgridcolor": "white",
             "startlinecolor": "#2a3f5f"
            },
            "baxis": {
             "endlinecolor": "#2a3f5f",
             "gridcolor": "white",
             "linecolor": "white",
             "minorgridcolor": "white",
             "startlinecolor": "#2a3f5f"
            },
            "type": "carpet"
           }
          ],
          "choropleth": [
           {
            "colorbar": {
             "outlinewidth": 0,
             "ticks": ""
            },
            "type": "choropleth"
           }
          ],
          "contour": [
           {
            "colorbar": {
             "outlinewidth": 0,
             "ticks": ""
            },
            "colorscale": [
             [
              0,
              "#0d0887"
             ],
             [
              0.1111111111111111,
              "#46039f"
             ],
             [
              0.2222222222222222,
              "#7201a8"
             ],
             [
              0.3333333333333333,
              "#9c179e"
             ],
             [
              0.4444444444444444,
              "#bd3786"
             ],
             [
              0.5555555555555556,
              "#d8576b"
             ],
             [
              0.6666666666666666,
              "#ed7953"
             ],
             [
              0.7777777777777778,
              "#fb9f3a"
             ],
             [
              0.8888888888888888,
              "#fdca26"
             ],
             [
              1,
              "#f0f921"
             ]
            ],
            "type": "contour"
           }
          ],
          "contourcarpet": [
           {
            "colorbar": {
             "outlinewidth": 0,
             "ticks": ""
            },
            "type": "contourcarpet"
           }
          ],
          "heatmap": [
           {
            "colorbar": {
             "outlinewidth": 0,
             "ticks": ""
            },
            "colorscale": [
             [
              0,
              "#0d0887"
             ],
             [
              0.1111111111111111,
              "#46039f"
             ],
             [
              0.2222222222222222,
              "#7201a8"
             ],
             [
              0.3333333333333333,
              "#9c179e"
             ],
             [
              0.4444444444444444,
              "#bd3786"
             ],
             [
              0.5555555555555556,
              "#d8576b"
             ],
             [
              0.6666666666666666,
              "#ed7953"
             ],
             [
              0.7777777777777778,
              "#fb9f3a"
             ],
             [
              0.8888888888888888,
              "#fdca26"
             ],
             [
              1,
              "#f0f921"
             ]
            ],
            "type": "heatmap"
           }
          ],
          "heatmapgl": [
           {
            "colorbar": {
             "outlinewidth": 0,
             "ticks": ""
            },
            "colorscale": [
             [
              0,
              "#0d0887"
             ],
             [
              0.1111111111111111,
              "#46039f"
             ],
             [
              0.2222222222222222,
              "#7201a8"
             ],
             [
              0.3333333333333333,
              "#9c179e"
             ],
             [
              0.4444444444444444,
              "#bd3786"
             ],
             [
              0.5555555555555556,
              "#d8576b"
             ],
             [
              0.6666666666666666,
              "#ed7953"
             ],
             [
              0.7777777777777778,
              "#fb9f3a"
             ],
             [
              0.8888888888888888,
              "#fdca26"
             ],
             [
              1,
              "#f0f921"
             ]
            ],
            "type": "heatmapgl"
           }
          ],
          "histogram": [
           {
            "marker": {
             "pattern": {
              "fillmode": "overlay",
              "size": 10,
              "solidity": 0.2
             }
            },
            "type": "histogram"
           }
          ],
          "histogram2d": [
           {
            "colorbar": {
             "outlinewidth": 0,
             "ticks": ""
            },
            "colorscale": [
             [
              0,
              "#0d0887"
             ],
             [
              0.1111111111111111,
              "#46039f"
             ],
             [
              0.2222222222222222,
              "#7201a8"
             ],
             [
              0.3333333333333333,
              "#9c179e"
             ],
             [
              0.4444444444444444,
              "#bd3786"
             ],
             [
              0.5555555555555556,
              "#d8576b"
             ],
             [
              0.6666666666666666,
              "#ed7953"
             ],
             [
              0.7777777777777778,
              "#fb9f3a"
             ],
             [
              0.8888888888888888,
              "#fdca26"
             ],
             [
              1,
              "#f0f921"
             ]
            ],
            "type": "histogram2d"
           }
          ],
          "histogram2dcontour": [
           {
            "colorbar": {
             "outlinewidth": 0,
             "ticks": ""
            },
            "colorscale": [
             [
              0,
              "#0d0887"
             ],
             [
              0.1111111111111111,
              "#46039f"
             ],
             [
              0.2222222222222222,
              "#7201a8"
             ],
             [
              0.3333333333333333,
              "#9c179e"
             ],
             [
              0.4444444444444444,
              "#bd3786"
             ],
             [
              0.5555555555555556,
              "#d8576b"
             ],
             [
              0.6666666666666666,
              "#ed7953"
             ],
             [
              0.7777777777777778,
              "#fb9f3a"
             ],
             [
              0.8888888888888888,
              "#fdca26"
             ],
             [
              1,
              "#f0f921"
             ]
            ],
            "type": "histogram2dcontour"
           }
          ],
          "mesh3d": [
           {
            "colorbar": {
             "outlinewidth": 0,
             "ticks": ""
            },
            "type": "mesh3d"
           }
          ],
          "parcoords": [
           {
            "line": {
             "colorbar": {
              "outlinewidth": 0,
              "ticks": ""
             }
            },
            "type": "parcoords"
           }
          ],
          "pie": [
           {
            "automargin": true,
            "type": "pie"
           }
          ],
          "scatter": [
           {
            "fillpattern": {
             "fillmode": "overlay",
             "size": 10,
             "solidity": 0.2
            },
            "type": "scatter"
           }
          ],
          "scatter3d": [
           {
            "line": {
             "colorbar": {
              "outlinewidth": 0,
              "ticks": ""
             }
            },
            "marker": {
             "colorbar": {
              "outlinewidth": 0,
              "ticks": ""
             }
            },
            "type": "scatter3d"
           }
          ],
          "scattercarpet": [
           {
            "marker": {
             "colorbar": {
              "outlinewidth": 0,
              "ticks": ""
             }
            },
            "type": "scattercarpet"
           }
          ],
          "scattergeo": [
           {
            "marker": {
             "colorbar": {
              "outlinewidth": 0,
              "ticks": ""
             }
            },
            "type": "scattergeo"
           }
          ],
          "scattergl": [
           {
            "marker": {
             "colorbar": {
              "outlinewidth": 0,
              "ticks": ""
             }
            },
            "type": "scattergl"
           }
          ],
          "scattermapbox": [
           {
            "marker": {
             "colorbar": {
              "outlinewidth": 0,
              "ticks": ""
             }
            },
            "type": "scattermapbox"
           }
          ],
          "scatterpolar": [
           {
            "marker": {
             "colorbar": {
              "outlinewidth": 0,
              "ticks": ""
             }
            },
            "type": "scatterpolar"
           }
          ],
          "scatterpolargl": [
           {
            "marker": {
             "colorbar": {
              "outlinewidth": 0,
              "ticks": ""
             }
            },
            "type": "scatterpolargl"
           }
          ],
          "scatterternary": [
           {
            "marker": {
             "colorbar": {
              "outlinewidth": 0,
              "ticks": ""
             }
            },
            "type": "scatterternary"
           }
          ],
          "surface": [
           {
            "colorbar": {
             "outlinewidth": 0,
             "ticks": ""
            },
            "colorscale": [
             [
              0,
              "#0d0887"
             ],
             [
              0.1111111111111111,
              "#46039f"
             ],
             [
              0.2222222222222222,
              "#7201a8"
             ],
             [
              0.3333333333333333,
              "#9c179e"
             ],
             [
              0.4444444444444444,
              "#bd3786"
             ],
             [
              0.5555555555555556,
              "#d8576b"
             ],
             [
              0.6666666666666666,
              "#ed7953"
             ],
             [
              0.7777777777777778,
              "#fb9f3a"
             ],
             [
              0.8888888888888888,
              "#fdca26"
             ],
             [
              1,
              "#f0f921"
             ]
            ],
            "type": "surface"
           }
          ],
          "table": [
           {
            "cells": {
             "fill": {
              "color": "#EBF0F8"
             },
             "line": {
              "color": "white"
             }
            },
            "header": {
             "fill": {
              "color": "#C8D4E3"
             },
             "line": {
              "color": "white"
             }
            },
            "type": "table"
           }
          ]
         },
         "layout": {
          "annotationdefaults": {
           "arrowcolor": "#2a3f5f",
           "arrowhead": 0,
           "arrowwidth": 1
          },
          "autotypenumbers": "strict",
          "coloraxis": {
           "colorbar": {
            "outlinewidth": 0,
            "ticks": ""
           }
          },
          "colorscale": {
           "diverging": [
            [
             0,
             "#8e0152"
            ],
            [
             0.1,
             "#c51b7d"
            ],
            [
             0.2,
             "#de77ae"
            ],
            [
             0.3,
             "#f1b6da"
            ],
            [
             0.4,
             "#fde0ef"
            ],
            [
             0.5,
             "#f7f7f7"
            ],
            [
             0.6,
             "#e6f5d0"
            ],
            [
             0.7,
             "#b8e186"
            ],
            [
             0.8,
             "#7fbc41"
            ],
            [
             0.9,
             "#4d9221"
            ],
            [
             1,
             "#276419"
            ]
           ],
           "sequential": [
            [
             0,
             "#0d0887"
            ],
            [
             0.1111111111111111,
             "#46039f"
            ],
            [
             0.2222222222222222,
             "#7201a8"
            ],
            [
             0.3333333333333333,
             "#9c179e"
            ],
            [
             0.4444444444444444,
             "#bd3786"
            ],
            [
             0.5555555555555556,
             "#d8576b"
            ],
            [
             0.6666666666666666,
             "#ed7953"
            ],
            [
             0.7777777777777778,
             "#fb9f3a"
            ],
            [
             0.8888888888888888,
             "#fdca26"
            ],
            [
             1,
             "#f0f921"
            ]
           ],
           "sequentialminus": [
            [
             0,
             "#0d0887"
            ],
            [
             0.1111111111111111,
             "#46039f"
            ],
            [
             0.2222222222222222,
             "#7201a8"
            ],
            [
             0.3333333333333333,
             "#9c179e"
            ],
            [
             0.4444444444444444,
             "#bd3786"
            ],
            [
             0.5555555555555556,
             "#d8576b"
            ],
            [
             0.6666666666666666,
             "#ed7953"
            ],
            [
             0.7777777777777778,
             "#fb9f3a"
            ],
            [
             0.8888888888888888,
             "#fdca26"
            ],
            [
             1,
             "#f0f921"
            ]
           ]
          },
          "colorway": [
           "#636efa",
           "#EF553B",
           "#00cc96",
           "#ab63fa",
           "#FFA15A",
           "#19d3f3",
           "#FF6692",
           "#B6E880",
           "#FF97FF",
           "#FECB52"
          ],
          "font": {
           "color": "#2a3f5f"
          },
          "geo": {
           "bgcolor": "white",
           "lakecolor": "white",
           "landcolor": "#E5ECF6",
           "showlakes": true,
           "showland": true,
           "subunitcolor": "white"
          },
          "hoverlabel": {
           "align": "left"
          },
          "hovermode": "closest",
          "mapbox": {
           "style": "light"
          },
          "paper_bgcolor": "white",
          "plot_bgcolor": "#E5ECF6",
          "polar": {
           "angularaxis": {
            "gridcolor": "white",
            "linecolor": "white",
            "ticks": ""
           },
           "bgcolor": "#E5ECF6",
           "radialaxis": {
            "gridcolor": "white",
            "linecolor": "white",
            "ticks": ""
           }
          },
          "scene": {
           "xaxis": {
            "backgroundcolor": "#E5ECF6",
            "gridcolor": "white",
            "gridwidth": 2,
            "linecolor": "white",
            "showbackground": true,
            "ticks": "",
            "zerolinecolor": "white"
           },
           "yaxis": {
            "backgroundcolor": "#E5ECF6",
            "gridcolor": "white",
            "gridwidth": 2,
            "linecolor": "white",
            "showbackground": true,
            "ticks": "",
            "zerolinecolor": "white"
           },
           "zaxis": {
            "backgroundcolor": "#E5ECF6",
            "gridcolor": "white",
            "gridwidth": 2,
            "linecolor": "white",
            "showbackground": true,
            "ticks": "",
            "zerolinecolor": "white"
           }
          },
          "shapedefaults": {
           "line": {
            "color": "#2a3f5f"
           }
          },
          "ternary": {
           "aaxis": {
            "gridcolor": "white",
            "linecolor": "white",
            "ticks": ""
           },
           "baxis": {
            "gridcolor": "white",
            "linecolor": "white",
            "ticks": ""
           },
           "bgcolor": "#E5ECF6",
           "caxis": {
            "gridcolor": "white",
            "linecolor": "white",
            "ticks": ""
           }
          },
          "title": {
           "x": 0.05
          },
          "xaxis": {
           "automargin": true,
           "gridcolor": "white",
           "linecolor": "white",
           "ticks": "",
           "title": {
            "standoff": 15
           },
           "zerolinecolor": "white",
           "zerolinewidth": 2
          },
          "yaxis": {
           "automargin": true,
           "gridcolor": "white",
           "linecolor": "white",
           "ticks": "",
           "title": {
            "standoff": 15
           },
           "zerolinecolor": "white",
           "zerolinewidth": 2
          }
         }
        }
       }
      }
     },
     "metadata": {},
     "output_type": "display_data"
    }
   ],
   "source": [
    "\n",
    "N = 8\n",
    "angles = np.linspace(0, 360, N, endpoint=False)\n",
    "\n",
    "halbach = magpy.Collection()\n",
    "\n",
    "\n",
    "for a in angles:\n",
    "    cube = magpy.magnet.Cuboid(\n",
    "        dimension=(1,1,10),\n",
    "        polarization=(1,0,0),\n",
    "        position=(5,0,0),  style_magnetization = mystyle\n",
    "    )\n",
    "    cube.rotate_from_angax(a, 'z')\n",
    "    cube.rotate_from_angax(-20, 'y',anchor = 0)\n",
    "    cube.rotate_from_angax(a, 'z', anchor=0)\n",
    "   \n",
    " \n",
    "    halbach.add(cube)\n",
    "\n",
    "halbach.show(backend='plotly')"
   ]
  },
  {
   "cell_type": "code",
   "execution_count": 9,
   "metadata": {},
   "outputs": [
    {
     "ename": "MagpylibBadUserInput",
     "evalue": "No sources provided\nSources must be either\n- one of type ['Cuboid', 'Cylinder', 'CylinderSegment', 'Sphere', 'Tetrahedron', 'Triangle', 'TriangularMesh', 'Circle', 'Loop', 'Polyline', 'Line', 'CustomSource', 'Dipole']\n- Collection with at least one of the above\n- 1D list of the above\n- string ['Cuboid', 'Cylinder', 'CylinderSegment', 'Sphere', 'Tetrahedron', 'Triangle', 'TriangularMesh', 'Circle', 'Loop', 'Polyline', 'Line', 'CustomSource', 'Dipole']\nreceived [0, 0, 0.0] of type 'list' instead.",
     "output_type": "error",
     "traceback": [
      "\u001b[1;31m---------------------------------------------------------------------------\u001b[0m",
      "\u001b[1;31mMagpylibBadUserInput\u001b[0m                      Traceback (most recent call last)",
      "Cell \u001b[1;32mIn[9], line 7\u001b[0m\n\u001b[0;32m      5\u001b[0m x_p \u001b[38;5;241m=\u001b[39m []\n\u001b[0;32m      6\u001b[0m \u001b[38;5;28;01mfor\u001b[39;00m i \u001b[38;5;129;01min\u001b[39;00m x:\n\u001b[1;32m----> 7\u001b[0m     h \u001b[38;5;241m=\u001b[39m \u001b[43mhalbach\u001b[49m\u001b[38;5;241;43m.\u001b[39;49m\u001b[43mgetB\u001b[49m\u001b[43m(\u001b[49m\u001b[43m[\u001b[49m\u001b[38;5;241;43m0\u001b[39;49m\u001b[43m,\u001b[49m\u001b[38;5;241;43m0\u001b[39;49m\u001b[43m,\u001b[49m\u001b[43mi\u001b[49m\u001b[43m]\u001b[49m\u001b[43m)\u001b[49m\n\u001b[0;32m      8\u001b[0m     \u001b[38;5;66;03m#if h[0]  > 0:\u001b[39;00m\n\u001b[0;32m      9\u001b[0m     x_p\u001b[38;5;241m.\u001b[39mappend(i)\n",
      "File \u001b[1;32mc:\\Users\\benfo\\AppData\\Local\\Programs\\Python\\Python312\\Lib\\site-packages\\magpylib\\_src\\obj_classes\\class_Collection.py:614\u001b[0m, in \u001b[0;36mBaseCollection.getB\u001b[1;34m(self, squeeze, pixel_agg, output, in_out, *inputs)\u001b[0m\n\u001b[0;32m    540\u001b[0m \u001b[38;5;250m\u001b[39m\u001b[38;5;124;03m\"\"\"Compute B-field for given sources and observers.\u001b[39;00m\n\u001b[0;32m    541\u001b[0m \n\u001b[0;32m    542\u001b[0m \u001b[38;5;124;03mSI units are used for all inputs and outputs.\u001b[39;00m\n\u001b[1;32m   (...)\u001b[0m\n\u001b[0;32m    610\u001b[0m \u001b[38;5;124;03m  [0.         0.         0.08333333]]]\u001b[39;00m\n\u001b[0;32m    611\u001b[0m \u001b[38;5;124;03m\"\"\"\u001b[39;00m\n\u001b[0;32m    613\u001b[0m sources, sensors \u001b[38;5;241m=\u001b[39m \u001b[38;5;28mself\u001b[39m\u001b[38;5;241m.\u001b[39m_validate_getBH_inputs(\u001b[38;5;241m*\u001b[39minputs)\n\u001b[1;32m--> 614\u001b[0m \u001b[38;5;28;01mreturn\u001b[39;00m \u001b[43mgetBH_level2\u001b[49m\u001b[43m(\u001b[49m\n\u001b[0;32m    615\u001b[0m \u001b[43m    \u001b[49m\u001b[43msources\u001b[49m\u001b[43m,\u001b[49m\n\u001b[0;32m    616\u001b[0m \u001b[43m    \u001b[49m\u001b[43msensors\u001b[49m\u001b[43m,\u001b[49m\n\u001b[0;32m    617\u001b[0m \u001b[43m    \u001b[49m\u001b[43mfield\u001b[49m\u001b[38;5;241;43m=\u001b[39;49m\u001b[38;5;124;43m\"\u001b[39;49m\u001b[38;5;124;43mB\u001b[39;49m\u001b[38;5;124;43m\"\u001b[39;49m\u001b[43m,\u001b[49m\n\u001b[0;32m    618\u001b[0m \u001b[43m    \u001b[49m\u001b[43msumup\u001b[49m\u001b[38;5;241;43m=\u001b[39;49m\u001b[38;5;28;43;01mFalse\u001b[39;49;00m\u001b[43m,\u001b[49m\n\u001b[0;32m    619\u001b[0m \u001b[43m    \u001b[49m\u001b[43msqueeze\u001b[49m\u001b[38;5;241;43m=\u001b[39;49m\u001b[43msqueeze\u001b[49m\u001b[43m,\u001b[49m\n\u001b[0;32m    620\u001b[0m \u001b[43m    \u001b[49m\u001b[43mpixel_agg\u001b[49m\u001b[38;5;241;43m=\u001b[39;49m\u001b[43mpixel_agg\u001b[49m\u001b[43m,\u001b[49m\n\u001b[0;32m    621\u001b[0m \u001b[43m    \u001b[49m\u001b[43moutput\u001b[49m\u001b[38;5;241;43m=\u001b[39;49m\u001b[43moutput\u001b[49m\u001b[43m,\u001b[49m\n\u001b[0;32m    622\u001b[0m \u001b[43m    \u001b[49m\u001b[43min_out\u001b[49m\u001b[38;5;241;43m=\u001b[39;49m\u001b[43min_out\u001b[49m\u001b[43m,\u001b[49m\n\u001b[0;32m    623\u001b[0m \u001b[43m\u001b[49m\u001b[43m)\u001b[49m\n",
      "File \u001b[1;32mc:\\Users\\benfo\\AppData\\Local\\Programs\\Python\\Python312\\Lib\\site-packages\\magpylib\\_src\\fields\\field_wrap_BH.py:207\u001b[0m, in \u001b[0;36mgetBH_level2\u001b[1;34m(sources, observers, field, sumup, squeeze, pixel_agg, output, in_out, **kwargs)\u001b[0m\n\u001b[0;32m    198\u001b[0m     \u001b[38;5;28;01mraise\u001b[39;00m MagpylibBadUserInput(\n\u001b[0;32m    199\u001b[0m         \u001b[38;5;124mf\u001b[39m\u001b[38;5;124m\"\u001b[39m\u001b[38;5;124mKeyword arguments \u001b[39m\u001b[38;5;132;01m{\u001b[39;00m\u001b[38;5;28mtuple\u001b[39m(kwargs\u001b[38;5;241m.\u001b[39mkeys())\u001b[38;5;132;01m}\u001b[39;00m\u001b[38;5;124m are only allowed when the source \u001b[39m\u001b[38;5;124m\"\u001b[39m\n\u001b[0;32m    200\u001b[0m         \u001b[38;5;124m\"\u001b[39m\u001b[38;5;124mis defined by a string (e.g. sources=\u001b[39m\u001b[38;5;124m'\u001b[39m\u001b[38;5;124mCylinder\u001b[39m\u001b[38;5;124m'\u001b[39m\u001b[38;5;124m)\u001b[39m\u001b[38;5;124m\"\u001b[39m\n\u001b[0;32m    201\u001b[0m     )\n\u001b[0;32m    203\u001b[0m \u001b[38;5;66;03m# format sources input:\u001b[39;00m\n\u001b[0;32m    204\u001b[0m \u001b[38;5;66;03m#   input: allow only one bare src object or a 1D list/tuple of src and col\u001b[39;00m\n\u001b[0;32m    205\u001b[0m \u001b[38;5;66;03m#   out: sources = ordered list of sources\u001b[39;00m\n\u001b[0;32m    206\u001b[0m \u001b[38;5;66;03m#   out: src_list = ordered list of sources with flattened collections\u001b[39;00m\n\u001b[1;32m--> 207\u001b[0m sources, src_list \u001b[38;5;241m=\u001b[39m \u001b[43mformat_src_inputs\u001b[49m\u001b[43m(\u001b[49m\u001b[43msources\u001b[49m\u001b[43m)\u001b[49m\n\u001b[0;32m    209\u001b[0m \u001b[38;5;66;03m# test if all source dimensions and excitations are initialized\u001b[39;00m\n\u001b[0;32m    210\u001b[0m check_dimensions(src_list)\n",
      "File \u001b[1;32mc:\\Users\\benfo\\AppData\\Local\\Programs\\Python\\Python312\\Lib\\site-packages\\magpylib\\_src\\utility.py:137\u001b[0m, in \u001b[0;36mformat_src_inputs\u001b[1;34m(sources)\u001b[0m\n\u001b[0;32m    135\u001b[0m         src_list \u001b[38;5;241m+\u001b[39m\u001b[38;5;241m=\u001b[39m [src]\n\u001b[0;32m    136\u001b[0m     \u001b[38;5;28;01melse\u001b[39;00m:\n\u001b[1;32m--> 137\u001b[0m         \u001b[38;5;28;01mraise\u001b[39;00m MagpylibBadUserInput(wrong_obj_msg(src, allow\u001b[38;5;241m=\u001b[39m\u001b[38;5;124m\"\u001b[39m\u001b[38;5;124msources\u001b[39m\u001b[38;5;124m\"\u001b[39m))\n\u001b[0;32m    138\u001b[0m \u001b[38;5;28;01mreturn\u001b[39;00m \u001b[38;5;28mlist\u001b[39m(sources), src_list\n",
      "\u001b[1;31mMagpylibBadUserInput\u001b[0m: No sources provided\nSources must be either\n- one of type ['Cuboid', 'Cylinder', 'CylinderSegment', 'Sphere', 'Tetrahedron', 'Triangle', 'TriangularMesh', 'Circle', 'Loop', 'Polyline', 'Line', 'CustomSource', 'Dipole']\n- Collection with at least one of the above\n- 1D list of the above\n- string ['Cuboid', 'Cylinder', 'CylinderSegment', 'Sphere', 'Tetrahedron', 'Triangle', 'TriangularMesh', 'Circle', 'Loop', 'Polyline', 'Line', 'CustomSource', 'Dipole']\nreceived [0, 0, 0.0] of type 'list' instead."
     ]
    }
   ],
   "source": [
    "x = np.linspace(0,200,100)\n",
    "hal_fieldx = []\n",
    "hal_fieldy = []\n",
    "hal_fieldz = []\n",
    "x_p = []\n",
    "for i in x:\n",
    "    h = halbach.getB([0,0,i])\n",
    "    #if h[0]  > 0:\n",
    "    x_p.append(i)\n",
    "    hal_fieldx.append(h[0])\n",
    "    hal_fieldy.append(h[1])\n",
    "    hal_fieldz.append(h[2])\n",
    "fig, ax = plt.subplots(1,3,figsize=(15,5))\n",
    "ax[0].plot(x_p,np.array(hal_fieldx)*1e3)\n",
    "ax[0].set_title('Bx')\n",
    "ax[0].set_xlabel('z(mm)')\n",
    "ax[0].set_ylabel('Bx(mT)')\n",
    "ax[1].plot(x_p,np.array(hal_fieldy)*1e3)\n",
    "ax[1].set_title('By')\n",
    "ax[1].set_xlabel('z(mm)')\n",
    "ax[1].set_ylabel('By(mT)')\n",
    "ax[2].plot(x_p,np.array(hal_fieldz)*1e3)\n",
    "ax[2].set_title('Bz')\n",
    "ax[2].set_xlabel('z(mm)')\n",
    "ax[2].set_ylabel('$B_z$(mT)')\n",
    "plt.tight_layout()\n",
    "plt.show()"
   ]
  },
  {
   "cell_type": "code",
   "execution_count": 49,
   "metadata": {},
   "outputs": [
    {
     "data": {
      "application/vnd.plotly.v1+json": {
       "config": {
        "plotlyServerURL": "https://plot.ly"
       },
       "data": [
        {
         "color": "#2e91e5",
         "colorscale": [
          [
           0,
           "#00b050"
          ],
          [
           0.16,
           "#00b050"
          ],
          [
           0.26,
           "#dddddd"
          ],
          [
           0.74,
           "#dddddd"
          ],
          [
           0.8400000000000001,
           "#e71111"
          ],
          [
           1,
           "#e71111"
          ]
         ],
         "i": [
          7,
          0,
          0,
          0,
          4,
          4,
          2,
          6,
          4,
          0,
          3,
          7,
          15,
          8,
          8,
          8,
          12,
          12,
          10,
          14,
          12,
          8,
          11,
          15,
          23,
          16,
          16,
          16,
          20,
          20,
          18,
          22,
          20,
          16,
          19,
          23,
          31,
          24,
          24,
          24,
          28,
          28,
          26,
          30,
          28,
          24,
          27,
          31,
          39,
          32,
          32,
          32,
          36,
          36,
          34,
          38,
          36,
          32,
          35,
          39
         ],
         "intensity": [
          1,
          0,
          0,
          1,
          1,
          0,
          0,
          1,
          1,
          0,
          0,
          1,
          1,
          0,
          0,
          1,
          1,
          0,
          0,
          1,
          1,
          0,
          0,
          1,
          1,
          0,
          0,
          1,
          1,
          0,
          0,
          1,
          1,
          0,
          0,
          1,
          1,
          0,
          0,
          1
         ],
         "j": [
          0,
          7,
          1,
          2,
          6,
          7,
          1,
          2,
          5,
          5,
          2,
          2,
          8,
          15,
          9,
          10,
          14,
          15,
          9,
          10,
          13,
          13,
          10,
          10,
          16,
          23,
          17,
          18,
          22,
          23,
          17,
          18,
          21,
          21,
          18,
          18,
          24,
          31,
          25,
          26,
          30,
          31,
          25,
          26,
          29,
          29,
          26,
          26,
          32,
          39,
          33,
          34,
          38,
          39,
          33,
          34,
          37,
          37,
          34,
          34
         ],
         "k": [
          3,
          4,
          2,
          3,
          5,
          6,
          5,
          5,
          0,
          1,
          7,
          6,
          11,
          12,
          10,
          11,
          13,
          14,
          13,
          13,
          8,
          9,
          15,
          14,
          19,
          20,
          18,
          19,
          21,
          22,
          21,
          21,
          16,
          17,
          23,
          22,
          27,
          28,
          26,
          27,
          29,
          30,
          29,
          29,
          24,
          25,
          31,
          30,
          35,
          36,
          34,
          35,
          37,
          38,
          37,
          37,
          32,
          33,
          39,
          38
         ],
         "legendgroup": "Collection(id=2465305278752)",
         "name": "Collection (5 sources)",
         "opacity": 1,
         "showlegend": true,
         "showscale": false,
         "type": "mesh3d",
         "x": [
          59.832327089627455,
          59.832327089627455,
          65.31359983548306,
          65.31359983548306,
          7.770036775925025,
          7.770036775925025,
          13.25130952178063,
          13.25130952178063,
          15.600029998705008,
          12.07331848495017,
          7.219216518700485,
          10.745928032455323,
          15.600029998705008,
          12.07331848495017,
          7.219216518700485,
          10.745928032455323,
          -59.58446901473375,
          -54.37146885219674,
          -52.67766242292313,
          -57.890662585460134,
          -7.522178701031315,
          -2.309178538494308,
          -0.6153721092206936,
          -5.828372271757701,
          -29.846775956944818,
          -35.55311505471574,
          -33.69901308846605,
          -27.99267399069513,
          -29.846775956944825,
          -35.55311505471575,
          -33.69901308846606,
          -27.99267399069514,
          -13.26395317540688,
          -10.042141891600288,
          -14.476584693801708,
          -17.6983959776083,
          38.79833713829555,
          42.020148422102146,
          37.58570561990072,
          34.363894336094134
         ],
         "y": [
          -2.000000000000001,
          4.000000000000001,
          4.000000000000001,
          -2.000000000000001,
          -2.000000000000001,
          4.000000000000001,
          4.000000000000001,
          -2.000000000000001,
          61.67309640450759,
          57.23865360230617,
          60.46046488611277,
          64.89490768831419,
          9.610806090805163,
          5.176363288603746,
          8.39817457241034,
          12.832617374611758,
          24.62851166308461,
          26.482613629334292,
          20.776274531563367,
          18.922172565313684,
          24.62851166308461,
          26.482613629334292,
          20.776274531563367,
          18.922172565313684,
          -51.702364145167394,
          -50.00855771589377,
          -44.79555755335677,
          -46.48936398263039,
          0.35992616853504344,
          2.0537325978086614,
          7.266732760345665,
          5.572926331072047,
          -33.54283691742894,
          -38.39693888367863,
          -41.92365039743346,
          -37.069548431183776,
          -33.54283691742894,
          -38.39693888367863,
          -41.92365039743346,
          -37.069548431183776
         ],
         "z": [
          -43.41765349532186,
          -43.41765349532186,
          -40.977233636867055,
          -40.977233636867055,
          73.51616508293108,
          73.51616508293108,
          75.95658494138588,
          75.95658494138588,
          -42.59809019330148,
          -44.572431332201525,
          -43.13798853000011,
          -41.16364739110006,
          74.33572838495147,
          72.36138724605141,
          73.79583004825284,
          75.77017118715287,
          -43.5280070201499,
          -45.84898422902944,
          -46.603115438702076,
          -44.282138229822536,
          73.40581155810305,
          71.08483434922351,
          70.33070313955088,
          72.65168034843042,
          -47.03734620869094,
          -47.791477418363584,
          -50.11245462724312,
          -49.358323417570475,
          69.89647236956202,
          69.14234115988937,
          66.82136395100984,
          67.57549516068248,
          -64.15122939010662,
          -65.58567219230804,
          -63.61133105340799,
          -62.17688825120657,
          52.782589188146325,
          51.34814638594491,
          53.32248752484495,
          54.75693032704637
         ]
        }
       ],
       "layout": {
        "legend": {
         "itemsizing": "constant"
        },
        "scene": {
         "aspectmode": "manual",
         "aspectratio": {
          "x": 1,
          "y": 1,
          "z": 1
         },
         "camera": {
          "eye": {
           "x": 1,
           "y": -1.5,
           "z": 1.4
          }
         },
         "xaxis": {
          "autorange": false,
          "range": [
           -67.9065631564723,
           73.6356939772216
          ],
          "title": {
           "text": "x (m)"
          }
         },
         "yaxis": {
          "autorange": false,
          "range": [
           -64.17485679527356,
           77.36740033842035
          ],
          "title": {
           "text": "y (m)"
          }
         },
         "zaxis": {
          "autorange": false,
          "range": [
           -65.58567219230804,
           75.95658494138587
          ],
          "title": {
           "text": "z (m)"
          }
         }
        },
        "template": {
         "data": {
          "bar": [
           {
            "error_x": {
             "color": "#2a3f5f"
            },
            "error_y": {
             "color": "#2a3f5f"
            },
            "marker": {
             "line": {
              "color": "#E5ECF6",
              "width": 0.5
             },
             "pattern": {
              "fillmode": "overlay",
              "size": 10,
              "solidity": 0.2
             }
            },
            "type": "bar"
           }
          ],
          "barpolar": [
           {
            "marker": {
             "line": {
              "color": "#E5ECF6",
              "width": 0.5
             },
             "pattern": {
              "fillmode": "overlay",
              "size": 10,
              "solidity": 0.2
             }
            },
            "type": "barpolar"
           }
          ],
          "carpet": [
           {
            "aaxis": {
             "endlinecolor": "#2a3f5f",
             "gridcolor": "white",
             "linecolor": "white",
             "minorgridcolor": "white",
             "startlinecolor": "#2a3f5f"
            },
            "baxis": {
             "endlinecolor": "#2a3f5f",
             "gridcolor": "white",
             "linecolor": "white",
             "minorgridcolor": "white",
             "startlinecolor": "#2a3f5f"
            },
            "type": "carpet"
           }
          ],
          "choropleth": [
           {
            "colorbar": {
             "outlinewidth": 0,
             "ticks": ""
            },
            "type": "choropleth"
           }
          ],
          "contour": [
           {
            "colorbar": {
             "outlinewidth": 0,
             "ticks": ""
            },
            "colorscale": [
             [
              0,
              "#0d0887"
             ],
             [
              0.1111111111111111,
              "#46039f"
             ],
             [
              0.2222222222222222,
              "#7201a8"
             ],
             [
              0.3333333333333333,
              "#9c179e"
             ],
             [
              0.4444444444444444,
              "#bd3786"
             ],
             [
              0.5555555555555556,
              "#d8576b"
             ],
             [
              0.6666666666666666,
              "#ed7953"
             ],
             [
              0.7777777777777778,
              "#fb9f3a"
             ],
             [
              0.8888888888888888,
              "#fdca26"
             ],
             [
              1,
              "#f0f921"
             ]
            ],
            "type": "contour"
           }
          ],
          "contourcarpet": [
           {
            "colorbar": {
             "outlinewidth": 0,
             "ticks": ""
            },
            "type": "contourcarpet"
           }
          ],
          "heatmap": [
           {
            "colorbar": {
             "outlinewidth": 0,
             "ticks": ""
            },
            "colorscale": [
             [
              0,
              "#0d0887"
             ],
             [
              0.1111111111111111,
              "#46039f"
             ],
             [
              0.2222222222222222,
              "#7201a8"
             ],
             [
              0.3333333333333333,
              "#9c179e"
             ],
             [
              0.4444444444444444,
              "#bd3786"
             ],
             [
              0.5555555555555556,
              "#d8576b"
             ],
             [
              0.6666666666666666,
              "#ed7953"
             ],
             [
              0.7777777777777778,
              "#fb9f3a"
             ],
             [
              0.8888888888888888,
              "#fdca26"
             ],
             [
              1,
              "#f0f921"
             ]
            ],
            "type": "heatmap"
           }
          ],
          "heatmapgl": [
           {
            "colorbar": {
             "outlinewidth": 0,
             "ticks": ""
            },
            "colorscale": [
             [
              0,
              "#0d0887"
             ],
             [
              0.1111111111111111,
              "#46039f"
             ],
             [
              0.2222222222222222,
              "#7201a8"
             ],
             [
              0.3333333333333333,
              "#9c179e"
             ],
             [
              0.4444444444444444,
              "#bd3786"
             ],
             [
              0.5555555555555556,
              "#d8576b"
             ],
             [
              0.6666666666666666,
              "#ed7953"
             ],
             [
              0.7777777777777778,
              "#fb9f3a"
             ],
             [
              0.8888888888888888,
              "#fdca26"
             ],
             [
              1,
              "#f0f921"
             ]
            ],
            "type": "heatmapgl"
           }
          ],
          "histogram": [
           {
            "marker": {
             "pattern": {
              "fillmode": "overlay",
              "size": 10,
              "solidity": 0.2
             }
            },
            "type": "histogram"
           }
          ],
          "histogram2d": [
           {
            "colorbar": {
             "outlinewidth": 0,
             "ticks": ""
            },
            "colorscale": [
             [
              0,
              "#0d0887"
             ],
             [
              0.1111111111111111,
              "#46039f"
             ],
             [
              0.2222222222222222,
              "#7201a8"
             ],
             [
              0.3333333333333333,
              "#9c179e"
             ],
             [
              0.4444444444444444,
              "#bd3786"
             ],
             [
              0.5555555555555556,
              "#d8576b"
             ],
             [
              0.6666666666666666,
              "#ed7953"
             ],
             [
              0.7777777777777778,
              "#fb9f3a"
             ],
             [
              0.8888888888888888,
              "#fdca26"
             ],
             [
              1,
              "#f0f921"
             ]
            ],
            "type": "histogram2d"
           }
          ],
          "histogram2dcontour": [
           {
            "colorbar": {
             "outlinewidth": 0,
             "ticks": ""
            },
            "colorscale": [
             [
              0,
              "#0d0887"
             ],
             [
              0.1111111111111111,
              "#46039f"
             ],
             [
              0.2222222222222222,
              "#7201a8"
             ],
             [
              0.3333333333333333,
              "#9c179e"
             ],
             [
              0.4444444444444444,
              "#bd3786"
             ],
             [
              0.5555555555555556,
              "#d8576b"
             ],
             [
              0.6666666666666666,
              "#ed7953"
             ],
             [
              0.7777777777777778,
              "#fb9f3a"
             ],
             [
              0.8888888888888888,
              "#fdca26"
             ],
             [
              1,
              "#f0f921"
             ]
            ],
            "type": "histogram2dcontour"
           }
          ],
          "mesh3d": [
           {
            "colorbar": {
             "outlinewidth": 0,
             "ticks": ""
            },
            "type": "mesh3d"
           }
          ],
          "parcoords": [
           {
            "line": {
             "colorbar": {
              "outlinewidth": 0,
              "ticks": ""
             }
            },
            "type": "parcoords"
           }
          ],
          "pie": [
           {
            "automargin": true,
            "type": "pie"
           }
          ],
          "scatter": [
           {
            "fillpattern": {
             "fillmode": "overlay",
             "size": 10,
             "solidity": 0.2
            },
            "type": "scatter"
           }
          ],
          "scatter3d": [
           {
            "line": {
             "colorbar": {
              "outlinewidth": 0,
              "ticks": ""
             }
            },
            "marker": {
             "colorbar": {
              "outlinewidth": 0,
              "ticks": ""
             }
            },
            "type": "scatter3d"
           }
          ],
          "scattercarpet": [
           {
            "marker": {
             "colorbar": {
              "outlinewidth": 0,
              "ticks": ""
             }
            },
            "type": "scattercarpet"
           }
          ],
          "scattergeo": [
           {
            "marker": {
             "colorbar": {
              "outlinewidth": 0,
              "ticks": ""
             }
            },
            "type": "scattergeo"
           }
          ],
          "scattergl": [
           {
            "marker": {
             "colorbar": {
              "outlinewidth": 0,
              "ticks": ""
             }
            },
            "type": "scattergl"
           }
          ],
          "scattermapbox": [
           {
            "marker": {
             "colorbar": {
              "outlinewidth": 0,
              "ticks": ""
             }
            },
            "type": "scattermapbox"
           }
          ],
          "scatterpolar": [
           {
            "marker": {
             "colorbar": {
              "outlinewidth": 0,
              "ticks": ""
             }
            },
            "type": "scatterpolar"
           }
          ],
          "scatterpolargl": [
           {
            "marker": {
             "colorbar": {
              "outlinewidth": 0,
              "ticks": ""
             }
            },
            "type": "scatterpolargl"
           }
          ],
          "scatterternary": [
           {
            "marker": {
             "colorbar": {
              "outlinewidth": 0,
              "ticks": ""
             }
            },
            "type": "scatterternary"
           }
          ],
          "surface": [
           {
            "colorbar": {
             "outlinewidth": 0,
             "ticks": ""
            },
            "colorscale": [
             [
              0,
              "#0d0887"
             ],
             [
              0.1111111111111111,
              "#46039f"
             ],
             [
              0.2222222222222222,
              "#7201a8"
             ],
             [
              0.3333333333333333,
              "#9c179e"
             ],
             [
              0.4444444444444444,
              "#bd3786"
             ],
             [
              0.5555555555555556,
              "#d8576b"
             ],
             [
              0.6666666666666666,
              "#ed7953"
             ],
             [
              0.7777777777777778,
              "#fb9f3a"
             ],
             [
              0.8888888888888888,
              "#fdca26"
             ],
             [
              1,
              "#f0f921"
             ]
            ],
            "type": "surface"
           }
          ],
          "table": [
           {
            "cells": {
             "fill": {
              "color": "#EBF0F8"
             },
             "line": {
              "color": "white"
             }
            },
            "header": {
             "fill": {
              "color": "#C8D4E3"
             },
             "line": {
              "color": "white"
             }
            },
            "type": "table"
           }
          ]
         },
         "layout": {
          "annotationdefaults": {
           "arrowcolor": "#2a3f5f",
           "arrowhead": 0,
           "arrowwidth": 1
          },
          "autotypenumbers": "strict",
          "coloraxis": {
           "colorbar": {
            "outlinewidth": 0,
            "ticks": ""
           }
          },
          "colorscale": {
           "diverging": [
            [
             0,
             "#8e0152"
            ],
            [
             0.1,
             "#c51b7d"
            ],
            [
             0.2,
             "#de77ae"
            ],
            [
             0.3,
             "#f1b6da"
            ],
            [
             0.4,
             "#fde0ef"
            ],
            [
             0.5,
             "#f7f7f7"
            ],
            [
             0.6,
             "#e6f5d0"
            ],
            [
             0.7,
             "#b8e186"
            ],
            [
             0.8,
             "#7fbc41"
            ],
            [
             0.9,
             "#4d9221"
            ],
            [
             1,
             "#276419"
            ]
           ],
           "sequential": [
            [
             0,
             "#0d0887"
            ],
            [
             0.1111111111111111,
             "#46039f"
            ],
            [
             0.2222222222222222,
             "#7201a8"
            ],
            [
             0.3333333333333333,
             "#9c179e"
            ],
            [
             0.4444444444444444,
             "#bd3786"
            ],
            [
             0.5555555555555556,
             "#d8576b"
            ],
            [
             0.6666666666666666,
             "#ed7953"
            ],
            [
             0.7777777777777778,
             "#fb9f3a"
            ],
            [
             0.8888888888888888,
             "#fdca26"
            ],
            [
             1,
             "#f0f921"
            ]
           ],
           "sequentialminus": [
            [
             0,
             "#0d0887"
            ],
            [
             0.1111111111111111,
             "#46039f"
            ],
            [
             0.2222222222222222,
             "#7201a8"
            ],
            [
             0.3333333333333333,
             "#9c179e"
            ],
            [
             0.4444444444444444,
             "#bd3786"
            ],
            [
             0.5555555555555556,
             "#d8576b"
            ],
            [
             0.6666666666666666,
             "#ed7953"
            ],
            [
             0.7777777777777778,
             "#fb9f3a"
            ],
            [
             0.8888888888888888,
             "#fdca26"
            ],
            [
             1,
             "#f0f921"
            ]
           ]
          },
          "colorway": [
           "#636efa",
           "#EF553B",
           "#00cc96",
           "#ab63fa",
           "#FFA15A",
           "#19d3f3",
           "#FF6692",
           "#B6E880",
           "#FF97FF",
           "#FECB52"
          ],
          "font": {
           "color": "#2a3f5f"
          },
          "geo": {
           "bgcolor": "white",
           "lakecolor": "white",
           "landcolor": "#E5ECF6",
           "showlakes": true,
           "showland": true,
           "subunitcolor": "white"
          },
          "hoverlabel": {
           "align": "left"
          },
          "hovermode": "closest",
          "mapbox": {
           "style": "light"
          },
          "paper_bgcolor": "white",
          "plot_bgcolor": "#E5ECF6",
          "polar": {
           "angularaxis": {
            "gridcolor": "white",
            "linecolor": "white",
            "ticks": ""
           },
           "bgcolor": "#E5ECF6",
           "radialaxis": {
            "gridcolor": "white",
            "linecolor": "white",
            "ticks": ""
           }
          },
          "scene": {
           "xaxis": {
            "backgroundcolor": "#E5ECF6",
            "gridcolor": "white",
            "gridwidth": 2,
            "linecolor": "white",
            "showbackground": true,
            "ticks": "",
            "zerolinecolor": "white"
           },
           "yaxis": {
            "backgroundcolor": "#E5ECF6",
            "gridcolor": "white",
            "gridwidth": 2,
            "linecolor": "white",
            "showbackground": true,
            "ticks": "",
            "zerolinecolor": "white"
           },
           "zaxis": {
            "backgroundcolor": "#E5ECF6",
            "gridcolor": "white",
            "gridwidth": 2,
            "linecolor": "white",
            "showbackground": true,
            "ticks": "",
            "zerolinecolor": "white"
           }
          },
          "shapedefaults": {
           "line": {
            "color": "#2a3f5f"
           }
          },
          "ternary": {
           "aaxis": {
            "gridcolor": "white",
            "linecolor": "white",
            "ticks": ""
           },
           "baxis": {
            "gridcolor": "white",
            "linecolor": "white",
            "ticks": ""
           },
           "bgcolor": "#E5ECF6",
           "caxis": {
            "gridcolor": "white",
            "linecolor": "white",
            "ticks": ""
           }
          },
          "title": {
           "x": 0.05
          },
          "xaxis": {
           "automargin": true,
           "gridcolor": "white",
           "linecolor": "white",
           "ticks": "",
           "title": {
            "standoff": 15
           },
           "zerolinecolor": "white",
           "zerolinewidth": 2
          },
          "yaxis": {
           "automargin": true,
           "gridcolor": "white",
           "linecolor": "white",
           "ticks": "",
           "title": {
            "standoff": 15
           },
           "zerolinecolor": "white",
           "zerolinewidth": 2
          }
         }
        }
       }
      }
     },
     "metadata": {},
     "output_type": "display_data"
    }
   ],
   "source": [
    "zeeman_prof = magpy.Collection()\n",
    "n = 5\n",
    "l =[-24,24,24,-24,24]\n",
    "ll = ['y','x','y','x','y']\n",
    "j = 0\n",
    "angles = np.linspace(0, 360, n, endpoint=False) \n",
    "for i in angles:\n",
    "    cube1= magpy.magnet.Cuboid(\n",
    "    dimension=(6,6,128),\n",
    "    polarization=(0,-1.08,0),\n",
    "    position=(40,1,0))\n",
    "    cube1.rotate_from_angax(i, 'z', anchor=0)\n",
    "    cube1.rotate_from_angax(i, 'z')\n",
    "    cube1.rotate_from_angax(l[j], ll[j],anchor = 0)\n",
    "    zeeman_prof.add(cube1)\n",
    "    j = j+1\n",
    "magpy.show(zeeman_prof, backend='plotly')  "
   ]
  },
  {
   "cell_type": "code",
   "execution_count": 116,
   "metadata": {},
   "outputs": [
    {
     "data": {
      "application/vnd.plotly.v1+json": {
       "config": {
        "plotlyServerURL": "https://plot.ly"
       },
       "data": [
        {
         "color": "#2e91e5",
         "colorscale": [
          [
           0,
           "turquoise"
          ],
          [
           0.16,
           "turquoise"
          ],
          [
           0.26,
           "white"
          ],
          [
           0.74,
           "white"
          ],
          [
           0.8400000000000001,
           "magenta"
          ],
          [
           1,
           "magenta"
          ]
         ],
         "i": [
          7,
          0,
          0,
          0,
          4,
          4,
          2,
          6,
          4,
          0,
          3,
          7
         ],
         "intensity": [
          0,
          0,
          1,
          1,
          0,
          0,
          1,
          1
         ],
         "j": [
          0,
          7,
          1,
          2,
          6,
          7,
          1,
          2,
          5,
          5,
          2,
          2
         ],
         "k": [
          3,
          4,
          2,
          3,
          5,
          6,
          5,
          5,
          0,
          1,
          7,
          6
         ],
         "legendgroup": "Collection(id=2463590080512)",
         "name": "Collection (6 sources)",
         "opacity": 1,
         "showlegend": true,
         "showscale": false,
         "type": "mesh3d",
         "x": [
          84.96841580600845,
          84.96841580600845,
          90.88439202843148,
          90.88439202843148,
          106.31481538566953,
          106.31481538566953,
          112.23079160809256,
          112.23079160809256
         ],
         "y": [
          -3,
          3,
          3,
          -3,
          -3,
          3,
          3,
          -3
         ],
         "z": [
          -79.28031480397424,
          -79.28031480397424,
          -80.28092728427085,
          -80.28092728427085,
          46.9271779410504,
          46.9271779410504,
          45.92656546075379,
          45.92656546075379
         ]
        },
        {
         "legendgroup": "Collection(id=2463590080512)",
         "line": {
          "color": "black",
          "dash": "solid",
          "width": 4.4
         },
         "mode": "lines",
         "name": "Collection (6 sources)",
         "opacity": 1,
         "showlegend": false,
         "type": "scatter3d",
         "x": [
          98.5996037070505,
          287.91084282458723,
          268.9797189128336,
          287.91084282458723,
          268.9797189128336,
          287.91084282458723,
          287.91084282458723
         ],
         "y": [
          0,
          4.263256414560596e-14,
          11.520000000000024,
          4.263256414560596e-14,
          -11.519999999999946,
          4.263256414560596e-14,
          4.263256414560596e-14
         ],
         "z": [
          -16.676874671610225,
          -48.69647404110182,
          -45.494514104152664,
          -48.69647404110182,
          -45.494514104152664,
          -48.69647404110182,
          -48.69647404110182
         ]
        },
        {
         "color": "#2e91e5",
         "colorscale": [
          [
           0,
           "#00b050"
          ],
          [
           0.16,
           "#00b050"
          ],
          [
           0.26,
           "#dddddd"
          ],
          [
           0.74,
           "#dddddd"
          ],
          [
           0.8400000000000001,
           "#e71111"
          ],
          [
           1,
           "#e71111"
          ]
         ],
         "i": [
          7,
          0,
          0,
          0,
          4,
          4,
          2,
          6,
          4,
          0,
          3,
          7,
          15,
          8,
          8,
          8,
          12,
          12,
          10,
          14,
          12,
          8,
          11,
          15,
          23,
          16,
          16,
          16,
          20,
          20,
          18,
          22,
          20,
          16,
          19,
          23,
          31,
          24,
          24,
          24,
          28,
          28,
          26,
          30,
          28,
          24,
          27,
          31,
          39,
          32,
          32,
          32,
          36,
          36,
          34,
          38,
          36,
          32,
          35,
          39
         ],
         "intensity": [
          0,
          0,
          1,
          1,
          0,
          0,
          1,
          1,
          1,
          1,
          0,
          0,
          1,
          1,
          0,
          0,
          1,
          1,
          0,
          0,
          1,
          1,
          0,
          0,
          0,
          0,
          1,
          1,
          0,
          0,
          1,
          1,
          0,
          0,
          1,
          1,
          0,
          0,
          1,
          1
         ],
         "j": [
          0,
          7,
          1,
          2,
          6,
          7,
          1,
          2,
          5,
          5,
          2,
          2,
          8,
          15,
          9,
          10,
          14,
          15,
          9,
          10,
          13,
          13,
          10,
          10,
          16,
          23,
          17,
          18,
          22,
          23,
          17,
          18,
          21,
          21,
          18,
          18,
          24,
          31,
          25,
          26,
          30,
          31,
          25,
          26,
          29,
          29,
          26,
          26,
          32,
          39,
          33,
          34,
          38,
          39,
          33,
          34,
          37,
          37,
          34,
          34
         ],
         "k": [
          3,
          4,
          2,
          3,
          5,
          6,
          5,
          5,
          0,
          1,
          7,
          6,
          11,
          12,
          10,
          11,
          13,
          14,
          13,
          13,
          8,
          9,
          15,
          14,
          19,
          20,
          18,
          19,
          21,
          22,
          21,
          21,
          16,
          17,
          23,
          22,
          27,
          28,
          26,
          27,
          29,
          30,
          29,
          29,
          24,
          25,
          31,
          30,
          35,
          36,
          34,
          35,
          37,
          38,
          37,
          37,
          32,
          33,
          39,
          38
         ],
         "legendgroup": "Collection(id=2463590080512)",
         "name": "Collection (6 sources)",
         "opacity": 1,
         "showlegend": false,
         "showscale": false,
         "type": "mesh3d",
         "x": [
          98,
          98,
          102,
          102,
          98,
          98,
          102,
          102,
          183.2905087839234,
          183.2905087839234,
          188.77178152977902,
          188.77178152977902,
          131.22821847022098,
          131.22821847022098,
          136.7094912160766,
          136.7094912160766,
          168,
          168,
          172,
          172,
          168,
          168,
          172,
          172,
          48,
          48,
          52,
          52,
          48,
          48,
          52,
          52,
          128,
          128,
          132,
          132,
          128,
          128,
          132,
          132
         ],
         "y": [
          -2,
          2,
          2,
          -2,
          -2,
          2,
          2,
          -2,
          -3.000000000000001,
          3.000000000000001,
          3.000000000000001,
          -3.000000000000001,
          -3.000000000000001,
          3.000000000000001,
          3.000000000000001,
          -3.000000000000001,
          -2,
          2,
          2,
          -2,
          -2,
          2,
          2,
          -2,
          -2,
          2,
          2,
          -2,
          -2,
          2,
          2,
          -2,
          -2,
          2,
          2,
          -2,
          -2,
          2,
          2,
          -2
         ],
         "z": [
          -92.5,
          -92.5,
          -92.5,
          -92.5,
          -67.5,
          -67.5,
          -67.5,
          -67.5,
          140.31288078164613,
          140.31288078164613,
          142.75330064010092,
          142.75330064010092,
          257.2466993598991,
          257.2466993598991,
          259.68711921835387,
          259.68711921835387,
          121.5,
          121.5,
          121.5,
          121.5,
          146.5,
          146.5,
          146.5,
          146.5,
          316.5,
          316.5,
          316.5,
          316.5,
          341.5,
          341.5,
          341.5,
          341.5,
          83.5,
          83.5,
          83.5,
          83.5,
          108.5,
          108.5,
          108.5,
          108.5
         ]
        }
       ],
       "layout": {
        "legend": {
         "itemsizing": "constant"
        },
        "scene": {
         "aspectmode": "manual",
         "aspectratio": {
          "x": 1,
          "y": 1,
          "z": 1
         },
         "camera": {
          "eye": {
           "x": 1,
           "y": -1.5,
           "z": 1.4
          }
         },
         "xaxis": {
          "autorange": false,
          "range": [
           -49.04457858770638,
           384.9554214122936
          ],
          "title": {
           "text": "x (m)"
          }
         },
         "yaxis": {
          "autorange": false,
          "range": [
           -216.99999999999997,
           217.00000000000003
          ],
          "title": {
           "text": "y (m)"
          }
         },
         "zaxis": {
          "autorange": false,
          "range": [
           -92.5,
           341.5
          ],
          "title": {
           "text": "z (m)"
          }
         }
        },
        "template": {
         "data": {
          "bar": [
           {
            "error_x": {
             "color": "#2a3f5f"
            },
            "error_y": {
             "color": "#2a3f5f"
            },
            "marker": {
             "line": {
              "color": "#E5ECF6",
              "width": 0.5
             },
             "pattern": {
              "fillmode": "overlay",
              "size": 10,
              "solidity": 0.2
             }
            },
            "type": "bar"
           }
          ],
          "barpolar": [
           {
            "marker": {
             "line": {
              "color": "#E5ECF6",
              "width": 0.5
             },
             "pattern": {
              "fillmode": "overlay",
              "size": 10,
              "solidity": 0.2
             }
            },
            "type": "barpolar"
           }
          ],
          "carpet": [
           {
            "aaxis": {
             "endlinecolor": "#2a3f5f",
             "gridcolor": "white",
             "linecolor": "white",
             "minorgridcolor": "white",
             "startlinecolor": "#2a3f5f"
            },
            "baxis": {
             "endlinecolor": "#2a3f5f",
             "gridcolor": "white",
             "linecolor": "white",
             "minorgridcolor": "white",
             "startlinecolor": "#2a3f5f"
            },
            "type": "carpet"
           }
          ],
          "choropleth": [
           {
            "colorbar": {
             "outlinewidth": 0,
             "ticks": ""
            },
            "type": "choropleth"
           }
          ],
          "contour": [
           {
            "colorbar": {
             "outlinewidth": 0,
             "ticks": ""
            },
            "colorscale": [
             [
              0,
              "#0d0887"
             ],
             [
              0.1111111111111111,
              "#46039f"
             ],
             [
              0.2222222222222222,
              "#7201a8"
             ],
             [
              0.3333333333333333,
              "#9c179e"
             ],
             [
              0.4444444444444444,
              "#bd3786"
             ],
             [
              0.5555555555555556,
              "#d8576b"
             ],
             [
              0.6666666666666666,
              "#ed7953"
             ],
             [
              0.7777777777777778,
              "#fb9f3a"
             ],
             [
              0.8888888888888888,
              "#fdca26"
             ],
             [
              1,
              "#f0f921"
             ]
            ],
            "type": "contour"
           }
          ],
          "contourcarpet": [
           {
            "colorbar": {
             "outlinewidth": 0,
             "ticks": ""
            },
            "type": "contourcarpet"
           }
          ],
          "heatmap": [
           {
            "colorbar": {
             "outlinewidth": 0,
             "ticks": ""
            },
            "colorscale": [
             [
              0,
              "#0d0887"
             ],
             [
              0.1111111111111111,
              "#46039f"
             ],
             [
              0.2222222222222222,
              "#7201a8"
             ],
             [
              0.3333333333333333,
              "#9c179e"
             ],
             [
              0.4444444444444444,
              "#bd3786"
             ],
             [
              0.5555555555555556,
              "#d8576b"
             ],
             [
              0.6666666666666666,
              "#ed7953"
             ],
             [
              0.7777777777777778,
              "#fb9f3a"
             ],
             [
              0.8888888888888888,
              "#fdca26"
             ],
             [
              1,
              "#f0f921"
             ]
            ],
            "type": "heatmap"
           }
          ],
          "heatmapgl": [
           {
            "colorbar": {
             "outlinewidth": 0,
             "ticks": ""
            },
            "colorscale": [
             [
              0,
              "#0d0887"
             ],
             [
              0.1111111111111111,
              "#46039f"
             ],
             [
              0.2222222222222222,
              "#7201a8"
             ],
             [
              0.3333333333333333,
              "#9c179e"
             ],
             [
              0.4444444444444444,
              "#bd3786"
             ],
             [
              0.5555555555555556,
              "#d8576b"
             ],
             [
              0.6666666666666666,
              "#ed7953"
             ],
             [
              0.7777777777777778,
              "#fb9f3a"
             ],
             [
              0.8888888888888888,
              "#fdca26"
             ],
             [
              1,
              "#f0f921"
             ]
            ],
            "type": "heatmapgl"
           }
          ],
          "histogram": [
           {
            "marker": {
             "pattern": {
              "fillmode": "overlay",
              "size": 10,
              "solidity": 0.2
             }
            },
            "type": "histogram"
           }
          ],
          "histogram2d": [
           {
            "colorbar": {
             "outlinewidth": 0,
             "ticks": ""
            },
            "colorscale": [
             [
              0,
              "#0d0887"
             ],
             [
              0.1111111111111111,
              "#46039f"
             ],
             [
              0.2222222222222222,
              "#7201a8"
             ],
             [
              0.3333333333333333,
              "#9c179e"
             ],
             [
              0.4444444444444444,
              "#bd3786"
             ],
             [
              0.5555555555555556,
              "#d8576b"
             ],
             [
              0.6666666666666666,
              "#ed7953"
             ],
             [
              0.7777777777777778,
              "#fb9f3a"
             ],
             [
              0.8888888888888888,
              "#fdca26"
             ],
             [
              1,
              "#f0f921"
             ]
            ],
            "type": "histogram2d"
           }
          ],
          "histogram2dcontour": [
           {
            "colorbar": {
             "outlinewidth": 0,
             "ticks": ""
            },
            "colorscale": [
             [
              0,
              "#0d0887"
             ],
             [
              0.1111111111111111,
              "#46039f"
             ],
             [
              0.2222222222222222,
              "#7201a8"
             ],
             [
              0.3333333333333333,
              "#9c179e"
             ],
             [
              0.4444444444444444,
              "#bd3786"
             ],
             [
              0.5555555555555556,
              "#d8576b"
             ],
             [
              0.6666666666666666,
              "#ed7953"
             ],
             [
              0.7777777777777778,
              "#fb9f3a"
             ],
             [
              0.8888888888888888,
              "#fdca26"
             ],
             [
              1,
              "#f0f921"
             ]
            ],
            "type": "histogram2dcontour"
           }
          ],
          "mesh3d": [
           {
            "colorbar": {
             "outlinewidth": 0,
             "ticks": ""
            },
            "type": "mesh3d"
           }
          ],
          "parcoords": [
           {
            "line": {
             "colorbar": {
              "outlinewidth": 0,
              "ticks": ""
             }
            },
            "type": "parcoords"
           }
          ],
          "pie": [
           {
            "automargin": true,
            "type": "pie"
           }
          ],
          "scatter": [
           {
            "fillpattern": {
             "fillmode": "overlay",
             "size": 10,
             "solidity": 0.2
            },
            "type": "scatter"
           }
          ],
          "scatter3d": [
           {
            "line": {
             "colorbar": {
              "outlinewidth": 0,
              "ticks": ""
             }
            },
            "marker": {
             "colorbar": {
              "outlinewidth": 0,
              "ticks": ""
             }
            },
            "type": "scatter3d"
           }
          ],
          "scattercarpet": [
           {
            "marker": {
             "colorbar": {
              "outlinewidth": 0,
              "ticks": ""
             }
            },
            "type": "scattercarpet"
           }
          ],
          "scattergeo": [
           {
            "marker": {
             "colorbar": {
              "outlinewidth": 0,
              "ticks": ""
             }
            },
            "type": "scattergeo"
           }
          ],
          "scattergl": [
           {
            "marker": {
             "colorbar": {
              "outlinewidth": 0,
              "ticks": ""
             }
            },
            "type": "scattergl"
           }
          ],
          "scattermapbox": [
           {
            "marker": {
             "colorbar": {
              "outlinewidth": 0,
              "ticks": ""
             }
            },
            "type": "scattermapbox"
           }
          ],
          "scatterpolar": [
           {
            "marker": {
             "colorbar": {
              "outlinewidth": 0,
              "ticks": ""
             }
            },
            "type": "scatterpolar"
           }
          ],
          "scatterpolargl": [
           {
            "marker": {
             "colorbar": {
              "outlinewidth": 0,
              "ticks": ""
             }
            },
            "type": "scatterpolargl"
           }
          ],
          "scatterternary": [
           {
            "marker": {
             "colorbar": {
              "outlinewidth": 0,
              "ticks": ""
             }
            },
            "type": "scatterternary"
           }
          ],
          "surface": [
           {
            "colorbar": {
             "outlinewidth": 0,
             "ticks": ""
            },
            "colorscale": [
             [
              0,
              "#0d0887"
             ],
             [
              0.1111111111111111,
              "#46039f"
             ],
             [
              0.2222222222222222,
              "#7201a8"
             ],
             [
              0.3333333333333333,
              "#9c179e"
             ],
             [
              0.4444444444444444,
              "#bd3786"
             ],
             [
              0.5555555555555556,
              "#d8576b"
             ],
             [
              0.6666666666666666,
              "#ed7953"
             ],
             [
              0.7777777777777778,
              "#fb9f3a"
             ],
             [
              0.8888888888888888,
              "#fdca26"
             ],
             [
              1,
              "#f0f921"
             ]
            ],
            "type": "surface"
           }
          ],
          "table": [
           {
            "cells": {
             "fill": {
              "color": "#EBF0F8"
             },
             "line": {
              "color": "white"
             }
            },
            "header": {
             "fill": {
              "color": "#C8D4E3"
             },
             "line": {
              "color": "white"
             }
            },
            "type": "table"
           }
          ]
         },
         "layout": {
          "annotationdefaults": {
           "arrowcolor": "#2a3f5f",
           "arrowhead": 0,
           "arrowwidth": 1
          },
          "autotypenumbers": "strict",
          "coloraxis": {
           "colorbar": {
            "outlinewidth": 0,
            "ticks": ""
           }
          },
          "colorscale": {
           "diverging": [
            [
             0,
             "#8e0152"
            ],
            [
             0.1,
             "#c51b7d"
            ],
            [
             0.2,
             "#de77ae"
            ],
            [
             0.3,
             "#f1b6da"
            ],
            [
             0.4,
             "#fde0ef"
            ],
            [
             0.5,
             "#f7f7f7"
            ],
            [
             0.6,
             "#e6f5d0"
            ],
            [
             0.7,
             "#b8e186"
            ],
            [
             0.8,
             "#7fbc41"
            ],
            [
             0.9,
             "#4d9221"
            ],
            [
             1,
             "#276419"
            ]
           ],
           "sequential": [
            [
             0,
             "#0d0887"
            ],
            [
             0.1111111111111111,
             "#46039f"
            ],
            [
             0.2222222222222222,
             "#7201a8"
            ],
            [
             0.3333333333333333,
             "#9c179e"
            ],
            [
             0.4444444444444444,
             "#bd3786"
            ],
            [
             0.5555555555555556,
             "#d8576b"
            ],
            [
             0.6666666666666666,
             "#ed7953"
            ],
            [
             0.7777777777777778,
             "#fb9f3a"
            ],
            [
             0.8888888888888888,
             "#fdca26"
            ],
            [
             1,
             "#f0f921"
            ]
           ],
           "sequentialminus": [
            [
             0,
             "#0d0887"
            ],
            [
             0.1111111111111111,
             "#46039f"
            ],
            [
             0.2222222222222222,
             "#7201a8"
            ],
            [
             0.3333333333333333,
             "#9c179e"
            ],
            [
             0.4444444444444444,
             "#bd3786"
            ],
            [
             0.5555555555555556,
             "#d8576b"
            ],
            [
             0.6666666666666666,
             "#ed7953"
            ],
            [
             0.7777777777777778,
             "#fb9f3a"
            ],
            [
             0.8888888888888888,
             "#fdca26"
            ],
            [
             1,
             "#f0f921"
            ]
           ]
          },
          "colorway": [
           "#636efa",
           "#EF553B",
           "#00cc96",
           "#ab63fa",
           "#FFA15A",
           "#19d3f3",
           "#FF6692",
           "#B6E880",
           "#FF97FF",
           "#FECB52"
          ],
          "font": {
           "color": "#2a3f5f"
          },
          "geo": {
           "bgcolor": "white",
           "lakecolor": "white",
           "landcolor": "#E5ECF6",
           "showlakes": true,
           "showland": true,
           "subunitcolor": "white"
          },
          "hoverlabel": {
           "align": "left"
          },
          "hovermode": "closest",
          "mapbox": {
           "style": "light"
          },
          "paper_bgcolor": "white",
          "plot_bgcolor": "#E5ECF6",
          "polar": {
           "angularaxis": {
            "gridcolor": "white",
            "linecolor": "white",
            "ticks": ""
           },
           "bgcolor": "#E5ECF6",
           "radialaxis": {
            "gridcolor": "white",
            "linecolor": "white",
            "ticks": ""
           }
          },
          "scene": {
           "xaxis": {
            "backgroundcolor": "#E5ECF6",
            "gridcolor": "white",
            "gridwidth": 2,
            "linecolor": "white",
            "showbackground": true,
            "ticks": "",
            "zerolinecolor": "white"
           },
           "yaxis": {
            "backgroundcolor": "#E5ECF6",
            "gridcolor": "white",
            "gridwidth": 2,
            "linecolor": "white",
            "showbackground": true,
            "ticks": "",
            "zerolinecolor": "white"
           },
           "zaxis": {
            "backgroundcolor": "#E5ECF6",
            "gridcolor": "white",
            "gridwidth": 2,
            "linecolor": "white",
            "showbackground": true,
            "ticks": "",
            "zerolinecolor": "white"
           }
          },
          "shapedefaults": {
           "line": {
            "color": "#2a3f5f"
           }
          },
          "ternary": {
           "aaxis": {
            "gridcolor": "white",
            "linecolor": "white",
            "ticks": ""
           },
           "baxis": {
            "gridcolor": "white",
            "linecolor": "white",
            "ticks": ""
           },
           "bgcolor": "#E5ECF6",
           "caxis": {
            "gridcolor": "white",
            "linecolor": "white",
            "ticks": ""
           }
          },
          "title": {
           "x": 0.05
          },
          "xaxis": {
           "automargin": true,
           "gridcolor": "white",
           "linecolor": "white",
           "ticks": "",
           "title": {
            "standoff": 15
           },
           "zerolinecolor": "white",
           "zerolinewidth": 2
          },
          "yaxis": {
           "automargin": true,
           "gridcolor": "white",
           "linecolor": "white",
           "ticks": "",
           "title": {
            "standoff": 15
           },
           "zerolinecolor": "white",
           "zerolinewidth": 2
          }
         }
        }
       }
      }
     },
     "metadata": {},
     "output_type": "display_data"
    }
   ],
   "source": [
    "zeeman_prof = magpy.Collection()\n",
    "j = 0\n",
    "n = 1\n",
    "a = 30\n",
    "an1 = 9.6\n",
    "an2 = 24\n",
    "l =[-an1,an1,an1,-an1]\n",
    "l2 = [-an2,an2,an2,-an2]\n",
    "ll = ['y','x','y','x']\n",
    "mystyle = mstyle = dict(\n",
    "    mode=\"color+arrow\",\n",
    "    color=dict(north=\"magenta\", middle=\"white\", south=\"turquoise\"),\n",
    "    arrow=dict(width=2, color=\"k\")\n",
    ")\n",
    "\n",
    "angles = np.linspace(0, 360, n, endpoint=False)\n",
    "for i in angles:\n",
    "    cube1= magpy.magnet.Cuboid(\n",
    "    dimension=(6,6,128),\n",
    "    polarization=((1.080)*1e3,0,0),\n",
    "    position=(70+a,0,0),\n",
    "    style_magnetization = mystyle)\n",
    "    cube2 = magpy.magnet.Cuboid(dimension= (4,4,25),\n",
    "    polarization=(1.17*1e3,0,0),\n",
    "    position=(70+a,0,-80),)\n",
    "    cube3= magpy.magnet.Cuboid(\n",
    "    dimension=(6,6,128),\n",
    "    polarization=(-1.08*1e3,0,0),\n",
    "    position=(130+a,0,200),\n",
    "  )\n",
    "    cube4 = magpy.magnet.Cuboid(dimension= (4,4,25),\n",
    "    polarization=(-1.17*1e3,0,0),\n",
    "    position=(140+a,0,40+94),\n",
    "    )\n",
    "    cube5 = magpy.magnet.Cuboid(dimension= (4,4,25),\n",
    "    polarization=(1.17*1e3,0,0),\n",
    "    position=(20+a,0,235+94))\n",
    "   # style_magnetization = mystyle)\n",
    "    cube6 = magpy.magnet.Cuboid(dimension= (4,4,25),\n",
    "    polarization=(1.17*1e3,0,0),\n",
    "    position=(100+a,0,2+94),)\n",
    "    #style_magnetization = mystyle\n",
    "    cube1.rotate_from_angax(i, 'z', anchor=0)\n",
    "    cube1.rotate_from_angax(9.6, 'y',anchor = 0)\n",
    "    cube1.rotate_from_angax(i, 'z')\n",
    "    cube2.rotate_from_angax(i, 'z')\n",
    "    cube2.rotate_from_angax(i, 'z')\n",
    "    cube3.rotate_from_angax(i, 'z', anchor=0)\n",
    "    cube3.rotate_from_angax(-24, 'y')\n",
    "    cube3.rotate_from_angax(i, 'z')\n",
    "  \n",
    "    cube4.rotate_from_angax(i, 'z', anchor=0)\n",
    "    cube4.rotate_from_angax(i, 'z')\n",
    "    cube5.rotate_from_angax(i, 'z', anchor=0)\n",
    "    cube5.rotate_from_angax(i, 'z')\n",
    "    cube6.rotate_from_angax(i, 'z', anchor=0)\n",
    "    cube6.rotate_from_angax(i, 'z')\n",
    "\n",
    "    zeeman_prof.add(cube1)\n",
    "    zeeman_prof.add(cube2)\n",
    "    zeeman_prof.add(cube3)\n",
    "    zeeman_prof.add(cube4)\n",
    "    zeeman_prof.add(cube5)\n",
    "    zeeman_prof.add(cube6)\n",
    "    j = j+1\n",
    "sens = magpy.Sensor([(0,0,0),(0,0,250)])\n",
    "magpy.show(zeeman_prof)\n",
    "\n"
   ]
  },
  {
   "cell_type": "code",
   "execution_count": 64,
   "metadata": {},
   "outputs": [
    {
     "data": {
      "application/vnd.plotly.v1+json": {
       "config": {
        "plotlyServerURL": "https://plot.ly"
       },
       "data": [
        {
         "color": "#2e91e5",
         "colorscale": [
          [
           0,
           "turquoise"
          ],
          [
           0.16,
           "turquoise"
          ],
          [
           0.26,
           "white"
          ],
          [
           0.74,
           "white"
          ],
          [
           0.8400000000000001,
           "magenta"
          ],
          [
           1,
           "magenta"
          ]
         ],
         "i": [
          7,
          0,
          0,
          0,
          4,
          4,
          2,
          6,
          4,
          0,
          3,
          7,
          15,
          8,
          8,
          8,
          12,
          12,
          10,
          14,
          12,
          8,
          11,
          15,
          23,
          16,
          16,
          16,
          20,
          20,
          18,
          22,
          20,
          16,
          19,
          23,
          31,
          24,
          24,
          24,
          28,
          28,
          26,
          30,
          28,
          24,
          27,
          31
         ],
         "intensity": [
          0,
          0,
          1,
          1,
          0,
          0,
          1,
          1,
          0,
          0,
          1,
          1,
          0,
          0,
          1,
          1,
          0,
          0,
          1,
          1,
          0,
          0,
          1,
          1,
          0,
          0,
          1,
          1,
          0,
          0,
          1,
          1
         ],
         "j": [
          0,
          7,
          1,
          2,
          6,
          7,
          1,
          2,
          5,
          5,
          2,
          2,
          8,
          15,
          9,
          10,
          14,
          15,
          9,
          10,
          13,
          13,
          10,
          10,
          16,
          23,
          17,
          18,
          22,
          23,
          17,
          18,
          21,
          21,
          18,
          18,
          24,
          31,
          25,
          26,
          30,
          31,
          25,
          26,
          29,
          29,
          26,
          26
         ],
         "k": [
          3,
          4,
          2,
          3,
          5,
          6,
          5,
          5,
          0,
          1,
          7,
          6,
          11,
          12,
          10,
          11,
          13,
          14,
          13,
          13,
          8,
          9,
          15,
          14,
          19,
          20,
          18,
          19,
          21,
          22,
          21,
          21,
          16,
          17,
          23,
          22,
          27,
          28,
          26,
          27,
          29,
          30,
          29,
          29,
          24,
          25,
          31,
          30
         ],
         "legendgroup": "Collection(id=2463643668304)",
         "name": "Collection (24 sources)",
         "opacity": 1,
         "showlegend": true,
         "showscale": false,
         "type": "mesh3d",
         "x": [
          77.29724724336246,
          73.05460655624319,
          77.23783346045688,
          81.48047414757616,
          62.20306334666644,
          57.960422659547156,
          62.14364956376086,
          66.38629025088014,
          -77.23783346045687,
          -73.05460655624317,
          -77.29724724336245,
          -81.48047414757615,
          -62.14364956376084,
          -57.96042265954714,
          -62.20306334666643,
          -66.38629025088012,
          -77.2378334604569,
          -81.48047414757617,
          -77.29724724336248,
          -73.0546065562432,
          -62.143649563760874,
          -66.38629025088015,
          -62.203063346666454,
          -57.96042265954717,
          77.29724724336245,
          81.48047414757615,
          77.23783346045687,
          73.05460655624317,
          62.20306334666643,
          66.38629025088012,
          62.14364956376084,
          57.96042265954714
         ],
         "y": [
          73.05460655624319,
          77.29724724336246,
          81.48047414757616,
          77.23783346045688,
          57.960422659547156,
          62.20306334666644,
          66.38629025088014,
          62.14364956376086,
          81.48047414757617,
          77.29724724336248,
          73.0546065562432,
          77.2378334604569,
          66.38629025088015,
          62.203063346666454,
          57.96042265954717,
          62.143649563760874,
          -81.48047414757615,
          -77.23783346045687,
          -73.05460655624317,
          -77.29724724336245,
          -66.38629025088012,
          -62.143649563760846,
          -57.96042265954714,
          -62.203063346666426,
          -73.0546065562432,
          -77.2378334604569,
          -81.48047414757617,
          -77.29724724336248,
          -57.96042265954717,
          -62.143649563760874,
          -66.38629025088015,
          -62.203063346666454
         ],
         "z": [
          -46.9271779410504,
          -46.9271779410504,
          -45.92656546075379,
          -45.92656546075379,
          79.28031480397424,
          79.28031480397424,
          80.28092728427085,
          80.28092728427085,
          -45.92656546075379,
          -46.9271779410504,
          -46.9271779410504,
          -45.92656546075379,
          80.28092728427086,
          79.28031480397425,
          79.28031480397425,
          80.28092728427086,
          -45.92656546075378,
          -45.92656546075378,
          -46.92717794105039,
          -46.92717794105039,
          80.28092728427085,
          80.28092728427085,
          79.28031480397424,
          79.28031480397424,
          -46.9271779410504,
          -45.92656546075379,
          -45.92656546075379,
          -46.9271779410504,
          79.28031480397425,
          80.28092728427086,
          80.28092728427086,
          79.28031480397425
         ]
        },
        {
         "legendgroup": "Collection(id=2463643668304)",
         "line": {
          "color": "black",
          "dash": "solid",
          "width": 4.4
         },
         "mode": "lines",
         "name": "Collection (24 sources)",
         "opacity": 1,
         "showlegend": false,
         "type": "scatter3d",
         "x": [
          null,
          69.72044840356166,
          203.58370933824426,
          182.05151312551646,
          203.58370933824426,
          198.34325336403555,
          203.58370933824426,
          203.58370933824426,
          null,
          -69.72044840356165,
          -205.48495039122085,
          -183.87670453637398,
          -205.48495039122085,
          -199.9402958485359,
          -205.48495039122085,
          -205.48495039122085,
          null,
          -69.72044840356168,
          64.14281253112094,
          42.61061631839314,
          64.14281253112094,
          58.902356556912224,
          64.14281253112094,
          64.14281253112094,
          null,
          69.72044840356165,
          -66.04405358409755,
          -44.43580772925068,
          -66.04405358409755,
          -60.4993990414126,
          -66.04405358409755,
          -66.04405358409755
         ],
         "y": [
          null,
          69.72044840356166,
          203.58370933824432,
          198.3432533640356,
          203.58370933824432,
          182.05151312551652,
          203.58370933824432,
          203.58370933824432,
          null,
          69.72044840356168,
          -66.04405358409747,
          -60.499399041412545,
          -66.04405358409747,
          -44.43580772925061,
          -66.04405358409747,
          -66.04405358409747,
          null,
          -69.72044840356165,
          64.14281253112097,
          58.90235655691228,
          64.14281253112097,
          42.61061631839317,
          64.14281253112097,
          64.14281253112097,
          null,
          -69.72044840356168,
          -205.48495039122082,
          -199.9402958485359,
          -205.48495039122082,
          -183.87670453637395,
          -205.48495039122082,
          -205.48495039122082
         ],
         "z": [
          null,
          16.676874671610225,
          48.696474041064604,
          45.49451410411916,
          48.696474041064604,
          45.49451410411916,
          48.696474041064604,
          48.696474041064604,
          null,
          16.676874671610225,
          16.676874671610232,
          14.755698709442967,
          16.676874671610232,
          18.598050633777493,
          16.676874671610232,
          16.676874671610232,
          null,
          16.676874671610225,
          -15.342724697844151,
          -12.140764760898715,
          -15.342724697844151,
          -12.140764760898715,
          -15.342724697844151,
          -15.342724697844151,
          null,
          16.676874671610225,
          16.676874671610218,
          18.598050633777483,
          16.676874671610218,
          14.755698709442957,
          16.676874671610218,
          16.676874671610218
         ]
        },
        {
         "color": "#2e91e5",
         "colorscale": [
          [
           0,
           "#00b050"
          ],
          [
           0.16,
           "#00b050"
          ],
          [
           0.26,
           "#dddddd"
          ],
          [
           0.74,
           "#dddddd"
          ],
          [
           0.8400000000000001,
           "#e71111"
          ],
          [
           1,
           "#e71111"
          ]
         ],
         "i": [
          7,
          0,
          0,
          0,
          4,
          4,
          2,
          6,
          4,
          0,
          3,
          7,
          15,
          8,
          8,
          8,
          12,
          12,
          10,
          14,
          12,
          8,
          11,
          15,
          23,
          16,
          16,
          16,
          20,
          20,
          18,
          22,
          20,
          16,
          19,
          23,
          31,
          24,
          24,
          24,
          28,
          28,
          26,
          30,
          28,
          24,
          27,
          31,
          39,
          32,
          32,
          32,
          36,
          36,
          34,
          38,
          36,
          32,
          35,
          39,
          47,
          40,
          40,
          40,
          44,
          44,
          42,
          46,
          44,
          40,
          43,
          47,
          55,
          48,
          48,
          48,
          52,
          52,
          50,
          54,
          52,
          48,
          51,
          55,
          63,
          56,
          56,
          56,
          60,
          60,
          58,
          62,
          60,
          56,
          59,
          63,
          71,
          64,
          64,
          64,
          68,
          68,
          66,
          70,
          68,
          64,
          67,
          71,
          79,
          72,
          72,
          72,
          76,
          76,
          74,
          78,
          76,
          72,
          75,
          79,
          87,
          80,
          80,
          80,
          84,
          84,
          82,
          86,
          84,
          80,
          83,
          87,
          95,
          88,
          88,
          88,
          92,
          92,
          90,
          94,
          92,
          88,
          91,
          95,
          103,
          96,
          96,
          96,
          100,
          100,
          98,
          102,
          100,
          96,
          99,
          103,
          111,
          104,
          104,
          104,
          108,
          108,
          106,
          110,
          108,
          104,
          107,
          111,
          119,
          112,
          112,
          112,
          116,
          116,
          114,
          118,
          116,
          112,
          115,
          119,
          127,
          120,
          120,
          120,
          124,
          124,
          122,
          126,
          124,
          120,
          123,
          127,
          135,
          128,
          128,
          128,
          132,
          132,
          130,
          134,
          132,
          128,
          131,
          135,
          143,
          136,
          136,
          136,
          140,
          140,
          138,
          142,
          140,
          136,
          139,
          143,
          151,
          144,
          144,
          144,
          148,
          148,
          146,
          150,
          148,
          144,
          147,
          151,
          159,
          152,
          152,
          152,
          156,
          156,
          154,
          158,
          156,
          152,
          155,
          159
         ],
         "intensity": [
          0,
          0,
          1,
          1,
          0,
          0,
          1,
          1,
          0,
          0,
          1,
          1,
          0,
          0,
          1,
          1,
          0,
          0,
          1,
          1,
          0,
          0,
          1,
          1,
          0,
          0,
          1,
          1,
          0,
          0,
          1,
          1,
          0,
          0,
          1,
          1,
          0,
          0,
          1,
          1,
          0,
          0,
          1,
          1,
          0,
          0,
          1,
          1,
          0,
          0,
          1,
          1,
          0,
          0,
          1,
          1,
          0,
          0,
          1,
          1,
          0,
          0,
          1,
          1,
          0,
          0,
          1,
          1,
          0,
          0,
          1,
          1,
          0,
          0,
          1,
          1,
          0,
          0,
          1,
          1,
          0,
          0,
          1,
          1,
          0,
          0,
          1,
          1,
          0,
          0,
          1,
          1,
          0,
          0,
          1,
          1,
          0,
          0,
          1,
          1,
          0,
          0,
          1,
          1,
          0,
          0,
          1,
          1,
          0,
          0,
          1,
          1,
          0,
          0,
          1,
          1,
          0,
          0,
          1,
          1,
          0,
          0,
          1,
          1,
          0,
          0,
          1,
          1,
          0,
          0,
          1,
          1,
          0,
          0,
          1,
          1,
          0,
          0,
          1,
          1,
          0,
          0,
          1,
          1,
          0,
          0,
          1,
          1,
          0,
          0,
          1,
          1,
          0,
          0,
          1,
          1,
          0,
          0,
          1,
          1
         ],
         "j": [
          0,
          7,
          1,
          2,
          6,
          7,
          1,
          2,
          5,
          5,
          2,
          2,
          8,
          15,
          9,
          10,
          14,
          15,
          9,
          10,
          13,
          13,
          10,
          10,
          16,
          23,
          17,
          18,
          22,
          23,
          17,
          18,
          21,
          21,
          18,
          18,
          24,
          31,
          25,
          26,
          30,
          31,
          25,
          26,
          29,
          29,
          26,
          26,
          32,
          39,
          33,
          34,
          38,
          39,
          33,
          34,
          37,
          37,
          34,
          34,
          40,
          47,
          41,
          42,
          46,
          47,
          41,
          42,
          45,
          45,
          42,
          42,
          48,
          55,
          49,
          50,
          54,
          55,
          49,
          50,
          53,
          53,
          50,
          50,
          56,
          63,
          57,
          58,
          62,
          63,
          57,
          58,
          61,
          61,
          58,
          58,
          64,
          71,
          65,
          66,
          70,
          71,
          65,
          66,
          69,
          69,
          66,
          66,
          72,
          79,
          73,
          74,
          78,
          79,
          73,
          74,
          77,
          77,
          74,
          74,
          80,
          87,
          81,
          82,
          86,
          87,
          81,
          82,
          85,
          85,
          82,
          82,
          88,
          95,
          89,
          90,
          94,
          95,
          89,
          90,
          93,
          93,
          90,
          90,
          96,
          103,
          97,
          98,
          102,
          103,
          97,
          98,
          101,
          101,
          98,
          98,
          104,
          111,
          105,
          106,
          110,
          111,
          105,
          106,
          109,
          109,
          106,
          106,
          112,
          119,
          113,
          114,
          118,
          119,
          113,
          114,
          117,
          117,
          114,
          114,
          120,
          127,
          121,
          122,
          126,
          127,
          121,
          122,
          125,
          125,
          122,
          122,
          128,
          135,
          129,
          130,
          134,
          135,
          129,
          130,
          133,
          133,
          130,
          130,
          136,
          143,
          137,
          138,
          142,
          143,
          137,
          138,
          141,
          141,
          138,
          138,
          144,
          151,
          145,
          146,
          150,
          151,
          145,
          146,
          149,
          149,
          146,
          146,
          152,
          159,
          153,
          154,
          158,
          159,
          153,
          154,
          157,
          157,
          154,
          154
         ],
         "k": [
          3,
          4,
          2,
          3,
          5,
          6,
          5,
          5,
          0,
          1,
          7,
          6,
          11,
          12,
          10,
          11,
          13,
          14,
          13,
          13,
          8,
          9,
          15,
          14,
          19,
          20,
          18,
          19,
          21,
          22,
          21,
          21,
          16,
          17,
          23,
          22,
          27,
          28,
          26,
          27,
          29,
          30,
          29,
          29,
          24,
          25,
          31,
          30,
          35,
          36,
          34,
          35,
          37,
          38,
          37,
          37,
          32,
          33,
          39,
          38,
          43,
          44,
          42,
          43,
          45,
          46,
          45,
          45,
          40,
          41,
          47,
          46,
          51,
          52,
          50,
          51,
          53,
          54,
          53,
          53,
          48,
          49,
          55,
          54,
          59,
          60,
          58,
          59,
          61,
          62,
          61,
          61,
          56,
          57,
          63,
          62,
          67,
          68,
          66,
          67,
          69,
          70,
          69,
          69,
          64,
          65,
          71,
          70,
          75,
          76,
          74,
          75,
          77,
          78,
          77,
          77,
          72,
          73,
          79,
          78,
          83,
          84,
          82,
          83,
          85,
          86,
          85,
          85,
          80,
          81,
          87,
          86,
          91,
          92,
          90,
          91,
          93,
          94,
          93,
          93,
          88,
          89,
          95,
          94,
          99,
          100,
          98,
          99,
          101,
          102,
          101,
          101,
          96,
          97,
          103,
          102,
          107,
          108,
          106,
          107,
          109,
          110,
          109,
          109,
          104,
          105,
          111,
          110,
          115,
          116,
          114,
          115,
          117,
          118,
          117,
          117,
          112,
          113,
          119,
          118,
          123,
          124,
          122,
          123,
          125,
          126,
          125,
          125,
          120,
          121,
          127,
          126,
          131,
          132,
          130,
          131,
          133,
          134,
          133,
          133,
          128,
          129,
          135,
          134,
          139,
          140,
          138,
          139,
          141,
          142,
          141,
          141,
          136,
          137,
          143,
          142,
          147,
          148,
          146,
          147,
          149,
          150,
          149,
          149,
          144,
          145,
          151,
          150,
          155,
          156,
          154,
          155,
          157,
          158,
          157,
          157,
          152,
          153,
          159,
          158
         ],
         "legendgroup": "Collection(id=2463643668304)",
         "name": "Collection (24 sources)",
         "opacity": 1,
         "showlegend": false,
         "showscale": false,
         "type": "mesh3d",
         "x": [
          70.71067811865474,
          67.88225099390856,
          70.71067811865474,
          73.53910524340093,
          70.71067811865474,
          67.88225099390856,
          70.71067811865474,
          73.53910524340093,
          52.28649195814636,
          48.043851271027066,
          51.919696399154574,
          56.162337086273865,
          15.472893433224655,
          11.230252746105368,
          15.106097874232873,
          19.34873856135216,
          35.35533905932737,
          32.52691193458118,
          35.35533905932737,
          38.18376618407356,
          35.35533905932737,
          32.52691193458118,
          35.35533905932737,
          38.18376618407356,
          35.35533905932737,
          32.52691193458118,
          35.35533905932737,
          38.18376618407356,
          35.35533905932737,
          32.52691193458118,
          35.35533905932737,
          38.18376618407356,
          28.2842712474619,
          25.45584412271571,
          28.2842712474619,
          31.112698372208087,
          28.2842712474619,
          25.45584412271571,
          28.2842712474619,
          31.112698372208087,
          -70.71067811865474,
          -67.88225099390856,
          -70.71067811865474,
          -73.53910524340093,
          -70.71067811865474,
          -67.88225099390856,
          -70.71067811865474,
          -73.53910524340093,
          -51.919696399154546,
          -48.043851271027044,
          -52.28649195814633,
          -56.16233708627383,
          -15.106097874232859,
          -11.230252746105357,
          -15.472893433224641,
          -19.348738561352143,
          -35.35533905932737,
          -32.52691193458118,
          -35.35533905932737,
          -38.18376618407356,
          -35.35533905932737,
          -32.52691193458118,
          -35.35533905932737,
          -38.18376618407356,
          -35.35533905932737,
          -32.52691193458118,
          -35.35533905932737,
          -38.18376618407356,
          -35.35533905932737,
          -32.52691193458118,
          -35.35533905932737,
          -38.18376618407356,
          -28.284271247461895,
          -25.455844122715703,
          -28.284271247461895,
          -31.112698372208087,
          -28.284271247461895,
          -25.455844122715703,
          -28.284271247461895,
          -31.112698372208087,
          -70.71067811865476,
          -73.53910524340094,
          -70.71067811865476,
          -67.88225099390857,
          -70.71067811865476,
          -73.53910524340094,
          -70.71067811865476,
          -67.88225099390857,
          -51.91969639915459,
          -56.16233708627388,
          -52.28649195814637,
          -48.04385127102708,
          -15.106097874232887,
          -19.348738561352175,
          -15.47289343322467,
          -11.230252746105382,
          -35.35533905932738,
          -38.18376618407357,
          -35.35533905932738,
          -32.526911934581186,
          -35.35533905932738,
          -38.18376618407357,
          -35.35533905932738,
          -32.526911934581186,
          -35.35533905932738,
          -38.18376618407357,
          -35.35533905932738,
          -32.526911934581186,
          -35.35533905932738,
          -38.18376618407357,
          -35.35533905932738,
          -32.526911934581186,
          -28.284271247461902,
          -31.112698372208094,
          -28.284271247461902,
          -25.45584412271571,
          -28.284271247461902,
          -31.112698372208094,
          -28.284271247461902,
          -25.45584412271571,
          70.71067811865474,
          73.53910524340093,
          70.71067811865474,
          67.88225099390856,
          70.71067811865474,
          73.53910524340093,
          70.71067811865474,
          67.88225099390856,
          52.28649195814633,
          56.16233708627383,
          51.919696399154546,
          48.043851271027044,
          15.472893433224641,
          19.348738561352143,
          15.106097874232859,
          11.230252746105357,
          35.35533905932737,
          38.18376618407356,
          35.35533905932737,
          32.52691193458118,
          35.35533905932737,
          38.18376618407356,
          35.35533905932737,
          32.52691193458118,
          35.35533905932737,
          38.18376618407356,
          35.35533905932737,
          32.52691193458118,
          35.35533905932737,
          38.18376618407356,
          35.35533905932737,
          32.52691193458118,
          28.284271247461895,
          31.112698372208087,
          28.284271247461895,
          25.455844122715703,
          28.284271247461895,
          31.112698372208087,
          28.284271247461895,
          25.455844122715703
         ],
         "y": [
          67.88225099390857,
          70.71067811865476,
          73.53910524340094,
          70.71067811865476,
          67.88225099390857,
          70.71067811865476,
          73.53910524340094,
          70.71067811865476,
          48.04385127102708,
          52.286491958146364,
          56.162337086273865,
          51.91969639915458,
          11.230252746105375,
          15.472893433224662,
          19.348738561352167,
          15.10609787423288,
          32.526911934581186,
          35.35533905932738,
          38.18376618407357,
          35.35533905932738,
          32.526911934581186,
          35.35533905932738,
          38.18376618407357,
          35.35533905932738,
          32.526911934581186,
          35.35533905932738,
          38.18376618407357,
          35.35533905932738,
          32.526911934581186,
          35.35533905932738,
          38.18376618407357,
          35.35533905932738,
          25.45584412271571,
          28.284271247461902,
          31.112698372208094,
          28.284271247461902,
          25.45584412271571,
          28.284271247461902,
          31.112698372208094,
          28.284271247461902,
          73.53910524340094,
          70.71067811865476,
          67.88225099390857,
          70.71067811865476,
          73.53910524340094,
          70.71067811865476,
          67.88225099390857,
          70.71067811865476,
          56.16233708627388,
          52.28649195814637,
          48.043851271027094,
          51.9196963991546,
          19.348738561352196,
          15.472893433224687,
          11.230252746105403,
          15.106097874232912,
          38.18376618407357,
          35.35533905932738,
          32.526911934581186,
          35.35533905932738,
          38.18376618407357,
          35.35533905932738,
          32.526911934581186,
          35.35533905932738,
          38.18376618407357,
          35.35533905932738,
          32.526911934581186,
          35.35533905932738,
          38.18376618407357,
          35.35533905932738,
          32.526911934581186,
          35.35533905932738,
          31.112698372208097,
          28.284271247461906,
          25.455844122715714,
          28.284271247461906,
          31.112698372208097,
          28.284271247461906,
          25.455844122715714,
          28.284271247461906,
          -73.53910524340093,
          -70.71067811865474,
          -67.88225099390856,
          -70.71067811865474,
          -73.53910524340093,
          -70.71067811865474,
          -67.88225099390856,
          -70.71067811865474,
          -56.16233708627385,
          -51.91969639915457,
          -48.043851271027066,
          -52.28649195814635,
          -19.348738561352153,
          -15.106097874232866,
          -11.23025274610536,
          -15.472893433224648,
          -38.18376618407356,
          -35.35533905932737,
          -32.52691193458118,
          -35.35533905932737,
          -38.18376618407356,
          -35.35533905932737,
          -32.52691193458118,
          -35.35533905932737,
          -38.18376618407356,
          -35.35533905932737,
          -32.52691193458118,
          -35.35533905932737,
          -38.18376618407356,
          -35.35533905932737,
          -32.52691193458118,
          -35.35533905932737,
          -31.11269837220809,
          -28.2842712474619,
          -25.455844122715707,
          -28.2842712474619,
          -31.11269837220809,
          -28.2842712474619,
          -25.455844122715707,
          -28.2842712474619,
          -67.88225099390857,
          -70.71067811865476,
          -73.53910524340094,
          -70.71067811865476,
          -67.88225099390857,
          -70.71067811865476,
          -73.53910524340094,
          -70.71067811865476,
          -48.043851271027094,
          -51.9196963991546,
          -56.16233708627388,
          -52.28649195814637,
          -11.230252746105403,
          -15.106097874232912,
          -19.348738561352196,
          -15.472893433224687,
          -32.526911934581186,
          -35.35533905932738,
          -38.18376618407357,
          -35.35533905932738,
          -32.526911934581186,
          -35.35533905932738,
          -38.18376618407357,
          -35.35533905932738,
          -32.526911934581186,
          -35.35533905932738,
          -38.18376618407357,
          -35.35533905932738,
          -32.526911934581186,
          -35.35533905932738,
          -38.18376618407357,
          -35.35533905932738,
          -25.455844122715714,
          -28.284271247461906,
          -31.112698372208097,
          -28.284271247461906,
          -25.455844122715714,
          -28.284271247461906,
          -31.112698372208097,
          -28.284271247461906
         ],
         "z": [
          -62.5,
          -62.5,
          -62.5,
          -62.5,
          -37.5,
          -37.5,
          -37.5,
          -37.5,
          251.24165658120245,
          251.24165658120245,
          253.68207643965724,
          253.68207643965724,
          368.1754751594554,
          368.1754751594554,
          370.6158950179102,
          370.6158950179102,
          221.5,
          221.5,
          221.5,
          221.5,
          246.5,
          246.5,
          246.5,
          246.5,
          316.5,
          316.5,
          316.5,
          316.5,
          341.5,
          341.5,
          341.5,
          341.5,
          341.5,
          341.5,
          341.5,
          341.5,
          366.5,
          366.5,
          366.5,
          366.5,
          -62.5,
          -62.5,
          -62.5,
          -62.5,
          -37.5,
          -37.5,
          -37.5,
          -37.5,
          253.68207643965727,
          251.24165658120245,
          251.24165658120245,
          253.68207643965727,
          370.6158950179102,
          368.1754751594554,
          368.1754751594554,
          370.6158950179102,
          221.5,
          221.5,
          221.5,
          221.5,
          246.5,
          246.5,
          246.5,
          246.5,
          316.5,
          316.5,
          316.5,
          316.5,
          341.5,
          341.5,
          341.5,
          341.5,
          341.5,
          341.5,
          341.5,
          341.5,
          366.5,
          366.5,
          366.5,
          366.5,
          -62.5,
          -62.5,
          -62.5,
          -62.5,
          -37.5,
          -37.5,
          -37.5,
          -37.5,
          253.68207643965727,
          253.68207643965727,
          251.24165658120245,
          251.24165658120245,
          370.6158950179102,
          370.6158950179102,
          368.1754751594554,
          368.1754751594554,
          221.5,
          221.5,
          221.5,
          221.5,
          246.5,
          246.5,
          246.5,
          246.5,
          316.5,
          316.5,
          316.5,
          316.5,
          341.5,
          341.5,
          341.5,
          341.5,
          341.5,
          341.5,
          341.5,
          341.5,
          366.5,
          366.5,
          366.5,
          366.5,
          -62.5,
          -62.5,
          -62.5,
          -62.5,
          -37.5,
          -37.5,
          -37.5,
          -37.5,
          251.24165658120245,
          253.68207643965727,
          253.68207643965727,
          251.24165658120245,
          368.1754751594554,
          370.6158950179102,
          370.6158950179102,
          368.1754751594554,
          221.5,
          221.5,
          221.5,
          221.5,
          246.5,
          246.5,
          246.5,
          246.5,
          316.5,
          316.5,
          316.5,
          316.5,
          341.5,
          341.5,
          341.5,
          341.5,
          341.5,
          341.5,
          341.5,
          341.5,
          366.5,
          366.5,
          366.5,
          366.5
         ]
        },
        {
         "color": "#e15f99",
         "colorscale": [
          [
           0,
           "turquoise"
          ],
          [
           0.16,
           "turquoise"
          ],
          [
           0.26,
           "white"
          ],
          [
           0.74,
           "white"
          ],
          [
           0.8400000000000001,
           "magenta"
          ],
          [
           1,
           "magenta"
          ]
         ],
         "i": [
          7,
          0,
          0,
          0,
          4,
          4,
          2,
          6,
          4,
          0,
          3,
          7,
          15,
          8,
          8,
          8,
          12,
          12,
          10,
          14,
          12,
          8,
          11,
          15,
          23,
          16,
          16,
          16,
          20,
          20,
          18,
          22,
          20,
          16,
          19,
          23,
          31,
          24,
          24,
          24,
          28,
          28,
          26,
          30,
          28,
          24,
          27,
          31
         ],
         "intensity": [
          0,
          0,
          1,
          1,
          0,
          0,
          1,
          1,
          0,
          0,
          1,
          1,
          0,
          0,
          1,
          1,
          0,
          0,
          1,
          1,
          0,
          0,
          1,
          1,
          0,
          0,
          1,
          1,
          0,
          0,
          1,
          1
         ],
         "j": [
          0,
          7,
          1,
          2,
          6,
          7,
          1,
          2,
          5,
          5,
          2,
          2,
          8,
          15,
          9,
          10,
          14,
          15,
          9,
          10,
          13,
          13,
          10,
          10,
          16,
          23,
          17,
          18,
          22,
          23,
          17,
          18,
          21,
          21,
          18,
          18,
          24,
          31,
          25,
          26,
          30,
          31,
          25,
          26,
          29,
          29,
          26,
          26
         ],
         "k": [
          3,
          4,
          2,
          3,
          5,
          6,
          5,
          5,
          0,
          1,
          7,
          6,
          11,
          12,
          10,
          11,
          13,
          14,
          13,
          13,
          8,
          9,
          15,
          14,
          19,
          20,
          18,
          19,
          21,
          22,
          21,
          21,
          16,
          17,
          23,
          22,
          27,
          28,
          26,
          27,
          29,
          30,
          29,
          29,
          24,
          25,
          31,
          30
         ],
         "legendgroup": "Collection(id=2463643665472)",
         "name": "Collection (24 sources)",
         "opacity": 1,
         "showlegend": true,
         "showscale": false,
         "type": "mesh3d",
         "x": [
          106.31481538566953,
          106.31481538566953,
          112.23079160809256,
          112.23079160809256,
          84.96841580600845,
          84.96841580600845,
          90.88439202843148,
          90.88439202843148,
          3.0000000000000235,
          3.000000000000021,
          -2.999999999999979,
          -2.9999999999999765,
          3.0000000000000235,
          3.000000000000021,
          -2.999999999999979,
          -2.9999999999999765,
          -112.23079160809257,
          -112.23079160809256,
          -106.31481538566953,
          -106.31481538566953,
          -90.88439202843148,
          -90.88439202843148,
          -84.96841580600844,
          -84.96841580600845,
          2.999999999999979,
          2.9999999999999765,
          -3.0000000000000235,
          -3.000000000000021,
          2.999999999999979,
          2.9999999999999765,
          -3.0000000000000235,
          -3.000000000000021
         ],
         "y": [
          -3,
          3,
          3,
          -3,
          -3,
          3,
          3,
          -3,
          112.23079160809256,
          106.31481538566953,
          106.31481538566953,
          112.23079160809257,
          90.88439202843148,
          84.96841580600844,
          84.96841580600845,
          90.88439202843148,
          -2.9999999999999867,
          3.0000000000000133,
          3.0000000000000115,
          -2.9999999999999885,
          -2.9999999999999867,
          3.0000000000000133,
          3.0000000000000115,
          -2.9999999999999885,
          -106.31481538566953,
          -112.23079160809257,
          -112.23079160809256,
          -106.31481538566953,
          -84.96841580600845,
          -90.88439202843148,
          -90.88439202843148,
          -84.96841580600844
         ],
         "z": [
          -46.9271779410504,
          -46.9271779410504,
          -45.92656546075379,
          -45.92656546075379,
          79.28031480397424,
          79.28031480397424,
          80.28092728427085,
          80.28092728427085,
          -45.92656546075379,
          -46.9271779410504,
          -46.9271779410504,
          -45.92656546075379,
          80.28092728427085,
          79.28031480397424,
          79.28031480397424,
          80.28092728427085,
          -45.92656546075379,
          -45.92656546075379,
          -46.9271779410504,
          -46.9271779410504,
          80.28092728427085,
          80.28092728427085,
          79.28031480397424,
          79.28031480397424,
          -46.9271779410504,
          -45.92656546075379,
          -45.92656546075379,
          -46.9271779410504,
          79.28031480397424,
          80.28092728427085,
          80.28092728427085,
          79.28031480397424
         ]
        },
        {
         "legendgroup": "Collection(id=2463643665472)",
         "line": {
          "color": "black",
          "dash": "solid",
          "width": 4.4
         },
         "mode": "lines",
         "name": "Collection (24 sources)",
         "opacity": 1,
         "showlegend": false,
         "type": "scatter3d",
         "x": [
          null,
          98.5996037070505,
          287.91084282458723,
          268.9797189128336,
          287.91084282458723,
          268.9797189128336,
          287.91084282458723,
          287.91084282458723,
          null,
          2.220446049250313e-14,
          -191.99999999999974,
          -172.79999999999978,
          -191.99999999999974,
          -172.79999999999978,
          -191.99999999999974,
          -191.99999999999974,
          null,
          -98.5996037070505,
          90.71163541048622,
          71.78051149873258,
          90.71163541048622,
          71.78051149873258,
          90.71163541048622,
          90.71163541048622,
          null,
          -2.220446049250313e-14,
          -191.9999999999998,
          -172.79999999999984,
          -191.9999999999998,
          -172.79999999999984,
          -191.9999999999998,
          -191.9999999999998
         ],
         "y": [
          null,
          0,
          4.263256414560596e-14,
          11.520000000000024,
          4.263256414560596e-14,
          -11.519999999999946,
          4.263256414560596e-14,
          4.263256414560596e-14,
          null,
          98.5996037070505,
          98.59960370705055,
          87.24092935999835,
          98.59960370705055,
          109.95827805410275,
          98.59960370705055,
          98.59960370705055,
          null,
          1.2246063538223773e-14,
          7.853743697050503e-15,
          11.519999999999994,
          7.853743697050503e-15,
          -11.519999999999976,
          7.853743697050503e-15,
          7.853743697050503e-15,
          null,
          -98.5996037070505,
          -98.59960370705046,
          -109.95827805410266,
          -98.59960370705046,
          -87.24092935999826,
          -98.59960370705046,
          -98.59960370705046
         ],
         "z": [
          null,
          16.676874671610225,
          48.69647404110182,
          45.494514104152664,
          48.69647404110182,
          45.494514104152664,
          48.69647404110182,
          48.69647404110182,
          null,
          16.676874671610225,
          16.676874671610232,
          14.755698709440736,
          16.676874671610232,
          18.598050633779728,
          16.676874671610232,
          16.676874671610232,
          null,
          16.676874671610225,
          -15.34272469788137,
          -12.140764760932214,
          -15.34272469788137,
          -12.140764760932214,
          -15.34272469788137,
          -15.34272469788137,
          null,
          16.676874671610225,
          16.676874671610218,
          18.598050633779714,
          16.676874671610218,
          14.755698709440724,
          16.676874671610218,
          16.676874671610218
         ]
        },
        {
         "color": "#e15f99",
         "colorscale": [
          [
           0,
           "#00b050"
          ],
          [
           0.16,
           "#00b050"
          ],
          [
           0.26,
           "#dddddd"
          ],
          [
           0.74,
           "#dddddd"
          ],
          [
           0.8400000000000001,
           "#e71111"
          ],
          [
           1,
           "#e71111"
          ]
         ],
         "i": [
          7,
          0,
          0,
          0,
          4,
          4,
          2,
          6,
          4,
          0,
          3,
          7,
          15,
          8,
          8,
          8,
          12,
          12,
          10,
          14,
          12,
          8,
          11,
          15,
          23,
          16,
          16,
          16,
          20,
          20,
          18,
          22,
          20,
          16,
          19,
          23,
          31,
          24,
          24,
          24,
          28,
          28,
          26,
          30,
          28,
          24,
          27,
          31,
          39,
          32,
          32,
          32,
          36,
          36,
          34,
          38,
          36,
          32,
          35,
          39,
          47,
          40,
          40,
          40,
          44,
          44,
          42,
          46,
          44,
          40,
          43,
          47,
          55,
          48,
          48,
          48,
          52,
          52,
          50,
          54,
          52,
          48,
          51,
          55,
          63,
          56,
          56,
          56,
          60,
          60,
          58,
          62,
          60,
          56,
          59,
          63,
          71,
          64,
          64,
          64,
          68,
          68,
          66,
          70,
          68,
          64,
          67,
          71,
          79,
          72,
          72,
          72,
          76,
          76,
          74,
          78,
          76,
          72,
          75,
          79,
          87,
          80,
          80,
          80,
          84,
          84,
          82,
          86,
          84,
          80,
          83,
          87,
          95,
          88,
          88,
          88,
          92,
          92,
          90,
          94,
          92,
          88,
          91,
          95,
          103,
          96,
          96,
          96,
          100,
          100,
          98,
          102,
          100,
          96,
          99,
          103,
          111,
          104,
          104,
          104,
          108,
          108,
          106,
          110,
          108,
          104,
          107,
          111,
          119,
          112,
          112,
          112,
          116,
          116,
          114,
          118,
          116,
          112,
          115,
          119,
          127,
          120,
          120,
          120,
          124,
          124,
          122,
          126,
          124,
          120,
          123,
          127,
          135,
          128,
          128,
          128,
          132,
          132,
          130,
          134,
          132,
          128,
          131,
          135,
          143,
          136,
          136,
          136,
          140,
          140,
          138,
          142,
          140,
          136,
          139,
          143,
          151,
          144,
          144,
          144,
          148,
          148,
          146,
          150,
          148,
          144,
          147,
          151,
          159,
          152,
          152,
          152,
          156,
          156,
          154,
          158,
          156,
          152,
          155,
          159
         ],
         "intensity": [
          0,
          0,
          1,
          1,
          0,
          0,
          1,
          1,
          1,
          1,
          0,
          0,
          1,
          1,
          0,
          0,
          1,
          1,
          0,
          0,
          1,
          1,
          0,
          0,
          0,
          0,
          1,
          1,
          0,
          0,
          1,
          1,
          0,
          0,
          1,
          1,
          0,
          0,
          1,
          1,
          0,
          0,
          1,
          1,
          0,
          0,
          1,
          1,
          1,
          1,
          0,
          0,
          1,
          1,
          0,
          0,
          1,
          1,
          0,
          0,
          1,
          1,
          0,
          0,
          0,
          0,
          1,
          1,
          0,
          0,
          1,
          1,
          0,
          0,
          1,
          1,
          0,
          0,
          1,
          1,
          0,
          0,
          1,
          1,
          0,
          0,
          1,
          1,
          1,
          1,
          0,
          0,
          1,
          1,
          0,
          0,
          1,
          1,
          0,
          0,
          1,
          1,
          0,
          0,
          0,
          0,
          1,
          1,
          0,
          0,
          1,
          1,
          0,
          0,
          1,
          1,
          0,
          0,
          1,
          1,
          0,
          0,
          1,
          1,
          0,
          0,
          1,
          1,
          1,
          1,
          0,
          0,
          1,
          1,
          0,
          0,
          1,
          1,
          0,
          0,
          1,
          1,
          0,
          0,
          0,
          0,
          1,
          1,
          0,
          0,
          1,
          1,
          0,
          0,
          1,
          1,
          0,
          0,
          1,
          1
         ],
         "j": [
          0,
          7,
          1,
          2,
          6,
          7,
          1,
          2,
          5,
          5,
          2,
          2,
          8,
          15,
          9,
          10,
          14,
          15,
          9,
          10,
          13,
          13,
          10,
          10,
          16,
          23,
          17,
          18,
          22,
          23,
          17,
          18,
          21,
          21,
          18,
          18,
          24,
          31,
          25,
          26,
          30,
          31,
          25,
          26,
          29,
          29,
          26,
          26,
          32,
          39,
          33,
          34,
          38,
          39,
          33,
          34,
          37,
          37,
          34,
          34,
          40,
          47,
          41,
          42,
          46,
          47,
          41,
          42,
          45,
          45,
          42,
          42,
          48,
          55,
          49,
          50,
          54,
          55,
          49,
          50,
          53,
          53,
          50,
          50,
          56,
          63,
          57,
          58,
          62,
          63,
          57,
          58,
          61,
          61,
          58,
          58,
          64,
          71,
          65,
          66,
          70,
          71,
          65,
          66,
          69,
          69,
          66,
          66,
          72,
          79,
          73,
          74,
          78,
          79,
          73,
          74,
          77,
          77,
          74,
          74,
          80,
          87,
          81,
          82,
          86,
          87,
          81,
          82,
          85,
          85,
          82,
          82,
          88,
          95,
          89,
          90,
          94,
          95,
          89,
          90,
          93,
          93,
          90,
          90,
          96,
          103,
          97,
          98,
          102,
          103,
          97,
          98,
          101,
          101,
          98,
          98,
          104,
          111,
          105,
          106,
          110,
          111,
          105,
          106,
          109,
          109,
          106,
          106,
          112,
          119,
          113,
          114,
          118,
          119,
          113,
          114,
          117,
          117,
          114,
          114,
          120,
          127,
          121,
          122,
          126,
          127,
          121,
          122,
          125,
          125,
          122,
          122,
          128,
          135,
          129,
          130,
          134,
          135,
          129,
          130,
          133,
          133,
          130,
          130,
          136,
          143,
          137,
          138,
          142,
          143,
          137,
          138,
          141,
          141,
          138,
          138,
          144,
          151,
          145,
          146,
          150,
          151,
          145,
          146,
          149,
          149,
          146,
          146,
          152,
          159,
          153,
          154,
          158,
          159,
          153,
          154,
          157,
          157,
          154,
          154
         ],
         "k": [
          3,
          4,
          2,
          3,
          5,
          6,
          5,
          5,
          0,
          1,
          7,
          6,
          11,
          12,
          10,
          11,
          13,
          14,
          13,
          13,
          8,
          9,
          15,
          14,
          19,
          20,
          18,
          19,
          21,
          22,
          21,
          21,
          16,
          17,
          23,
          22,
          27,
          28,
          26,
          27,
          29,
          30,
          29,
          29,
          24,
          25,
          31,
          30,
          35,
          36,
          34,
          35,
          37,
          38,
          37,
          37,
          32,
          33,
          39,
          38,
          43,
          44,
          42,
          43,
          45,
          46,
          45,
          45,
          40,
          41,
          47,
          46,
          51,
          52,
          50,
          51,
          53,
          54,
          53,
          53,
          48,
          49,
          55,
          54,
          59,
          60,
          58,
          59,
          61,
          62,
          61,
          61,
          56,
          57,
          63,
          62,
          67,
          68,
          66,
          67,
          69,
          70,
          69,
          69,
          64,
          65,
          71,
          70,
          75,
          76,
          74,
          75,
          77,
          78,
          77,
          77,
          72,
          73,
          79,
          78,
          83,
          84,
          82,
          83,
          85,
          86,
          85,
          85,
          80,
          81,
          87,
          86,
          91,
          92,
          90,
          91,
          93,
          94,
          93,
          93,
          88,
          89,
          95,
          94,
          99,
          100,
          98,
          99,
          101,
          102,
          101,
          101,
          96,
          97,
          103,
          102,
          107,
          108,
          106,
          107,
          109,
          110,
          109,
          109,
          104,
          105,
          111,
          110,
          115,
          116,
          114,
          115,
          117,
          118,
          117,
          117,
          112,
          113,
          119,
          118,
          123,
          124,
          122,
          123,
          125,
          126,
          125,
          125,
          120,
          121,
          127,
          126,
          131,
          132,
          130,
          131,
          133,
          134,
          133,
          133,
          128,
          129,
          135,
          134,
          139,
          140,
          138,
          139,
          141,
          142,
          141,
          141,
          136,
          137,
          143,
          142,
          147,
          148,
          146,
          147,
          149,
          150,
          149,
          149,
          144,
          145,
          151,
          150,
          155,
          156,
          154,
          155,
          157,
          158,
          157,
          157,
          152,
          153,
          159,
          158
         ],
         "legendgroup": "Collection(id=2463643665472)",
         "name": "Collection (24 sources)",
         "opacity": 1,
         "showlegend": false,
         "showscale": false,
         "type": "mesh3d",
         "x": [
          98,
          98,
          102,
          102,
          98,
          98,
          102,
          102,
          70.94426605612234,
          70.94426605612234,
          76.42553880197795,
          76.42553880197795,
          18.881975742419915,
          18.881975742419915,
          24.36324848827552,
          24.36324848827552,
          48,
          48,
          52,
          52,
          48,
          48,
          52,
          52,
          48,
          48,
          52,
          52,
          48,
          48,
          52,
          52,
          38,
          38,
          42,
          42,
          38,
          38,
          42,
          42,
          2.000000000000023,
          2.0000000000000213,
          -1.9999999999999787,
          -1.999999999999977,
          2.000000000000023,
          2.0000000000000213,
          -1.9999999999999787,
          -1.999999999999977,
          3.00000000000004,
          3.0000000000000373,
          -2.9999999999999645,
          -2.999999999999962,
          3.00000000000004,
          3.0000000000000373,
          -2.9999999999999645,
          -2.999999999999962,
          2.000000000000012,
          2.00000000000001,
          -1.9999999999999898,
          -1.999999999999988,
          2.000000000000012,
          2.00000000000001,
          -1.9999999999999898,
          -1.999999999999988,
          2.000000000000012,
          2.00000000000001,
          -1.9999999999999898,
          -1.999999999999988,
          2.000000000000012,
          2.00000000000001,
          -1.9999999999999898,
          -1.999999999999988,
          2.0000000000000098,
          2.000000000000008,
          -1.999999999999992,
          -1.9999999999999902,
          2.0000000000000098,
          2.000000000000008,
          -1.999999999999992,
          -1.9999999999999902,
          -102,
          -102,
          -98,
          -98,
          -102,
          -102,
          -98,
          -98,
          -76.42553880197795,
          -76.42553880197795,
          -70.94426605612234,
          -70.94426605612234,
          -24.36324848827552,
          -24.36324848827552,
          -18.881975742419915,
          -18.881975742419915,
          -52,
          -52,
          -48,
          -48,
          -52,
          -52,
          -48,
          -48,
          -52,
          -52,
          -48,
          -48,
          -52,
          -52,
          -48,
          -48,
          -42,
          -42,
          -38,
          -38,
          -42,
          -42,
          -38,
          -38,
          1.9999999999999787,
          1.999999999999977,
          -2.000000000000023,
          -2.0000000000000213,
          1.9999999999999787,
          1.999999999999977,
          -2.000000000000023,
          -2.0000000000000213,
          2.9999999999999645,
          2.999999999999962,
          -3.00000000000004,
          -3.0000000000000373,
          2.9999999999999645,
          2.999999999999962,
          -3.00000000000004,
          -3.0000000000000373,
          1.9999999999999898,
          1.999999999999988,
          -2.000000000000012,
          -2.00000000000001,
          1.9999999999999898,
          1.999999999999988,
          -2.000000000000012,
          -2.00000000000001,
          1.9999999999999898,
          1.999999999999988,
          -2.000000000000012,
          -2.00000000000001,
          1.9999999999999898,
          1.999999999999988,
          -2.000000000000012,
          -2.00000000000001,
          1.999999999999992,
          1.9999999999999902,
          -2.0000000000000098,
          -2.000000000000008,
          1.999999999999992,
          1.9999999999999902,
          -2.0000000000000098,
          -2.000000000000008
         ],
         "y": [
          -2,
          2,
          2,
          -2,
          -2,
          2,
          2,
          -2,
          -3.000000000000001,
          3.000000000000001,
          3.000000000000001,
          -3.000000000000001,
          -3.000000000000001,
          3.000000000000001,
          3.000000000000001,
          -3.000000000000001,
          -2,
          2,
          2,
          -2,
          -2,
          2,
          2,
          -2,
          -2,
          2,
          2,
          -2,
          -2,
          2,
          2,
          -2,
          -2,
          2,
          2,
          -2,
          -2,
          2,
          2,
          -2,
          102,
          98,
          98,
          102,
          102,
          98,
          98,
          102,
          76.42553880197795,
          70.94426605612233,
          70.94426605612234,
          76.42553880197795,
          24.36324848827552,
          18.88197574241991,
          18.881975742419915,
          24.363248488275524,
          52,
          48,
          48,
          52,
          52,
          48,
          48,
          52,
          52,
          48,
          48,
          52,
          52,
          48,
          48,
          52,
          42,
          38,
          38,
          42,
          42,
          38,
          38,
          42,
          -1.9999999999999873,
          2.000000000000013,
          2.000000000000012,
          -1.9999999999999882,
          -1.9999999999999873,
          2.000000000000013,
          2.000000000000012,
          -1.9999999999999882,
          -2.999999999999979,
          3.0000000000000226,
          3.000000000000021,
          -2.999999999999981,
          -2.999999999999979,
          3.0000000000000226,
          3.000000000000021,
          -2.999999999999981,
          -1.9999999999999933,
          2.0000000000000067,
          2.0000000000000058,
          -1.9999999999999942,
          -1.9999999999999933,
          2.0000000000000067,
          2.0000000000000058,
          -1.9999999999999942,
          -1.9999999999999933,
          2.0000000000000067,
          2.0000000000000058,
          -1.9999999999999942,
          -1.9999999999999933,
          2.0000000000000067,
          2.0000000000000058,
          -1.9999999999999942,
          -1.9999999999999947,
          2.0000000000000053,
          2.0000000000000044,
          -1.9999999999999956,
          -1.9999999999999947,
          2.0000000000000053,
          2.0000000000000044,
          -1.9999999999999956,
          -98,
          -102,
          -102,
          -98,
          -98,
          -102,
          -102,
          -98,
          -70.94426605612234,
          -76.42553880197795,
          -76.42553880197795,
          -70.94426605612233,
          -18.881975742419915,
          -24.363248488275524,
          -24.36324848827552,
          -18.88197574241991,
          -48,
          -52,
          -52,
          -48,
          -48,
          -52,
          -52,
          -48,
          -48,
          -52,
          -52,
          -48,
          -48,
          -52,
          -52,
          -48,
          -38,
          -42,
          -42,
          -38,
          -38,
          -42,
          -42,
          -38
         ],
         "z": [
          -47.5,
          -47.5,
          -47.5,
          -47.5,
          -22.5,
          -22.5,
          -22.5,
          -22.5,
          251.24165658120245,
          251.24165658120245,
          253.68207643965724,
          253.68207643965724,
          368.1754751594554,
          368.1754751594554,
          370.6158950179102,
          370.6158950179102,
          221.5,
          221.5,
          221.5,
          221.5,
          246.5,
          246.5,
          246.5,
          246.5,
          316.5,
          316.5,
          316.5,
          316.5,
          341.5,
          341.5,
          341.5,
          341.5,
          341.5,
          341.5,
          341.5,
          341.5,
          366.5,
          366.5,
          366.5,
          366.5,
          -47.5,
          -47.5,
          -47.5,
          -47.5,
          -22.5,
          -22.5,
          -22.5,
          -22.5,
          253.68207643965724,
          251.24165658120245,
          251.24165658120245,
          253.68207643965724,
          370.6158950179102,
          368.1754751594554,
          368.1754751594554,
          370.6158950179102,
          221.5,
          221.5,
          221.5,
          221.5,
          246.5,
          246.5,
          246.5,
          246.5,
          316.5,
          316.5,
          316.5,
          316.5,
          341.5,
          341.5,
          341.5,
          341.5,
          341.5,
          341.5,
          341.5,
          341.5,
          366.5,
          366.5,
          366.5,
          366.5,
          -47.5,
          -47.5,
          -47.5,
          -47.5,
          -22.5,
          -22.5,
          -22.5,
          -22.5,
          253.68207643965724,
          253.68207643965724,
          251.24165658120245,
          251.24165658120245,
          370.6158950179102,
          370.6158950179102,
          368.1754751594554,
          368.1754751594554,
          221.5,
          221.5,
          221.5,
          221.5,
          246.5,
          246.5,
          246.5,
          246.5,
          316.5,
          316.5,
          316.5,
          316.5,
          341.5,
          341.5,
          341.5,
          341.5,
          341.5,
          341.5,
          341.5,
          341.5,
          366.5,
          366.5,
          366.5,
          366.5,
          -47.5,
          -47.5,
          -47.5,
          -47.5,
          -22.5,
          -22.5,
          -22.5,
          -22.5,
          251.24165658120245,
          253.68207643965724,
          253.68207643965724,
          251.24165658120245,
          368.1754751594554,
          370.6158950179102,
          370.6158950179102,
          368.1754751594554,
          221.5,
          221.5,
          221.5,
          221.5,
          246.5,
          246.5,
          246.5,
          246.5,
          316.5,
          316.5,
          316.5,
          316.5,
          341.5,
          341.5,
          341.5,
          341.5,
          341.5,
          341.5,
          341.5,
          341.5,
          366.5,
          366.5,
          366.5,
          366.5
         ]
        }
       ],
       "layout": {
        "legend": {
         "itemsizing": "constant"
        },
        "scene": {
         "aspectmode": "manual",
         "aspectratio": {
          "x": 1,
          "y": 1,
          "z": 1
         },
         "camera": {
          "eye": {
           "x": 1,
           "y": -1.5,
           "z": 1.4
          }
         },
         "xaxis": {
          "autorange": false,
          "range": [
           -205.48495039122088,
           287.91084282458723
          ],
          "title": {
           "text": "x (m)"
          }
         },
         "yaxis": {
          "autorange": false,
          "range": [
           -247.6485171343923,
           245.7472760814158
          ],
          "title": {
           "text": "y (m)"
          }
         },
         "zaxis": {
          "autorange": false,
          "range": [
           -92.63994909894896,
           400.7558441168592
          ],
          "title": {
           "text": "z (m)"
          }
         }
        },
        "template": {
         "data": {
          "bar": [
           {
            "error_x": {
             "color": "#2a3f5f"
            },
            "error_y": {
             "color": "#2a3f5f"
            },
            "marker": {
             "line": {
              "color": "#E5ECF6",
              "width": 0.5
             },
             "pattern": {
              "fillmode": "overlay",
              "size": 10,
              "solidity": 0.2
             }
            },
            "type": "bar"
           }
          ],
          "barpolar": [
           {
            "marker": {
             "line": {
              "color": "#E5ECF6",
              "width": 0.5
             },
             "pattern": {
              "fillmode": "overlay",
              "size": 10,
              "solidity": 0.2
             }
            },
            "type": "barpolar"
           }
          ],
          "carpet": [
           {
            "aaxis": {
             "endlinecolor": "#2a3f5f",
             "gridcolor": "white",
             "linecolor": "white",
             "minorgridcolor": "white",
             "startlinecolor": "#2a3f5f"
            },
            "baxis": {
             "endlinecolor": "#2a3f5f",
             "gridcolor": "white",
             "linecolor": "white",
             "minorgridcolor": "white",
             "startlinecolor": "#2a3f5f"
            },
            "type": "carpet"
           }
          ],
          "choropleth": [
           {
            "colorbar": {
             "outlinewidth": 0,
             "ticks": ""
            },
            "type": "choropleth"
           }
          ],
          "contour": [
           {
            "colorbar": {
             "outlinewidth": 0,
             "ticks": ""
            },
            "colorscale": [
             [
              0,
              "#0d0887"
             ],
             [
              0.1111111111111111,
              "#46039f"
             ],
             [
              0.2222222222222222,
              "#7201a8"
             ],
             [
              0.3333333333333333,
              "#9c179e"
             ],
             [
              0.4444444444444444,
              "#bd3786"
             ],
             [
              0.5555555555555556,
              "#d8576b"
             ],
             [
              0.6666666666666666,
              "#ed7953"
             ],
             [
              0.7777777777777778,
              "#fb9f3a"
             ],
             [
              0.8888888888888888,
              "#fdca26"
             ],
             [
              1,
              "#f0f921"
             ]
            ],
            "type": "contour"
           }
          ],
          "contourcarpet": [
           {
            "colorbar": {
             "outlinewidth": 0,
             "ticks": ""
            },
            "type": "contourcarpet"
           }
          ],
          "heatmap": [
           {
            "colorbar": {
             "outlinewidth": 0,
             "ticks": ""
            },
            "colorscale": [
             [
              0,
              "#0d0887"
             ],
             [
              0.1111111111111111,
              "#46039f"
             ],
             [
              0.2222222222222222,
              "#7201a8"
             ],
             [
              0.3333333333333333,
              "#9c179e"
             ],
             [
              0.4444444444444444,
              "#bd3786"
             ],
             [
              0.5555555555555556,
              "#d8576b"
             ],
             [
              0.6666666666666666,
              "#ed7953"
             ],
             [
              0.7777777777777778,
              "#fb9f3a"
             ],
             [
              0.8888888888888888,
              "#fdca26"
             ],
             [
              1,
              "#f0f921"
             ]
            ],
            "type": "heatmap"
           }
          ],
          "heatmapgl": [
           {
            "colorbar": {
             "outlinewidth": 0,
             "ticks": ""
            },
            "colorscale": [
             [
              0,
              "#0d0887"
             ],
             [
              0.1111111111111111,
              "#46039f"
             ],
             [
              0.2222222222222222,
              "#7201a8"
             ],
             [
              0.3333333333333333,
              "#9c179e"
             ],
             [
              0.4444444444444444,
              "#bd3786"
             ],
             [
              0.5555555555555556,
              "#d8576b"
             ],
             [
              0.6666666666666666,
              "#ed7953"
             ],
             [
              0.7777777777777778,
              "#fb9f3a"
             ],
             [
              0.8888888888888888,
              "#fdca26"
             ],
             [
              1,
              "#f0f921"
             ]
            ],
            "type": "heatmapgl"
           }
          ],
          "histogram": [
           {
            "marker": {
             "pattern": {
              "fillmode": "overlay",
              "size": 10,
              "solidity": 0.2
             }
            },
            "type": "histogram"
           }
          ],
          "histogram2d": [
           {
            "colorbar": {
             "outlinewidth": 0,
             "ticks": ""
            },
            "colorscale": [
             [
              0,
              "#0d0887"
             ],
             [
              0.1111111111111111,
              "#46039f"
             ],
             [
              0.2222222222222222,
              "#7201a8"
             ],
             [
              0.3333333333333333,
              "#9c179e"
             ],
             [
              0.4444444444444444,
              "#bd3786"
             ],
             [
              0.5555555555555556,
              "#d8576b"
             ],
             [
              0.6666666666666666,
              "#ed7953"
             ],
             [
              0.7777777777777778,
              "#fb9f3a"
             ],
             [
              0.8888888888888888,
              "#fdca26"
             ],
             [
              1,
              "#f0f921"
             ]
            ],
            "type": "histogram2d"
           }
          ],
          "histogram2dcontour": [
           {
            "colorbar": {
             "outlinewidth": 0,
             "ticks": ""
            },
            "colorscale": [
             [
              0,
              "#0d0887"
             ],
             [
              0.1111111111111111,
              "#46039f"
             ],
             [
              0.2222222222222222,
              "#7201a8"
             ],
             [
              0.3333333333333333,
              "#9c179e"
             ],
             [
              0.4444444444444444,
              "#bd3786"
             ],
             [
              0.5555555555555556,
              "#d8576b"
             ],
             [
              0.6666666666666666,
              "#ed7953"
             ],
             [
              0.7777777777777778,
              "#fb9f3a"
             ],
             [
              0.8888888888888888,
              "#fdca26"
             ],
             [
              1,
              "#f0f921"
             ]
            ],
            "type": "histogram2dcontour"
           }
          ],
          "mesh3d": [
           {
            "colorbar": {
             "outlinewidth": 0,
             "ticks": ""
            },
            "type": "mesh3d"
           }
          ],
          "parcoords": [
           {
            "line": {
             "colorbar": {
              "outlinewidth": 0,
              "ticks": ""
             }
            },
            "type": "parcoords"
           }
          ],
          "pie": [
           {
            "automargin": true,
            "type": "pie"
           }
          ],
          "scatter": [
           {
            "fillpattern": {
             "fillmode": "overlay",
             "size": 10,
             "solidity": 0.2
            },
            "type": "scatter"
           }
          ],
          "scatter3d": [
           {
            "line": {
             "colorbar": {
              "outlinewidth": 0,
              "ticks": ""
             }
            },
            "marker": {
             "colorbar": {
              "outlinewidth": 0,
              "ticks": ""
             }
            },
            "type": "scatter3d"
           }
          ],
          "scattercarpet": [
           {
            "marker": {
             "colorbar": {
              "outlinewidth": 0,
              "ticks": ""
             }
            },
            "type": "scattercarpet"
           }
          ],
          "scattergeo": [
           {
            "marker": {
             "colorbar": {
              "outlinewidth": 0,
              "ticks": ""
             }
            },
            "type": "scattergeo"
           }
          ],
          "scattergl": [
           {
            "marker": {
             "colorbar": {
              "outlinewidth": 0,
              "ticks": ""
             }
            },
            "type": "scattergl"
           }
          ],
          "scattermapbox": [
           {
            "marker": {
             "colorbar": {
              "outlinewidth": 0,
              "ticks": ""
             }
            },
            "type": "scattermapbox"
           }
          ],
          "scatterpolar": [
           {
            "marker": {
             "colorbar": {
              "outlinewidth": 0,
              "ticks": ""
             }
            },
            "type": "scatterpolar"
           }
          ],
          "scatterpolargl": [
           {
            "marker": {
             "colorbar": {
              "outlinewidth": 0,
              "ticks": ""
             }
            },
            "type": "scatterpolargl"
           }
          ],
          "scatterternary": [
           {
            "marker": {
             "colorbar": {
              "outlinewidth": 0,
              "ticks": ""
             }
            },
            "type": "scatterternary"
           }
          ],
          "surface": [
           {
            "colorbar": {
             "outlinewidth": 0,
             "ticks": ""
            },
            "colorscale": [
             [
              0,
              "#0d0887"
             ],
             [
              0.1111111111111111,
              "#46039f"
             ],
             [
              0.2222222222222222,
              "#7201a8"
             ],
             [
              0.3333333333333333,
              "#9c179e"
             ],
             [
              0.4444444444444444,
              "#bd3786"
             ],
             [
              0.5555555555555556,
              "#d8576b"
             ],
             [
              0.6666666666666666,
              "#ed7953"
             ],
             [
              0.7777777777777778,
              "#fb9f3a"
             ],
             [
              0.8888888888888888,
              "#fdca26"
             ],
             [
              1,
              "#f0f921"
             ]
            ],
            "type": "surface"
           }
          ],
          "table": [
           {
            "cells": {
             "fill": {
              "color": "#EBF0F8"
             },
             "line": {
              "color": "white"
             }
            },
            "header": {
             "fill": {
              "color": "#C8D4E3"
             },
             "line": {
              "color": "white"
             }
            },
            "type": "table"
           }
          ]
         },
         "layout": {
          "annotationdefaults": {
           "arrowcolor": "#2a3f5f",
           "arrowhead": 0,
           "arrowwidth": 1
          },
          "autotypenumbers": "strict",
          "coloraxis": {
           "colorbar": {
            "outlinewidth": 0,
            "ticks": ""
           }
          },
          "colorscale": {
           "diverging": [
            [
             0,
             "#8e0152"
            ],
            [
             0.1,
             "#c51b7d"
            ],
            [
             0.2,
             "#de77ae"
            ],
            [
             0.3,
             "#f1b6da"
            ],
            [
             0.4,
             "#fde0ef"
            ],
            [
             0.5,
             "#f7f7f7"
            ],
            [
             0.6,
             "#e6f5d0"
            ],
            [
             0.7,
             "#b8e186"
            ],
            [
             0.8,
             "#7fbc41"
            ],
            [
             0.9,
             "#4d9221"
            ],
            [
             1,
             "#276419"
            ]
           ],
           "sequential": [
            [
             0,
             "#0d0887"
            ],
            [
             0.1111111111111111,
             "#46039f"
            ],
            [
             0.2222222222222222,
             "#7201a8"
            ],
            [
             0.3333333333333333,
             "#9c179e"
            ],
            [
             0.4444444444444444,
             "#bd3786"
            ],
            [
             0.5555555555555556,
             "#d8576b"
            ],
            [
             0.6666666666666666,
             "#ed7953"
            ],
            [
             0.7777777777777778,
             "#fb9f3a"
            ],
            [
             0.8888888888888888,
             "#fdca26"
            ],
            [
             1,
             "#f0f921"
            ]
           ],
           "sequentialminus": [
            [
             0,
             "#0d0887"
            ],
            [
             0.1111111111111111,
             "#46039f"
            ],
            [
             0.2222222222222222,
             "#7201a8"
            ],
            [
             0.3333333333333333,
             "#9c179e"
            ],
            [
             0.4444444444444444,
             "#bd3786"
            ],
            [
             0.5555555555555556,
             "#d8576b"
            ],
            [
             0.6666666666666666,
             "#ed7953"
            ],
            [
             0.7777777777777778,
             "#fb9f3a"
            ],
            [
             0.8888888888888888,
             "#fdca26"
            ],
            [
             1,
             "#f0f921"
            ]
           ]
          },
          "colorway": [
           "#636efa",
           "#EF553B",
           "#00cc96",
           "#ab63fa",
           "#FFA15A",
           "#19d3f3",
           "#FF6692",
           "#B6E880",
           "#FF97FF",
           "#FECB52"
          ],
          "font": {
           "color": "#2a3f5f"
          },
          "geo": {
           "bgcolor": "white",
           "lakecolor": "white",
           "landcolor": "#E5ECF6",
           "showlakes": true,
           "showland": true,
           "subunitcolor": "white"
          },
          "hoverlabel": {
           "align": "left"
          },
          "hovermode": "closest",
          "mapbox": {
           "style": "light"
          },
          "paper_bgcolor": "white",
          "plot_bgcolor": "#E5ECF6",
          "polar": {
           "angularaxis": {
            "gridcolor": "white",
            "linecolor": "white",
            "ticks": ""
           },
           "bgcolor": "#E5ECF6",
           "radialaxis": {
            "gridcolor": "white",
            "linecolor": "white",
            "ticks": ""
           }
          },
          "scene": {
           "xaxis": {
            "backgroundcolor": "#E5ECF6",
            "gridcolor": "white",
            "gridwidth": 2,
            "linecolor": "white",
            "showbackground": true,
            "ticks": "",
            "zerolinecolor": "white"
           },
           "yaxis": {
            "backgroundcolor": "#E5ECF6",
            "gridcolor": "white",
            "gridwidth": 2,
            "linecolor": "white",
            "showbackground": true,
            "ticks": "",
            "zerolinecolor": "white"
           },
           "zaxis": {
            "backgroundcolor": "#E5ECF6",
            "gridcolor": "white",
            "gridwidth": 2,
            "linecolor": "white",
            "showbackground": true,
            "ticks": "",
            "zerolinecolor": "white"
           }
          },
          "shapedefaults": {
           "line": {
            "color": "#2a3f5f"
           }
          },
          "ternary": {
           "aaxis": {
            "gridcolor": "white",
            "linecolor": "white",
            "ticks": ""
           },
           "baxis": {
            "gridcolor": "white",
            "linecolor": "white",
            "ticks": ""
           },
           "bgcolor": "#E5ECF6",
           "caxis": {
            "gridcolor": "white",
            "linecolor": "white",
            "ticks": ""
           }
          },
          "title": {
           "x": 0.05
          },
          "xaxis": {
           "automargin": true,
           "gridcolor": "white",
           "linecolor": "white",
           "ticks": "",
           "title": {
            "standoff": 15
           },
           "zerolinecolor": "white",
           "zerolinewidth": 2
          },
          "yaxis": {
           "automargin": true,
           "gridcolor": "white",
           "linecolor": "white",
           "ticks": "",
           "title": {
            "standoff": 15
           },
           "zerolinecolor": "white",
           "zerolinewidth": 2
          }
         }
        }
       }
      }
     },
     "metadata": {},
     "output_type": "display_data"
    }
   ],
   "source": [
    "zeeman_prof_x = magpy.Collection()\n",
    "j = 0\n",
    "n = 4\n",
    "#a = 30\n",
    "l =[-an1,an1,an1,-an1]\n",
    "l2 = [-an2,an2,an2,-an2]\n",
    "ll = ['y','x','y','x']\n",
    "angles = np.linspace(0, 360, n, endpoint=False)\n",
    "for i in angles:\n",
    "    cube1= magpy.magnet.Cuboid(\n",
    "    dimension=(6,6,128),\n",
    "    polarization=(1.080,0,0),\n",
    "    position=(70+a,0,0),\n",
    "    style_magnetization = mystyle)\n",
    "    cube2 = magpy.magnet.Cuboid(dimension= (4,4,25),\n",
    "    polarization=(1.17*1e3,0,0),\n",
    "    position=(70+a,0,-50))\n",
    "    cube3= magpy.magnet.Cuboid(\n",
    "    dimension=(6,6,128),\n",
    "    polarization=(1.08*1e3,0,0),\n",
    "    position=(140+a,0,264.6650415192161)\n",
    "   )\n",
    "    cube4 = magpy.magnet.Cuboid(dimension= (4,4,25),\n",
    "    polarization=(1.17*1e3,0,0),\n",
    "    position=(20+a,0,140+94) )\n",
    "    cube5 = magpy.magnet.Cuboid(dimension= (4,4,25),\n",
    "    polarization=(1.17*1e3,0,0),\n",
    "    position=(20+a,0,235+94)\n",
    "  )\n",
    "    cube6 = magpy.magnet.Cuboid(dimension= (4,4,25),\n",
    "    polarization=(1.08*1e3,0,0),\n",
    "    position= (10+a,0,260+94)\n",
    " )\n",
    "    cube1.rotate_from_angax(i, 'z', anchor=0)\n",
    "    cube1.rotate_from_angax(i, 'z')\n",
    "    cube1.rotate_from_angax(l[j], ll[j],anchor=0)\n",
    "    cube2.rotate_from_angax(i, 'z', anchor=0)\n",
    "    cube2.rotate_from_angax(i, 'z')\n",
    "    cube3.rotate_from_angax(i, 'z', anchor=0)\n",
    "    cube3.rotate_from_angax(i, 'z')\n",
    "    cube3.rotate_from_angax(l2[j], ll[j],anchor = 0)\n",
    "    cube4.rotate_from_angax(i, 'z', anchor=0)\n",
    "    cube4.rotate_from_angax(i, 'z')\n",
    "    cube5.rotate_from_angax(i, 'z', anchor=0)\n",
    "    cube5.rotate_from_angax(i, 'z')\n",
    "    cube6.rotate_from_angax(i, 'z', anchor=0)\n",
    "    cube6.rotate_from_angax(i, 'z')\n",
    "\n",
    "    zeeman_prof_x.add(cube1)\n",
    "    zeeman_prof_x.add(cube2)\n",
    "    zeeman_prof_x.add(cube3)\n",
    "    zeeman_prof_x.add(cube4)\n",
    "    zeeman_prof_x.add(cube5)\n",
    "    zeeman_prof_x.add(cube6)\n",
    "    j = j+1\n",
    "sens = magpy.Sensor([(0,0,0),(0,0,250)])\n",
    "zeeman_prof_x.rotate_from_angax(45, 'z')\n",
    "magpy.show(zeeman_prof_x,zeeman_prof, backend='plotly')"
   ]
  },
  {
   "cell_type": "code",
   "execution_count": 43,
   "metadata": {},
   "outputs": [
    {
     "data": {
      "text/plain": [
       "Text(0, 0.5, 'mT')"
      ]
     },
     "execution_count": 43,
     "metadata": {},
     "output_type": "execute_result"
    },
    {
     "data": {
      "image/png": "[encoded data removed]",
      "text/plain": [
       "<Figure size 640x480 with 1 Axes>"
      ]
     },
     "metadata": {},
     "output_type": "display_data"
    }
   ],
   "source": [
    "z = np.linspace(-1,500,100)\n",
    "b_z = []\n",
    "b_x = []\n",
    "b_y = []\n",
    "for i in z:\n",
    "    b_z.append(zeeman_prof.getB([0,0,i])[1]+zeeman_prof_x.getB([0,0,i])[1])\n",
    "\n",
    "    \n",
    "plt.plot(z/1e1,b_z)\n",
    "plt.xlabel('z(cm)')\n",
    "plt.ylabel('mT')"
   ]
  },
  {
   "cell_type": "code",
   "execution_count": null,
   "metadata": {},
   "outputs": [],
   "source": []
  },
  {
   "cell_type": "code",
   "execution_count": null,
   "metadata": {},
   "outputs": [],
   "source": []
  }
 ],
 "metadata": {
  "kernelspec": {
   "display_name": "Python 3",
   "language": "python",
   "name": "python3"
  },
  "language_info": {
   "codemirror_mode": {
    "name": "ipython",
    "version": 3
   },
   "file_extension": ".py",
   "mimetype": "text/x-python",
   "name": "python",
   "nbconvert_exporter": "python",
   "pygments_lexer": "ipython3",
   "version": "3.12.3"
  }
 },
 "nbformat": 4,
 "nbformat_minor": 2
}
