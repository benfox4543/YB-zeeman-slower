{
 "cells": [
  {
   "cell_type": "code",
   "execution_count": 321,
   "metadata": {},
   "outputs": [],
   "source": [
    "import numpy as np\n",
    "import matplotlib.pyplot as plt\n",
    "import pylcp\n",
    "from pylcp.atom import atom\n",
    "import scipy.constants as cts\n",
    "import magpylib as magpy\n",
    "from scipy.stats import rv_continuous\n",
    "import random"
   ]
  },
  {
   "cell_type": "code",
   "execution_count": null,
   "metadata": {},
   "outputs": [],
   "source": [
    "tfmot = magpy.Collection()\n",
    "N = 0\n",
    "angles = [0,90,180,270]\n",
    "angles_d = [45,225,225,45]\n",
    "l = 5\n",
    "p = [0,0,0,0,20,20,20,20]\n",
    "s  = [-1,-1,1,1,1,1,-1,-1]\n",
    "H = 40\n",
    "h = [-H,-H,-H,-H,H,H,H,H]\n",
    "mstyle = dict(\n",
    "    mode=\"color+arrow\",\n",
    "    color=dict(north=\"magenta\", middle=\"white\", south=\"turquoise\"),\n",
    "    arrow=dict(width=2, color=\"k\")\n",
    ")\n",
    "for a in range(len(angles)):\n",
    "    cube= magpy.magnet.Cuboid(\n",
    "    dimension=(6,8,80),\n",
    "    polarization=(s[a]*1.42,0,0),\n",
    "    position=(h[a],h[a],h[a]),\n",
    "    style_magnetization=mstyle )\n",
    "    \n",
    "    cube.rotate_from_angax(angles[a], 'z',anchor = 0)\n",
    "    cube.rotate_from_angax(angles_d[a], 'z')\n",
    "\n",
    "    tfmot.add(cube)\n",
    "\n",
    "magpy.show(tfmot.rotate_from_angax(45,'z'), backend='plotly')"
   ]
  },
  {
   "cell_type": "code",
   "execution_count": null,
   "metadata": {},
   "outputs": [],
   "source": [
    "# Continuation from above - ensure previous code is executed\n",
    "\n",
    "import matplotlib.pyplot as plt\n",
    "fig, ax = plt.subplots()\n",
    "\n",
    "# Compute and plot field on x-y grid\n",
    "grid = np.mgrid[-30:30:100j, -30:30:100j, 0:0:1j].T[0]\n",
    "X, Y, _ = np.moveaxis(grid, 2, 0)\n",
    "\n",
    "B = tfmot.getB(grid)*1e3\n",
    "Bx, By, _ = np.moveaxis(B, 2, 0)\n",
    "Bamp = np.linalg.norm(B, axis=2)\n",
    "\n",
    "pc = ax.contourf(X, Y, Bamp, levels=50, cmap=\"coolwarm\")\n",
    "ax.streamplot(X, Y, Bx, By, color=\"k\", density=1.5, linewidth=1)\n",
    "\n",
    "# Add colorbar\n",
    "fig.colorbar(pc, ax=ax, label=\"|B| (mT)\")\n",
    "\n",
    "# Figure styling\n",
    "ax.set(\n",
    "    xlabel=\"x-position(mm)\",\n",
    "    ylabel=\"y-position(mm)\",\n",
    "    aspect=1,\n",
    ")\n",
    "\n",
    "plt.show()"
   ]
  },
  {
   "cell_type": "code",
   "execution_count": null,
   "metadata": {},
   "outputs": [],
   "source": [
    "rb87 = atom('87Rb')\n",
    "\n",
    "klab = 2*np.pi*rb87.transition[1].k # Lab wavevector (without 2pi) in cm^{-1}\n",
    "taulab = rb87.state[2].tau  # Lifetime of 6P_{3/2} state (in seconds)\n",
    "gammalab = 1/taulab\n",
    "Blab = 15 # About 15 G/cm is a typical gradient for Rb\n",
    "mass_lab = 173*cts.value('atomic mass constant')\n",
    "print(klab, taulab, gammalab/2/np.pi)"
   ]
  },
  {
   "cell_type": "code",
   "execution_count": null,
   "metadata": {},
   "outputs": [],
   "source": [
    "# Now, here are our `natural' length and time scales:\n",
    "x0 = 1/klab  # cm\n",
    "t0 = taulab  # s\n",
    "vc = x0/t0*(1/100)\n",
    "Fc = gammalab*cts.hbar*klab*100\n",
    "\n",
    "\n",
    "mass = 87*cts.value('atomic mass constant')*(x0*1e-2)**2/cts.hbar/t0\n",
    "\n",
    "# And now our wavevector, decay rate, and magnetic field gradient in these units:\n",
    "k = klab*x0\n",
    "gamma = gammalab*t0\n",
    "alpha = cts.value('Bohr magneton')*1e-4*5*x0*t0/cts.hbar\n",
    "\n",
    "print(x0, t0, mass, k, gamma, alpha)"
   ]
  },
  {
   "cell_type": "code",
   "execution_count": null,
   "metadata": {},
   "outputs": [],
   "source": [
    "1e500 - 1e500"
   ]
  },
  {
   "cell_type": "code",
   "execution_count": null,
   "metadata": {},
   "outputs": [],
   "source": [
    "H_g_D2, mu_q_g_D2 = pylcp.hamiltonians.hyperfine_coupled(\n",
    "0, 5/2, 0,  \t-0.2592,\n",
    "    Ahfs = 0, Bhfs=0, Chfs=0,\n",
    "    muB=1)# ground state 1s0\n",
    "H_e_D2, mu_q_e_D2 = pylcp.hamiltonians.hyperfine_coupled(\n",
    "1, 5/2, 1.035,\t-0.2592,\n",
    "    Ahfs=59.52*1e6,Bhfs = 601.87*1e6 , Chfs= 0,\n",
    "    muB=1) #excited state 1p1\n",
    "\n",
    "dijq_D2 = pylcp.hamiltonians.dqij_two_hyperfine_manifolds(0, 1, 5/2)\n",
    "\n",
    "E_e_D2 = np.unique(np.diagonal(H_e_D2))\n",
    "E_g_D2 = np.unique(np.diagonal(H_g_D2))\n",
    "hamiltonian_D2 = pylcp.hamiltonian(mass = mass)\n",
    "hamiltonian_D2.add_H_0_block('g', H_g_D2)\n",
    "hamiltonian_D2.add_H_0_block('e', H_e_D2)\n",
    "hamiltonian_D2.add_d_q_block('g', 'e', dijq_D2, gamma = gamma, k = k)\n",
    "hamiltonian_D2.add_mu_q_block('g', mu_q_g_D2)\n",
    "hamiltonian_D2.add_mu_q_block('e', mu_q_e_D2)\n",
    "\n",
    "\n",
    "\n",
    "dijq = pylcp.hamiltonians.dqij_two_bare_hyperfine(0, 1)\n",
    "\n",
    "\n",
    "\n",
    "\n",
    "det = -15\n",
    "s = 100\n",
    "\n",
    "# Define the laser beams:\n",
    "laserBeams = pylcp.laserBeams(\n",
    "    [{'kvec':k*np.array([ 1.,  0., 0.]), 's':s, 'pol':-1, 'delta': E_e_D2[2] - E_g_D2[0] +  det*gamma},\n",
    "     {'kvec':k*np.array([-1.,  0., 0.]), 's':s, 'pol':-1, 'delta': E_e_D2[2] - E_g_D2[0] +  det*gamma},\n",
    "     {'kvec':k*np.array([ 0.,  1,  0.]), 's':s, 'pol':1, 'delta': E_e_D2[2] - E_g_D2[0] +  det*gamma},\n",
    "     {'kvec':k*np.array([ 0., -1., 0.]), 's':s, 'pol':1, 'delta': E_e_D2[2] - E_g_D2[0] +  det*gamma}],\n",
    "beam_type= pylcp.infinitePlaneWaveBeam\n",
    ")\n",
    "\n",
    "# Define the magnetic field:\n",
    "print(alpha)\n",
    "bf_mot = lambda R:tfmot.getB(R*10*x0)*cts.value('Bohr magneton')*t0/cts.hbar \n",
    "linGrad = pylcp.magField(lambda R: bf_mot(R))\n",
    "#linGrad = pylcp.magField(lambda R: -alpha*R)"
   ]
  },
  {
   "cell_type": "code",
   "execution_count": 456,
   "metadata": {},
   "outputs": [],
   "source": [
    "rateeq = pylcp.rateeq(laserBeams, linGrad, hamiltonian_D2, include_mag_forces=True)"
   ]
  },
  {
   "cell_type": "code",
   "execution_count": null,
   "metadata": {},
   "outputs": [],
   "source": [
    "x = np.arange(-10, 10, 0.04)/x0\n",
    "v = np.arange(-14, 14, 0.4)/vc\n",
    "\n",
    "X, V = np.meshgrid(x, v)\n",
    "\n",
    "Rvec = np.array([ np.zeros(X.shape),X, np.zeros(X.shape)])\n",
    "Vvec = np.array([np.zeros(V.shape),V, np.zeros(V.shape)])\n",
    "\n",
    "rateeq.generate_force_profile(Rvec, Vvec, name='Fx', progress_bar=True)"
   ]
  },
  {
   "cell_type": "code",
   "execution_count": null,
   "metadata": {},
   "outputs": [],
   "source": [
    "\n",
    "fig, ax = plt.subplots(nrows=1, ncols=1, num=\"Expression\", figsize=(6.5, 2.75))\n",
    "im1 = ax.contourf(np.array(x)*x0, np.array(v)*vc, rateeq.profile['Fx'].F[1]*Fc)\n",
    "fig.subplots_adjust(left=0.08, wspace=0.2)\n",
    "cb1 = plt.colorbar(im1)\n",
    "cb1.set_label('$F(N)$')\n",
    "ax.set_xlabel('$x$ (cm)')\n",
    "ax.set_ylabel('$v (ms^{-1})$')\n",
    "ax.set_title('Force profile (with real magnetic field)')\n"
   ]
  },
  {
   "cell_type": "code",
   "execution_count": 434,
   "metadata": {},
   "outputs": [],
   "source": [
    "# Constants\n",
    "k_B = cts.k  # Boltzmann constant in J/K\n",
    " # Atomic mass of Yb-173\n",
    "mass_kg = mass_lab  # Convert to kilograms\n",
    "temperature = 405 + 273.15  # Convert Celsius to Kelvin\n",
    "\n",
    "# Velocity Probability Function\n",
    "def p(m, T, v):\n",
    "    return (m / (k_B * T))**2 * np.exp(-m * v**2 / (2 * k_B * T)) * (v**3) / 2"
   ]
  },
  {
   "cell_type": "code",
   "execution_count": 435,
   "metadata": {},
   "outputs": [],
   "source": [
    "class MaxwellBoltzmann(rv_continuous):\n",
    "    def _pdf(self, v):\n",
    "        return p(mass_kg, temperature, v)\n",
    "\n",
    "# Define the custom distribution\n",
    "maxwell_boltzmann = MaxwellBoltzmann(a=0, name=\"Maxwell-Boltzmann\")"
   ]
  },
  {
   "cell_type": "code",
   "execution_count": null,
   "metadata": {},
   "outputs": [],
   "source": [
    "(t_span[1]**2)*1e-30/mass - (t_span[0]**2)*1e-30/mass"
   ]
  },
  {
   "cell_type": "code",
   "execution_count": null,
   "metadata": {},
   "outputs": [],
   "source": [
    "size = 10000# Number of samples\n",
    "velocities = maxwell_boltzmann.rvs(size=size)\n",
    "velocities = velocities[velocities < 400]\n",
    "random_numbers =  [random.uniform(0,35e-3) for i in range(size)]\n",
    "velocities_t = [np.tan(random_numbers[i])*velocities[i] for i in range(len(velocities)) ]\n",
    "v_0 = []\n",
    "for i in range(len(velocities)):\n",
    "    v_0.append([velocities_t[i],velocities_t[i],50])\n",
    "# Display the sampled velocities\n",
    "print(len(velocities))\n",
    "plt.hist(velocities, bins=100, density=True)\n",
    "plt.grid()"
   ]
  },
  {
   "cell_type": "code",
   "execution_count": null,
   "metadata": {},
   "outputs": [],
   "source": [
    "v_0[11]"
   ]
  },
  {
   "cell_type": "code",
   "execution_count": null,
   "metadata": {},
   "outputs": [],
   "source": [
    "v_0[11]"
   ]
  },
  {
   "cell_type": "code",
   "execution_count": 440,
   "metadata": {
    "notebookRunGroups": {
     "groupValue": "2"
    }
   },
   "outputs": [],
   "source": [
    "def simulate_trajectory(v_0, t_span):\n",
    "\n",
    "    x_t, y_t, v_tx, v_ty, t = [], [], [], [], []\n",
    "\n",
    "    di = 0  # Initial time step\n",
    "    s = np.array([0.5/x0, 0.5/x0, 0.5/x0])  \n",
    "    b = 0  # Step counter\n",
    "\n",
    "    for q in range(len(t_span)):\n",
    "        v_x, v_y, v_z = v_0  \n",
    "\n",
    "        dt = (t_span[q] - di) / t0  \n",
    "\n",
    "   \n",
    "        rateeq.generate_force_profile(s,v_0 , name='Fz', progress_bar=False)\n",
    "        \n",
    "\n",
    "        # Acceleration (force divided by mass)\n",
    "        a_x = rateeq.profile['Fz'].F[0] / mass\n",
    "        a_y = rateeq.profile['Fz'].F[1] / mass\n",
    "        a_z = 0  \n",
    "\n",
    "        # Update position\n",
    "        s_x = (1 / 2) * a_x * (dt ** 2) + v_x * dt + s[0]\n",
    "        s_y = (1 / 2) * a_y * (dt ** 2) + v_y * dt + s[1]\n",
    "        s_z = (1 / 2) * a_z * (dt ** 2) + v_z * dt + s[2]\n",
    "\n",
    "        # Update velocity\n",
    "        v_x += a_x * dt\n",
    "        v_y += a_y * dt\n",
    "        v_z += a_z * dt\n",
    "\n",
    "        # Append values\n",
    "        x_t.append(s_x)\n",
    "        y_t.append(s_y)\n",
    "        v_tx.append(v_x)\n",
    "        v_ty.append(v_y)\n",
    "        t.append(t_span[q])\n",
    "\n",
    "        # Update initial conditions for the next step\n",
    "        di = t_span[q]\n",
    "        v_0 = [v_x, v_y, v_z]\n",
    "        s = np.array([s_x, s_y, s_z])\n",
    "\n",
    "        # Stop condition\n",
    "        if s_z * x0 > 0.8:  # Stop if z-position exceeds threshold\n",
    "            break\n",
    "\n",
    "    return x_t, y_t, v_tx, v_ty, t\n"
   ]
  },
  {
   "cell_type": "code",
   "execution_count": null,
   "metadata": {},
   "outputs": [],
   "source": [
    "x_n = []\n",
    "y_n = []\n",
    "v_tx_n = []\n",
    "v_ty_n = []\n",
    "t_n = []\n",
    "t_max = 0.05\n",
    "t_span = np.linspace(0, t_max, 10000)\n",
    "v_01 = [v_0[0]]\n",
    "b = 0\n",
    "for i in v_0:\n",
    "    x_t, y_t, v_tx, v_ty, t = simulate_trajectory(np.array(i)/vc, t_span)\n",
    "\n",
    "    x_n.append(x_t)\n",
    "    y_n.append(y_t)\n",
    "    v_tx_n.append(v_tx)\n",
    "    v_ty_n.append(v_ty)\n",
    "    t_n.append(t)\n",
    "\n",
    "    b += 1\n",
    "    print(b)"
   ]
  },
  {
   "cell_type": "code",
   "execution_count": 463,
   "metadata": {},
   "outputs": [],
   "source": [
    "intial_vel = []\n",
    "final_vel = []\n",
    "for i in v_tx_n:\n",
    " intial_vel.append(i[0])\n",
    " final_vel.append(i[-1])"
   ]
  },
  {
   "cell_type": "code",
   "execution_count": null,
   "metadata": {},
   "outputs": [],
   "source": [
    "len(intial_vel)"
   ]
  },
  {
   "cell_type": "code",
   "execution_count": 473,
   "metadata": {},
   "outputs": [],
   "source": [
    "intial_vel_x = [i[0] for i in v_tx_n]\n",
    "final_vel_x = [i[-1] for i in v_tx_n]\n",
    "intial_vel_y = [i[0] for i in v_ty_n]\n",
    "final_vel_y = [i[-1] for i in v_ty_n]\n",
    "final_posi_X = [i[-1]*x0 for i in x_n]\n",
    "intial_posi_X = [i[0]*x0 for i in x_n]\n",
    "final_posi_Y = [i[-1]*x0 for i in y_n]\n",
    "intial_posi_Y = [i[0]*x0 for i in y_n]\n",
    "\n"
   ]
  },
  {
   "cell_type": "code",
   "execution_count": null,
   "metadata": {},
   "outputs": [],
   "source": [
    "#plt.scatter(intial_posi_X,intial_posi_Y)\n",
    "#plt.scatter(final_posi_X,final_posi_Y)"
   ]
  },
  {
   "cell_type": "code",
   "execution_count": null,
   "metadata": {},
   "outputs": [],
   "source": [
    "#x = np.linspace(0, 14, 100)\n",
    "fig, ax = plt.subplots(1,2, figsize=(10,5))\n",
    "ax[0].plot(x,x)\n",
    "ax[1].plot(x,x) \n",
    "ax[0].scatter(np.array(intial_vel_x)*vc,np.array(final_vel_x)*vc)\n",
    "ax[1].scatter(np.array(intial_vel_y)*vc,np.array(final_vel_y)*vc)\n",
    "ax[0].set_xlabel('Initial $velocity_x$(m/s)')\n",
    "ax[0].set_ylabel('$Final velocity_x$(m/s)')\n",
    "ax[1].set_xlabel('$Initial velocity_y$ (m/s)')\n",
    "ax[1].set_ylabel('$Final velocity_y$ (m/s)')\n",
    "\n",
    "plt.suptitle('Scatter plot of initial and final velocities for 2D MOT(x,y direction)')"
   ]
  },
  {
   "cell_type": "code",
   "execution_count": null,
   "metadata": {},
   "outputs": [],
   "source": [
    "fig,ax = plt.subplots(1,2,figsize=(10,5))\n",
    "for i in range(len(v_tx_n)):\n",
    "    ax[0].plot(np.array(t_n[i])*t0, np.array(v_tx_n[i])*vc)\n",
    "    ax[1].plot(np.array(t_n[i])*t0, np.array(x_n[i])*x0)\n",
    "ax[0].set_xlabel('Time (s)')\n",
    "ax[0].set_ylabel('Velocity (m/s)')\n",
    "ax[1].set_xlabel('Time (s)')\n",
    "ax[1].set_ylabel('Position (cm)')"
   ]
  },
  {
   "cell_type": "code",
   "execution_count": null,
   "metadata": {},
   "outputs": [],
   "source": []
  },
  {
   "cell_type": "code",
   "execution_count": null,
   "metadata": {},
   "outputs": [],
   "source": []
  }
 ],
 "metadata": {
  "kernelspec": {
   "display_name": "Python 3",
   "language": "python",
   "name": "python3"
  },
  "language_info": {
   "codemirror_mode": {
    "name": "ipython",
    "version": 3
   },
   "file_extension": ".py",
   "mimetype": "text/x-python",
   "name": "python",
   "nbconvert_exporter": "python",
   "pygments_lexer": "ipython3",
   "version": "3.12.3"
  }
 },
 "nbformat": 4,
 "nbformat_minor": 2
}
